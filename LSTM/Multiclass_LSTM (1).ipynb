{
 "cells": [
  {
   "cell_type": "markdown",
   "metadata": {
    "colab_type": "text",
    "id": "pNqVQ7MU7jD8"
   },
   "source": [
    "**Import the Libraries**"
   ]
  },
  {
   "cell_type": "code",
   "execution_count": 1,
   "metadata": {
    "colab": {
     "base_uri": "https://localhost:8080/",
     "height": 35
    },
    "colab_type": "code",
    "id": "RvkRtHt64AWv",
    "outputId": "74bec8c7-97f8-41b6-e1ec-7240d18dd92c"
   },
   "outputs": [
    {
     "name": "stdout",
     "output_type": "stream",
     "text": [
      "2.10.1\n"
     ]
    }
   ],
   "source": [
    "import csv\n",
    "import pandas as pd\n",
    "import tensorflow as tf\n",
    "import numpy as np\n",
    "from tensorflow.keras.preprocessing.text import Tokenizer\n",
    "from tensorflow.keras.preprocessing.sequence import pad_sequences\n",
    "from tensorflow.keras.models import Sequential\n",
    "from tensorflow.keras.layers import Dense, Flatten, LSTM, Dropout, Activation, Embedding, Bidirectional\n",
    "print(tf.__version__)"
   ]
  },
  {
   "cell_type": "markdown",
   "metadata": {
    "colab_type": "text",
    "id": "4QVrj-F-7msu"
   },
   "source": [
    "**Get the Data**"
   ]
  },
  {
   "cell_type": "code",
   "execution_count": 2,
   "metadata": {
    "colab": {
     "base_uri": "https://localhost:8080/",
     "height": 212
    },
    "colab_type": "code",
    "id": "ZgUBFrAy4Ig8",
    "outputId": "c703823c-23ba-416b-faaf-d116db82d2dc"
   },
   "outputs": [],
   "source": [
    "df = pd.read_csv(\"bbc-text.csv\")"
   ]
  },
  {
   "cell_type": "code",
   "execution_count": 3,
   "metadata": {},
   "outputs": [
    {
     "data": {
      "text/html": [
       "<div>\n",
       "<style scoped>\n",
       "    .dataframe tbody tr th:only-of-type {\n",
       "        vertical-align: middle;\n",
       "    }\n",
       "\n",
       "    .dataframe tbody tr th {\n",
       "        vertical-align: top;\n",
       "    }\n",
       "\n",
       "    .dataframe thead th {\n",
       "        text-align: right;\n",
       "    }\n",
       "</style>\n",
       "<table border=\"1\" class=\"dataframe\">\n",
       "  <thead>\n",
       "    <tr style=\"text-align: right;\">\n",
       "      <th></th>\n",
       "      <th>category</th>\n",
       "      <th>text</th>\n",
       "    </tr>\n",
       "  </thead>\n",
       "  <tbody>\n",
       "    <tr>\n",
       "      <th>0</th>\n",
       "      <td>tech</td>\n",
       "      <td>tv future in the hands of viewers with home th...</td>\n",
       "    </tr>\n",
       "    <tr>\n",
       "      <th>1</th>\n",
       "      <td>business</td>\n",
       "      <td>worldcom boss  left books alone  former worldc...</td>\n",
       "    </tr>\n",
       "    <tr>\n",
       "      <th>2</th>\n",
       "      <td>sport</td>\n",
       "      <td>tigers wary of farrell  gamble  leicester say ...</td>\n",
       "    </tr>\n",
       "    <tr>\n",
       "      <th>3</th>\n",
       "      <td>sport</td>\n",
       "      <td>yeading face newcastle in fa cup premiership s...</td>\n",
       "    </tr>\n",
       "    <tr>\n",
       "      <th>4</th>\n",
       "      <td>entertainment</td>\n",
       "      <td>ocean s twelve raids box office ocean s twelve...</td>\n",
       "    </tr>\n",
       "  </tbody>\n",
       "</table>\n",
       "</div>"
      ],
      "text/plain": [
       "        category                                               text\n",
       "0           tech  tv future in the hands of viewers with home th...\n",
       "1       business  worldcom boss  left books alone  former worldc...\n",
       "2          sport  tigers wary of farrell  gamble  leicester say ...\n",
       "3          sport  yeading face newcastle in fa cup premiership s...\n",
       "4  entertainment  ocean s twelve raids box office ocean s twelve..."
      ]
     },
     "execution_count": 3,
     "metadata": {},
     "output_type": "execute_result"
    }
   ],
   "source": [
    "df.head()"
   ]
  },
  {
   "cell_type": "code",
   "execution_count": 4,
   "metadata": {},
   "outputs": [
    {
     "data": {
      "text/plain": [
       "'singapore growth at 8.1% in 2004 singapore s economy grew by 8.1% in 2004  its best performance since 2000  figures from the trade ministry show.  the advance  the second-fastest in asia after china  was led by growth of 13.1% in the key manufacturing sector. however  a slower-than-expected fourth quarter points to more modest growth for the trade-driven economy in 2005 as global technology demand falls back. slowdowns in the us and china could hit electronics exports  while the tsunami disaster may effect the service sector.  economic growth is set to halve in singapore this year to between 3% and 5%. in the fourth quarter  the city state s gross domestic product (gdp) rose at an annual rate of 2.4%. that was up from the third quarter  when it fell 3.0%  but was well below analyst forecasts.  i am surprised at the weak fourth quarter number. the main drag came from electronics   said lian chia liang  economist at jp morgan chase. singapore s economy had contracted over the summer  weighed down by soaring oil prices. the economy s poor performance in the july to september period followed four consecutive quarters of double-digit growth as singapore bounced back strongly from the effects of the deadly sars virus in 2003.'"
      ]
     },
     "execution_count": 4,
     "metadata": {},
     "output_type": "execute_result"
    }
   ],
   "source": [
    "df['text'][71]"
   ]
  },
  {
   "cell_type": "markdown",
   "metadata": {
    "colab_type": "text",
    "id": "oMQWdiqa7ram"
   },
   "source": [
    "**Import NTLK Library**"
   ]
  },
  {
   "cell_type": "code",
   "execution_count": 5,
   "metadata": {
    "colab": {
     "base_uri": "https://localhost:8080/",
     "height": 52
    },
    "colab_type": "code",
    "id": "APvYgINr4jSC",
    "outputId": "7f4b1b69-0082-4767-f98a-7e95ec4ca4db"
   },
   "outputs": [
    {
     "name": "stderr",
     "output_type": "stream",
     "text": [
      "[nltk_data] Downloading package stopwords to\n",
      "[nltk_data]     C:\\Users\\Lenovo\\AppData\\Roaming\\nltk_data...\n",
      "[nltk_data]   Package stopwords is already up-to-date!\n"
     ]
    }
   ],
   "source": [
    "import nltk\n",
    "nltk.download('stopwords')\n",
    "from nltk.corpus import stopwords\n",
    "STOPWORDS = set(stopwords.words('english'))"
   ]
  },
  {
   "cell_type": "markdown",
   "metadata": {
    "colab_type": "text",
    "id": "aRTmfoUx7wsW"
   },
   "source": [
    "**Set the Hyper-Parameters**"
   ]
  },
  {
   "cell_type": "code",
   "execution_count": 6,
   "metadata": {
    "colab": {},
    "colab_type": "code",
    "id": "CPUGweix4l7V"
   },
   "outputs": [],
   "source": [
    "vocab_size = 5000 \n",
    "embedding_dim = 64\n",
    "max_length = 200\n",
    "trunc_type = 'post'\n",
    "padding_type = 'post'\n",
    "oov_tok = '<OOV>' #OOV = Out of Vocabulary\n",
    "training_portion = .8"
   ]
  },
  {
   "cell_type": "markdown",
   "metadata": {
    "colab_type": "text",
    "id": "w1dObaAI8JxW"
   },
   "source": [
    "**Populate List and Remove the Stopwords**"
   ]
  },
  {
   "cell_type": "code",
   "execution_count": 7,
   "metadata": {
    "colab": {
     "base_uri": "https://localhost:8080/",
     "height": 52
    },
    "colab_type": "code",
    "id": "PLgOIeRu4qhW",
    "outputId": "15fd1497-e373-4371-e0e9-a938e52a5c41"
   },
   "outputs": [
    {
     "name": "stdout",
     "output_type": "stream",
     "text": [
      "2225\n",
      "2225\n"
     ]
    }
   ],
   "source": [
    "articles = []\n",
    "labels = []\n",
    "\n",
    "with open(\"bbc-text.csv\", 'r') as csvfile:\n",
    "    reader = csv.reader(csvfile, delimiter=',')\n",
    "    next(reader)\n",
    "    for row in reader:\n",
    "        labels.append(row[0])\n",
    "        article = row[1]\n",
    "        for word in STOPWORDS:\n",
    "            token = ' ' + word + ' '\n",
    "            article = article.replace(token, ' ')\n",
    "            article = article.replace(' ', ' ')\n",
    "        articles.append(article)\n",
    "print(len(labels))\n",
    "print(len(articles))"
   ]
  },
  {
   "cell_type": "code",
   "execution_count": 8,
   "metadata": {
    "colab": {
     "base_uri": "https://localhost:8080/",
     "height": 35
    },
    "colab_type": "code",
    "id": "UO21rpb-4vVS",
    "outputId": "bc10666e-d7a1-4dd1-e411-d138d14f8c8f"
   },
   "outputs": [
    {
     "data": {
      "text/plain": [
       "['tech', 'business']"
      ]
     },
     "execution_count": 8,
     "metadata": {},
     "output_type": "execute_result"
    }
   ],
   "source": [
    "labels[:2]"
   ]
  },
  {
   "cell_type": "code",
   "execution_count": 9,
   "metadata": {
    "colab": {
     "base_uri": "https://localhost:8080/",
     "height": 72
    },
    "colab_type": "code",
    "id": "zRX_sx6U4x66",
    "outputId": "49404700-32ec-4ee8-a2f6-31c983a8ed65"
   },
   "outputs": [
    {
     "data": {
      "text/plain": [
       "['tv future hands viewers home theatre systems  plasma high-definition tvs  digital video recorders moving living room  way people watch tv radically different five years  time.  according expert panel gathered annual consumer electronics show las vegas discuss new technologies impact one favourite pastimes. us leading trend  programmes content delivered viewers via home networks  cable  satellite  telecoms companies  broadband service providers front rooms portable devices.  one talked-about technologies ces digital personal video recorders (dvr pvr). set-top boxes  like us tivo uk sky+ system  allow people record  store  play  pause forward wind tv programmes want.  essentially  technology allows much personalised tv. also built-in high-definition tv sets  big business japan us  slower take europe lack high-definition programming. people forward wind adverts  also forget abiding network channel schedules  putting together a-la-carte entertainment. us networks cable satellite companies worried means terms advertising revenues well  brand identity  viewer loyalty channels. although us leads technology moment  also concern raised europe  particularly growing uptake services like sky+.  happens today  see nine months years  time uk   adam hume  bbc broadcast futurologist told bbc news website. likes bbc  issues lost advertising revenue yet. pressing issue moment commercial uk broadcasters  brand loyalty important everyone.  talking content brands rather network brands   said tim hanlon  brand communications firm starcom mediavest.  reality broadband connections  anybody producer content.  added:  challenge is hard promote programme much choice.   means  said stacey jolna  senior vice president tv guide tv group  way people find content want watch simplified tv viewers. means networks  us terms  channels could take leaf google book search engine future  instead scheduler help people find want watch. kind channel model might work younger ipod generation used taking control gadgets play them. might suit everyone  panel recognised. older generations comfortable familiar schedules channel brands know getting. perhaps want much choice put hands  mr hanlon suggested.  end  kids diapers pushing buttons already - everything possible available   said mr hanlon.  ultimately  consumer tell market want.   50 000 new gadgets technologies showcased ces  many enhancing tv-watching experience. high-definition tv sets everywhere many new models lcd (liquid crystal display) tvs launched dvr capability built  instead external boxes. one example launched show humax 26-inch lcd tv 80-hour tivo dvr dvd recorder. one us biggest satellite tv companies  directtv  even launched branded dvr show 100-hours recording capability  instant replay  search function. set pause rewind tv 90 hours. microsoft chief bill gates announced pre-show keynote speech partnership tivo  called tivotogo  means people play recorded programmes windows pcs mobile devices. reflect increasing trend freeing multimedia people watch want  want.',\n",
       " 'worldcom boss  left books alone  former worldcom boss bernie ebbers  accused overseeing $11bn (Â£5.8bn) fraud  never made accounting decisions  witness told jurors.  david myers made comments questioning defence lawyers arguing mr ebbers responsible worldcom problems. phone company collapsed 2002 prosecutors claim losses hidden protect firm shares. mr myers already pleaded guilty fraud assisting prosecutors.  monday  defence lawyer reid weingarten tried distance client allegations. cross examination  asked mr myers ever knew mr ebbers  make accounting decision  .  aware   mr myers replied.  ever know mr ebbers make accounting entry worldcom books   mr weingarten pressed.    replied witness. mr myers admitted ordered false accounting entries request former worldcom chief financial officer scott sullivan. defence lawyers trying paint mr sullivan  admitted fraud testify later trial  mastermind behind worldcom accounting house cards.  mr ebbers  team  meanwhile  looking portray affable boss  admission pe graduate economist. whatever abilities  mr ebbers transformed worldcom relative unknown $160bn telecoms giant investor darling late 1990s. worldcom problems mounted  however  competition increased telecoms boom petered out. firm finally collapsed  shareholders lost $180bn 20 000 workers lost jobs. mr ebbers  trial expected last two months found guilty former ceo faces substantial jail sentence. firmly declared innocence.']"
      ]
     },
     "execution_count": 9,
     "metadata": {},
     "output_type": "execute_result"
    }
   ],
   "source": [
    "articles[:2]"
   ]
  },
  {
   "cell_type": "markdown",
   "metadata": {
    "colab_type": "text",
    "id": "Zm77Egm58gOW"
   },
   "source": [
    "**Create Training and Validation Set**"
   ]
  },
  {
   "cell_type": "code",
   "execution_count": 10,
   "metadata": {
    "colab": {
     "base_uri": "https://localhost:8080/",
     "height": 106
    },
    "colab_type": "code",
    "id": "Lm9tBphR4zjQ",
    "outputId": "bcbbbd42-fcda-4661-859a-e230cb1695f1"
   },
   "outputs": [
    {
     "name": "stdout",
     "output_type": "stream",
     "text": [
      "train_size 1780\n",
      "train_articles 1780\n",
      "train_labels 1780\n",
      "validation_articles 445\n",
      "validation_labels 445\n"
     ]
    }
   ],
   "source": [
    "train_size = int(len(articles) * training_portion)\n",
    "\n",
    "train_articles = articles[0: train_size]\n",
    "train_labels = labels[0: train_size]\n",
    "\n",
    "validation_articles = articles[train_size:]\n",
    "validation_labels = labels[train_size:]\n",
    "\n",
    "print(\"train_size\",  train_size)\n",
    "print(f\"train_articles {len(train_articles)}\")\n",
    "print(\"train_labels\", len(train_labels))\n",
    "print(\"validation_articles\", len(validation_articles))\n",
    "print(\"validation_labels\", len(validation_labels))"
   ]
  },
  {
   "cell_type": "markdown",
   "metadata": {
    "colab_type": "text",
    "id": "uisJPHDu8mKf"
   },
   "source": [
    "**Tokenization on \"train_articles\"**"
   ]
  },
  {
   "cell_type": "code",
   "execution_count": 11,
   "metadata": {
    "colab": {},
    "colab_type": "code",
    "id": "5R1kzSWq43-f"
   },
   "outputs": [],
   "source": [
    "tokenizer = Tokenizer(num_words = vocab_size, oov_token=oov_tok)\n",
    "tokenizer.fit_on_texts(train_articles)\n",
    "word_index = tokenizer.word_index"
   ]
  },
  {
   "cell_type": "markdown",
   "metadata": {
    "colab_type": "text",
    "id": "_lrq0a-X8uZM"
   },
   "source": [
    "**Convert to Sequences on \"train_articles\"**"
   ]
  },
  {
   "cell_type": "code",
   "execution_count": 12,
   "metadata": {
    "colab": {},
    "colab_type": "code",
    "id": "dvUh2Iyt4_je"
   },
   "outputs": [],
   "source": [
    "train_sequences = tokenizer.texts_to_sequences(train_articles)"
   ]
  },
  {
   "cell_type": "code",
   "execution_count": 13,
   "metadata": {
    "colab": {
     "base_uri": "https://localhost:8080/",
     "height": 72
    },
    "colab_type": "code",
    "id": "C6wBHZlt5Bmo",
    "outputId": "cb15d8df-d5ef-4f91-d5d9-01c00bf86972"
   },
   "outputs": [
    {
     "name": "stdout",
     "output_type": "stream",
     "text": [
      "[2432, 1, 225, 4995, 22, 641, 586, 225, 4995, 1, 1, 1663, 1, 1, 2432, 22, 564, 1, 1, 140, 278, 1, 140, 278, 796, 822, 662, 2308, 1, 1144, 1694, 1, 1721, 4996, 1, 1, 1, 1, 1, 4738, 1, 1, 122, 4515, 1, 2, 2875, 1507, 352, 4739, 1, 52, 341, 1, 352, 2173, 3962, 41, 22, 3795, 1, 1, 1, 1, 542, 1, 1, 1, 835, 631, 2367, 347, 4740, 1, 365, 22, 1, 787, 2368, 1, 4302, 138, 10, 1, 3664, 682, 3531, 1, 22, 1, 414, 822, 662, 1, 90, 13, 633, 1, 225, 4995, 1, 599, 1, 1694, 1021, 1, 4997, 807, 1864, 117, 1, 1, 1, 2975, 22, 1, 99, 278, 1, 1608, 4998, 542, 492, 1, 1444, 4741, 778, 1320, 1, 1861, 10, 33, 641, 319, 1, 62, 478, 564, 301, 1508, 22, 479, 1, 1, 1666, 1, 797, 1, 3067, 1, 1365, 6, 1, 2432, 564, 22, 2972, 4735, 1, 1, 1, 1, 1, 850, 39, 1825, 675, 297, 26, 979, 1, 882, 22, 361, 22, 13, 301, 1508, 1343, 374, 20, 63, 883, 1096, 4303, 247]\n"
     ]
    },
    {
     "data": {
      "text/plain": [
       "(None, 186)"
      ]
     },
     "execution_count": 13,
     "metadata": {},
     "output_type": "execute_result"
    }
   ],
   "source": [
    "print(train_sequences[10]), len(train_sequences[10])"
   ]
  },
  {
   "cell_type": "code",
   "execution_count": 14,
   "metadata": {
    "colab": {
     "base_uri": "https://localhost:8080/",
     "height": 72
    },
    "colab_type": "code",
    "id": "8a19bNfA5C-v",
    "outputId": "09808984-cd7e-4347-be09-8fa7c541aa83"
   },
   "outputs": [
    {
     "name": "stdout",
     "output_type": "stream",
     "text": [
      "[91, 160, 1141, 1106, 49, 979, 755, 1, 89, 1304, 4289, 129, 175, 3652, 1214, 1195, 1578, 42, 7, 893, 91, 1, 334, 85, 20, 14, 130, 3262, 1215, 2422, 569, 451, 1376, 58, 3378, 3521, 1661, 8, 921, 730, 10, 844, 1, 9, 597, 1579, 1107, 395, 1940, 1106, 731, 49, 537, 1398, 2012, 1624, 134, 249, 113, 2356, 795, 4980, 980, 583, 10, 3957, 3958, 921, 2563, 129, 344, 175, 3652, 1, 1, 39, 62, 2868, 28, 9, 4723, 18, 1305, 136, 416, 7, 143, 1423, 71, 4502, 436, 4981, 91, 1107, 77, 1, 82, 2013, 53, 1, 91, 6, 1008, 598, 89, 1304, 91, 1965, 131, 137, 420, 9, 2869, 38, 152, 1234, 89, 1304, 4724, 7, 436, 4981, 3154, 6, 2493, 1, 431, 1126, 1, 1424, 570, 1261, 1902, 1, 766, 9, 537, 1398, 2012, 134, 2069, 400, 845, 1966, 1601, 34, 1717, 2870, 1, 1, 2423, 244, 9, 2625, 82, 732, 6, 1172, 1196, 152, 720, 590, 1, 124, 28, 1305, 1690, 432, 83, 933, 115, 20, 14, 18, 3155, 1, 37, 1484, 1, 23, 37, 87, 335, 2357, 37, 467, 255, 1966, 1359, 328, 1, 299, 732, 1173, 18, 2871, 1717, 1, 294, 756, 1074, 395, 2014, 387, 431, 2014, 2, 1360, 1, 1717, 2167, 67, 1, 1, 1718, 249, 1662, 3060, 1174, 395, 41, 878, 1485, 246, 2793, 345, 53, 547, 400, 2, 1, 1, 655, 1361, 203, 91, 3959, 91, 90, 42, 7, 320, 395, 77, 893, 1, 91, 1106, 400, 537, 9, 845, 2423, 11, 38, 1, 995, 513, 483, 2070, 160, 571, 1, 128, 7, 320, 77, 893, 1216, 1126, 1463, 346, 54, 2215, 1217, 741, 92, 256, 274, 1019, 71, 623, 346, 2424, 756, 1215, 2358, 1719, 1, 3784, 3522, 1, 1126, 2014, 177, 371, 1399, 77, 53, 547, 105, 1141, 3, 1, 1047, 93, 2963, 1, 2626, 1, 102, 902, 440, 452, 2, 3, 1, 2872, 451, 1425, 43, 77, 429, 31, 8, 1019, 921, 1, 2563, 30, 1, 91, 1691, 879, 89, 1304, 91, 1965, 1, 30, 8, 1625, 1, 1, 4290, 1580, 4289, 656, 1, 3785, 1008, 571, 4291, 2868, 10, 880, 656, 58, 1, 1262, 1, 1, 91, 1555, 934, 4723, 1, 577, 4106, 10, 9, 235, 2012, 91, 134, 1, 95, 656, 3263, 1, 58, 519, 673, 2627, 3785, 4982, 3379, 483, 4725, 39, 4502, 1, 91, 1748, 673, 269, 116, 239, 2628, 354, 643, 58, 4107, 757, 3653, 4723, 146, 1, 400, 7, 71, 1749, 1107, 767, 910, 118, 583, 3380, 1316, 1579, 1, 1602, 7, 893, 77, 77]\n"
     ]
    },
    {
     "data": {
      "text/plain": [
       "(None, 426)"
      ]
     },
     "execution_count": 14,
     "metadata": {},
     "output_type": "execute_result"
    }
   ],
   "source": [
    "print(train_sequences[0]), len(train_sequences[0])"
   ]
  },
  {
   "cell_type": "markdown",
   "metadata": {
    "colab_type": "text",
    "id": "Scuv0luz9DI6"
   },
   "source": [
    "**Padding and Truncating on \"train_sequences\"**"
   ]
  },
  {
   "cell_type": "code",
   "execution_count": 15,
   "metadata": {
    "colab": {},
    "colab_type": "code",
    "id": "39gWKCmd5EZH"
   },
   "outputs": [],
   "source": [
    "train_padded = pad_sequences(train_sequences, maxlen=max_length, padding=padding_type, truncating=trunc_type)"
   ]
  },
  {
   "cell_type": "code",
   "execution_count": 16,
   "metadata": {
    "colab": {
     "base_uri": "https://localhost:8080/",
     "height": 355
    },
    "colab_type": "code",
    "id": "NqDAqI7f5GIf",
    "outputId": "cf16ffd2-5ad4-40b9-f37f-efaf0b14dc6a"
   },
   "outputs": [
    {
     "data": {
      "text/plain": [
       "array([2432,    1,  225, 4995,   22,  641,  586,  225, 4995,    1,    1,\n",
       "       1663,    1,    1, 2432,   22,  564,    1,    1,  140,  278,    1,\n",
       "        140,  278,  796,  822,  662, 2308,    1, 1144, 1694,    1, 1721,\n",
       "       4996,    1,    1,    1,    1,    1, 4738,    1,    1,  122, 4515,\n",
       "          1,    2, 2875, 1507,  352, 4739,    1,   52,  341,    1,  352,\n",
       "       2173, 3962,   41,   22, 3795,    1,    1,    1,    1,  542,    1,\n",
       "          1,    1,  835,  631, 2367,  347, 4740,    1,  365,   22,    1,\n",
       "        787, 2368,    1, 4302,  138,   10,    1, 3664,  682, 3531,    1,\n",
       "         22,    1,  414,  822,  662,    1,   90,   13,  633,    1,  225,\n",
       "       4995,    1,  599,    1, 1694, 1021,    1, 4997,  807, 1864,  117,\n",
       "          1,    1,    1, 2975,   22,    1,   99,  278,    1, 1608, 4998,\n",
       "        542,  492,    1, 1444, 4741,  778, 1320,    1, 1861,   10,   33,\n",
       "        641,  319,    1,   62,  478,  564,  301, 1508,   22,  479,    1,\n",
       "          1, 1666,    1,  797,    1, 3067,    1, 1365,    6,    1, 2432,\n",
       "        564,   22, 2972, 4735,    1,    1,    1,    1,    1,  850,   39,\n",
       "       1825,  675,  297,   26,  979,    1,  882,   22,  361,   22,   13,\n",
       "        301, 1508, 1343,  374,   20,   63,  883, 1096, 4303,  247,    0,\n",
       "          0,    0,    0,    0,    0,    0,    0,    0,    0,    0,    0,\n",
       "          0,    0])"
      ]
     },
     "execution_count": 16,
     "metadata": {},
     "output_type": "execute_result"
    }
   ],
   "source": [
    "train_padded[10]"
   ]
  },
  {
   "cell_type": "code",
   "execution_count": 17,
   "metadata": {
    "colab": {
     "base_uri": "https://localhost:8080/",
     "height": 124
    },
    "colab_type": "code",
    "id": "Chjy00K15HmI",
    "outputId": "020027bb-d90d-4aa4-8463-5984419bfcc5"
   },
   "outputs": [
    {
     "name": "stdout",
     "output_type": "stream",
     "text": [
      "len train_sequnces[0]:  426\n",
      "len train_padded[0]:  200\n",
      "len train_sequences[1]:  192\n",
      "len train_padded[1]:  200\n",
      "len train_sequences[10]:  186\n",
      "len train_padded[10]:  200\n"
     ]
    }
   ],
   "source": [
    "print(\"len train_sequnces[0]: \", len(train_sequences[0]))\n",
    "print(\"len train_padded[0]: \", len(train_padded[0]))\n",
    "\n",
    "print(\"len train_sequences[1]: \", len(train_sequences[1]))\n",
    "print(\"len train_padded[1]: \", len(train_padded[1]))\n",
    "\n",
    "print(\"len train_sequences[10]: \", len(train_sequences[10]))\n",
    "print(\"len train_padded[10]: \", len(train_padded[10]))"
   ]
  },
  {
   "cell_type": "markdown",
   "metadata": {
    "colab_type": "text",
    "id": "8ek_UbKQ9Ll3"
   },
   "source": [
    "**Convert to Sequence, Padding & Truncating on \"validation_articles\"**"
   ]
  },
  {
   "cell_type": "code",
   "execution_count": 18,
   "metadata": {
    "colab": {
     "base_uri": "https://localhost:8080/",
     "height": 52
    },
    "colab_type": "code",
    "id": "KzUg6aCF5Q9P",
    "outputId": "1915dc05-0645-4a12-86b2-1e6c3b5cf0b9"
   },
   "outputs": [
    {
     "name": "stdout",
     "output_type": "stream",
     "text": [
      "445\n",
      "(445, 200)\n"
     ]
    }
   ],
   "source": [
    "validation_sequences = tokenizer.texts_to_sequences(validation_articles)\n",
    "validation_padded = pad_sequences(validation_sequences, maxlen=max_length, padding=padding_type, truncating=trunc_type)\n",
    "\n",
    "print(len(validation_sequences))\n",
    "print(validation_padded.shape)"
   ]
  },
  {
   "cell_type": "markdown",
   "metadata": {
    "colab_type": "text",
    "id": "b8Ieaw-R9kUT"
   },
   "source": [
    "**Labels**"
   ]
  },
  {
   "cell_type": "code",
   "execution_count": 19,
   "metadata": {
    "colab": {
     "base_uri": "https://localhost:8080/",
     "height": 35
    },
    "colab_type": "code",
    "id": "G98piAM55Ub4",
    "outputId": "b28a3869-f25f-4893-d236-f6c58bdba728"
   },
   "outputs": [
    {
     "name": "stdout",
     "output_type": "stream",
     "text": [
      "{'politics', 'sport', 'tech', 'entertainment', 'business'}\n"
     ]
    }
   ],
   "source": [
    "print(set(labels))"
   ]
  },
  {
   "cell_type": "markdown",
   "metadata": {
    "colab_type": "text",
    "id": "1oKbyEJn9pPD"
   },
   "source": [
    "**Tokenize and Convert to Sequence on \"train_labels\" and \"validation_labels\"**"
   ]
  },
  {
   "cell_type": "code",
   "execution_count": 20,
   "metadata": {
    "colab": {},
    "colab_type": "code",
    "id": "MbMgdUmr5WTZ"
   },
   "outputs": [],
   "source": [
    "label_tokenizer = Tokenizer()\n",
    "label_tokenizer.fit_on_texts(labels)\n",
    "\n",
    "training_label_seq = np.array(label_tokenizer.texts_to_sequences(train_labels))\n",
    "validation_label_seq = np.array(label_tokenizer.texts_to_sequences(validation_labels))"
   ]
  },
  {
   "cell_type": "code",
   "execution_count": 21,
   "metadata": {
    "colab": {
     "base_uri": "https://localhost:8080/",
     "height": 35
    },
    "colab_type": "code",
    "id": "OBaWnkeH5X4Y",
    "outputId": "c9758225-2c8a-4163-9403-01be565f0176"
   },
   "outputs": [
    {
     "data": {
      "text/plain": [
       "{'sport': 1, 'business': 2, 'politics': 3, 'tech': 4, 'entertainment': 5}"
      ]
     },
     "execution_count": 21,
     "metadata": {},
     "output_type": "execute_result"
    }
   ],
   "source": [
    "#labels = ['sport', 'bussiness', 'politics', 'tech', 'entertainment']\n",
    "label_tokenizer.word_index"
   ]
  },
  {
   "cell_type": "code",
   "execution_count": 22,
   "metadata": {
    "colab": {
     "base_uri": "https://localhost:8080/",
     "height": 177
    },
    "colab_type": "code",
    "id": "33ZGkuAL5ZZg",
    "outputId": "bee04236-4ff5-4b64-f31f-2379f9b197bb"
   },
   "outputs": [
    {
     "name": "stdout",
     "output_type": "stream",
     "text": [
      "[4]\n",
      "[2]\n",
      "[1]\n",
      "(1780, 1)\n",
      "-------------\n",
      "[5]\n",
      "[4]\n",
      "[3]\n",
      "(445, 1)\n"
     ]
    }
   ],
   "source": [
    "print(training_label_seq[0])\n",
    "print(training_label_seq[1])\n",
    "print(training_label_seq[2])\n",
    "print(training_label_seq.shape)\n",
    "print('-------------')\n",
    "print(validation_label_seq[0])\n",
    "print(validation_label_seq[1])\n",
    "print(validation_label_seq[2])\n",
    "print(validation_label_seq.shape)"
   ]
  },
  {
   "cell_type": "markdown",
   "metadata": {
    "colab_type": "text",
    "id": "HNLSHt2491ea"
   },
   "source": [
    "**Create Model**"
   ]
  },
  {
   "cell_type": "code",
   "execution_count": 23,
   "metadata": {
    "colab": {
     "base_uri": "https://localhost:8080/",
     "height": 301
    },
    "colab_type": "code",
    "id": "yiSH1ZV55eUi",
    "outputId": "d5c1cdd7-766a-4a73-9ae9-e9adbc87e95f"
   },
   "outputs": [
    {
     "name": "stdout",
     "output_type": "stream",
     "text": [
      "Model: \"sequential\"\n",
      "_________________________________________________________________\n",
      " Layer (type)                Output Shape              Param #   \n",
      "=================================================================\n",
      " embedding (Embedding)       (None, None, 64)          320000    \n",
      "                                                                 \n",
      " dropout (Dropout)           (None, None, 64)          0         \n",
      "                                                                 \n",
      " lstm (LSTM)                 (None, 64)                33024     \n",
      "                                                                 \n",
      " dense (Dense)               (None, 6)                 390       \n",
      "                                                                 \n",
      "=================================================================\n",
      "Total params: 353,414\n",
      "Trainable params: 353,414\n",
      "Non-trainable params: 0\n",
      "_________________________________________________________________\n"
     ]
    }
   ],
   "source": [
    "model = Sequential()\n",
    "\n",
    "model.add(Embedding(vocab_size, embedding_dim))\n",
    "model.add(Dropout(0.5))\n",
    "model.add(LSTM(embedding_dim))\n",
    "model.add(Dense(6, activation='softmax'))\n",
    "\n",
    "model.summary()"
   ]
  },
  {
   "cell_type": "markdown",
   "metadata": {
    "colab_type": "text",
    "id": "o-1BGHvB9_iq"
   },
   "source": [
    "**Compile the Model**"
   ]
  },
  {
   "cell_type": "code",
   "execution_count": 24,
   "metadata": {
    "colab": {},
    "colab_type": "code",
    "id": "oXd2O7c65gaY"
   },
   "outputs": [
    {
     "name": "stderr",
     "output_type": "stream",
     "text": [
      "c:\\Users\\Lenovo\\anaconda3\\envs\\testproject\\lib\\site-packages\\keras\\optimizers\\optimizer_v2\\adam.py:114: UserWarning: The `lr` argument is deprecated, use `learning_rate` instead.\n",
      "  super().__init__(name, **kwargs)\n"
     ]
    }
   ],
   "source": [
    "opt = tf.keras.optimizers.Adam(lr=0.001, decay=1e-6)\n",
    "model.compile(\n",
    "    loss='sparse_categorical_crossentropy',\n",
    "    optimizer=opt,\n",
    "    metrics=['accuracy'],\n",
    ")"
   ]
  },
  {
   "cell_type": "markdown",
   "metadata": {
    "colab_type": "text",
    "id": "aKWiZXKh-EE3"
   },
   "source": [
    "**Train the Model**"
   ]
  },
  {
   "cell_type": "code",
   "execution_count": 25,
   "metadata": {
    "colab": {
     "base_uri": "https://localhost:8080/",
     "height": 372
    },
    "colab_type": "code",
    "id": "oedluf3j5kVo",
    "outputId": "0662998e-09dc-407c-cb70-6a6641b5ea33"
   },
   "outputs": [
    {
     "name": "stdout",
     "output_type": "stream",
     "text": [
      "Epoch 1/20\n",
      "56/56 - 21s - loss: 1.6140 - accuracy: 0.2539 - val_loss: 1.4791 - val_accuracy: 0.3258 - 21s/epoch - 377ms/step\n",
      "Epoch 2/20\n",
      "56/56 - 10s - loss: 1.3943 - accuracy: 0.3663 - val_loss: 1.4670 - val_accuracy: 0.4292 - 10s/epoch - 170ms/step\n",
      "Epoch 3/20\n",
      "56/56 - 9s - loss: 1.3260 - accuracy: 0.4028 - val_loss: 1.2290 - val_accuracy: 0.4854 - 9s/epoch - 154ms/step\n",
      "Epoch 4/20\n",
      "56/56 - 8s - loss: 1.5582 - accuracy: 0.3242 - val_loss: 1.5702 - val_accuracy: 0.2854 - 8s/epoch - 143ms/step\n",
      "Epoch 5/20\n",
      "56/56 - 9s - loss: 1.5275 - accuracy: 0.2820 - val_loss: 1.5443 - val_accuracy: 0.2697 - 9s/epoch - 154ms/step\n",
      "Epoch 6/20\n",
      "56/56 - 9s - loss: 1.4727 - accuracy: 0.3511 - val_loss: 1.4868 - val_accuracy: 0.3191 - 9s/epoch - 153ms/step\n",
      "Epoch 7/20\n",
      "56/56 - 8s - loss: 1.2613 - accuracy: 0.4601 - val_loss: 1.1778 - val_accuracy: 0.4157 - 8s/epoch - 146ms/step\n",
      "Epoch 8/20\n",
      "56/56 - 9s - loss: 1.3079 - accuracy: 0.4500 - val_loss: 1.5068 - val_accuracy: 0.2697 - 9s/epoch - 164ms/step\n",
      "Epoch 9/20\n",
      "56/56 - 9s - loss: 1.3154 - accuracy: 0.4590 - val_loss: 1.2813 - val_accuracy: 0.4202 - 9s/epoch - 160ms/step\n",
      "Epoch 10/20\n",
      "56/56 - 9s - loss: 1.1380 - accuracy: 0.5185 - val_loss: 1.1291 - val_accuracy: 0.5079 - 9s/epoch - 168ms/step\n",
      "Epoch 11/20\n",
      "56/56 - 9s - loss: 1.0365 - accuracy: 0.5983 - val_loss: 1.1726 - val_accuracy: 0.5775 - 9s/epoch - 164ms/step\n",
      "Epoch 12/20\n",
      "56/56 - 9s - loss: 0.9613 - accuracy: 0.5989 - val_loss: 1.0465 - val_accuracy: 0.5146 - 9s/epoch - 164ms/step\n",
      "Epoch 13/20\n",
      "56/56 - 9s - loss: 1.4390 - accuracy: 0.4978 - val_loss: 1.2901 - val_accuracy: 0.4697 - 9s/epoch - 155ms/step\n",
      "Epoch 14/20\n",
      "56/56 - 9s - loss: 1.0234 - accuracy: 0.6298 - val_loss: 1.1460 - val_accuracy: 0.5079 - 9s/epoch - 154ms/step\n",
      "Epoch 15/20\n",
      "56/56 - 8s - loss: 0.7925 - accuracy: 0.6933 - val_loss: 0.8073 - val_accuracy: 0.6921 - 8s/epoch - 151ms/step\n",
      "Epoch 16/20\n",
      "56/56 - 9s - loss: 0.6127 - accuracy: 0.7494 - val_loss: 0.7104 - val_accuracy: 0.7326 - 9s/epoch - 159ms/step\n",
      "Epoch 17/20\n",
      "56/56 - 8s - loss: 0.5443 - accuracy: 0.7860 - val_loss: 0.8758 - val_accuracy: 0.7191 - 8s/epoch - 144ms/step\n",
      "Epoch 18/20\n",
      "56/56 - 8s - loss: 0.5814 - accuracy: 0.7888 - val_loss: 0.7514 - val_accuracy: 0.7079 - 8s/epoch - 148ms/step\n",
      "Epoch 19/20\n",
      "56/56 - 9s - loss: 0.5371 - accuracy: 0.7770 - val_loss: 0.7192 - val_accuracy: 0.7101 - 9s/epoch - 153ms/step\n",
      "Epoch 20/20\n",
      "56/56 - 8s - loss: 0.4983 - accuracy: 0.7809 - val_loss: 0.6997 - val_accuracy: 0.7146 - 8s/epoch - 146ms/step\n"
     ]
    }
   ],
   "source": [
    "num_epochs = 20\n",
    "history = model.fit(train_padded, training_label_seq, epochs=num_epochs, validation_data=(validation_padded, validation_label_seq), verbose=2)"
   ]
  },
  {
   "cell_type": "markdown",
   "metadata": {
    "colab_type": "text",
    "id": "T4bmOixZ-INI"
   },
   "source": [
    "**Plot the Graph**"
   ]
  },
  {
   "cell_type": "code",
   "execution_count": 26,
   "metadata": {
    "colab": {
     "base_uri": "https://localhost:8080/",
     "height": 541
    },
    "colab_type": "code",
    "id": "-U5WYk6D5lzh",
    "outputId": "2b1c99ec-d5af-41f8-c550-e9cd27d1e320"
   },
   "outputs": [
    {
     "data": {
      "image/png": "[encoded data removed]",
      "text/plain": [
       "<Figure size 640x480 with 1 Axes>"
      ]
     },
     "metadata": {},
     "output_type": "display_data"
    },
    {
     "data": {
      "image/png": "[encoded data removed]",
      "text/plain": [
       "<Figure size 640x480 with 1 Axes>"
      ]
     },
     "metadata": {},
     "output_type": "display_data"
    }
   ],
   "source": [
    "import matplotlib.pyplot as plt\n",
    "\n",
    "def plot_graphs(history, string):\n",
    "  plt.plot(history.history[string])\n",
    "  plt.plot(history.history['val_'+string])\n",
    "  plt.xlabel(\"Epochs\")\n",
    "  plt.ylabel(string)\n",
    "  plt.legend([string, 'val_'+string])\n",
    "  plt.show()\n",
    "  \n",
    "plot_graphs(history, \"accuracy\")\n",
    "plot_graphs(history, \"loss\")"
   ]
  },
  {
   "cell_type": "markdown",
   "metadata": {
    "colab_type": "text",
    "id": "UhAi891w-Lz1"
   },
   "source": [
    "**Prediction**"
   ]
  },
  {
   "cell_type": "code",
   "execution_count": 27,
   "metadata": {
    "colab": {
     "base_uri": "https://localhost:8080/",
     "height": 88
    },
    "colab_type": "code",
    "id": "peOgMHvP6am1",
    "outputId": "f72bcafa-e432-4631-a9c9-4a8891a4dc5b"
   },
   "outputs": [
    {
     "name": "stdout",
     "output_type": "stream",
     "text": [
      "1/1 [==============================] - 10s 10s/step\n",
      "[[7.74367727e-05 4.01619896e-02 7.60377944e-01 3.26911770e-02\n",
      "  1.00311704e-01 6.63797259e-02]]\n",
      "2\n",
      "bussiness\n"
     ]
    }
   ],
   "source": [
    "txt = [\"singapore growth at 8.1% in 2004 singapore s economy grew by 8.1% in 2004  its best performance since 2000  figures from the trade ministry show.  the advance  the second-fastest in asia after china  was led by growth of 13.1% in the key manufacturing sector. however  a slower-than-expected fourth quarter points to more modest growth for the trade-driven economy in 2005 as global technology demand falls back. slowdowns in the us and china could hit electronics exports  while the tsunami disaster may effect the service sector.  economic growth is set to halve in singapore this year to between 3% and 5%. in the fourth quarter  the city state s gross domestic product (gdp) rose at an annual rate of 2.4%. that was up from the third quarter  when it fell 3.0%  but was well below analyst forecasts.  i am surprised at the weak fourth quarter number. the main drag came from electronics  \"]\n",
    "\n",
    "seq = tokenizer.texts_to_sequences(txt)\n",
    "padded = pad_sequences(seq, maxlen=max_length)\n",
    "pred = model.predict(padded)\n",
    "labels = ['sport', 'bussiness', 'politics', 'tech', 'entertainment'] #orig\n",
    "\n",
    "print(pred)\n",
    "print(np.argmax(pred))\n",
    "print(labels[np.argmax(pred)-1])"
   ]
  }
 ],
 "metadata": {
  "accelerator": "GPU",
  "colab": {
   "collapsed_sections": [],
   "name": "Multiclass-LSTM.ipynb",
   "provenance": []
  },
  "kernelspec": {
   "display_name": "Python 3.8.13 ('testproject')",
   "language": "python",
   "name": "python3"
  },
  "language_info": {
   "codemirror_mode": {
    "name": "ipython",
    "version": 3
   },
   "file_extension": ".py",
   "mimetype": "text/x-python",
   "name": "python",
   "nbconvert_exporter": "python",
   "pygments_lexer": "ipython3",
   "version": "3.8.13"
  },
  "vscode": {
   "interpreter": {
    "hash": "576a1964e18380f436f45d5a973ec26472320b16dd5452d89b1e2d7b99cd141e"
   }
  }
 },
 "nbformat": 4,
 "nbformat_minor": 1
}
