{
 "cells": [
  {
   "cell_type": "code",
   "execution_count": 50,
   "metadata": {},
   "outputs": [],
   "source": [
    "import pandas as pd\n",
    "import numpy as np\n",
    "from sklearn.naive_bayes import GaussianNB\n",
    "from sklearn.model_selection import train_test_split\n",
    "from sklearn.metrics import confusion_matrix,classification_report"
   ]
  },
  {
   "cell_type": "code",
   "execution_count": 51,
   "metadata": {},
   "outputs": [
    {
     "name": "stdout",
     "output_type": "stream",
     "text": [
      "    age  anaemia  creatinine_phosphokinase  diabetes  ejection_fraction  \\\n",
      "0  75.0        0                       582         0                 20   \n",
      "1  55.0        0                      7861         0                 38   \n",
      "2  65.0        0                       146         0                 20   \n",
      "3  50.0        1                       111         0                 20   \n",
      "4  65.0        1                       160         1                 20   \n",
      "\n",
      "   high_blood_pressure  platelets  serum_creatinine  serum_sodium  sex  \\\n",
      "0                    1  265000.00               1.9           130    1   \n",
      "1                    0  263358.03               1.1           136    1   \n",
      "2                    0  162000.00               1.3           129    1   \n",
      "3                    0  210000.00               1.9           137    1   \n",
      "4                    0  327000.00               2.7           116    0   \n",
      "\n",
      "   smoking  time  DEATH_EVENT  \n",
      "0        0     4            1  \n",
      "1        0     6            1  \n",
      "2        1     7            1  \n",
      "3        0     7            1  \n",
      "4        0     8            1  \n"
     ]
    }
   ],
   "source": [
    "#Reading data\n",
    "df=pd.read_csv(\"C:\\\\Users\\\\Ghost\\\\Desktop\\\\AIML\\\\c2c-ai\\\\CW-4\\\\heart_failure_clinical_records_dataset.csv\")\n",
    "print(df.head())"
   ]
  },
  {
   "cell_type": "code",
   "execution_count": 61,
   "metadata": {},
   "outputs": [
    {
     "name": "stdout",
     "output_type": "stream",
     "text": [
      "                               age   anaemia  creatinine_phosphokinase  \\\n",
      "age                       1.000000  0.088006                 -0.081584   \n",
      "anaemia                   0.088006  1.000000                 -0.190741   \n",
      "creatinine_phosphokinase -0.081584 -0.190741                  1.000000   \n",
      "diabetes                 -0.101012 -0.012729                 -0.009639   \n",
      "ejection_fraction         0.060098  0.031557                 -0.044080   \n",
      "high_blood_pressure       0.093289  0.038182                 -0.070590   \n",
      "platelets                -0.052354 -0.043786                  0.024463   \n",
      "serum_creatinine          0.159187  0.052174                 -0.016408   \n",
      "serum_sodium             -0.045966  0.041882                  0.059550   \n",
      "sex                       0.065430 -0.094769                  0.079791   \n",
      "smoking                   0.018668 -0.107290                  0.002421   \n",
      "time                     -0.224068 -0.141414                 -0.009346   \n",
      "DEATH_EVENT               0.253729  0.066270                  0.062728   \n",
      "\n",
      "                          diabetes  ejection_fraction  high_blood_pressure  \\\n",
      "age                      -0.101012           0.060098             0.093289   \n",
      "anaemia                  -0.012729           0.031557             0.038182   \n",
      "creatinine_phosphokinase -0.009639          -0.044080            -0.070590   \n",
      "diabetes                  1.000000          -0.004850            -0.012732   \n",
      "ejection_fraction        -0.004850           1.000000             0.024445   \n",
      "high_blood_pressure      -0.012732           0.024445             1.000000   \n",
      "platelets                 0.092193           0.072177             0.049963   \n",
      "serum_creatinine         -0.046975          -0.011302            -0.004935   \n",
      "serum_sodium             -0.089551           0.175902             0.037109   \n",
      "sex                      -0.157730          -0.148386            -0.104615   \n",
      "smoking                  -0.147173          -0.067315            -0.055711   \n",
      "time                      0.033726           0.041729            -0.196439   \n",
      "DEATH_EVENT              -0.001943          -0.268603             0.079351   \n",
      "\n",
      "                          platelets  serum_creatinine  serum_sodium       sex  \\\n",
      "age                       -0.052354          0.159187     -0.045966  0.065430   \n",
      "anaemia                   -0.043786          0.052174      0.041882 -0.094769   \n",
      "creatinine_phosphokinase   0.024463         -0.016408      0.059550  0.079791   \n",
      "diabetes                   0.092193         -0.046975     -0.089551 -0.157730   \n",
      "ejection_fraction          0.072177         -0.011302      0.175902 -0.148386   \n",
      "high_blood_pressure        0.049963         -0.004935      0.037109 -0.104615   \n",
      "platelets                  1.000000         -0.041198      0.062125 -0.125120   \n",
      "serum_creatinine          -0.041198          1.000000     -0.189095  0.006970   \n",
      "serum_sodium               0.062125         -0.189095      1.000000 -0.027566   \n",
      "sex                       -0.125120          0.006970     -0.027566  1.000000   \n",
      "smoking                    0.028234         -0.027414      0.004813  0.445892   \n",
      "time                       0.010514         -0.149315      0.087640 -0.015608   \n",
      "DEATH_EVENT               -0.049139          0.294278     -0.195204 -0.004316   \n",
      "\n",
      "                           smoking      time  DEATH_EVENT  \n",
      "age                       0.018668 -0.224068     0.253729  \n",
      "anaemia                  -0.107290 -0.141414     0.066270  \n",
      "creatinine_phosphokinase  0.002421 -0.009346     0.062728  \n",
      "diabetes                 -0.147173  0.033726    -0.001943  \n",
      "ejection_fraction        -0.067315  0.041729    -0.268603  \n",
      "high_blood_pressure      -0.055711 -0.196439     0.079351  \n",
      "platelets                 0.028234  0.010514    -0.049139  \n",
      "serum_creatinine         -0.027414 -0.149315     0.294278  \n",
      "serum_sodium              0.004813  0.087640    -0.195204  \n",
      "sex                       0.445892 -0.015608    -0.004316  \n",
      "smoking                   1.000000 -0.022839    -0.012623  \n",
      "time                     -0.022839  1.000000    -0.526964  \n",
      "DEATH_EVENT              -0.012623 -0.526964     1.000000  \n"
     ]
    }
   ],
   "source": [
    "print(df.corr())"
   ]
  },
  {
   "cell_type": "code",
   "execution_count": 52,
   "metadata": {},
   "outputs": [],
   "source": [
    "x=df.iloc[:,:-1].values\n",
    "y=df.iloc[:,-1].values"
   ]
  },
  {
   "cell_type": "code",
   "execution_count": 53,
   "metadata": {},
   "outputs": [],
   "source": [
    "train_x,test_x,train_y,test_y=train_test_split(x,y,test_size=0.2,random_state=500)"
   ]
  },
  {
   "cell_type": "code",
   "execution_count": 54,
   "metadata": {},
   "outputs": [],
   "source": [
    "NB_model=GaussianNB()"
   ]
  },
  {
   "cell_type": "code",
   "execution_count": 55,
   "metadata": {},
   "outputs": [
    {
     "data": {
      "text/html": [
       "<style>#sk-container-id-5 {color: black;background-color: white;}#sk-container-id-5 pre{padding: 0;}#sk-container-id-5 div.sk-toggleable {background-color: white;}#sk-container-id-5 label.sk-toggleable__label {cursor: pointer;display: block;width: 100%;margin-bottom: 0;padding: 0.3em;box-sizing: border-box;text-align: center;}#sk-container-id-5 label.sk-toggleable__label-arrow:before {content: \"▸\";float: left;margin-right: 0.25em;color: #696969;}#sk-container-id-5 label.sk-toggleable__label-arrow:hover:before {color: black;}#sk-container-id-5 div.sk-estimator:hover label.sk-toggleable__label-arrow:before {color: black;}#sk-container-id-5 div.sk-toggleable__content {max-height: 0;max-width: 0;overflow: hidden;text-align: left;background-color: #f0f8ff;}#sk-container-id-5 div.sk-toggleable__content pre {margin: 0.2em;color: black;border-radius: 0.25em;background-color: #f0f8ff;}#sk-container-id-5 input.sk-toggleable__control:checked~div.sk-toggleable__content {max-height: 200px;max-width: 100%;overflow: auto;}#sk-container-id-5 input.sk-toggleable__control:checked~label.sk-toggleable__label-arrow:before {content: \"▾\";}#sk-container-id-5 div.sk-estimator input.sk-toggleable__control:checked~label.sk-toggleable__label {background-color: #d4ebff;}#sk-container-id-5 div.sk-label input.sk-toggleable__control:checked~label.sk-toggleable__label {background-color: #d4ebff;}#sk-container-id-5 input.sk-hidden--visually {border: 0;clip: rect(1px 1px 1px 1px);clip: rect(1px, 1px, 1px, 1px);height: 1px;margin: -1px;overflow: hidden;padding: 0;position: absolute;width: 1px;}#sk-container-id-5 div.sk-estimator {font-family: monospace;background-color: #f0f8ff;border: 1px dotted black;border-radius: 0.25em;box-sizing: border-box;margin-bottom: 0.5em;}#sk-container-id-5 div.sk-estimator:hover {background-color: #d4ebff;}#sk-container-id-5 div.sk-parallel-item::after {content: \"\";width: 100%;border-bottom: 1px solid gray;flex-grow: 1;}#sk-container-id-5 div.sk-label:hover label.sk-toggleable__label {background-color: #d4ebff;}#sk-container-id-5 div.sk-serial::before {content: \"\";position: absolute;border-left: 1px solid gray;box-sizing: border-box;top: 0;bottom: 0;left: 50%;z-index: 0;}#sk-container-id-5 div.sk-serial {display: flex;flex-direction: column;align-items: center;background-color: white;padding-right: 0.2em;padding-left: 0.2em;position: relative;}#sk-container-id-5 div.sk-item {position: relative;z-index: 1;}#sk-container-id-5 div.sk-parallel {display: flex;align-items: stretch;justify-content: center;background-color: white;position: relative;}#sk-container-id-5 div.sk-item::before, #sk-container-id-5 div.sk-parallel-item::before {content: \"\";position: absolute;border-left: 1px solid gray;box-sizing: border-box;top: 0;bottom: 0;left: 50%;z-index: -1;}#sk-container-id-5 div.sk-parallel-item {display: flex;flex-direction: column;z-index: 1;position: relative;background-color: white;}#sk-container-id-5 div.sk-parallel-item:first-child::after {align-self: flex-end;width: 50%;}#sk-container-id-5 div.sk-parallel-item:last-child::after {align-self: flex-start;width: 50%;}#sk-container-id-5 div.sk-parallel-item:only-child::after {width: 0;}#sk-container-id-5 div.sk-dashed-wrapped {border: 1px dashed gray;margin: 0 0.4em 0.5em 0.4em;box-sizing: border-box;padding-bottom: 0.4em;background-color: white;}#sk-container-id-5 div.sk-label label {font-family: monospace;font-weight: bold;display: inline-block;line-height: 1.2em;}#sk-container-id-5 div.sk-label-container {text-align: center;}#sk-container-id-5 div.sk-container {/* jupyter's `normalize.less` sets `[hidden] { display: none; }` but bootstrap.min.css set `[hidden] { display: none !important; }` so we also need the `!important` here to be able to override the default hidden behavior on the sphinx rendered scikit-learn.org. See: https://github.com/scikit-learn/scikit-learn/issues/21755 */display: inline-block !important;position: relative;}#sk-container-id-5 div.sk-text-repr-fallback {display: none;}</style><div id=\"sk-container-id-5\" class=\"sk-top-container\"><div class=\"sk-text-repr-fallback\"><pre>GaussianNB()</pre><b>In a Jupyter environment, please rerun this cell to show the HTML representation or trust the notebook. <br />On GitHub, the HTML representation is unable to render, please try loading this page with nbviewer.org.</b></div><div class=\"sk-container\" hidden><div class=\"sk-item\"><div class=\"sk-estimator sk-toggleable\"><input class=\"sk-toggleable__control sk-hidden--visually\" id=\"sk-estimator-id-5\" type=\"checkbox\" checked><label for=\"sk-estimator-id-5\" class=\"sk-toggleable__label sk-toggleable__label-arrow\">GaussianNB</label><div class=\"sk-toggleable__content\"><pre>GaussianNB()</pre></div></div></div></div></div>"
      ],
      "text/plain": [
       "GaussianNB()"
      ]
     },
     "execution_count": 55,
     "metadata": {},
     "output_type": "execute_result"
    }
   ],
   "source": [
    "NB_model.fit(train_x,train_y)"
   ]
  },
  {
   "cell_type": "code",
   "execution_count": 56,
   "metadata": {},
   "outputs": [
    {
     "data": {
      "text/plain": [
       "0.9166666666666666"
      ]
     },
     "execution_count": 56,
     "metadata": {},
     "output_type": "execute_result"
    }
   ],
   "source": [
    "NB_model.score(test_x,test_y)"
   ]
  },
  {
   "cell_type": "code",
   "execution_count": 57,
   "metadata": {},
   "outputs": [],
   "source": [
    "y_pred=NB_model.predict(test_x)"
   ]
  },
  {
   "cell_type": "code",
   "execution_count": 58,
   "metadata": {},
   "outputs": [
    {
     "name": "stdout",
     "output_type": "stream",
     "text": [
      "x_predict vs y_test\n",
      "0 \t  1\n",
      "0 \t  1\n",
      "0 \t  1\n",
      "0 \t  1\n",
      "0 \t  1\n",
      "1 \t  1\n",
      "0 \t  1\n",
      "0 \t  1\n",
      "0 \t  1\n",
      "0 \t  1\n",
      "0 \t  1\n",
      "0 \t  1\n",
      "0 \t  1\n",
      "0 \t  1\n",
      "0 \t  0\n",
      "0 \t  1\n",
      "0 \t  1\n",
      "0 \t  1\n",
      "0 \t  1\n",
      "0 \t  1\n",
      "0 \t  0\n",
      "0 \t  1\n",
      "0 \t  1\n",
      "1 \t  0\n",
      "1 \t  1\n",
      "1 \t  1\n",
      "1 \t  1\n",
      "0 \t  1\n",
      "0 \t  1\n",
      "0 \t  1\n",
      "1 \t  1\n",
      "0 \t  1\n",
      "0 \t  1\n",
      "0 \t  0\n",
      "0 \t  1\n",
      "0 \t  1\n",
      "0 \t  1\n",
      "0 \t  1\n",
      "0 \t  0\n",
      "0 \t  1\n",
      "0 \t  1\n",
      "0 \t  1\n",
      "0 \t  1\n",
      "0 \t  0\n",
      "0 \t  1\n",
      "0 \t  1\n",
      "0 \t  1\n",
      "0 \t  1\n",
      "1 \t  1\n",
      "1 \t  1\n",
      "0 \t  1\n",
      "0 \t  1\n",
      "0 \t  1\n",
      "0 \t  1\n",
      "0 \t  1\n",
      "1 \t  1\n",
      "0 \t  0\n",
      "0 \t  0\n",
      "0 \t  1\n",
      "1 \t  1\n"
     ]
    }
   ],
   "source": [
    "print(\"x_predict vs y_test\")\n",
    "for i in range(0,len(y_pred)):\n",
    "    print(f\"{y_pred[i]} \\t  {y[i]}\")"
   ]
  },
  {
   "cell_type": "code",
   "execution_count": 59,
   "metadata": {},
   "outputs": [
    {
     "name": "stdout",
     "output_type": "stream",
     "text": [
      "              precision    recall  f1-score   support\n",
      "\n",
      "           0       0.98      0.92      0.95        50\n",
      "           1       0.69      0.90      0.78        10\n",
      "\n",
      "    accuracy                           0.92        60\n",
      "   macro avg       0.84      0.91      0.87        60\n",
      "weighted avg       0.93      0.92      0.92        60\n",
      "\n"
     ]
    }
   ],
   "source": [
    "print(classification_report(y_pred,test_y))"
   ]
  },
  {
   "cell_type": "code",
   "execution_count": 60,
   "metadata": {},
   "outputs": [
    {
     "name": "stdout",
     "output_type": "stream",
     "text": [
      "[[46  4]\n",
      " [ 1  9]]\n"
     ]
    }
   ],
   "source": [
    "print(confusion_matrix(y_pred,test_y))"
   ]
  },
  {
   "cell_type": "code",
   "execution_count": null,
   "metadata": {},
   "outputs": [],
   "source": []
  }
 ],
 "metadata": {
  "kernelspec": {
   "display_name": "Python 3.10.6 ('class')",
   "language": "python",
   "name": "python3"
  },
  "language_info": {
   "codemirror_mode": {
    "name": "ipython",
    "version": 3
   },
   "file_extension": ".py",
   "mimetype": "text/x-python",
   "name": "python",
   "nbconvert_exporter": "python",
   "pygments_lexer": "ipython3",
   "version": "3.10.6"
  },
  "orig_nbformat": 4,
  "vscode": {
   "interpreter": {
    "hash": "2ab26ebc9eac352ad84074c5872f53e9ff2d0f751ba36ba2a556974c64f5628d"
   }
  }
 },
 "nbformat": 4,
 "nbformat_minor": 2
}
