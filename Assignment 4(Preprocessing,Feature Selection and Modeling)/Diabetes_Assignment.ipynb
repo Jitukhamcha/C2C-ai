{
 "cells": [
  {
   "cell_type": "markdown",
   "metadata": {},
   "source": [
    "# Importing Libraries\n"
   ]
  },
  {
   "cell_type": "code",
   "execution_count": 1,
   "metadata": {},
   "outputs": [],
   "source": [
    "import pandas as pd\n",
    "import numpy as np\n"
   ]
  },
  {
   "cell_type": "markdown",
   "metadata": {},
   "source": [
    "# Data PreProcessing\n"
   ]
  },
  {
   "cell_type": "code",
   "execution_count": 2,
   "metadata": {},
   "outputs": [],
   "source": [
    "df=pd.read_csv('diabetes.csv') "
   ]
  },
  {
   "cell_type": "code",
   "execution_count": 3,
   "metadata": {},
   "outputs": [
    {
     "data": {
      "text/html": [
       "<div>\n",
       "<style scoped>\n",
       "    .dataframe tbody tr th:only-of-type {\n",
       "        vertical-align: middle;\n",
       "    }\n",
       "\n",
       "    .dataframe tbody tr th {\n",
       "        vertical-align: top;\n",
       "    }\n",
       "\n",
       "    .dataframe thead th {\n",
       "        text-align: right;\n",
       "    }\n",
       "</style>\n",
       "<table border=\"1\" class=\"dataframe\">\n",
       "  <thead>\n",
       "    <tr style=\"text-align: right;\">\n",
       "      <th></th>\n",
       "      <th>Pregnancies</th>\n",
       "      <th>Glucose</th>\n",
       "      <th>BloodPressure</th>\n",
       "      <th>SkinThickness</th>\n",
       "      <th>Insulin</th>\n",
       "      <th>BMI</th>\n",
       "      <th>DiabetesPedigreeFunction</th>\n",
       "      <th>Age</th>\n",
       "      <th>Outcome</th>\n",
       "    </tr>\n",
       "  </thead>\n",
       "  <tbody>\n",
       "    <tr>\n",
       "      <th>0</th>\n",
       "      <td>6</td>\n",
       "      <td>148</td>\n",
       "      <td>72</td>\n",
       "      <td>35</td>\n",
       "      <td>0</td>\n",
       "      <td>33.6</td>\n",
       "      <td>0.627</td>\n",
       "      <td>50</td>\n",
       "      <td>1</td>\n",
       "    </tr>\n",
       "    <tr>\n",
       "      <th>1</th>\n",
       "      <td>1</td>\n",
       "      <td>85</td>\n",
       "      <td>66</td>\n",
       "      <td>29</td>\n",
       "      <td>0</td>\n",
       "      <td>26.6</td>\n",
       "      <td>0.351</td>\n",
       "      <td>31</td>\n",
       "      <td>0</td>\n",
       "    </tr>\n",
       "    <tr>\n",
       "      <th>2</th>\n",
       "      <td>8</td>\n",
       "      <td>183</td>\n",
       "      <td>64</td>\n",
       "      <td>0</td>\n",
       "      <td>0</td>\n",
       "      <td>23.3</td>\n",
       "      <td>0.672</td>\n",
       "      <td>32</td>\n",
       "      <td>1</td>\n",
       "    </tr>\n",
       "    <tr>\n",
       "      <th>3</th>\n",
       "      <td>1</td>\n",
       "      <td>89</td>\n",
       "      <td>66</td>\n",
       "      <td>23</td>\n",
       "      <td>94</td>\n",
       "      <td>28.1</td>\n",
       "      <td>0.167</td>\n",
       "      <td>21</td>\n",
       "      <td>0</td>\n",
       "    </tr>\n",
       "    <tr>\n",
       "      <th>4</th>\n",
       "      <td>0</td>\n",
       "      <td>137</td>\n",
       "      <td>40</td>\n",
       "      <td>35</td>\n",
       "      <td>168</td>\n",
       "      <td>43.1</td>\n",
       "      <td>2.288</td>\n",
       "      <td>33</td>\n",
       "      <td>1</td>\n",
       "    </tr>\n",
       "  </tbody>\n",
       "</table>\n",
       "</div>"
      ],
      "text/plain": [
       "   Pregnancies  Glucose  BloodPressure  SkinThickness  Insulin   BMI  \\\n",
       "0            6      148             72             35        0  33.6   \n",
       "1            1       85             66             29        0  26.6   \n",
       "2            8      183             64              0        0  23.3   \n",
       "3            1       89             66             23       94  28.1   \n",
       "4            0      137             40             35      168  43.1   \n",
       "\n",
       "   DiabetesPedigreeFunction  Age  Outcome  \n",
       "0                     0.627   50        1  \n",
       "1                     0.351   31        0  \n",
       "2                     0.672   32        1  \n",
       "3                     0.167   21        0  \n",
       "4                     2.288   33        1  "
      ]
     },
     "execution_count": 3,
     "metadata": {},
     "output_type": "execute_result"
    }
   ],
   "source": [
    "df.head()"
   ]
  },
  {
   "cell_type": "code",
   "execution_count": 4,
   "metadata": {},
   "outputs": [
    {
     "data": {
      "text/plain": [
       "(768, 9)"
      ]
     },
     "execution_count": 4,
     "metadata": {},
     "output_type": "execute_result"
    }
   ],
   "source": [
    "df.shape"
   ]
  },
  {
   "cell_type": "code",
   "execution_count": 5,
   "metadata": {},
   "outputs": [
    {
     "name": "stdout",
     "output_type": "stream",
     "text": [
      "<class 'pandas.core.frame.DataFrame'>\n",
      "RangeIndex: 768 entries, 0 to 767\n",
      "Data columns (total 9 columns):\n",
      " #   Column                    Non-Null Count  Dtype  \n",
      "---  ------                    --------------  -----  \n",
      " 0   Pregnancies               768 non-null    int64  \n",
      " 1   Glucose                   768 non-null    int64  \n",
      " 2   BloodPressure             768 non-null    int64  \n",
      " 3   SkinThickness             768 non-null    int64  \n",
      " 4   Insulin                   768 non-null    int64  \n",
      " 5   BMI                       768 non-null    float64\n",
      " 6   DiabetesPedigreeFunction  768 non-null    float64\n",
      " 7   Age                       768 non-null    int64  \n",
      " 8   Outcome                   768 non-null    int64  \n",
      "dtypes: float64(2), int64(7)\n",
      "memory usage: 54.1 KB\n"
     ]
    }
   ],
   "source": [
    "df.info()"
   ]
  },
  {
   "cell_type": "code",
   "execution_count": 6,
   "metadata": {},
   "outputs": [
    {
     "data": {
      "text/plain": [
       "Pregnancies                 0\n",
       "Glucose                     0\n",
       "BloodPressure               0\n",
       "SkinThickness               0\n",
       "Insulin                     0\n",
       "BMI                         0\n",
       "DiabetesPedigreeFunction    0\n",
       "Age                         0\n",
       "Outcome                     0\n",
       "dtype: int64"
      ]
     },
     "execution_count": 6,
     "metadata": {},
     "output_type": "execute_result"
    }
   ],
   "source": [
    "df.isnull().sum()"
   ]
  },
  {
   "cell_type": "markdown",
   "metadata": {},
   "source": [
    "# As No Null Value Exists. PreProcessing not Required.\n",
    "## But some Columns have values 0. Which is not possible.\n",
    "### Lets Deal with That"
   ]
  },
  {
   "cell_type": "code",
   "execution_count": 7,
   "metadata": {},
   "outputs": [
    {
     "name": "stdout",
     "output_type": "stream",
     "text": [
      "Zero Values\n",
      "Pregnancies : 111\n",
      "Glucose : 5\n",
      "BloodPressure : 35\n",
      "SkinThickness : 227\n",
      "Insulin : 374\n",
      "BMI : 11\n",
      "DiabetesPedigreeFunction : 0\n",
      "Age : 0\n",
      "Outcome : 500\n"
     ]
    }
   ],
   "source": [
    "print(\"Zero Values\")\n",
    "for col in df.columns.values:\n",
    "    sum=0\n",
    "    for i in range(0,len(df[col])):\n",
    "        if(0==df[col][i]):\n",
    "            sum+=1\n",
    "    print(f\"{col} :\",sum)"
   ]
  },
  {
   "cell_type": "markdown",
   "metadata": {},
   "source": [
    "# Here Glucose , BloodPressure , SkinThickness, Insulin and BMI cannot Have Value 0\n",
    "## Appending them With Mean Value maybe a good"
   ]
  },
  {
   "cell_type": "code",
   "execution_count": 8,
   "metadata": {},
   "outputs": [],
   "source": [
    "cols=['Glucose','BloodPressure','SkinThickness','Insulin','BMI']\n",
    "for i in range(0,len(cols)):\n",
    "    df[cols[i]].replace(0,df[cols[i]].median(),inplace=True)"
   ]
  },
  {
   "cell_type": "code",
   "execution_count": 9,
   "metadata": {},
   "outputs": [
    {
     "data": {
      "text/html": [
       "<div>\n",
       "<style scoped>\n",
       "    .dataframe tbody tr th:only-of-type {\n",
       "        vertical-align: middle;\n",
       "    }\n",
       "\n",
       "    .dataframe tbody tr th {\n",
       "        vertical-align: top;\n",
       "    }\n",
       "\n",
       "    .dataframe thead th {\n",
       "        text-align: right;\n",
       "    }\n",
       "</style>\n",
       "<table border=\"1\" class=\"dataframe\">\n",
       "  <thead>\n",
       "    <tr style=\"text-align: right;\">\n",
       "      <th></th>\n",
       "      <th>Pregnancies</th>\n",
       "      <th>Glucose</th>\n",
       "      <th>BloodPressure</th>\n",
       "      <th>SkinThickness</th>\n",
       "      <th>Insulin</th>\n",
       "      <th>BMI</th>\n",
       "      <th>DiabetesPedigreeFunction</th>\n",
       "      <th>Age</th>\n",
       "      <th>Outcome</th>\n",
       "    </tr>\n",
       "  </thead>\n",
       "  <tbody>\n",
       "    <tr>\n",
       "      <th>0</th>\n",
       "      <td>6</td>\n",
       "      <td>148</td>\n",
       "      <td>72</td>\n",
       "      <td>35</td>\n",
       "      <td>30.5</td>\n",
       "      <td>33.6</td>\n",
       "      <td>0.627</td>\n",
       "      <td>50</td>\n",
       "      <td>1</td>\n",
       "    </tr>\n",
       "    <tr>\n",
       "      <th>1</th>\n",
       "      <td>1</td>\n",
       "      <td>85</td>\n",
       "      <td>66</td>\n",
       "      <td>29</td>\n",
       "      <td>30.5</td>\n",
       "      <td>26.6</td>\n",
       "      <td>0.351</td>\n",
       "      <td>31</td>\n",
       "      <td>0</td>\n",
       "    </tr>\n",
       "    <tr>\n",
       "      <th>2</th>\n",
       "      <td>8</td>\n",
       "      <td>183</td>\n",
       "      <td>64</td>\n",
       "      <td>23</td>\n",
       "      <td>30.5</td>\n",
       "      <td>23.3</td>\n",
       "      <td>0.672</td>\n",
       "      <td>32</td>\n",
       "      <td>1</td>\n",
       "    </tr>\n",
       "    <tr>\n",
       "      <th>3</th>\n",
       "      <td>1</td>\n",
       "      <td>89</td>\n",
       "      <td>66</td>\n",
       "      <td>23</td>\n",
       "      <td>94.0</td>\n",
       "      <td>28.1</td>\n",
       "      <td>0.167</td>\n",
       "      <td>21</td>\n",
       "      <td>0</td>\n",
       "    </tr>\n",
       "    <tr>\n",
       "      <th>4</th>\n",
       "      <td>0</td>\n",
       "      <td>137</td>\n",
       "      <td>40</td>\n",
       "      <td>35</td>\n",
       "      <td>168.0</td>\n",
       "      <td>43.1</td>\n",
       "      <td>2.288</td>\n",
       "      <td>33</td>\n",
       "      <td>1</td>\n",
       "    </tr>\n",
       "  </tbody>\n",
       "</table>\n",
       "</div>"
      ],
      "text/plain": [
       "   Pregnancies  Glucose  BloodPressure  SkinThickness  Insulin   BMI  \\\n",
       "0            6      148             72             35     30.5  33.6   \n",
       "1            1       85             66             29     30.5  26.6   \n",
       "2            8      183             64             23     30.5  23.3   \n",
       "3            1       89             66             23     94.0  28.1   \n",
       "4            0      137             40             35    168.0  43.1   \n",
       "\n",
       "   DiabetesPedigreeFunction  Age  Outcome  \n",
       "0                     0.627   50        1  \n",
       "1                     0.351   31        0  \n",
       "2                     0.672   32        1  \n",
       "3                     0.167   21        0  \n",
       "4                     2.288   33        1  "
      ]
     },
     "execution_count": 9,
     "metadata": {},
     "output_type": "execute_result"
    }
   ],
   "source": [
    "df.head()"
   ]
  },
  {
   "cell_type": "markdown",
   "metadata": {},
   "source": [
    "# Reviewing Detailed details with output"
   ]
  },
  {
   "cell_type": "code",
   "execution_count": 26,
   "metadata": {},
   "outputs": [],
   "source": [
    "\n",
    "def Detailed_Details(df,target,outcome):\n",
    "    print(\"Comparing\",target,\" With\",outcome)\n",
    "    print(\"Total\",len(df))\n",
    "    print(\"\\n\")\n",
    "    print(\"Column Name \\t \\t Total \\t \\t Percentage \\t \\t Total_Outcome(1) \\t \\t Percentage_Outcome(1) \\t \\t Total_Outcome(0)\\t \\tPercentage_Outcome(0) \")\n",
    "    #for checking type\n",
    "    type={'int','int16','int32','int64','float','float16','float32','float64'}\n",
    "   \n",
    "    uniq_cases=len(df)/5\n",
    "    total_data=len(df)\n",
    "   \n",
    "    df_current=df[target]\n",
    "    check_type=df_current.dtypes\n",
    "    \n",
    "    #for formatting\n",
    "    design=0\n",
    "    \n",
    "    if(str(check_type) in type):\n",
    "    \n",
    "        if (df_current.unique().sum()<uniq_cases):\n",
    "            \n",
    "            uniq_sorted=sorted(df_current.unique())\n",
    "            for uniq in uniq_sorted:\n",
    "                \n",
    "                total_outcome_1=0\n",
    "                total_outcome_0=0\n",
    "                for j in range(0,len(df)):\n",
    "                    if((df[outcome][j]==1) and (df_current[j]==uniq)):\n",
    "                        total_outcome_1+=1\n",
    "                    elif((df[outcome][j]==0) and (df_current[j]==uniq)):\n",
    "                        total_outcome_0+=1\n",
    "                \n",
    "                total=df_current.value_counts()[uniq]\n",
    "                percent= round((total/total_data*100),2)\n",
    "                \n",
    "                percentage_outcome_1=round(((total_outcome_1/total)*100),2)\n",
    "                percentage_outcome_0=round((100-percentage_outcome_1),2)\n",
    "                \n",
    "                if(design==0):\n",
    "                    print(target)\n",
    "                \n",
    "                print(\"\\t \",uniq,\"\\t\\t\",total,\"\\t\\t\",percent,\"% \\t\\t\\t \",total_outcome_1,\"\\t\\t\\t\\t\",percentage_outcome_1,\"%\\t\\t\\t\\t\",total_outcome_0,\"\\t\\t\\t\\t\",percentage_outcome_0,\"%\")\n",
    "                print(\"\\n\")\n",
    "                design=1\n",
    "        else:\n",
    "            mean_value=round(df_current.mean(),2)\n",
    "            \n",
    "            total_abm=0\n",
    "            total_blm=0\n",
    "            \n",
    "            total_outcome_abm_1=0\n",
    "            total_outcome_abm_0=0\n",
    "            \n",
    "            total_outcome_blm_1=0\n",
    "            total_outcome_blm_0=0\n",
    "            \n",
    "            for j in range(0,len(df)):\n",
    "                if(df_current[j]>=mean_value):\n",
    "                    total_abm+=1\n",
    "                    if(df[outcome][j]==1):\n",
    "                        total_outcome_abm_1+=1\n",
    "                    else:\n",
    "                         total_outcome_abm_0+=1\n",
    "                else:\n",
    "                    total_blm+=1\n",
    "                    if(df[outcome][j]==1):\n",
    "                        total_outcome_blm_1+=1\n",
    "                    else:\n",
    "                         total_outcome_blm_0+=1\n",
    "           \n",
    "            percent_abm=round(((total_abm/total_data)*100),2)\n",
    "            percent_blm=round((100-percent_abm),2)\n",
    "            \n",
    "            percent_abm_1=round(((total_outcome_abm_1/total_abm)*100),2)\n",
    "            percent_abm_0=round((100-percent_abm_1),2)\n",
    "            \n",
    "            percent_blm_1=round(((total_outcome_blm_1/total_blm)*100),2)\n",
    "            percent_blm_0=round((100-percent_blm_1),2)\n",
    "            \n",
    "            if(design==0):\n",
    "                    print(target)\n",
    "                \n",
    "            print(\" LessThan(\",mean_value,\")\\t\",total_blm,\"\\t\\t\",percent_blm,\"% \\t\\t\\t \",total_outcome_blm_1,\"\\t\\t\\t\\t\",percent_blm_1,\"%\\t\\t\\t\\t\",total_outcome_blm_0,\"\\t\\t\\t\\t\",percent_blm_0,\"%\")\n",
    "            print(\" GreaterThan(\",mean_value,\")\\t\",total_abm,\"\\t\\t\",percent_abm,\"%\\t\\t\\t\\t \",total_outcome_abm_1,\"\\t\\t\\t\\t\",percent_abm_1,\"%\\t\\t\\t\\t\",total_outcome_abm_0,\"\\t\\t\\t\\t\",percent_abm_0,\"%\")\n",
    "            print(\"\\n\")\n",
    "            design=1\n",
    "    else:\n",
    "        if (df_current.nunique()<uniq_cases):\n",
    "            \n",
    "            for uniq in df_current.unique():\n",
    "                total_outcome_1=0\n",
    "                total_outcome_0=0\n",
    "                for j in range(0,len(df)):\n",
    "                    if((df[outcome][j]==1) and (df_current[j]==uniq)):\n",
    "                        total_outcome_1+=1\n",
    "                    elif((df[outcome][j]==0) and (df_current[j]==uniq)):\n",
    "                        total_outcome_0+=1\n",
    "                \n",
    "                total=df_current.value_counts()[uniq]\n",
    "                percent= round((total/total_data*100),2)\n",
    "                \n",
    "                percentage_outcome_1=round(((total_outcome_1/total)*100),2)\n",
    "                percentage_outcome_0=round((100-percentage_outcome_1),2)\n",
    "                \n",
    "                if(design==0):\n",
    "                    print(target)\n",
    "                \n",
    "                print(\"\\t \",uniq,\"\\t\\t\",total,\"\\t\\t\",percent,\"% \\t\\t\\t \",total_outcome_1,\"\\t\\t\\t\",percentage_outcome_1,\"%\\t\\t\\t\",total_outcome_0,\"\\t\\t\\t\",percentage_outcome_0,\"%\")\n",
    "                print(\"\\n\")\n",
    "                design=1\n",
    "        else:\n",
    "            print(\"Target value is string and have greater unique Values\")\n",
    "                "
   ]
  },
  {
   "cell_type": "code",
   "execution_count": 28,
   "metadata": {},
   "outputs": [
    {
     "name": "stdout",
     "output_type": "stream",
     "text": [
      "Comparing Pregnancies  With Outcome\n",
      "Total 768\n",
      "\n",
      "\n",
      "Column Name \t \t Total \t \t Percentage \t \t Total_Outcome(1) \t \t Percentage_Outcome(1) \t \t Total_Outcome(0)\t \tPercentage_Outcome(0) \n",
      "Pregnancies\n",
      "\t  0 \t\t 111 \t\t 14.45 % \t\t\t  38 \t\t\t\t 34.23 %\t\t\t\t 73 \t\t\t\t 65.77 %\n",
      "\n",
      "\n",
      "\t  1 \t\t 135 \t\t 17.58 % \t\t\t  29 \t\t\t\t 21.48 %\t\t\t\t 106 \t\t\t\t 78.52 %\n",
      "\n",
      "\n",
      "\t  2 \t\t 103 \t\t 13.41 % \t\t\t  19 \t\t\t\t 18.45 %\t\t\t\t 84 \t\t\t\t 81.55 %\n",
      "\n",
      "\n",
      "\t  3 \t\t 75 \t\t 9.77 % \t\t\t  27 \t\t\t\t 36.0 %\t\t\t\t 48 \t\t\t\t 64.0 %\n",
      "\n",
      "\n",
      "\t  4 \t\t 68 \t\t 8.85 % \t\t\t  23 \t\t\t\t 33.82 %\t\t\t\t 45 \t\t\t\t 66.18 %\n",
      "\n",
      "\n",
      "\t  5 \t\t 57 \t\t 7.42 % \t\t\t  21 \t\t\t\t 36.84 %\t\t\t\t 36 \t\t\t\t 63.16 %\n",
      "\n",
      "\n",
      "\t  6 \t\t 50 \t\t 6.51 % \t\t\t  16 \t\t\t\t 32.0 %\t\t\t\t 34 \t\t\t\t 68.0 %\n",
      "\n",
      "\n",
      "\t  7 \t\t 45 \t\t 5.86 % \t\t\t  25 \t\t\t\t 55.56 %\t\t\t\t 20 \t\t\t\t 44.44 %\n",
      "\n",
      "\n",
      "\t  8 \t\t 38 \t\t 4.95 % \t\t\t  22 \t\t\t\t 57.89 %\t\t\t\t 16 \t\t\t\t 42.11 %\n",
      "\n",
      "\n",
      "\t  9 \t\t 28 \t\t 3.65 % \t\t\t  18 \t\t\t\t 64.29 %\t\t\t\t 10 \t\t\t\t 35.71 %\n",
      "\n",
      "\n",
      "\t  10 \t\t 24 \t\t 3.12 % \t\t\t  10 \t\t\t\t 41.67 %\t\t\t\t 14 \t\t\t\t 58.33 %\n",
      "\n",
      "\n",
      "\t  11 \t\t 11 \t\t 1.43 % \t\t\t  7 \t\t\t\t 63.64 %\t\t\t\t 4 \t\t\t\t 36.36 %\n",
      "\n",
      "\n",
      "\t  12 \t\t 9 \t\t 1.17 % \t\t\t  4 \t\t\t\t 44.44 %\t\t\t\t 5 \t\t\t\t 55.56 %\n",
      "\n",
      "\n",
      "\t  13 \t\t 10 \t\t 1.3 % \t\t\t  5 \t\t\t\t 50.0 %\t\t\t\t 5 \t\t\t\t 50.0 %\n",
      "\n",
      "\n",
      "\t  14 \t\t 2 \t\t 0.26 % \t\t\t  2 \t\t\t\t 100.0 %\t\t\t\t 0 \t\t\t\t 0.0 %\n",
      "\n",
      "\n",
      "\t  15 \t\t 1 \t\t 0.13 % \t\t\t  1 \t\t\t\t 100.0 %\t\t\t\t 0 \t\t\t\t 0.0 %\n",
      "\n",
      "\n",
      "\t  17 \t\t 1 \t\t 0.13 % \t\t\t  1 \t\t\t\t 100.0 %\t\t\t\t 0 \t\t\t\t 0.0 %\n",
      "\n",
      "\n"
     ]
    }
   ],
   "source": [
    "#with Pregnancies\n",
    "Detailed_Details(df,'Pregnancies','Outcome')\n",
    "#Diabetes seems to increase with pregnancies"
   ]
  },
  {
   "cell_type": "code",
   "execution_count": 29,
   "metadata": {},
   "outputs": [
    {
     "name": "stdout",
     "output_type": "stream",
     "text": [
      "Comparing Glucose  With Outcome\n",
      "Total 768\n",
      "\n",
      "\n",
      "Column Name \t \t Total \t \t Percentage \t \t Total_Outcome(1) \t \t Percentage_Outcome(1) \t \t Total_Outcome(0)\t \tPercentage_Outcome(0) \n",
      "Glucose\n",
      " LessThan( 121.66 )\t 425 \t\t 55.34 % \t\t\t  75 \t\t\t\t 17.65 %\t\t\t\t 350 \t\t\t\t 82.35 %\n",
      " GreaterThan( 121.66 )\t 343 \t\t 44.66 %\t\t\t\t  193 \t\t\t\t 56.27 %\t\t\t\t 150 \t\t\t\t 43.73 %\n",
      "\n",
      "\n"
     ]
    }
   ],
   "source": [
    "#With Glucose\n",
    "Detailed_Details(df,'Glucose','Outcome')\n",
    "#Greater Glucose have greater chance of having Diabetes\n"
   ]
  },
  {
   "cell_type": "code",
   "execution_count": 30,
   "metadata": {},
   "outputs": [
    {
     "name": "stdout",
     "output_type": "stream",
     "text": [
      "Comparing BloodPressure  With Outcome\n",
      "Total 768\n",
      "\n",
      "\n",
      "Column Name \t \t Total \t \t Percentage \t \t Total_Outcome(1) \t \t Percentage_Outcome(1) \t \t Total_Outcome(0)\t \tPercentage_Outcome(0) \n",
      "BloodPressure\n",
      " LessThan( 72.39 )\t 419 \t\t 54.56 % \t\t\t  125 \t\t\t\t 29.83 %\t\t\t\t 294 \t\t\t\t 70.17 %\n",
      " GreaterThan( 72.39 )\t 349 \t\t 45.44 %\t\t\t\t  143 \t\t\t\t 40.97 %\t\t\t\t 206 \t\t\t\t 59.03 %\n",
      "\n",
      "\n"
     ]
    }
   ],
   "source": [
    "#With Blood Pressure\n",
    "Detailed_Details(df,'BloodPressure','Outcome')\n",
    "#Greater BloodPressure has greater chance of Diabetes\n"
   ]
  },
  {
   "cell_type": "code",
   "execution_count": 31,
   "metadata": {},
   "outputs": [
    {
     "name": "stdout",
     "output_type": "stream",
     "text": [
      "Comparing SkinThickness  With Outcome\n",
      "Total 768\n",
      "\n",
      "\n",
      "Column Name \t \t Total \t \t Percentage \t \t Total_Outcome(1) \t \t Percentage_Outcome(1) \t \t Total_Outcome(0)\t \tPercentage_Outcome(0) \n",
      "SkinThickness\n",
      " LessThan( 27.33 )\t 466 \t\t 60.68 % \t\t\t  139 \t\t\t\t 29.83 %\t\t\t\t 327 \t\t\t\t 70.17 %\n",
      " GreaterThan( 27.33 )\t 302 \t\t 39.32 %\t\t\t\t  129 \t\t\t\t 42.72 %\t\t\t\t 173 \t\t\t\t 57.28 %\n",
      "\n",
      "\n"
     ]
    }
   ],
   "source": [
    "#With Skin Thickness\n",
    "Detailed_Details(df,'SkinThickness','Outcome')\n",
    "#Greater Skin thickness prone to greater diabetes"
   ]
  },
  {
   "cell_type": "code",
   "execution_count": 32,
   "metadata": {},
   "outputs": [
    {
     "name": "stdout",
     "output_type": "stream",
     "text": [
      "Comparing Insulin  With Outcome\n",
      "Total 768\n",
      "\n",
      "\n",
      "Column Name \t \t Total \t \t Percentage \t \t Total_Outcome(1) \t \t Percentage_Outcome(1) \t \t Total_Outcome(0)\t \tPercentage_Outcome(0) \n",
      "Insulin\n",
      " LessThan( 94.65 )\t 512 \t\t 66.67 % \t\t\t  152 \t\t\t\t 29.69 %\t\t\t\t 360 \t\t\t\t 70.31 %\n",
      " GreaterThan( 94.65 )\t 256 \t\t 33.33 %\t\t\t\t  116 \t\t\t\t 45.31 %\t\t\t\t 140 \t\t\t\t 54.69 %\n",
      "\n",
      "\n"
     ]
    }
   ],
   "source": [
    "#With Insulin\n",
    "Detailed_Details(df,'Insulin','Outcome')\n",
    "#Greater Insulin prone to greater diabetes\n"
   ]
  },
  {
   "cell_type": "code",
   "execution_count": 33,
   "metadata": {},
   "outputs": [
    {
     "name": "stdout",
     "output_type": "stream",
     "text": [
      "Comparing Insulin  With Outcome\n",
      "Total 768\n",
      "\n",
      "\n",
      "Column Name \t \t Total \t \t Percentage \t \t Total_Outcome(1) \t \t Percentage_Outcome(1) \t \t Total_Outcome(0)\t \tPercentage_Outcome(0) \n",
      "Insulin\n",
      " LessThan( 94.65 )\t 512 \t\t 66.67 % \t\t\t  152 \t\t\t\t 29.69 %\t\t\t\t 360 \t\t\t\t 70.31 %\n",
      " GreaterThan( 94.65 )\t 256 \t\t 33.33 %\t\t\t\t  116 \t\t\t\t 45.31 %\t\t\t\t 140 \t\t\t\t 54.69 %\n",
      "\n",
      "\n"
     ]
    }
   ],
   "source": [
    "#With BMI\n",
    "Detailed_Details(df,'Insulin','Outcome')\n",
    "#Greater BMI prone to greater diabetes\n"
   ]
  },
  {
   "cell_type": "code",
   "execution_count": 34,
   "metadata": {},
   "outputs": [
    {
     "name": "stdout",
     "output_type": "stream",
     "text": [
      "Comparing DiabetesPedigreeFunction  With Outcome\n",
      "Total 768\n",
      "\n",
      "\n",
      "Column Name \t \t Total \t \t Percentage \t \t Total_Outcome(1) \t \t Percentage_Outcome(1) \t \t Total_Outcome(0)\t \tPercentage_Outcome(0) \n",
      "DiabetesPedigreeFunction\n",
      " LessThan( 0.47 )\t 471 \t\t 61.33 % \t\t\t  139 \t\t\t\t 29.51 %\t\t\t\t 332 \t\t\t\t 70.49 %\n",
      " GreaterThan( 0.47 )\t 297 \t\t 38.67 %\t\t\t\t  129 \t\t\t\t 43.43 %\t\t\t\t 168 \t\t\t\t 56.57 %\n",
      "\n",
      "\n"
     ]
    }
   ],
   "source": [
    "#with DiabetesPedegreeFunction\n",
    "\n",
    "Detailed_Details(df,'DiabetesPedigreeFunction','Outcome')\n",
    "#Greater DiabetesPedegreeFunction to greater diabetes\n"
   ]
  },
  {
   "cell_type": "code",
   "execution_count": 35,
   "metadata": {},
   "outputs": [
    {
     "name": "stdout",
     "output_type": "stream",
     "text": [
      "Comparing Age  With Outcome\n",
      "Total 768\n",
      "\n",
      "\n",
      "Column Name \t \t Total \t \t Percentage \t \t Total_Outcome(1) \t \t Percentage_Outcome(1) \t \t Total_Outcome(0)\t \tPercentage_Outcome(0) \n",
      "Age\n",
      " LessThan( 33.24 )\t 474 \t\t 61.72 % \t\t\t  122 \t\t\t\t 25.74 %\t\t\t\t 352 \t\t\t\t 74.26 %\n",
      " GreaterThan( 33.24 )\t 294 \t\t 38.28 %\t\t\t\t  146 \t\t\t\t 49.66 %\t\t\t\t 148 \t\t\t\t 50.34 %\n",
      "\n",
      "\n"
     ]
    }
   ],
   "source": [
    "#with Age\n",
    "Detailed_Details(df,'Age','Outcome')\n",
    "#Greater Age to greater diabetes\n"
   ]
  },
  {
   "cell_type": "markdown",
   "metadata": {},
   "source": [
    "# Now to Feature Selection"
   ]
  },
  {
   "cell_type": "code",
   "execution_count": 36,
   "metadata": {},
   "outputs": [
    {
     "data": {
      "text/plain": [
       "Pregnancies                 0.221898\n",
       "Glucose                     0.492782\n",
       "BloodPressure               0.165723\n",
       "SkinThickness               0.189065\n",
       "Insulin                     0.148457\n",
       "BMI                         0.312249\n",
       "DiabetesPedigreeFunction    0.173844\n",
       "Age                         0.238356\n",
       "dtype: float64"
      ]
     },
     "execution_count": 36,
     "metadata": {},
     "output_type": "execute_result"
    }
   ],
   "source": [
    "df_comp=df.loc[:,df.columns!='Outcome']\n",
    "df_comp.corrwith(df['Outcome'])"
   ]
  },
  {
   "cell_type": "markdown",
   "metadata": {},
   "source": [
    "# Setting certain median for correlation\n",
    "    "
   ]
  },
  {
   "cell_type": "code",
   "execution_count": 37,
   "metadata": {},
   "outputs": [
    {
     "name": "stdout",
     "output_type": "stream",
     "text": [
      "0.20548178630469044\n"
     ]
    }
   ],
   "source": [
    "print(df_comp.corrwith(df['Outcome']).median())"
   ]
  },
  {
   "cell_type": "markdown",
   "metadata": {},
   "source": [
    "# Dropping Correlation less than 0.205"
   ]
  },
  {
   "cell_type": "code",
   "execution_count": 38,
   "metadata": {},
   "outputs": [],
   "source": [
    "cols=['BloodPressure','SkinThickness','Insulin','DiabetesPedigreeFunction']\n",
    "for i in range(0,len(cols)):\n",
    "    df.drop(cols[i],axis=1,inplace=True)"
   ]
  },
  {
   "cell_type": "code",
   "execution_count": 39,
   "metadata": {},
   "outputs": [
    {
     "data": {
      "text/html": [
       "<div>\n",
       "<style scoped>\n",
       "    .dataframe tbody tr th:only-of-type {\n",
       "        vertical-align: middle;\n",
       "    }\n",
       "\n",
       "    .dataframe tbody tr th {\n",
       "        vertical-align: top;\n",
       "    }\n",
       "\n",
       "    .dataframe thead th {\n",
       "        text-align: right;\n",
       "    }\n",
       "</style>\n",
       "<table border=\"1\" class=\"dataframe\">\n",
       "  <thead>\n",
       "    <tr style=\"text-align: right;\">\n",
       "      <th></th>\n",
       "      <th>Pregnancies</th>\n",
       "      <th>Glucose</th>\n",
       "      <th>BMI</th>\n",
       "      <th>Age</th>\n",
       "      <th>Outcome</th>\n",
       "    </tr>\n",
       "  </thead>\n",
       "  <tbody>\n",
       "    <tr>\n",
       "      <th>0</th>\n",
       "      <td>6</td>\n",
       "      <td>148</td>\n",
       "      <td>33.6</td>\n",
       "      <td>50</td>\n",
       "      <td>1</td>\n",
       "    </tr>\n",
       "    <tr>\n",
       "      <th>1</th>\n",
       "      <td>1</td>\n",
       "      <td>85</td>\n",
       "      <td>26.6</td>\n",
       "      <td>31</td>\n",
       "      <td>0</td>\n",
       "    </tr>\n",
       "    <tr>\n",
       "      <th>2</th>\n",
       "      <td>8</td>\n",
       "      <td>183</td>\n",
       "      <td>23.3</td>\n",
       "      <td>32</td>\n",
       "      <td>1</td>\n",
       "    </tr>\n",
       "    <tr>\n",
       "      <th>3</th>\n",
       "      <td>1</td>\n",
       "      <td>89</td>\n",
       "      <td>28.1</td>\n",
       "      <td>21</td>\n",
       "      <td>0</td>\n",
       "    </tr>\n",
       "    <tr>\n",
       "      <th>4</th>\n",
       "      <td>0</td>\n",
       "      <td>137</td>\n",
       "      <td>43.1</td>\n",
       "      <td>33</td>\n",
       "      <td>1</td>\n",
       "    </tr>\n",
       "  </tbody>\n",
       "</table>\n",
       "</div>"
      ],
      "text/plain": [
       "   Pregnancies  Glucose   BMI  Age  Outcome\n",
       "0            6      148  33.6   50        1\n",
       "1            1       85  26.6   31        0\n",
       "2            8      183  23.3   32        1\n",
       "3            1       89  28.1   21        0\n",
       "4            0      137  43.1   33        1"
      ]
     },
     "execution_count": 39,
     "metadata": {},
     "output_type": "execute_result"
    }
   ],
   "source": [
    "df.head()"
   ]
  },
  {
   "cell_type": "code",
   "execution_count": 40,
   "metadata": {},
   "outputs": [
    {
     "data": {
      "text/html": [
       "<div>\n",
       "<style scoped>\n",
       "    .dataframe tbody tr th:only-of-type {\n",
       "        vertical-align: middle;\n",
       "    }\n",
       "\n",
       "    .dataframe tbody tr th {\n",
       "        vertical-align: top;\n",
       "    }\n",
       "\n",
       "    .dataframe thead th {\n",
       "        text-align: right;\n",
       "    }\n",
       "</style>\n",
       "<table border=\"1\" class=\"dataframe\">\n",
       "  <thead>\n",
       "    <tr style=\"text-align: right;\">\n",
       "      <th></th>\n",
       "      <th>Pregnancies</th>\n",
       "      <th>Glucose</th>\n",
       "      <th>BMI</th>\n",
       "      <th>Age</th>\n",
       "      <th>Outcome</th>\n",
       "    </tr>\n",
       "  </thead>\n",
       "  <tbody>\n",
       "    <tr>\n",
       "      <th>Pregnancies</th>\n",
       "      <td>1.000000</td>\n",
       "      <td>0.128213</td>\n",
       "      <td>0.021546</td>\n",
       "      <td>0.544341</td>\n",
       "      <td>0.221898</td>\n",
       "    </tr>\n",
       "    <tr>\n",
       "      <th>Glucose</th>\n",
       "      <td>0.128213</td>\n",
       "      <td>1.000000</td>\n",
       "      <td>0.231400</td>\n",
       "      <td>0.266909</td>\n",
       "      <td>0.492782</td>\n",
       "    </tr>\n",
       "    <tr>\n",
       "      <th>BMI</th>\n",
       "      <td>0.021546</td>\n",
       "      <td>0.231400</td>\n",
       "      <td>1.000000</td>\n",
       "      <td>0.025744</td>\n",
       "      <td>0.312249</td>\n",
       "    </tr>\n",
       "    <tr>\n",
       "      <th>Age</th>\n",
       "      <td>0.544341</td>\n",
       "      <td>0.266909</td>\n",
       "      <td>0.025744</td>\n",
       "      <td>1.000000</td>\n",
       "      <td>0.238356</td>\n",
       "    </tr>\n",
       "    <tr>\n",
       "      <th>Outcome</th>\n",
       "      <td>0.221898</td>\n",
       "      <td>0.492782</td>\n",
       "      <td>0.312249</td>\n",
       "      <td>0.238356</td>\n",
       "      <td>1.000000</td>\n",
       "    </tr>\n",
       "  </tbody>\n",
       "</table>\n",
       "</div>"
      ],
      "text/plain": [
       "             Pregnancies   Glucose       BMI       Age   Outcome\n",
       "Pregnancies     1.000000  0.128213  0.021546  0.544341  0.221898\n",
       "Glucose         0.128213  1.000000  0.231400  0.266909  0.492782\n",
       "BMI             0.021546  0.231400  1.000000  0.025744  0.312249\n",
       "Age             0.544341  0.266909  0.025744  1.000000  0.238356\n",
       "Outcome         0.221898  0.492782  0.312249  0.238356  1.000000"
      ]
     },
     "execution_count": 40,
     "metadata": {},
     "output_type": "execute_result"
    }
   ],
   "source": [
    "df.corr()"
   ]
  },
  {
   "cell_type": "markdown",
   "metadata": {},
   "source": [
    "# Age and Pregnacies Seem to be strongly correlated with 0.544"
   ]
  },
  {
   "cell_type": "markdown",
   "metadata": {},
   "source": [
    "Checking corr of each with Outcome"
   ]
  },
  {
   "cell_type": "code",
   "execution_count": 41,
   "metadata": {},
   "outputs": [
    {
     "name": "stdout",
     "output_type": "stream",
     "text": [
      "Pregnancies\n",
      "0.2218981530339867\n",
      "Age\n",
      "0.23835598302719752\n"
     ]
    }
   ],
   "source": [
    "print(\"Pregnancies\")\n",
    "print(df['Pregnancies'].corr(df['Outcome']))\n",
    "print(\"Age\")\n",
    "print(df['Age'].corr(df['Outcome']))"
   ]
  },
  {
   "cell_type": "markdown",
   "metadata": {},
   "source": [
    "# As Age is more correlated with Outcome. Dropping Pregnancies"
   ]
  },
  {
   "cell_type": "code",
   "execution_count": 42,
   "metadata": {},
   "outputs": [],
   "source": [
    "df.drop('Pregnancies',axis=1,inplace=True)"
   ]
  },
  {
   "cell_type": "code",
   "execution_count": 43,
   "metadata": {},
   "outputs": [
    {
     "data": {
      "text/html": [
       "<div>\n",
       "<style scoped>\n",
       "    .dataframe tbody tr th:only-of-type {\n",
       "        vertical-align: middle;\n",
       "    }\n",
       "\n",
       "    .dataframe tbody tr th {\n",
       "        vertical-align: top;\n",
       "    }\n",
       "\n",
       "    .dataframe thead th {\n",
       "        text-align: right;\n",
       "    }\n",
       "</style>\n",
       "<table border=\"1\" class=\"dataframe\">\n",
       "  <thead>\n",
       "    <tr style=\"text-align: right;\">\n",
       "      <th></th>\n",
       "      <th>Glucose</th>\n",
       "      <th>BMI</th>\n",
       "      <th>Age</th>\n",
       "      <th>Outcome</th>\n",
       "    </tr>\n",
       "  </thead>\n",
       "  <tbody>\n",
       "    <tr>\n",
       "      <th>Glucose</th>\n",
       "      <td>1.000000</td>\n",
       "      <td>0.231400</td>\n",
       "      <td>0.266909</td>\n",
       "      <td>0.492782</td>\n",
       "    </tr>\n",
       "    <tr>\n",
       "      <th>BMI</th>\n",
       "      <td>0.231400</td>\n",
       "      <td>1.000000</td>\n",
       "      <td>0.025744</td>\n",
       "      <td>0.312249</td>\n",
       "    </tr>\n",
       "    <tr>\n",
       "      <th>Age</th>\n",
       "      <td>0.266909</td>\n",
       "      <td>0.025744</td>\n",
       "      <td>1.000000</td>\n",
       "      <td>0.238356</td>\n",
       "    </tr>\n",
       "    <tr>\n",
       "      <th>Outcome</th>\n",
       "      <td>0.492782</td>\n",
       "      <td>0.312249</td>\n",
       "      <td>0.238356</td>\n",
       "      <td>1.000000</td>\n",
       "    </tr>\n",
       "  </tbody>\n",
       "</table>\n",
       "</div>"
      ],
      "text/plain": [
       "          Glucose       BMI       Age   Outcome\n",
       "Glucose  1.000000  0.231400  0.266909  0.492782\n",
       "BMI      0.231400  1.000000  0.025744  0.312249\n",
       "Age      0.266909  0.025744  1.000000  0.238356\n",
       "Outcome  0.492782  0.312249  0.238356  1.000000"
      ]
     },
     "execution_count": 43,
     "metadata": {},
     "output_type": "execute_result"
    }
   ],
   "source": [
    "df.corr()"
   ]
  },
  {
   "cell_type": "code",
   "execution_count": 44,
   "metadata": {},
   "outputs": [
    {
     "data": {
      "text/html": [
       "<div>\n",
       "<style scoped>\n",
       "    .dataframe tbody tr th:only-of-type {\n",
       "        vertical-align: middle;\n",
       "    }\n",
       "\n",
       "    .dataframe tbody tr th {\n",
       "        vertical-align: top;\n",
       "    }\n",
       "\n",
       "    .dataframe thead th {\n",
       "        text-align: right;\n",
       "    }\n",
       "</style>\n",
       "<table border=\"1\" class=\"dataframe\">\n",
       "  <thead>\n",
       "    <tr style=\"text-align: right;\">\n",
       "      <th></th>\n",
       "      <th>Glucose</th>\n",
       "      <th>BMI</th>\n",
       "      <th>Age</th>\n",
       "      <th>Outcome</th>\n",
       "    </tr>\n",
       "  </thead>\n",
       "  <tbody>\n",
       "    <tr>\n",
       "      <th>0</th>\n",
       "      <td>148</td>\n",
       "      <td>33.6</td>\n",
       "      <td>50</td>\n",
       "      <td>1</td>\n",
       "    </tr>\n",
       "    <tr>\n",
       "      <th>1</th>\n",
       "      <td>85</td>\n",
       "      <td>26.6</td>\n",
       "      <td>31</td>\n",
       "      <td>0</td>\n",
       "    </tr>\n",
       "    <tr>\n",
       "      <th>2</th>\n",
       "      <td>183</td>\n",
       "      <td>23.3</td>\n",
       "      <td>32</td>\n",
       "      <td>1</td>\n",
       "    </tr>\n",
       "    <tr>\n",
       "      <th>3</th>\n",
       "      <td>89</td>\n",
       "      <td>28.1</td>\n",
       "      <td>21</td>\n",
       "      <td>0</td>\n",
       "    </tr>\n",
       "    <tr>\n",
       "      <th>4</th>\n",
       "      <td>137</td>\n",
       "      <td>43.1</td>\n",
       "      <td>33</td>\n",
       "      <td>1</td>\n",
       "    </tr>\n",
       "  </tbody>\n",
       "</table>\n",
       "</div>"
      ],
      "text/plain": [
       "   Glucose   BMI  Age  Outcome\n",
       "0      148  33.6   50        1\n",
       "1       85  26.6   31        0\n",
       "2      183  23.3   32        1\n",
       "3       89  28.1   21        0\n",
       "4      137  43.1   33        1"
      ]
     },
     "execution_count": 44,
     "metadata": {},
     "output_type": "execute_result"
    }
   ],
   "source": [
    "df.head()\n"
   ]
  },
  {
   "cell_type": "markdown",
   "metadata": {},
   "source": [
    "# Now building Model"
   ]
  },
  {
   "cell_type": "code",
   "execution_count": 45,
   "metadata": {},
   "outputs": [],
   "source": [
    "from sklearn.model_selection import train_test_split\n",
    "from sklearn.svm import SVC\n",
    "from sklearn.neighbors import KNeighborsClassifier\n",
    "from sklearn.tree import DecisionTreeClassifier\n",
    "from sklearn.naive_bayes import GaussianNB\n",
    "from sklearn.metrics import confusion_matrix,accuracy_score\n",
    "from sklearn.model_selection import GridSearchCV"
   ]
  },
  {
   "cell_type": "markdown",
   "metadata": {},
   "source": [
    "# Now  Implementing Machine Learning\n"
   ]
  },
  {
   "cell_type": "code",
   "execution_count": 46,
   "metadata": {},
   "outputs": [],
   "source": [
    "svc=SVC()\n",
    "knn=KNeighborsClassifier()\n",
    "dtc=DecisionTreeClassifier()\n",
    "nb=GaussianNB()"
   ]
  },
  {
   "cell_type": "code",
   "execution_count": 47,
   "metadata": {},
   "outputs": [],
   "source": [
    "models={'svc':svc,'knn':knn,'dtc':dtc,'nb':nb}"
   ]
  },
  {
   "cell_type": "code",
   "execution_count": 48,
   "metadata": {},
   "outputs": [],
   "source": [
    "x,y=df.drop('Outcome',axis=1),df['Outcome']"
   ]
  },
  {
   "cell_type": "code",
   "execution_count": 49,
   "metadata": {},
   "outputs": [],
   "source": [
    "train_x,test_x,train_y,test_y=train_test_split(x,y,test_size=0.2,random_state=200)"
   ]
  },
  {
   "cell_type": "code",
   "execution_count": 50,
   "metadata": {},
   "outputs": [
    {
     "name": "stdout",
     "output_type": "stream",
     "text": [
      "svc\n",
      "[[98 21]\n",
      " [ 8 27]]\n",
      "knn\n",
      "[[87 18]\n",
      " [19 30]]\n",
      "dtc\n",
      "[[76 25]\n",
      " [30 23]]\n",
      "nb\n",
      "[[96 19]\n",
      " [10 29]]\n"
     ]
    }
   ],
   "source": [
    "model_accuracy={}\n",
    "\n",
    "for model in models.keys():\n",
    "    mod = models[model].fit(train_x,train_y)\n",
    "    predict=mod.predict(test_x)\n",
    "    #print(f\"{model}\",classification_report(predict,test_y))\n",
    "    print(f\"{model}\")\n",
    "    print(confusion_matrix(predict,test_y))\n",
    "    \n",
    "    if model not in model_accuracy.keys():\n",
    "        model_accuracy.update({model:accuracy_score(test_y,predict)})"
   ]
  },
  {
   "cell_type": "code",
   "execution_count": 56,
   "metadata": {},
   "outputs": [
    {
     "data": {
      "text/plain": [
       "{'svc': 0.8116883116883117,\n",
       " 'knn': 0.7727272727272727,\n",
       " 'dtc': 0.7597402597402597,\n",
       " 'nb': 0.8116883116883117}"
      ]
     },
     "execution_count": 56,
     "metadata": {},
     "output_type": "execute_result"
    }
   ],
   "source": [
    "model_accuracy\n",
    "#Same Accurracy without dropping any features"
   ]
  },
  {
   "cell_type": "markdown",
   "metadata": {},
   "source": [
    "# Lets try With GridSearch\n"
   ]
  },
  {
   "cell_type": "code",
   "execution_count": 52,
   "metadata": {},
   "outputs": [],
   "source": [
    "params={\n",
    "    'knn': {'n_neighbors':[3,5,7,9,11,13,15],\n",
    "    'metric':['cosine','euclidean','manhattan'],\n",
    "    'weights':['uniform','distance']},\n",
    "    \n",
    "    'svc': {\n",
    "    'C':[0.1,1,10,100], \n",
    "    'gamma':[1,0.1,0.01,0.01], \n",
    "    'kernel':['rbf','linear']},\n",
    "    \n",
    "    'dtc':{\n",
    "        'criterion':['gini','entropy'],\n",
    "        'max_depth':[2,4,6,8,10,12]\n",
    "    },\n",
    "    \n",
    "    'nb':{\n",
    "        'priors': [None],\n",
    "    'var_smoothing': [0.00000001, 0.000000001, 0.00000001]\n",
    "    }\n",
    "    \n",
    "    }"
   ]
  },
  {
   "cell_type": "code",
   "execution_count": 53,
   "metadata": {},
   "outputs": [
    {
     "name": "stdout",
     "output_type": "stream",
     "text": [
      "Fitting 20 folds for each of 32 candidates, totalling 640 fits\n",
      "svc :  SVC(C=10, gamma=1, kernel='linear')\n",
      "svc\n",
      "[[96 19]\n",
      " [10 29]]\n",
      "Fitting 20 folds for each of 42 candidates, totalling 840 fits\n",
      "knn :  KNeighborsClassifier(metric='euclidean', n_neighbors=15)\n",
      "knn\n",
      "[[92 21]\n",
      " [14 27]]\n",
      "Fitting 20 folds for each of 12 candidates, totalling 240 fits\n",
      "dtc :  DecisionTreeClassifier(criterion='entropy', max_depth=4)\n",
      "dtc\n",
      "[[77  8]\n",
      " [29 40]]\n",
      "Fitting 20 folds for each of 3 candidates, totalling 60 fits\n",
      "nb :  GaussianNB(var_smoothing=1e-08)\n",
      "nb\n",
      "[[96 19]\n",
      " [10 29]]\n"
     ]
    }
   ],
   "source": [
    "model_accuracy={}\n",
    "for model in models.keys():\n",
    "    mod = GridSearchCV(\n",
    "    models[model],\n",
    "    params[model],\n",
    "    verbose=1, #Progress bar showing\n",
    "    cv=20, #cross validation\n",
    "    n_jobs=-1, #cores to assign\n",
    ")\n",
    "    gridsearch_result=mod.fit(train_x,train_y)\n",
    "    predict=mod.predict(test_x)\n",
    "    print(f\"{model} : \",gridsearch_result.best_estimator_)\n",
    "    print(f\"{model}\")\n",
    "    print(confusion_matrix(predict,test_y))\n",
    "    if model not in model_accuracy.keys():\n",
    "        model_accuracy.update({model:accuracy_score(test_y,predict)})"
   ]
  },
  {
   "cell_type": "code",
   "execution_count": 55,
   "metadata": {},
   "outputs": [
    {
     "data": {
      "text/plain": [
       "{'svc': 0.8116883116883117,\n",
       " 'knn': 0.7727272727272727,\n",
       " 'dtc': 0.7597402597402597,\n",
       " 'nb': 0.8116883116883117}"
      ]
     },
     "execution_count": 55,
     "metadata": {},
     "output_type": "execute_result"
    }
   ],
   "source": [
    "model_accuracy\n",
    "#Though hyperplanning was fast after feature Selection"
   ]
  },
  {
   "cell_type": "code",
   "execution_count": null,
   "metadata": {},
   "outputs": [],
   "source": []
  }
 ],
 "metadata": {
  "kernelspec": {
   "display_name": "Python 3.10.6 ('class')",
   "language": "python",
   "name": "python3"
  },
  "language_info": {
   "codemirror_mode": {
    "name": "ipython",
    "version": 3
   },
   "file_extension": ".py",
   "mimetype": "text/x-python",
   "name": "python",
   "nbconvert_exporter": "python",
   "pygments_lexer": "ipython3",
   "version": "3.10.6"
  },
  "orig_nbformat": 4,
  "vscode": {
   "interpreter": {
    "hash": "2ab26ebc9eac352ad84074c5872f53e9ff2d0f751ba36ba2a556974c64f5628d"
   }
  }
 },
 "nbformat": 4,
 "nbformat_minor": 2
}
