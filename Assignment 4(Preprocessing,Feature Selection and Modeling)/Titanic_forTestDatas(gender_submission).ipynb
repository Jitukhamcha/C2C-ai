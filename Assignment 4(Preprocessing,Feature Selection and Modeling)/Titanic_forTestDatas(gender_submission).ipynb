{
 "cells": [
  {
   "cell_type": "markdown",
   "metadata": {},
   "source": [
    "<h1>Loading Necessary Libraries</h1>"
   ]
  },
  {
   "cell_type": "code",
   "execution_count": 373,
   "metadata": {},
   "outputs": [],
   "source": [
    "import pandas as pd\n",
    "import numpy as np\n",
    "import matplotlib.pyplot as plt"
   ]
  },
  {
   "cell_type": "markdown",
   "metadata": {},
   "source": [
    "<h2>Data PreProcessing Starts</h2>"
   ]
  },
  {
   "cell_type": "code",
   "execution_count": 374,
   "metadata": {},
   "outputs": [],
   "source": [
    "df=pd.read_csv('test.csv')\n",
    "df_survived=pd.read_csv('gender_submission.csv')"
   ]
  },
  {
   "cell_type": "code",
   "execution_count": 375,
   "metadata": {},
   "outputs": [
    {
     "data": {
      "text/html": [
       "<div>\n",
       "<style scoped>\n",
       "    .dataframe tbody tr th:only-of-type {\n",
       "        vertical-align: middle;\n",
       "    }\n",
       "\n",
       "    .dataframe tbody tr th {\n",
       "        vertical-align: top;\n",
       "    }\n",
       "\n",
       "    .dataframe thead th {\n",
       "        text-align: right;\n",
       "    }\n",
       "</style>\n",
       "<table border=\"1\" class=\"dataframe\">\n",
       "  <thead>\n",
       "    <tr style=\"text-align: right;\">\n",
       "      <th></th>\n",
       "      <th>PassengerId</th>\n",
       "      <th>Pclass</th>\n",
       "      <th>Name</th>\n",
       "      <th>Sex</th>\n",
       "      <th>Age</th>\n",
       "      <th>SibSp</th>\n",
       "      <th>Parch</th>\n",
       "      <th>Ticket</th>\n",
       "      <th>Fare</th>\n",
       "      <th>Cabin</th>\n",
       "      <th>Embarked</th>\n",
       "    </tr>\n",
       "  </thead>\n",
       "  <tbody>\n",
       "    <tr>\n",
       "      <th>0</th>\n",
       "      <td>892</td>\n",
       "      <td>3</td>\n",
       "      <td>Kelly, Mr. James</td>\n",
       "      <td>male</td>\n",
       "      <td>34.5</td>\n",
       "      <td>0</td>\n",
       "      <td>0</td>\n",
       "      <td>330911</td>\n",
       "      <td>7.8292</td>\n",
       "      <td>NaN</td>\n",
       "      <td>Q</td>\n",
       "    </tr>\n",
       "    <tr>\n",
       "      <th>1</th>\n",
       "      <td>893</td>\n",
       "      <td>3</td>\n",
       "      <td>Wilkes, Mrs. James (Ellen Needs)</td>\n",
       "      <td>female</td>\n",
       "      <td>47.0</td>\n",
       "      <td>1</td>\n",
       "      <td>0</td>\n",
       "      <td>363272</td>\n",
       "      <td>7.0000</td>\n",
       "      <td>NaN</td>\n",
       "      <td>S</td>\n",
       "    </tr>\n",
       "    <tr>\n",
       "      <th>2</th>\n",
       "      <td>894</td>\n",
       "      <td>2</td>\n",
       "      <td>Myles, Mr. Thomas Francis</td>\n",
       "      <td>male</td>\n",
       "      <td>62.0</td>\n",
       "      <td>0</td>\n",
       "      <td>0</td>\n",
       "      <td>240276</td>\n",
       "      <td>9.6875</td>\n",
       "      <td>NaN</td>\n",
       "      <td>Q</td>\n",
       "    </tr>\n",
       "    <tr>\n",
       "      <th>3</th>\n",
       "      <td>895</td>\n",
       "      <td>3</td>\n",
       "      <td>Wirz, Mr. Albert</td>\n",
       "      <td>male</td>\n",
       "      <td>27.0</td>\n",
       "      <td>0</td>\n",
       "      <td>0</td>\n",
       "      <td>315154</td>\n",
       "      <td>8.6625</td>\n",
       "      <td>NaN</td>\n",
       "      <td>S</td>\n",
       "    </tr>\n",
       "    <tr>\n",
       "      <th>4</th>\n",
       "      <td>896</td>\n",
       "      <td>3</td>\n",
       "      <td>Hirvonen, Mrs. Alexander (Helga E Lindqvist)</td>\n",
       "      <td>female</td>\n",
       "      <td>22.0</td>\n",
       "      <td>1</td>\n",
       "      <td>1</td>\n",
       "      <td>3101298</td>\n",
       "      <td>12.2875</td>\n",
       "      <td>NaN</td>\n",
       "      <td>S</td>\n",
       "    </tr>\n",
       "  </tbody>\n",
       "</table>\n",
       "</div>"
      ],
      "text/plain": [
       "   PassengerId  Pclass                                          Name     Sex  \\\n",
       "0          892       3                              Kelly, Mr. James    male   \n",
       "1          893       3              Wilkes, Mrs. James (Ellen Needs)  female   \n",
       "2          894       2                     Myles, Mr. Thomas Francis    male   \n",
       "3          895       3                              Wirz, Mr. Albert    male   \n",
       "4          896       3  Hirvonen, Mrs. Alexander (Helga E Lindqvist)  female   \n",
       "\n",
       "    Age  SibSp  Parch   Ticket     Fare Cabin Embarked  \n",
       "0  34.5      0      0   330911   7.8292   NaN        Q  \n",
       "1  47.0      1      0   363272   7.0000   NaN        S  \n",
       "2  62.0      0      0   240276   9.6875   NaN        Q  \n",
       "3  27.0      0      0   315154   8.6625   NaN        S  \n",
       "4  22.0      1      1  3101298  12.2875   NaN        S  "
      ]
     },
     "execution_count": 375,
     "metadata": {},
     "output_type": "execute_result"
    }
   ],
   "source": [
    "df.head()"
   ]
  },
  {
   "cell_type": "code",
   "execution_count": 376,
   "metadata": {},
   "outputs": [
    {
     "data": {
      "text/html": [
       "<div>\n",
       "<style scoped>\n",
       "    .dataframe tbody tr th:only-of-type {\n",
       "        vertical-align: middle;\n",
       "    }\n",
       "\n",
       "    .dataframe tbody tr th {\n",
       "        vertical-align: top;\n",
       "    }\n",
       "\n",
       "    .dataframe thead th {\n",
       "        text-align: right;\n",
       "    }\n",
       "</style>\n",
       "<table border=\"1\" class=\"dataframe\">\n",
       "  <thead>\n",
       "    <tr style=\"text-align: right;\">\n",
       "      <th></th>\n",
       "      <th>PassengerId</th>\n",
       "      <th>Survived</th>\n",
       "    </tr>\n",
       "  </thead>\n",
       "  <tbody>\n",
       "    <tr>\n",
       "      <th>0</th>\n",
       "      <td>892</td>\n",
       "      <td>0</td>\n",
       "    </tr>\n",
       "    <tr>\n",
       "      <th>1</th>\n",
       "      <td>893</td>\n",
       "      <td>1</td>\n",
       "    </tr>\n",
       "    <tr>\n",
       "      <th>2</th>\n",
       "      <td>894</td>\n",
       "      <td>0</td>\n",
       "    </tr>\n",
       "    <tr>\n",
       "      <th>3</th>\n",
       "      <td>895</td>\n",
       "      <td>0</td>\n",
       "    </tr>\n",
       "    <tr>\n",
       "      <th>4</th>\n",
       "      <td>896</td>\n",
       "      <td>1</td>\n",
       "    </tr>\n",
       "  </tbody>\n",
       "</table>\n",
       "</div>"
      ],
      "text/plain": [
       "   PassengerId  Survived\n",
       "0          892         0\n",
       "1          893         1\n",
       "2          894         0\n",
       "3          895         0\n",
       "4          896         1"
      ]
     },
     "execution_count": 376,
     "metadata": {},
     "output_type": "execute_result"
    }
   ],
   "source": [
    "df_survived.head()"
   ]
  },
  {
   "cell_type": "markdown",
   "metadata": {},
   "source": [
    "# Concating df and df_survived because df doesnot have survived column and both are aligned perfectly\n"
   ]
  },
  {
   "cell_type": "code",
   "execution_count": 377,
   "metadata": {},
   "outputs": [],
   "source": [
    "df=pd.concat([df,df_survived['Survived']],axis=1)"
   ]
  },
  {
   "cell_type": "code",
   "execution_count": 378,
   "metadata": {},
   "outputs": [
    {
     "data": {
      "text/html": [
       "<div>\n",
       "<style scoped>\n",
       "    .dataframe tbody tr th:only-of-type {\n",
       "        vertical-align: middle;\n",
       "    }\n",
       "\n",
       "    .dataframe tbody tr th {\n",
       "        vertical-align: top;\n",
       "    }\n",
       "\n",
       "    .dataframe thead th {\n",
       "        text-align: right;\n",
       "    }\n",
       "</style>\n",
       "<table border=\"1\" class=\"dataframe\">\n",
       "  <thead>\n",
       "    <tr style=\"text-align: right;\">\n",
       "      <th></th>\n",
       "      <th>PassengerId</th>\n",
       "      <th>Pclass</th>\n",
       "      <th>Name</th>\n",
       "      <th>Sex</th>\n",
       "      <th>Age</th>\n",
       "      <th>SibSp</th>\n",
       "      <th>Parch</th>\n",
       "      <th>Ticket</th>\n",
       "      <th>Fare</th>\n",
       "      <th>Cabin</th>\n",
       "      <th>Embarked</th>\n",
       "      <th>Survived</th>\n",
       "    </tr>\n",
       "  </thead>\n",
       "  <tbody>\n",
       "    <tr>\n",
       "      <th>0</th>\n",
       "      <td>892</td>\n",
       "      <td>3</td>\n",
       "      <td>Kelly, Mr. James</td>\n",
       "      <td>male</td>\n",
       "      <td>34.5</td>\n",
       "      <td>0</td>\n",
       "      <td>0</td>\n",
       "      <td>330911</td>\n",
       "      <td>7.8292</td>\n",
       "      <td>NaN</td>\n",
       "      <td>Q</td>\n",
       "      <td>0</td>\n",
       "    </tr>\n",
       "    <tr>\n",
       "      <th>1</th>\n",
       "      <td>893</td>\n",
       "      <td>3</td>\n",
       "      <td>Wilkes, Mrs. James (Ellen Needs)</td>\n",
       "      <td>female</td>\n",
       "      <td>47.0</td>\n",
       "      <td>1</td>\n",
       "      <td>0</td>\n",
       "      <td>363272</td>\n",
       "      <td>7.0000</td>\n",
       "      <td>NaN</td>\n",
       "      <td>S</td>\n",
       "      <td>1</td>\n",
       "    </tr>\n",
       "    <tr>\n",
       "      <th>2</th>\n",
       "      <td>894</td>\n",
       "      <td>2</td>\n",
       "      <td>Myles, Mr. Thomas Francis</td>\n",
       "      <td>male</td>\n",
       "      <td>62.0</td>\n",
       "      <td>0</td>\n",
       "      <td>0</td>\n",
       "      <td>240276</td>\n",
       "      <td>9.6875</td>\n",
       "      <td>NaN</td>\n",
       "      <td>Q</td>\n",
       "      <td>0</td>\n",
       "    </tr>\n",
       "    <tr>\n",
       "      <th>3</th>\n",
       "      <td>895</td>\n",
       "      <td>3</td>\n",
       "      <td>Wirz, Mr. Albert</td>\n",
       "      <td>male</td>\n",
       "      <td>27.0</td>\n",
       "      <td>0</td>\n",
       "      <td>0</td>\n",
       "      <td>315154</td>\n",
       "      <td>8.6625</td>\n",
       "      <td>NaN</td>\n",
       "      <td>S</td>\n",
       "      <td>0</td>\n",
       "    </tr>\n",
       "    <tr>\n",
       "      <th>4</th>\n",
       "      <td>896</td>\n",
       "      <td>3</td>\n",
       "      <td>Hirvonen, Mrs. Alexander (Helga E Lindqvist)</td>\n",
       "      <td>female</td>\n",
       "      <td>22.0</td>\n",
       "      <td>1</td>\n",
       "      <td>1</td>\n",
       "      <td>3101298</td>\n",
       "      <td>12.2875</td>\n",
       "      <td>NaN</td>\n",
       "      <td>S</td>\n",
       "      <td>1</td>\n",
       "    </tr>\n",
       "  </tbody>\n",
       "</table>\n",
       "</div>"
      ],
      "text/plain": [
       "   PassengerId  Pclass                                          Name     Sex  \\\n",
       "0          892       3                              Kelly, Mr. James    male   \n",
       "1          893       3              Wilkes, Mrs. James (Ellen Needs)  female   \n",
       "2          894       2                     Myles, Mr. Thomas Francis    male   \n",
       "3          895       3                              Wirz, Mr. Albert    male   \n",
       "4          896       3  Hirvonen, Mrs. Alexander (Helga E Lindqvist)  female   \n",
       "\n",
       "    Age  SibSp  Parch   Ticket     Fare Cabin Embarked  Survived  \n",
       "0  34.5      0      0   330911   7.8292   NaN        Q         0  \n",
       "1  47.0      1      0   363272   7.0000   NaN        S         1  \n",
       "2  62.0      0      0   240276   9.6875   NaN        Q         0  \n",
       "3  27.0      0      0   315154   8.6625   NaN        S         0  \n",
       "4  22.0      1      1  3101298  12.2875   NaN        S         1  "
      ]
     },
     "execution_count": 378,
     "metadata": {},
     "output_type": "execute_result"
    }
   ],
   "source": [
    "df.head()"
   ]
  },
  {
   "cell_type": "code",
   "execution_count": 379,
   "metadata": {},
   "outputs": [
    {
     "data": {
      "text/html": [
       "<div>\n",
       "<style scoped>\n",
       "    .dataframe tbody tr th:only-of-type {\n",
       "        vertical-align: middle;\n",
       "    }\n",
       "\n",
       "    .dataframe tbody tr th {\n",
       "        vertical-align: top;\n",
       "    }\n",
       "\n",
       "    .dataframe thead th {\n",
       "        text-align: right;\n",
       "    }\n",
       "</style>\n",
       "<table border=\"1\" class=\"dataframe\">\n",
       "  <thead>\n",
       "    <tr style=\"text-align: right;\">\n",
       "      <th></th>\n",
       "      <th>PassengerId</th>\n",
       "      <th>Pclass</th>\n",
       "      <th>Name</th>\n",
       "      <th>Sex</th>\n",
       "      <th>Age</th>\n",
       "      <th>SibSp</th>\n",
       "      <th>Parch</th>\n",
       "      <th>Ticket</th>\n",
       "      <th>Fare</th>\n",
       "      <th>Cabin</th>\n",
       "      <th>Embarked</th>\n",
       "      <th>Survived</th>\n",
       "    </tr>\n",
       "  </thead>\n",
       "  <tbody>\n",
       "    <tr>\n",
       "      <th>402</th>\n",
       "      <td>1294</td>\n",
       "      <td>1</td>\n",
       "      <td>Gibson, Miss. Dorothy Winifred</td>\n",
       "      <td>female</td>\n",
       "      <td>22.0</td>\n",
       "      <td>0</td>\n",
       "      <td>1</td>\n",
       "      <td>112378</td>\n",
       "      <td>59.400</td>\n",
       "      <td>NaN</td>\n",
       "      <td>C</td>\n",
       "      <td>1</td>\n",
       "    </tr>\n",
       "    <tr>\n",
       "      <th>165</th>\n",
       "      <td>1057</td>\n",
       "      <td>3</td>\n",
       "      <td>Kink-Heilmann, Mrs. Anton (Luise Heilmann)</td>\n",
       "      <td>female</td>\n",
       "      <td>26.0</td>\n",
       "      <td>1</td>\n",
       "      <td>1</td>\n",
       "      <td>315153</td>\n",
       "      <td>22.025</td>\n",
       "      <td>NaN</td>\n",
       "      <td>S</td>\n",
       "      <td>1</td>\n",
       "    </tr>\n",
       "    <tr>\n",
       "      <th>273</th>\n",
       "      <td>1165</td>\n",
       "      <td>3</td>\n",
       "      <td>Lennon, Miss. Mary</td>\n",
       "      <td>female</td>\n",
       "      <td>NaN</td>\n",
       "      <td>1</td>\n",
       "      <td>0</td>\n",
       "      <td>370371</td>\n",
       "      <td>15.500</td>\n",
       "      <td>NaN</td>\n",
       "      <td>Q</td>\n",
       "      <td>1</td>\n",
       "    </tr>\n",
       "    <tr>\n",
       "      <th>416</th>\n",
       "      <td>1308</td>\n",
       "      <td>3</td>\n",
       "      <td>Ware, Mr. Frederick</td>\n",
       "      <td>male</td>\n",
       "      <td>NaN</td>\n",
       "      <td>0</td>\n",
       "      <td>0</td>\n",
       "      <td>359309</td>\n",
       "      <td>8.050</td>\n",
       "      <td>NaN</td>\n",
       "      <td>S</td>\n",
       "      <td>0</td>\n",
       "    </tr>\n",
       "    <tr>\n",
       "      <th>274</th>\n",
       "      <td>1166</td>\n",
       "      <td>3</td>\n",
       "      <td>Saade, Mr. Jean Nassr</td>\n",
       "      <td>male</td>\n",
       "      <td>NaN</td>\n",
       "      <td>0</td>\n",
       "      <td>0</td>\n",
       "      <td>2676</td>\n",
       "      <td>7.225</td>\n",
       "      <td>NaN</td>\n",
       "      <td>C</td>\n",
       "      <td>0</td>\n",
       "    </tr>\n",
       "  </tbody>\n",
       "</table>\n",
       "</div>"
      ],
      "text/plain": [
       "     PassengerId  Pclass                                        Name     Sex  \\\n",
       "402         1294       1              Gibson, Miss. Dorothy Winifred  female   \n",
       "165         1057       3  Kink-Heilmann, Mrs. Anton (Luise Heilmann)  female   \n",
       "273         1165       3                          Lennon, Miss. Mary  female   \n",
       "416         1308       3                         Ware, Mr. Frederick    male   \n",
       "274         1166       3                       Saade, Mr. Jean Nassr    male   \n",
       "\n",
       "      Age  SibSp  Parch  Ticket    Fare Cabin Embarked  Survived  \n",
       "402  22.0      0      1  112378  59.400   NaN        C         1  \n",
       "165  26.0      1      1  315153  22.025   NaN        S         1  \n",
       "273   NaN      1      0  370371  15.500   NaN        Q         1  \n",
       "416   NaN      0      0  359309   8.050   NaN        S         0  \n",
       "274   NaN      0      0    2676   7.225   NaN        C         0  "
      ]
     },
     "execution_count": 379,
     "metadata": {},
     "output_type": "execute_result"
    }
   ],
   "source": [
    "df.sample(5)"
   ]
  },
  {
   "cell_type": "code",
   "execution_count": 380,
   "metadata": {},
   "outputs": [
    {
     "name": "stdout",
     "output_type": "stream",
     "text": [
      "<class 'pandas.core.frame.DataFrame'>\n",
      "RangeIndex: 418 entries, 0 to 417\n",
      "Data columns (total 12 columns):\n",
      " #   Column       Non-Null Count  Dtype  \n",
      "---  ------       --------------  -----  \n",
      " 0   PassengerId  418 non-null    int64  \n",
      " 1   Pclass       418 non-null    int64  \n",
      " 2   Name         418 non-null    object \n",
      " 3   Sex          418 non-null    object \n",
      " 4   Age          332 non-null    float64\n",
      " 5   SibSp        418 non-null    int64  \n",
      " 6   Parch        418 non-null    int64  \n",
      " 7   Ticket       418 non-null    object \n",
      " 8   Fare         417 non-null    float64\n",
      " 9   Cabin        91 non-null     object \n",
      " 10  Embarked     418 non-null    object \n",
      " 11  Survived     418 non-null    int64  \n",
      "dtypes: float64(2), int64(5), object(5)\n",
      "memory usage: 39.3+ KB\n"
     ]
    }
   ],
   "source": [
    "df.info()"
   ]
  },
  {
   "cell_type": "code",
   "execution_count": 381,
   "metadata": {},
   "outputs": [
    {
     "data": {
      "text/plain": [
       "(418, 12)"
      ]
     },
     "execution_count": 381,
     "metadata": {},
     "output_type": "execute_result"
    }
   ],
   "source": [
    "df.shape"
   ]
  },
  {
   "cell_type": "code",
   "execution_count": 382,
   "metadata": {},
   "outputs": [
    {
     "name": "stdout",
     "output_type": "stream",
     "text": [
      "<class 'pandas.core.frame.DataFrame'>\n",
      "RangeIndex: 418 entries, 0 to 417\n",
      "Data columns (total 12 columns):\n",
      " #   Column       Non-Null Count  Dtype  \n",
      "---  ------       --------------  -----  \n",
      " 0   PassengerId  418 non-null    int64  \n",
      " 1   Pclass       418 non-null    int64  \n",
      " 2   Name         418 non-null    object \n",
      " 3   Sex          418 non-null    object \n",
      " 4   Age          332 non-null    float64\n",
      " 5   SibSp        418 non-null    int64  \n",
      " 6   Parch        418 non-null    int64  \n",
      " 7   Ticket       418 non-null    object \n",
      " 8   Fare         417 non-null    float64\n",
      " 9   Cabin        91 non-null     object \n",
      " 10  Embarked     418 non-null    object \n",
      " 11  Survived     418 non-null    int64  \n",
      "dtypes: float64(2), int64(5), object(5)\n",
      "memory usage: 39.3+ KB\n"
     ]
    }
   ],
   "source": [
    "df.info()"
   ]
  },
  {
   "cell_type": "markdown",
   "metadata": {},
   "source": [
    "# We have 418 total datas and in some we can observe value for nulls. \n",
    "Checking for null values for each columns"
   ]
  },
  {
   "cell_type": "code",
   "execution_count": 383,
   "metadata": {},
   "outputs": [
    {
     "data": {
      "text/plain": [
       "PassengerId      0\n",
       "Pclass           0\n",
       "Name             0\n",
       "Sex              0\n",
       "Age             86\n",
       "SibSp            0\n",
       "Parch            0\n",
       "Ticket           0\n",
       "Fare             1\n",
       "Cabin          327\n",
       "Embarked         0\n",
       "Survived         0\n",
       "dtype: int64"
      ]
     },
     "execution_count": 383,
     "metadata": {},
     "output_type": "execute_result"
    }
   ],
   "source": [
    "df.isnull().sum()"
   ]
  },
  {
   "cell_type": "markdown",
   "metadata": {},
   "source": [
    "# Determining how to fill datas for age\n"
   ]
  },
  {
   "cell_type": "code",
   "execution_count": 384,
   "metadata": {},
   "outputs": [
    {
     "name": "stdout",
     "output_type": "stream",
     "text": [
      "Oldest Passenger was of: 76.0 Years\n",
      "Youngest Passenger was of: 0.17 Years\n",
      "Average Age on the ship: 30.272590361445783 Years\n"
     ]
    }
   ],
   "source": [
    "print('Oldest Passenger was of:',df['Age'].max(),'Years')\n",
    "print('Youngest Passenger was of:',df['Age'].min(),'Years')\n",
    "print('Average Age on the ship:',df['Age'].mean(),'Years')\n",
    "\n",
    "#So maybe mean would be appropriate"
   ]
  },
  {
   "cell_type": "markdown",
   "metadata": {},
   "source": [
    "\n",
    "# Determining how to fill datas for Cabins\n"
   ]
  },
  {
   "cell_type": "code",
   "execution_count": 385,
   "metadata": {},
   "outputs": [
    {
     "name": "stdout",
     "output_type": "stream",
     "text": [
      "77\n",
      "52                 NaN\n",
      "176                NaN\n",
      "11                 NaN\n",
      "18                 NaN\n",
      "142    B57 B59 B63 B66\n",
      "80                 NaN\n",
      "57               F G63\n",
      "252                C89\n",
      "319                NaN\n",
      "145                NaN\n",
      "Name: Cabin, dtype: object\n"
     ]
    }
   ],
   "source": [
    "print(len(df['Cabin'].unique()))\n",
    "\n",
    "#Many unique Values. \n",
    "\n",
    "print(df['Cabin'].sample(10))\n",
    "\n",
    "#Values seem not appropiate to take mean.\n"
   ]
  },
  {
   "cell_type": "code",
   "execution_count": 386,
   "metadata": {},
   "outputs": [],
   "source": [
    "\n",
    "# Checking Cabin's Relevance to output\n"
   ]
  },
  {
   "cell_type": "code",
   "execution_count": 387,
   "metadata": {},
   "outputs": [],
   "source": [
    "\n",
    "#df['Cabin'].corr(df['Survived']) Couldnot be computed\n",
    "\n",
    "#Also if we analyze Cabin will have no importance to survive rate\n",
    "\n",
    "#Best to drop them."
   ]
  },
  {
   "cell_type": "markdown",
   "metadata": {},
   "source": [
    "# Determining how to fill datas for Fare\n"
   ]
  },
  {
   "cell_type": "code",
   "execution_count": 388,
   "metadata": {},
   "outputs": [
    {
     "name": "stdout",
     "output_type": "stream",
     "text": [
      "170\n"
     ]
    }
   ],
   "source": [
    "print(len(df['Fare'].unique()))\n",
    "\n",
    "#Has 170 unique Values. \n",
    "#So a Mean would be appropiate\n"
   ]
  },
  {
   "cell_type": "markdown",
   "metadata": {},
   "source": [
    "## Lets Fill NAN Feilds"
   ]
  },
  {
   "cell_type": "code",
   "execution_count": 389,
   "metadata": {},
   "outputs": [],
   "source": [
    "df['Fare'].fillna(df['Fare'].mean(),inplace=True) #Replacing with mean values\n",
    "df['Age'].fillna(df['Age'].mean(),inplace=True) #Replacing with mean values\n",
    "df.drop('Cabin',axis=1,inplace=True)"
   ]
  },
  {
   "cell_type": "code",
   "execution_count": 390,
   "metadata": {},
   "outputs": [
    {
     "data": {
      "text/plain": [
       "Index(['PassengerId', 'Pclass', 'Name', 'Sex', 'Age', 'SibSp', 'Parch',\n",
       "       'Ticket', 'Fare', 'Embarked', 'Survived'],\n",
       "      dtype='object')"
      ]
     },
     "execution_count": 390,
     "metadata": {},
     "output_type": "execute_result"
    }
   ],
   "source": [
    "df.columns"
   ]
  },
  {
   "cell_type": "markdown",
   "metadata": {},
   "source": [
    "Age has 177 null values\n",
    "Cabin has 687 null values\n",
    "Emabrked has 2 null values\n",
    "\n",
    "We can drop them. But 177 and 687 are too large numbers to drop.\n",
    "Further preprocessing might be required."
   ]
  },
  {
   "cell_type": "markdown",
   "metadata": {},
   "source": [
    "# A Function to view more details with Survival"
   ]
  },
  {
   "cell_type": "code",
   "execution_count": 391,
   "metadata": {},
   "outputs": [],
   "source": [
    "\n",
    "def Detailed_Details(df,target,outcome):\n",
    "    print(\"Comparing\",target,\" With\",outcome)\n",
    "    print(\"Total\",len(df))\n",
    "    print(\"\\n\")\n",
    "    print(\"Column Name\\t\\t\\tTotal\\tPercentage\\tTotal_Outcome(1)\\tPercentage_Outcome(1)\\tTotal_Outcome(0)\\tPercentage_Outcome(0) \")\n",
    "    #for checking type\n",
    "    type={'int','int16','int32','int64','float','float16','float32','float64'}\n",
    "   \n",
    "    uniq_cases=len(df)/5\n",
    "    total_data=len(df)\n",
    "   \n",
    "    df_current=df[target]\n",
    "    check_type=df_current.dtypes\n",
    "    \n",
    "    #for formatting\n",
    "    design=0\n",
    "    \n",
    "    if(str(check_type) in type):\n",
    "    \n",
    "        if (df_current.unique().sum()<uniq_cases):\n",
    "            \n",
    "            uniq_sorted=sorted(df_current.unique())\n",
    "            for uniq in uniq_sorted:\n",
    "                \n",
    "                total_outcome_1=0\n",
    "                total_outcome_0=0\n",
    "                for j in range(0,len(df)):\n",
    "                    if((df[outcome][j]==1) and (df_current[j]==uniq)):\n",
    "                        total_outcome_1+=1\n",
    "                    elif((df[outcome][j]==0) and (df_current[j]==uniq)):\n",
    "                        total_outcome_0+=1\n",
    "                \n",
    "                total=df_current.value_counts()[uniq]\n",
    "                percent= round((total/total_data*100),2)\n",
    "                \n",
    "                percentage_outcome_1=round(((total_outcome_1/total)*100),2)\n",
    "                percentage_outcome_0=round((100-percentage_outcome_1),2)\n",
    "                \n",
    "                if(design==0):\n",
    "                    print(target)\n",
    "                \n",
    "                print(\"  \",uniq,\"\\t\\t\\t\\t\",total,\"\\t\",percent,\"% \\t\\t\",total_outcome_1,\"\\t\\t\\t\",percentage_outcome_1,\"%\\t\\t\",total_outcome_0,\"\\t\\t\",percentage_outcome_0,\"%\")\n",
    "                print(\"\\n\")\n",
    "                design=1\n",
    "        else:\n",
    "            mean_value=round(df_current.mean(),2)\n",
    "            \n",
    "            total_abm=0\n",
    "            total_blm=0\n",
    "            \n",
    "            total_outcome_abm_1=0\n",
    "            total_outcome_abm_0=0\n",
    "            \n",
    "            total_outcome_blm_1=0\n",
    "            total_outcome_blm_0=0\n",
    "            \n",
    "            for j in range(0,len(df)):\n",
    "                if(df_current[j]>=mean_value):\n",
    "                    total_abm+=1\n",
    "                    if(df[outcome][j]==1):\n",
    "                        total_outcome_abm_1+=1\n",
    "                    else:\n",
    "                         total_outcome_abm_0+=1\n",
    "                else:\n",
    "                    total_blm+=1\n",
    "                    if(df[outcome][j]==1):\n",
    "                        total_outcome_blm_1+=1\n",
    "                    else:\n",
    "                         total_outcome_blm_0+=1\n",
    "           \n",
    "            percent_abm=round(((total_abm/total_data)*100),2)\n",
    "            percent_blm=round((100-percent_abm),2)\n",
    "            \n",
    "            percent_abm_1=round(((total_outcome_abm_1/total_abm)*100),2)\n",
    "            percent_abm_0=round((100-percent_abm_1),2)\n",
    "            \n",
    "            percent_blm_1=round(((total_outcome_blm_1/total_blm)*100),2)\n",
    "            percent_blm_0=round((100-percent_blm_1),2)\n",
    "            \n",
    "            if(design==0):\n",
    "                    print(target)\n",
    "                \n",
    "            print(\" LessThan(\",mean_value,\")\\t\\t\",total_blm,\"\\t\",percent_blm,\"% \\t\",total_outcome_blm_1,\"\\t\\t\\t\",percent_blm_1,\"%\\t\\t\\t\",total_outcome_blm_0,\"\\t\\t\\t\\t\",percent_blm_0,\"%\")\n",
    "            print(\" GreaterThan(\",mean_value,\")\\t\\t\",total_abm,\"\\t\",percent_abm,\"% \\t \",total_outcome_abm_1,\"\\t\\t\\t\",percent_abm_1,\"%\\t\\t\\t\",total_outcome_abm_0,\"\\t\\t\\t\\t\",percent_abm_0,\"%\")\n",
    "            print(\"\\n\")\n",
    "            design=1\n",
    "    else:\n",
    "        if (df_current.nunique()<uniq_cases):\n",
    "            \n",
    "            for uniq in df_current.unique():\n",
    "                total_outcome_1=0\n",
    "                total_outcome_0=0\n",
    "                for j in range(0,len(df)):\n",
    "                    if((df[outcome][j]==1) and (df_current[j]==uniq)):\n",
    "                        total_outcome_1+=1\n",
    "                    elif((df[outcome][j]==0) and (df_current[j]==uniq)):\n",
    "                        total_outcome_0+=1\n",
    "                \n",
    "                total=df_current.value_counts()[uniq]\n",
    "                percent= round((total/total_data*100),2)\n",
    "                \n",
    "                percentage_outcome_1=round(((total_outcome_1/total)*100),2)\n",
    "                percentage_outcome_0=round((100-percentage_outcome_1),2)\n",
    "                \n",
    "                if(design==0):\n",
    "                    print(target)\n",
    "                \n",
    "                print(\"  \",uniq,\"\\t\\t\\t\",total,\"\\t\",percent,\"% \\t\\t\",total_outcome_1,\"\\t\\t\",percentage_outcome_1,\"%\\t\\t\\t\",total_outcome_0,\"\\t\\t\\t\",percentage_outcome_0,\"%\")\n",
    "                print(\"\\n\")\n",
    "                design=1\n",
    "        else:\n",
    "            print(\"Target value is string and have greater unique Values\")\n",
    "                "
   ]
  },
  {
   "cell_type": "code",
   "execution_count": 392,
   "metadata": {},
   "outputs": [
    {
     "name": "stdout",
     "output_type": "stream",
     "text": [
      "Comparing PassengerId  With Survived\n",
      "Total 418\n",
      "\n",
      "\n",
      "Column Name\t\t\tTotal\tPercentage\tTotal_Outcome(1)\tPercentage_Outcome(1)\tTotal_Outcome(0)\tPercentage_Outcome(0) \n",
      "PassengerId\n",
      " LessThan( 1100.5 )\t\t 209 \t 50.0 % \t 79 \t\t\t 37.8 %\t\t\t 130 \t\t\t\t 62.2 %\n",
      " GreaterThan( 1100.5 )\t\t 209 \t 50.0 % \t  73 \t\t\t 34.93 %\t\t\t 136 \t\t\t\t 65.07 %\n",
      "\n",
      "\n"
     ]
    }
   ],
   "source": [
    "# With Passenger Id\n",
    "Detailed_Details(df,'PassengerId','Survived')\n",
    "\n",
    "#Doesnot seem like it really matters. PassengerId looks like in sorted manner"
   ]
  },
  {
   "cell_type": "code",
   "execution_count": 393,
   "metadata": {},
   "outputs": [
    {
     "name": "stdout",
     "output_type": "stream",
     "text": [
      "Comparing Pclass  With Survived\n",
      "Total 418\n",
      "\n",
      "\n",
      "Column Name\t\t\tTotal\tPercentage\tTotal_Outcome(1)\tPercentage_Outcome(1)\tTotal_Outcome(0)\tPercentage_Outcome(0) \n",
      "Pclass\n",
      "   1 \t\t\t\t 107 \t 25.6 % \t\t 50 \t\t\t 46.73 %\t\t 57 \t\t 53.27 %\n",
      "\n",
      "\n",
      "   2 \t\t\t\t 93 \t 22.25 % \t\t 30 \t\t\t 32.26 %\t\t 63 \t\t 67.74 %\n",
      "\n",
      "\n",
      "   3 \t\t\t\t 218 \t 52.15 % \t\t 72 \t\t\t 33.03 %\t\t 146 \t\t 66.97 %\n",
      "\n",
      "\n"
     ]
    }
   ],
   "source": [
    "# With PClass\n",
    "Detailed_Details(df,'Pclass','Survived')\n",
    "\n",
    "#High class 1 have higher chance of survival. Class may matter"
   ]
  },
  {
   "cell_type": "code",
   "execution_count": 394,
   "metadata": {},
   "outputs": [
    {
     "name": "stdout",
     "output_type": "stream",
     "text": [
      "Comparing Name  With Survived\n",
      "Total 418\n",
      "\n",
      "\n",
      "Column Name\t\t\tTotal\tPercentage\tTotal_Outcome(1)\tPercentage_Outcome(1)\tTotal_Outcome(0)\tPercentage_Outcome(0) \n",
      "Target value is string and have greater unique Values\n"
     ]
    }
   ],
   "source": [
    "# With Name\n",
    "Detailed_Details(df,'Name','Survived')\n",
    "\n",
    "#Cannot with our model"
   ]
  },
  {
   "cell_type": "code",
   "execution_count": 395,
   "metadata": {},
   "outputs": [
    {
     "name": "stdout",
     "output_type": "stream",
     "text": [
      "Comparing Sex  With Survived\n",
      "Total 418\n",
      "\n",
      "\n",
      "Column Name\t\t\tTotal\tPercentage\tTotal_Outcome(1)\tPercentage_Outcome(1)\tTotal_Outcome(0)\tPercentage_Outcome(0) \n",
      "Sex\n",
      "   male \t\t\t 266 \t 63.64 % \t\t 0 \t\t 0.0 %\t\t\t 266 \t\t\t 100.0 %\n",
      "\n",
      "\n",
      "   female \t\t\t 152 \t 36.36 % \t\t 152 \t\t 100.0 %\t\t\t 0 \t\t\t 0.0 %\n",
      "\n",
      "\n"
     ]
    }
   ],
   "source": [
    "# With Sex\n",
    "Detailed_Details(df,'Sex','Survived')\n",
    "\n",
    "#Only Female survive"
   ]
  },
  {
   "cell_type": "code",
   "execution_count": 396,
   "metadata": {},
   "outputs": [
    {
     "name": "stdout",
     "output_type": "stream",
     "text": [
      "Comparing Age  With Survived\n",
      "Total 418\n",
      "\n",
      "\n",
      "Column Name\t\t\tTotal\tPercentage\tTotal_Outcome(1)\tPercentage_Outcome(1)\tTotal_Outcome(0)\tPercentage_Outcome(0) \n",
      "Age\n",
      " LessThan( 30.27 )\t\t 200 \t 47.85 % \t 77 \t\t\t 38.5 %\t\t\t 123 \t\t\t\t 61.5 %\n",
      " GreaterThan( 30.27 )\t\t 218 \t 52.15 % \t  75 \t\t\t 34.4 %\t\t\t 143 \t\t\t\t 65.6 %\n",
      "\n",
      "\n"
     ]
    }
   ],
   "source": [
    "# With Age\n",
    "Detailed_Details(df,'Age','Survived')\n",
    "\n",
    "#Almost similar rate of survival. Age may not matter"
   ]
  },
  {
   "cell_type": "code",
   "execution_count": 397,
   "metadata": {},
   "outputs": [
    {
     "name": "stdout",
     "output_type": "stream",
     "text": [
      "Comparing SibSp  With Survived\n",
      "Total 418\n",
      "\n",
      "\n",
      "Column Name\t\t\tTotal\tPercentage\tTotal_Outcome(1)\tPercentage_Outcome(1)\tTotal_Outcome(0)\tPercentage_Outcome(0) \n",
      "SibSp\n",
      "   0 \t\t\t\t 283 \t 67.7 % \t\t 88 \t\t\t 31.1 %\t\t 195 \t\t 68.9 %\n",
      "\n",
      "\n",
      "   1 \t\t\t\t 110 \t 26.32 % \t\t 54 \t\t\t 49.09 %\t\t 56 \t\t 50.91 %\n",
      "\n",
      "\n",
      "   2 \t\t\t\t 14 \t 3.35 % \t\t 6 \t\t\t 42.86 %\t\t 8 \t\t 57.14 %\n",
      "\n",
      "\n",
      "   3 \t\t\t\t 4 \t 0.96 % \t\t 1 \t\t\t 25.0 %\t\t 3 \t\t 75.0 %\n",
      "\n",
      "\n",
      "   4 \t\t\t\t 4 \t 0.96 % \t\t 1 \t\t\t 25.0 %\t\t 3 \t\t 75.0 %\n",
      "\n",
      "\n",
      "   5 \t\t\t\t 1 \t 0.24 % \t\t 1 \t\t\t 100.0 %\t\t 0 \t\t 0.0 %\n",
      "\n",
      "\n",
      "   8 \t\t\t\t 2 \t 0.48 % \t\t 1 \t\t\t 50.0 %\t\t 1 \t\t 50.0 %\n",
      "\n",
      "\n"
     ]
    }
   ],
   "source": [
    "#With SibSip\n",
    "\n",
    "Detailed_Details(df,'SibSp','Survived')\n",
    "\n",
    "#Better check correlation for this"
   ]
  },
  {
   "cell_type": "code",
   "execution_count": 398,
   "metadata": {},
   "outputs": [
    {
     "name": "stdout",
     "output_type": "stream",
     "text": [
      "Comparing Parch  With Survived\n",
      "Total 418\n",
      "\n",
      "\n",
      "Column Name\t\t\tTotal\tPercentage\tTotal_Outcome(1)\tPercentage_Outcome(1)\tTotal_Outcome(0)\tPercentage_Outcome(0) \n",
      "Parch\n",
      "   0 \t\t\t\t 324 \t 77.51 % \t\t 99 \t\t\t 30.56 %\t\t 225 \t\t 69.44 %\n",
      "\n",
      "\n",
      "   1 \t\t\t\t 52 \t 12.44 % \t\t 28 \t\t\t 53.85 %\t\t 24 \t\t 46.15 %\n",
      "\n",
      "\n",
      "   2 \t\t\t\t 33 \t 7.89 % \t\t 20 \t\t\t 60.61 %\t\t 13 \t\t 39.39 %\n",
      "\n",
      "\n",
      "   3 \t\t\t\t 3 \t 0.72 % \t\t 2 \t\t\t 66.67 %\t\t 1 \t\t 33.33 %\n",
      "\n",
      "\n",
      "   4 \t\t\t\t 2 \t 0.48 % \t\t 2 \t\t\t 100.0 %\t\t 0 \t\t 0.0 %\n",
      "\n",
      "\n",
      "   5 \t\t\t\t 1 \t 0.24 % \t\t 0 \t\t\t 0.0 %\t\t 1 \t\t 100.0 %\n",
      "\n",
      "\n",
      "   6 \t\t\t\t 1 \t 0.24 % \t\t 0 \t\t\t 0.0 %\t\t 1 \t\t 100.0 %\n",
      "\n",
      "\n",
      "   9 \t\t\t\t 2 \t 0.48 % \t\t 1 \t\t\t 50.0 %\t\t 1 \t\t 50.0 %\n",
      "\n",
      "\n"
     ]
    }
   ],
   "source": [
    "#With Parch\n",
    "Detailed_Details(df,'Parch','Survived')\n",
    "#better to check correlation"
   ]
  },
  {
   "cell_type": "code",
   "execution_count": 399,
   "metadata": {},
   "outputs": [
    {
     "name": "stdout",
     "output_type": "stream",
     "text": [
      "Comparing Ticket  With Survived\n",
      "Total 418\n",
      "\n",
      "\n",
      "Column Name\t\t\tTotal\tPercentage\tTotal_Outcome(1)\tPercentage_Outcome(1)\tTotal_Outcome(0)\tPercentage_Outcome(0) \n",
      "Target value is string and have greater unique Values\n"
     ]
    }
   ],
   "source": [
    "#With Ticket\n",
    "Detailed_Details(df,'Ticket','Survived')"
   ]
  },
  {
   "cell_type": "code",
   "execution_count": 400,
   "metadata": {},
   "outputs": [
    {
     "name": "stdout",
     "output_type": "stream",
     "text": [
      "Comparing Fare  With Survived\n",
      "Total 418\n",
      "\n",
      "\n",
      "Column Name\t\t\tTotal\tPercentage\tTotal_Outcome(1)\tPercentage_Outcome(1)\tTotal_Outcome(0)\tPercentage_Outcome(0) \n",
      "Fare\n",
      " LessThan( 35.63 )\t\t 321 \t 76.79 % \t 99 \t\t\t 30.84 %\t\t\t 222 \t\t\t\t 69.16 %\n",
      " GreaterThan( 35.63 )\t\t 97 \t 23.21 % \t  53 \t\t\t 54.64 %\t\t\t 44 \t\t\t\t 45.36 %\n",
      "\n",
      "\n"
     ]
    }
   ],
   "source": [
    "#With Fare\n",
    "Detailed_Details(df,'Fare','Survived')\n",
    "#High Fares have better survival rate"
   ]
  },
  {
   "cell_type": "code",
   "execution_count": 401,
   "metadata": {},
   "outputs": [
    {
     "name": "stdout",
     "output_type": "stream",
     "text": [
      "Comparing Embarked  With Survived\n",
      "Total 418\n",
      "\n",
      "\n",
      "Column Name\t\t\tTotal\tPercentage\tTotal_Outcome(1)\tPercentage_Outcome(1)\tTotal_Outcome(0)\tPercentage_Outcome(0) \n",
      "Embarked\n",
      "   Q \t\t\t 46 \t 11.0 % \t\t 24 \t\t 52.17 %\t\t\t 22 \t\t\t 47.83 %\n",
      "\n",
      "\n",
      "   S \t\t\t 270 \t 64.59 % \t\t 88 \t\t 32.59 %\t\t\t 182 \t\t\t 67.41 %\n",
      "\n",
      "\n",
      "   C \t\t\t 102 \t 24.4 % \t\t 40 \t\t 39.22 %\t\t\t 62 \t\t\t 60.78 %\n",
      "\n",
      "\n"
     ]
    }
   ],
   "source": [
    "#With Embarked\n",
    "Detailed_Details(df,'Embarked','Survived')\n",
    "#People from  Q have more survival rate"
   ]
  },
  {
   "cell_type": "markdown",
   "metadata": {},
   "source": [
    "<h1> Now Lets Look at Feature Selection\n",
    " </h1>"
   ]
  },
  {
   "cell_type": "code",
   "execution_count": 402,
   "metadata": {},
   "outputs": [
    {
     "data": {
      "text/plain": [
       "PassengerId   -0.023245\n",
       "Pclass        -0.108615\n",
       "Age           -0.000011\n",
       "SibSp          0.099943\n",
       "Parch          0.159120\n",
       "Fare           0.191382\n",
       "dtype: float64"
      ]
     },
     "execution_count": 402,
     "metadata": {},
     "output_type": "execute_result"
    }
   ],
   "source": [
    "#Looking at correlation between columns with survival\n",
    "\n",
    "df_comp=df.iloc[:,df.columns!='Survived']\n",
    "df_comp.corrwith(df['Survived'])\n"
   ]
  },
  {
   "cell_type": "code",
   "execution_count": 403,
   "metadata": {},
   "outputs": [
    {
     "data": {
      "text/plain": [
       "PassengerId   -0.023245\n",
       "Pclass        -0.108615\n",
       "Age           -0.000011\n",
       "SibSp          0.099943\n",
       "Parch          0.159120\n",
       "Fare           0.191382\n",
       "dtype: float64"
      ]
     },
     "execution_count": 403,
     "metadata": {},
     "output_type": "execute_result"
    }
   ],
   "source": [
    "\n",
    "df_comp=df.iloc[:,df.columns!='Survived']\n",
    "df_comp.corrwith(df['Survived'])\n"
   ]
  },
  {
   "cell_type": "code",
   "execution_count": 404,
   "metadata": {},
   "outputs": [],
   "source": [
    "#dropping PassengerID , Age , SibSp \n",
    "rows=['PassengerId','Age','SibSp']\n",
    "for r in rows:\n",
    "    df.drop(r,axis=1,inplace=True)"
   ]
  },
  {
   "cell_type": "code",
   "execution_count": 405,
   "metadata": {},
   "outputs": [
    {
     "data": {
      "text/plain": [
       "Index(['Pclass', 'Name', 'Sex', 'Parch', 'Ticket', 'Fare', 'Embarked',\n",
       "       'Survived'],\n",
       "      dtype='object')"
      ]
     },
     "execution_count": 405,
     "metadata": {},
     "output_type": "execute_result"
    }
   ],
   "source": [
    "df.columns"
   ]
  },
  {
   "cell_type": "markdown",
   "metadata": {},
   "source": [
    "# Checking realations for<br>\n",
    "## <b>Name  , Ticket And  Sex</b>\n"
   ]
  },
  {
   "cell_type": "markdown",
   "metadata": {},
   "source": [
    "#We cannont find Correlation between Name and Survived\n",
    "\n",
    "#Name Cannot be Categorized \n",
    "\n",
    "#Possibly Survival rate cannot be determined by only names.\n",
    "\n",
    "#So better drop it\n"
   ]
  },
  {
   "cell_type": "code",
   "execution_count": 406,
   "metadata": {},
   "outputs": [],
   "source": [
    "df.drop('Name',axis=1,inplace=True)"
   ]
  },
  {
   "cell_type": "code",
   "execution_count": 407,
   "metadata": {},
   "outputs": [
    {
     "data": {
      "text/plain": [
       "321         2654\n",
       "32     C.A. 2315\n",
       "282       364859\n",
       "0         330911\n",
       "197       347066\n",
       "343     PC 17755\n",
       "96         19877\n",
       "413    A.5. 3236\n",
       "26        113509\n",
       "357         1222\n",
       "Name: Ticket, dtype: object"
      ]
     },
     "execution_count": 407,
     "metadata": {},
     "output_type": "execute_result"
    }
   ],
   "source": [
    "#Tickets\n",
    "\n",
    "df['Ticket'].sample(10)"
   ]
  },
  {
   "cell_type": "markdown",
   "metadata": {},
   "source": [
    "# Tickets some have String values and they all seem to be random.\n",
    "#So lets drop it as ticket.\n"
   ]
  },
  {
   "cell_type": "code",
   "execution_count": 408,
   "metadata": {},
   "outputs": [],
   "source": [
    "df.drop('Ticket',axis=1,inplace=True)\n"
   ]
  },
  {
   "cell_type": "code",
   "execution_count": 409,
   "metadata": {},
   "outputs": [
    {
     "data": {
      "text/plain": [
       "array(['male', 'female'], dtype=object)"
      ]
     },
     "execution_count": 409,
     "metadata": {},
     "output_type": "execute_result"
    }
   ],
   "source": [
    "# For Sex\n",
    "df['Sex'].unique()"
   ]
  },
  {
   "cell_type": "markdown",
   "metadata": {},
   "source": [
    "# Lets map Male and Female to 0s and 1s so as to compare correlation\n"
   ]
  },
  {
   "cell_type": "code",
   "execution_count": 410,
   "metadata": {},
   "outputs": [],
   "source": [
    "df['Sex']=df['Sex'].apply(lambda x:1 if x=='female' else 0)"
   ]
  },
  {
   "cell_type": "markdown",
   "metadata": {},
   "source": [
    "# Lets Check correlation\n"
   ]
  },
  {
   "cell_type": "code",
   "execution_count": 411,
   "metadata": {},
   "outputs": [
    {
     "data": {
      "text/plain": [
       "1.0"
      ]
     },
     "execution_count": 411,
     "metadata": {},
     "output_type": "execute_result"
    }
   ],
   "source": [
    "df['Sex'].value_counts()\n",
    "df['Sex'].corr(df['Survived'])"
   ]
  },
  {
   "cell_type": "markdown",
   "metadata": {},
   "source": [
    "Thats very high Correlation. So lets keep Sex as feature\n"
   ]
  },
  {
   "cell_type": "code",
   "execution_count": 412,
   "metadata": {},
   "outputs": [
    {
     "data": {
      "text/plain": [
       "array(['Pclass', 'Sex', 'Parch', 'Fare', 'Embarked', 'Survived'],\n",
       "      dtype=object)"
      ]
     },
     "execution_count": 412,
     "metadata": {},
     "output_type": "execute_result"
    }
   ],
   "source": [
    "\n",
    "df.columns.values"
   ]
  },
  {
   "cell_type": "markdown",
   "metadata": {},
   "source": [
    "# column names\n"
   ]
  },
  {
   "cell_type": "code",
   "execution_count": 413,
   "metadata": {},
   "outputs": [
    {
     "name": "stdout",
     "output_type": "stream",
     "text": [
      "Pclass  :  [1 2 3]\n",
      "Sex  :  [0 1]\n",
      "Parch  :  [0 1 2 3 4 5 6 9]\n",
      "Fare  :  [372    0.0000\n",
      "266    0.0000\n",
      "21     3.1708\n",
      "133    6.4375\n",
      "116    6.4375\n",
      "        ...  \n",
      "86     7.8792\n",
      "381    7.8792\n",
      "243    7.8875\n",
      "60     7.8958\n",
      "134    7.8958\n",
      "Name: Fare, Length: 105, dtype: float64, 295     7.8958\n",
      "334     7.8958\n",
      "56      7.8958\n",
      "71      7.8958\n",
      "209     7.8958\n",
      "        ...   \n",
      "309    14.1083\n",
      "201    14.4000\n",
      "85     14.4542\n",
      "249    14.4542\n",
      "115    14.4542\n",
      "Name: Fare, Length: 105, dtype: float64, 366    14.4583\n",
      "382    14.5000\n",
      "25     14.5000\n",
      "344    14.5000\n",
      "192    14.5000\n",
      "        ...   \n",
      "379    31.3875\n",
      "174    31.3875\n",
      "154    31.3875\n",
      "338    31.5000\n",
      "31     31.5000\n",
      "Name: Fare, Length: 104, dtype: float64, 319     31.5000\n",
      "112     31.6792\n",
      "22      31.6833\n",
      "194     32.5000\n",
      "247     32.5000\n",
      "         ...   \n",
      "375    262.3750\n",
      "24     262.3750\n",
      "53     263.0000\n",
      "69     263.0000\n",
      "343    512.3292\n",
      "Name: Fare, Length: 104, dtype: float64]\n",
      "Embarked  :  ['C' 'Q' 'S']\n",
      "Survived  :  [0 1]\n"
     ]
    }
   ],
   "source": [
    "col_names=df.columns.values \n",
    "\n",
    "for i in range(0,len(col_names)):\n",
    "    uniq_datas=df[col_names[i]].unique() #unique datas of a column \n",
    "    \n",
    "    if(len( uniq_datas ) < 10 ):\n",
    "        print(col_names[i] ,\" : \", np.sort(uniq_datas))\n",
    "    \n",
    "    else:\n",
    "        arr= df[col_names[i]].sort_values()\n",
    "        chunks = len(df[col_names[i]])/100\n",
    "        print( col_names[i],\" : \" ,np.array_split(arr,chunks)) #splitting in chunks\n",
    "    "
   ]
  },
  {
   "cell_type": "markdown",
   "metadata": {},
   "source": [
    "# Now converting Categorical data Embarked into codes\n"
   ]
  },
  {
   "cell_type": "code",
   "execution_count": 414,
   "metadata": {},
   "outputs": [],
   "source": [
    "\n",
    "embarked_df=pd.get_dummies(df['Embarked'])\n",
    "\n",
    "df=pd.concat([df,embarked_df],axis=1)\n",
    "\n",
    "df.drop('Embarked',axis=1,inplace=True)\n"
   ]
  },
  {
   "cell_type": "markdown",
   "metadata": {},
   "source": [
    "# Now converting Categorical data Parch into codes\n"
   ]
  },
  {
   "cell_type": "code",
   "execution_count": 415,
   "metadata": {},
   "outputs": [],
   "source": [
    "parched_df=pd.get_dummies(df['Parch'])\n",
    "\n",
    "df=pd.concat([df,parched_df],axis=1)\n",
    "\n",
    "df.drop('Parch',axis=1,inplace=True)\n"
   ]
  },
  {
   "cell_type": "code",
   "execution_count": 416,
   "metadata": {},
   "outputs": [
    {
     "data": {
      "text/html": [
       "<div>\n",
       "<style scoped>\n",
       "    .dataframe tbody tr th:only-of-type {\n",
       "        vertical-align: middle;\n",
       "    }\n",
       "\n",
       "    .dataframe tbody tr th {\n",
       "        vertical-align: top;\n",
       "    }\n",
       "\n",
       "    .dataframe thead th {\n",
       "        text-align: right;\n",
       "    }\n",
       "</style>\n",
       "<table border=\"1\" class=\"dataframe\">\n",
       "  <thead>\n",
       "    <tr style=\"text-align: right;\">\n",
       "      <th></th>\n",
       "      <th>Pclass</th>\n",
       "      <th>Sex</th>\n",
       "      <th>Fare</th>\n",
       "      <th>Survived</th>\n",
       "      <th>C</th>\n",
       "      <th>Q</th>\n",
       "      <th>S</th>\n",
       "      <th>0</th>\n",
       "      <th>1</th>\n",
       "      <th>2</th>\n",
       "      <th>3</th>\n",
       "      <th>4</th>\n",
       "      <th>5</th>\n",
       "      <th>6</th>\n",
       "      <th>9</th>\n",
       "    </tr>\n",
       "  </thead>\n",
       "  <tbody>\n",
       "    <tr>\n",
       "      <th>0</th>\n",
       "      <td>3</td>\n",
       "      <td>0</td>\n",
       "      <td>7.8292</td>\n",
       "      <td>0</td>\n",
       "      <td>0</td>\n",
       "      <td>1</td>\n",
       "      <td>0</td>\n",
       "      <td>1</td>\n",
       "      <td>0</td>\n",
       "      <td>0</td>\n",
       "      <td>0</td>\n",
       "      <td>0</td>\n",
       "      <td>0</td>\n",
       "      <td>0</td>\n",
       "      <td>0</td>\n",
       "    </tr>\n",
       "    <tr>\n",
       "      <th>1</th>\n",
       "      <td>3</td>\n",
       "      <td>1</td>\n",
       "      <td>7.0000</td>\n",
       "      <td>1</td>\n",
       "      <td>0</td>\n",
       "      <td>0</td>\n",
       "      <td>1</td>\n",
       "      <td>1</td>\n",
       "      <td>0</td>\n",
       "      <td>0</td>\n",
       "      <td>0</td>\n",
       "      <td>0</td>\n",
       "      <td>0</td>\n",
       "      <td>0</td>\n",
       "      <td>0</td>\n",
       "    </tr>\n",
       "    <tr>\n",
       "      <th>2</th>\n",
       "      <td>2</td>\n",
       "      <td>0</td>\n",
       "      <td>9.6875</td>\n",
       "      <td>0</td>\n",
       "      <td>0</td>\n",
       "      <td>1</td>\n",
       "      <td>0</td>\n",
       "      <td>1</td>\n",
       "      <td>0</td>\n",
       "      <td>0</td>\n",
       "      <td>0</td>\n",
       "      <td>0</td>\n",
       "      <td>0</td>\n",
       "      <td>0</td>\n",
       "      <td>0</td>\n",
       "    </tr>\n",
       "    <tr>\n",
       "      <th>3</th>\n",
       "      <td>3</td>\n",
       "      <td>0</td>\n",
       "      <td>8.6625</td>\n",
       "      <td>0</td>\n",
       "      <td>0</td>\n",
       "      <td>0</td>\n",
       "      <td>1</td>\n",
       "      <td>1</td>\n",
       "      <td>0</td>\n",
       "      <td>0</td>\n",
       "      <td>0</td>\n",
       "      <td>0</td>\n",
       "      <td>0</td>\n",
       "      <td>0</td>\n",
       "      <td>0</td>\n",
       "    </tr>\n",
       "    <tr>\n",
       "      <th>4</th>\n",
       "      <td>3</td>\n",
       "      <td>1</td>\n",
       "      <td>12.2875</td>\n",
       "      <td>1</td>\n",
       "      <td>0</td>\n",
       "      <td>0</td>\n",
       "      <td>1</td>\n",
       "      <td>0</td>\n",
       "      <td>1</td>\n",
       "      <td>0</td>\n",
       "      <td>0</td>\n",
       "      <td>0</td>\n",
       "      <td>0</td>\n",
       "      <td>0</td>\n",
       "      <td>0</td>\n",
       "    </tr>\n",
       "  </tbody>\n",
       "</table>\n",
       "</div>"
      ],
      "text/plain": [
       "   Pclass  Sex     Fare  Survived  C  Q  S  0  1  2  3  4  5  6  9\n",
       "0       3    0   7.8292         0  0  1  0  1  0  0  0  0  0  0  0\n",
       "1       3    1   7.0000         1  0  0  1  1  0  0  0  0  0  0  0\n",
       "2       2    0   9.6875         0  0  1  0  1  0  0  0  0  0  0  0\n",
       "3       3    0   8.6625         0  0  0  1  1  0  0  0  0  0  0  0\n",
       "4       3    1  12.2875         1  0  0  1  0  1  0  0  0  0  0  0"
      ]
     },
     "execution_count": 416,
     "metadata": {},
     "output_type": "execute_result"
    }
   ],
   "source": [
    "df.head()"
   ]
  },
  {
   "cell_type": "markdown",
   "metadata": {},
   "source": [
    "# Features Cannot be Int so Changing The Feature Names"
   ]
  },
  {
   "cell_type": "code",
   "execution_count": 417,
   "metadata": {},
   "outputs": [],
   "source": [
    "for i in range(0,10):\n",
    "    df.rename(columns={i:f\"Parch_{i}\"},inplace=True)"
   ]
  },
  {
   "cell_type": "code",
   "execution_count": 418,
   "metadata": {},
   "outputs": [
    {
     "data": {
      "text/html": [
       "<div>\n",
       "<style scoped>\n",
       "    .dataframe tbody tr th:only-of-type {\n",
       "        vertical-align: middle;\n",
       "    }\n",
       "\n",
       "    .dataframe tbody tr th {\n",
       "        vertical-align: top;\n",
       "    }\n",
       "\n",
       "    .dataframe thead th {\n",
       "        text-align: right;\n",
       "    }\n",
       "</style>\n",
       "<table border=\"1\" class=\"dataframe\">\n",
       "  <thead>\n",
       "    <tr style=\"text-align: right;\">\n",
       "      <th></th>\n",
       "      <th>Pclass</th>\n",
       "      <th>Sex</th>\n",
       "      <th>Fare</th>\n",
       "      <th>Survived</th>\n",
       "      <th>C</th>\n",
       "      <th>Q</th>\n",
       "      <th>S</th>\n",
       "      <th>Parch_0</th>\n",
       "      <th>Parch_1</th>\n",
       "      <th>Parch_2</th>\n",
       "      <th>Parch_3</th>\n",
       "      <th>Parch_4</th>\n",
       "      <th>Parch_5</th>\n",
       "      <th>Parch_6</th>\n",
       "      <th>Parch_9</th>\n",
       "    </tr>\n",
       "  </thead>\n",
       "  <tbody>\n",
       "    <tr>\n",
       "      <th>0</th>\n",
       "      <td>3</td>\n",
       "      <td>0</td>\n",
       "      <td>7.8292</td>\n",
       "      <td>0</td>\n",
       "      <td>0</td>\n",
       "      <td>1</td>\n",
       "      <td>0</td>\n",
       "      <td>1</td>\n",
       "      <td>0</td>\n",
       "      <td>0</td>\n",
       "      <td>0</td>\n",
       "      <td>0</td>\n",
       "      <td>0</td>\n",
       "      <td>0</td>\n",
       "      <td>0</td>\n",
       "    </tr>\n",
       "    <tr>\n",
       "      <th>1</th>\n",
       "      <td>3</td>\n",
       "      <td>1</td>\n",
       "      <td>7.0000</td>\n",
       "      <td>1</td>\n",
       "      <td>0</td>\n",
       "      <td>0</td>\n",
       "      <td>1</td>\n",
       "      <td>1</td>\n",
       "      <td>0</td>\n",
       "      <td>0</td>\n",
       "      <td>0</td>\n",
       "      <td>0</td>\n",
       "      <td>0</td>\n",
       "      <td>0</td>\n",
       "      <td>0</td>\n",
       "    </tr>\n",
       "    <tr>\n",
       "      <th>2</th>\n",
       "      <td>2</td>\n",
       "      <td>0</td>\n",
       "      <td>9.6875</td>\n",
       "      <td>0</td>\n",
       "      <td>0</td>\n",
       "      <td>1</td>\n",
       "      <td>0</td>\n",
       "      <td>1</td>\n",
       "      <td>0</td>\n",
       "      <td>0</td>\n",
       "      <td>0</td>\n",
       "      <td>0</td>\n",
       "      <td>0</td>\n",
       "      <td>0</td>\n",
       "      <td>0</td>\n",
       "    </tr>\n",
       "    <tr>\n",
       "      <th>3</th>\n",
       "      <td>3</td>\n",
       "      <td>0</td>\n",
       "      <td>8.6625</td>\n",
       "      <td>0</td>\n",
       "      <td>0</td>\n",
       "      <td>0</td>\n",
       "      <td>1</td>\n",
       "      <td>1</td>\n",
       "      <td>0</td>\n",
       "      <td>0</td>\n",
       "      <td>0</td>\n",
       "      <td>0</td>\n",
       "      <td>0</td>\n",
       "      <td>0</td>\n",
       "      <td>0</td>\n",
       "    </tr>\n",
       "    <tr>\n",
       "      <th>4</th>\n",
       "      <td>3</td>\n",
       "      <td>1</td>\n",
       "      <td>12.2875</td>\n",
       "      <td>1</td>\n",
       "      <td>0</td>\n",
       "      <td>0</td>\n",
       "      <td>1</td>\n",
       "      <td>0</td>\n",
       "      <td>1</td>\n",
       "      <td>0</td>\n",
       "      <td>0</td>\n",
       "      <td>0</td>\n",
       "      <td>0</td>\n",
       "      <td>0</td>\n",
       "      <td>0</td>\n",
       "    </tr>\n",
       "  </tbody>\n",
       "</table>\n",
       "</div>"
      ],
      "text/plain": [
       "   Pclass  Sex     Fare  Survived  C  Q  S  Parch_0  Parch_1  Parch_2  \\\n",
       "0       3    0   7.8292         0  0  1  0        1        0        0   \n",
       "1       3    1   7.0000         1  0  0  1        1        0        0   \n",
       "2       2    0   9.6875         0  0  1  0        1        0        0   \n",
       "3       3    0   8.6625         0  0  0  1        1        0        0   \n",
       "4       3    1  12.2875         1  0  0  1        0        1        0   \n",
       "\n",
       "   Parch_3  Parch_4  Parch_5  Parch_6  Parch_9  \n",
       "0        0        0        0        0        0  \n",
       "1        0        0        0        0        0  \n",
       "2        0        0        0        0        0  \n",
       "3        0        0        0        0        0  \n",
       "4        0        0        0        0        0  "
      ]
     },
     "execution_count": 418,
     "metadata": {},
     "output_type": "execute_result"
    }
   ],
   "source": [
    "df.head()"
   ]
  },
  {
   "cell_type": "code",
   "execution_count": 419,
   "metadata": {},
   "outputs": [
    {
     "data": {
      "text/html": [
       "<div>\n",
       "<style scoped>\n",
       "    .dataframe tbody tr th:only-of-type {\n",
       "        vertical-align: middle;\n",
       "    }\n",
       "\n",
       "    .dataframe tbody tr th {\n",
       "        vertical-align: top;\n",
       "    }\n",
       "\n",
       "    .dataframe thead th {\n",
       "        text-align: right;\n",
       "    }\n",
       "</style>\n",
       "<table border=\"1\" class=\"dataframe\">\n",
       "  <thead>\n",
       "    <tr style=\"text-align: right;\">\n",
       "      <th></th>\n",
       "      <th>Pclass</th>\n",
       "      <th>Sex</th>\n",
       "      <th>Fare</th>\n",
       "      <th>Survived</th>\n",
       "      <th>C</th>\n",
       "      <th>Q</th>\n",
       "      <th>S</th>\n",
       "      <th>Parch_0</th>\n",
       "      <th>Parch_1</th>\n",
       "      <th>Parch_2</th>\n",
       "      <th>Parch_3</th>\n",
       "      <th>Parch_4</th>\n",
       "      <th>Parch_5</th>\n",
       "      <th>Parch_6</th>\n",
       "      <th>Parch_9</th>\n",
       "    </tr>\n",
       "  </thead>\n",
       "  <tbody>\n",
       "    <tr>\n",
       "      <th>Pclass</th>\n",
       "      <td>1.000000</td>\n",
       "      <td>-0.108615</td>\n",
       "      <td>-0.576619</td>\n",
       "      <td>-0.108615</td>\n",
       "      <td>-0.318543</td>\n",
       "      <td>0.252608</td>\n",
       "      <td>0.120783</td>\n",
       "      <td>0.054258</td>\n",
       "      <td>-0.093179</td>\n",
       "      <td>0.034153</td>\n",
       "      <td>-0.094264</td>\n",
       "      <td>-0.021898</td>\n",
       "      <td>0.042775</td>\n",
       "      <td>0.042775</td>\n",
       "      <td>0.060565</td>\n",
       "    </tr>\n",
       "    <tr>\n",
       "      <th>Sex</th>\n",
       "      <td>-0.108615</td>\n",
       "      <td>1.000000</td>\n",
       "      <td>0.191382</td>\n",
       "      <td>1.000000</td>\n",
       "      <td>0.033684</td>\n",
       "      <td>0.115574</td>\n",
       "      <td>-0.105883</td>\n",
       "      <td>-0.224158</td>\n",
       "      <td>0.136987</td>\n",
       "      <td>0.147542</td>\n",
       "      <td>0.053559</td>\n",
       "      <td>0.091725</td>\n",
       "      <td>-0.037018</td>\n",
       "      <td>-0.037018</td>\n",
       "      <td>0.019655</td>\n",
       "    </tr>\n",
       "    <tr>\n",
       "      <th>Fare</th>\n",
       "      <td>-0.576619</td>\n",
       "      <td>0.191382</td>\n",
       "      <td>1.000000</td>\n",
       "      <td>0.191382</td>\n",
       "      <td>0.312040</td>\n",
       "      <td>-0.155539</td>\n",
       "      <td>-0.178464</td>\n",
       "      <td>-0.256771</td>\n",
       "      <td>0.148275</td>\n",
       "      <td>0.096940</td>\n",
       "      <td>0.232155</td>\n",
       "      <td>0.135019</td>\n",
       "      <td>-0.003723</td>\n",
       "      <td>0.009898</td>\n",
       "      <td>0.042173</td>\n",
       "    </tr>\n",
       "    <tr>\n",
       "      <th>Survived</th>\n",
       "      <td>-0.108615</td>\n",
       "      <td>1.000000</td>\n",
       "      <td>0.191382</td>\n",
       "      <td>1.000000</td>\n",
       "      <td>0.033684</td>\n",
       "      <td>0.115574</td>\n",
       "      <td>-0.105883</td>\n",
       "      <td>-0.224158</td>\n",
       "      <td>0.136987</td>\n",
       "      <td>0.147542</td>\n",
       "      <td>0.053559</td>\n",
       "      <td>0.091725</td>\n",
       "      <td>-0.037018</td>\n",
       "      <td>-0.037018</td>\n",
       "      <td>0.019655</td>\n",
       "    </tr>\n",
       "    <tr>\n",
       "      <th>C</th>\n",
       "      <td>-0.318543</td>\n",
       "      <td>0.033684</td>\n",
       "      <td>0.312040</td>\n",
       "      <td>0.033684</td>\n",
       "      <td>1.000000</td>\n",
       "      <td>-0.199786</td>\n",
       "      <td>-0.767375</td>\n",
       "      <td>-0.080877</td>\n",
       "      <td>0.140263</td>\n",
       "      <td>-0.042399</td>\n",
       "      <td>0.083666</td>\n",
       "      <td>-0.039394</td>\n",
       "      <td>-0.027822</td>\n",
       "      <td>-0.027822</td>\n",
       "      <td>-0.039394</td>\n",
       "    </tr>\n",
       "    <tr>\n",
       "      <th>Q</th>\n",
       "      <td>0.252608</td>\n",
       "      <td>0.115574</td>\n",
       "      <td>-0.155539</td>\n",
       "      <td>0.115574</td>\n",
       "      <td>-0.199786</td>\n",
       "      <td>1.000000</td>\n",
       "      <td>-0.474962</td>\n",
       "      <td>0.171098</td>\n",
       "      <td>-0.109384</td>\n",
       "      <td>-0.102952</td>\n",
       "      <td>-0.029898</td>\n",
       "      <td>-0.024382</td>\n",
       "      <td>-0.017220</td>\n",
       "      <td>-0.017220</td>\n",
       "      <td>-0.024382</td>\n",
       "    </tr>\n",
       "    <tr>\n",
       "      <th>S</th>\n",
       "      <td>0.120783</td>\n",
       "      <td>-0.105883</td>\n",
       "      <td>-0.178464</td>\n",
       "      <td>-0.105883</td>\n",
       "      <td>-0.767375</td>\n",
       "      <td>-0.474962</td>\n",
       "      <td>1.000000</td>\n",
       "      <td>-0.039328</td>\n",
       "      <td>-0.054392</td>\n",
       "      <td>0.105450</td>\n",
       "      <td>-0.055576</td>\n",
       "      <td>0.051335</td>\n",
       "      <td>0.036256</td>\n",
       "      <td>0.036256</td>\n",
       "      <td>0.051335</td>\n",
       "    </tr>\n",
       "    <tr>\n",
       "      <th>Parch_0</th>\n",
       "      <td>0.054258</td>\n",
       "      <td>-0.224158</td>\n",
       "      <td>-0.256771</td>\n",
       "      <td>-0.224158</td>\n",
       "      <td>-0.080877</td>\n",
       "      <td>0.171098</td>\n",
       "      <td>-0.039328</td>\n",
       "      <td>1.000000</td>\n",
       "      <td>-0.699793</td>\n",
       "      <td>-0.543545</td>\n",
       "      <td>-0.157850</td>\n",
       "      <td>-0.128729</td>\n",
       "      <td>-0.090916</td>\n",
       "      <td>-0.090916</td>\n",
       "      <td>-0.128729</td>\n",
       "    </tr>\n",
       "    <tr>\n",
       "      <th>Parch_1</th>\n",
       "      <td>-0.093179</td>\n",
       "      <td>0.136987</td>\n",
       "      <td>0.148275</td>\n",
       "      <td>0.136987</td>\n",
       "      <td>0.140263</td>\n",
       "      <td>-0.109384</td>\n",
       "      <td>-0.054392</td>\n",
       "      <td>-0.699793</td>\n",
       "      <td>1.000000</td>\n",
       "      <td>-0.110354</td>\n",
       "      <td>-0.032048</td>\n",
       "      <td>-0.026135</td>\n",
       "      <td>-0.018458</td>\n",
       "      <td>-0.018458</td>\n",
       "      <td>-0.026135</td>\n",
       "    </tr>\n",
       "    <tr>\n",
       "      <th>Parch_2</th>\n",
       "      <td>0.034153</td>\n",
       "      <td>0.147542</td>\n",
       "      <td>0.096940</td>\n",
       "      <td>0.147542</td>\n",
       "      <td>-0.042399</td>\n",
       "      <td>-0.102952</td>\n",
       "      <td>0.105450</td>\n",
       "      <td>-0.543545</td>\n",
       "      <td>-0.110354</td>\n",
       "      <td>1.000000</td>\n",
       "      <td>-0.024892</td>\n",
       "      <td>-0.020300</td>\n",
       "      <td>-0.014337</td>\n",
       "      <td>-0.014337</td>\n",
       "      <td>-0.020300</td>\n",
       "    </tr>\n",
       "    <tr>\n",
       "      <th>Parch_3</th>\n",
       "      <td>-0.094264</td>\n",
       "      <td>0.053559</td>\n",
       "      <td>0.232155</td>\n",
       "      <td>0.053559</td>\n",
       "      <td>0.083666</td>\n",
       "      <td>-0.029898</td>\n",
       "      <td>-0.055576</td>\n",
       "      <td>-0.157850</td>\n",
       "      <td>-0.032048</td>\n",
       "      <td>-0.024892</td>\n",
       "      <td>1.000000</td>\n",
       "      <td>-0.005895</td>\n",
       "      <td>-0.004164</td>\n",
       "      <td>-0.004164</td>\n",
       "      <td>-0.005895</td>\n",
       "    </tr>\n",
       "    <tr>\n",
       "      <th>Parch_4</th>\n",
       "      <td>-0.021898</td>\n",
       "      <td>0.091725</td>\n",
       "      <td>0.135019</td>\n",
       "      <td>0.091725</td>\n",
       "      <td>-0.039394</td>\n",
       "      <td>-0.024382</td>\n",
       "      <td>0.051335</td>\n",
       "      <td>-0.128729</td>\n",
       "      <td>-0.026135</td>\n",
       "      <td>-0.020300</td>\n",
       "      <td>-0.005895</td>\n",
       "      <td>1.000000</td>\n",
       "      <td>-0.003395</td>\n",
       "      <td>-0.003395</td>\n",
       "      <td>-0.004808</td>\n",
       "    </tr>\n",
       "    <tr>\n",
       "      <th>Parch_5</th>\n",
       "      <td>0.042775</td>\n",
       "      <td>-0.037018</td>\n",
       "      <td>-0.003723</td>\n",
       "      <td>-0.037018</td>\n",
       "      <td>-0.027822</td>\n",
       "      <td>-0.017220</td>\n",
       "      <td>0.036256</td>\n",
       "      <td>-0.090916</td>\n",
       "      <td>-0.018458</td>\n",
       "      <td>-0.014337</td>\n",
       "      <td>-0.004164</td>\n",
       "      <td>-0.003395</td>\n",
       "      <td>1.000000</td>\n",
       "      <td>-0.002398</td>\n",
       "      <td>-0.003395</td>\n",
       "    </tr>\n",
       "    <tr>\n",
       "      <th>Parch_6</th>\n",
       "      <td>0.042775</td>\n",
       "      <td>-0.037018</td>\n",
       "      <td>0.009898</td>\n",
       "      <td>-0.037018</td>\n",
       "      <td>-0.027822</td>\n",
       "      <td>-0.017220</td>\n",
       "      <td>0.036256</td>\n",
       "      <td>-0.090916</td>\n",
       "      <td>-0.018458</td>\n",
       "      <td>-0.014337</td>\n",
       "      <td>-0.004164</td>\n",
       "      <td>-0.003395</td>\n",
       "      <td>-0.002398</td>\n",
       "      <td>1.000000</td>\n",
       "      <td>-0.003395</td>\n",
       "    </tr>\n",
       "    <tr>\n",
       "      <th>Parch_9</th>\n",
       "      <td>0.060565</td>\n",
       "      <td>0.019655</td>\n",
       "      <td>0.042173</td>\n",
       "      <td>0.019655</td>\n",
       "      <td>-0.039394</td>\n",
       "      <td>-0.024382</td>\n",
       "      <td>0.051335</td>\n",
       "      <td>-0.128729</td>\n",
       "      <td>-0.026135</td>\n",
       "      <td>-0.020300</td>\n",
       "      <td>-0.005895</td>\n",
       "      <td>-0.004808</td>\n",
       "      <td>-0.003395</td>\n",
       "      <td>-0.003395</td>\n",
       "      <td>1.000000</td>\n",
       "    </tr>\n",
       "  </tbody>\n",
       "</table>\n",
       "</div>"
      ],
      "text/plain": [
       "            Pclass       Sex      Fare  Survived         C         Q  \\\n",
       "Pclass    1.000000 -0.108615 -0.576619 -0.108615 -0.318543  0.252608   \n",
       "Sex      -0.108615  1.000000  0.191382  1.000000  0.033684  0.115574   \n",
       "Fare     -0.576619  0.191382  1.000000  0.191382  0.312040 -0.155539   \n",
       "Survived -0.108615  1.000000  0.191382  1.000000  0.033684  0.115574   \n",
       "C        -0.318543  0.033684  0.312040  0.033684  1.000000 -0.199786   \n",
       "Q         0.252608  0.115574 -0.155539  0.115574 -0.199786  1.000000   \n",
       "S         0.120783 -0.105883 -0.178464 -0.105883 -0.767375 -0.474962   \n",
       "Parch_0   0.054258 -0.224158 -0.256771 -0.224158 -0.080877  0.171098   \n",
       "Parch_1  -0.093179  0.136987  0.148275  0.136987  0.140263 -0.109384   \n",
       "Parch_2   0.034153  0.147542  0.096940  0.147542 -0.042399 -0.102952   \n",
       "Parch_3  -0.094264  0.053559  0.232155  0.053559  0.083666 -0.029898   \n",
       "Parch_4  -0.021898  0.091725  0.135019  0.091725 -0.039394 -0.024382   \n",
       "Parch_5   0.042775 -0.037018 -0.003723 -0.037018 -0.027822 -0.017220   \n",
       "Parch_6   0.042775 -0.037018  0.009898 -0.037018 -0.027822 -0.017220   \n",
       "Parch_9   0.060565  0.019655  0.042173  0.019655 -0.039394 -0.024382   \n",
       "\n",
       "                 S   Parch_0   Parch_1   Parch_2   Parch_3   Parch_4  \\\n",
       "Pclass    0.120783  0.054258 -0.093179  0.034153 -0.094264 -0.021898   \n",
       "Sex      -0.105883 -0.224158  0.136987  0.147542  0.053559  0.091725   \n",
       "Fare     -0.178464 -0.256771  0.148275  0.096940  0.232155  0.135019   \n",
       "Survived -0.105883 -0.224158  0.136987  0.147542  0.053559  0.091725   \n",
       "C        -0.767375 -0.080877  0.140263 -0.042399  0.083666 -0.039394   \n",
       "Q        -0.474962  0.171098 -0.109384 -0.102952 -0.029898 -0.024382   \n",
       "S         1.000000 -0.039328 -0.054392  0.105450 -0.055576  0.051335   \n",
       "Parch_0  -0.039328  1.000000 -0.699793 -0.543545 -0.157850 -0.128729   \n",
       "Parch_1  -0.054392 -0.699793  1.000000 -0.110354 -0.032048 -0.026135   \n",
       "Parch_2   0.105450 -0.543545 -0.110354  1.000000 -0.024892 -0.020300   \n",
       "Parch_3  -0.055576 -0.157850 -0.032048 -0.024892  1.000000 -0.005895   \n",
       "Parch_4   0.051335 -0.128729 -0.026135 -0.020300 -0.005895  1.000000   \n",
       "Parch_5   0.036256 -0.090916 -0.018458 -0.014337 -0.004164 -0.003395   \n",
       "Parch_6   0.036256 -0.090916 -0.018458 -0.014337 -0.004164 -0.003395   \n",
       "Parch_9   0.051335 -0.128729 -0.026135 -0.020300 -0.005895 -0.004808   \n",
       "\n",
       "           Parch_5   Parch_6   Parch_9  \n",
       "Pclass    0.042775  0.042775  0.060565  \n",
       "Sex      -0.037018 -0.037018  0.019655  \n",
       "Fare     -0.003723  0.009898  0.042173  \n",
       "Survived -0.037018 -0.037018  0.019655  \n",
       "C        -0.027822 -0.027822 -0.039394  \n",
       "Q        -0.017220 -0.017220 -0.024382  \n",
       "S         0.036256  0.036256  0.051335  \n",
       "Parch_0  -0.090916 -0.090916 -0.128729  \n",
       "Parch_1  -0.018458 -0.018458 -0.026135  \n",
       "Parch_2  -0.014337 -0.014337 -0.020300  \n",
       "Parch_3  -0.004164 -0.004164 -0.005895  \n",
       "Parch_4  -0.003395 -0.003395 -0.004808  \n",
       "Parch_5   1.000000 -0.002398 -0.003395  \n",
       "Parch_6  -0.002398  1.000000 -0.003395  \n",
       "Parch_9  -0.003395 -0.003395  1.000000  "
      ]
     },
     "execution_count": 419,
     "metadata": {},
     "output_type": "execute_result"
    }
   ],
   "source": [
    "#Checking correlations\n",
    "df.corr()"
   ]
  },
  {
   "cell_type": "markdown",
   "metadata": {},
   "source": [
    "# Here Lets look between Pclass and Fare\n"
   ]
  },
  {
   "cell_type": "code",
   "execution_count": 420,
   "metadata": {},
   "outputs": [
    {
     "data": {
      "text/plain": [
       "-0.5766190772528161"
      ]
     },
     "execution_count": 420,
     "metadata": {},
     "output_type": "execute_result"
    }
   ],
   "source": [
    "\n",
    "df['Pclass'].corr(df['Fare'])"
   ]
  },
  {
   "cell_type": "markdown",
   "metadata": {},
   "source": [
    "# A close correlation. Maybe we can discard a feature.\n",
    "# checking between Survived\n"
   ]
  },
  {
   "cell_type": "code",
   "execution_count": 421,
   "metadata": {},
   "outputs": [
    {
     "name": "stdout",
     "output_type": "stream",
     "text": [
      "With Pclass\n",
      "-0.10861452091523417\n",
      "With Fare\n",
      "0.19138247897510127\n"
     ]
    }
   ],
   "source": [
    "\n",
    "print(\"With Pclass\")\n",
    "print(df['Pclass'].corr(df['Survived']))\n",
    "\n",
    "print(\"With Fare\")\n",
    "print(df['Fare'].corr(df['Survived']))"
   ]
  },
  {
   "cell_type": "markdown",
   "metadata": {},
   "source": [
    "# Closer relation with Fare so lets drop PClass\n"
   ]
  },
  {
   "cell_type": "code",
   "execution_count": 422,
   "metadata": {},
   "outputs": [],
   "source": [
    "df.drop('Pclass',axis=1,inplace=True)"
   ]
  },
  {
   "cell_type": "code",
   "execution_count": 423,
   "metadata": {},
   "outputs": [
    {
     "data": {
      "text/html": [
       "<div>\n",
       "<style scoped>\n",
       "    .dataframe tbody tr th:only-of-type {\n",
       "        vertical-align: middle;\n",
       "    }\n",
       "\n",
       "    .dataframe tbody tr th {\n",
       "        vertical-align: top;\n",
       "    }\n",
       "\n",
       "    .dataframe thead th {\n",
       "        text-align: right;\n",
       "    }\n",
       "</style>\n",
       "<table border=\"1\" class=\"dataframe\">\n",
       "  <thead>\n",
       "    <tr style=\"text-align: right;\">\n",
       "      <th></th>\n",
       "      <th>Sex</th>\n",
       "      <th>Fare</th>\n",
       "      <th>Survived</th>\n",
       "      <th>C</th>\n",
       "      <th>Q</th>\n",
       "      <th>S</th>\n",
       "      <th>Parch_0</th>\n",
       "      <th>Parch_1</th>\n",
       "      <th>Parch_2</th>\n",
       "      <th>Parch_3</th>\n",
       "      <th>Parch_4</th>\n",
       "      <th>Parch_5</th>\n",
       "      <th>Parch_6</th>\n",
       "      <th>Parch_9</th>\n",
       "    </tr>\n",
       "  </thead>\n",
       "  <tbody>\n",
       "    <tr>\n",
       "      <th>0</th>\n",
       "      <td>0</td>\n",
       "      <td>7.8292</td>\n",
       "      <td>0</td>\n",
       "      <td>0</td>\n",
       "      <td>1</td>\n",
       "      <td>0</td>\n",
       "      <td>1</td>\n",
       "      <td>0</td>\n",
       "      <td>0</td>\n",
       "      <td>0</td>\n",
       "      <td>0</td>\n",
       "      <td>0</td>\n",
       "      <td>0</td>\n",
       "      <td>0</td>\n",
       "    </tr>\n",
       "    <tr>\n",
       "      <th>1</th>\n",
       "      <td>1</td>\n",
       "      <td>7.0000</td>\n",
       "      <td>1</td>\n",
       "      <td>0</td>\n",
       "      <td>0</td>\n",
       "      <td>1</td>\n",
       "      <td>1</td>\n",
       "      <td>0</td>\n",
       "      <td>0</td>\n",
       "      <td>0</td>\n",
       "      <td>0</td>\n",
       "      <td>0</td>\n",
       "      <td>0</td>\n",
       "      <td>0</td>\n",
       "    </tr>\n",
       "    <tr>\n",
       "      <th>2</th>\n",
       "      <td>0</td>\n",
       "      <td>9.6875</td>\n",
       "      <td>0</td>\n",
       "      <td>0</td>\n",
       "      <td>1</td>\n",
       "      <td>0</td>\n",
       "      <td>1</td>\n",
       "      <td>0</td>\n",
       "      <td>0</td>\n",
       "      <td>0</td>\n",
       "      <td>0</td>\n",
       "      <td>0</td>\n",
       "      <td>0</td>\n",
       "      <td>0</td>\n",
       "    </tr>\n",
       "    <tr>\n",
       "      <th>3</th>\n",
       "      <td>0</td>\n",
       "      <td>8.6625</td>\n",
       "      <td>0</td>\n",
       "      <td>0</td>\n",
       "      <td>0</td>\n",
       "      <td>1</td>\n",
       "      <td>1</td>\n",
       "      <td>0</td>\n",
       "      <td>0</td>\n",
       "      <td>0</td>\n",
       "      <td>0</td>\n",
       "      <td>0</td>\n",
       "      <td>0</td>\n",
       "      <td>0</td>\n",
       "    </tr>\n",
       "    <tr>\n",
       "      <th>4</th>\n",
       "      <td>1</td>\n",
       "      <td>12.2875</td>\n",
       "      <td>1</td>\n",
       "      <td>0</td>\n",
       "      <td>0</td>\n",
       "      <td>1</td>\n",
       "      <td>0</td>\n",
       "      <td>1</td>\n",
       "      <td>0</td>\n",
       "      <td>0</td>\n",
       "      <td>0</td>\n",
       "      <td>0</td>\n",
       "      <td>0</td>\n",
       "      <td>0</td>\n",
       "    </tr>\n",
       "  </tbody>\n",
       "</table>\n",
       "</div>"
      ],
      "text/plain": [
       "   Sex     Fare  Survived  C  Q  S  Parch_0  Parch_1  Parch_2  Parch_3  \\\n",
       "0    0   7.8292         0  0  1  0        1        0        0        0   \n",
       "1    1   7.0000         1  0  0  1        1        0        0        0   \n",
       "2    0   9.6875         0  0  1  0        1        0        0        0   \n",
       "3    0   8.6625         0  0  0  1        1        0        0        0   \n",
       "4    1  12.2875         1  0  0  1        0        1        0        0   \n",
       "\n",
       "   Parch_4  Parch_5  Parch_6  Parch_9  \n",
       "0        0        0        0        0  \n",
       "1        0        0        0        0  \n",
       "2        0        0        0        0  \n",
       "3        0        0        0        0  \n",
       "4        0        0        0        0  "
      ]
     },
     "execution_count": 423,
     "metadata": {},
     "output_type": "execute_result"
    }
   ],
   "source": [
    "df.head()"
   ]
  },
  {
   "cell_type": "markdown",
   "metadata": {},
   "source": [
    "<h1> Now Build Model </h1>"
   ]
  },
  {
   "cell_type": "code",
   "execution_count": 424,
   "metadata": {},
   "outputs": [],
   "source": [
    "from sklearn.model_selection import train_test_split\n",
    "from sklearn.svm import SVC\n",
    "from sklearn.neighbors import KNeighborsClassifier\n",
    "from sklearn.tree import DecisionTreeClassifier\n",
    "from sklearn.naive_bayes import GaussianNB\n",
    "from sklearn.metrics import classification_report,confusion_matrix,accuracy_score\n",
    "from sklearn.model_selection import GridSearchCV"
   ]
  },
  {
   "cell_type": "code",
   "execution_count": 425,
   "metadata": {},
   "outputs": [],
   "source": [
    "#Now Finally Implementing Machine Learning\n",
    "svc=SVC()\n",
    "knn=KNeighborsClassifier()\n",
    "dtc=DecisionTreeClassifier()\n",
    "nb=GaussianNB()"
   ]
  },
  {
   "cell_type": "code",
   "execution_count": 426,
   "metadata": {},
   "outputs": [],
   "source": [
    "models={'svc':svc,'knn':knn,'dtc':dtc,'nb':nb}"
   ]
  },
  {
   "cell_type": "code",
   "execution_count": 427,
   "metadata": {},
   "outputs": [],
   "source": [
    "x,y=df.drop('Survived',axis=1),df['Survived']"
   ]
  },
  {
   "cell_type": "code",
   "execution_count": 428,
   "metadata": {},
   "outputs": [],
   "source": [
    "train_x,test_x,train_y,test_y=train_test_split(x,y,test_size=0.2,random_state=42)"
   ]
  },
  {
   "cell_type": "code",
   "execution_count": 429,
   "metadata": {},
   "outputs": [
    {
     "name": "stdout",
     "output_type": "stream",
     "text": [
      "svc\n",
      "[[55 27]\n",
      " [ 1  1]]\n",
      "knn\n",
      "[[54  5]\n",
      " [ 2 23]]\n",
      "dtc\n",
      "[[56  0]\n",
      " [ 0 28]]\n",
      "nb\n",
      "[[56  0]\n",
      " [ 0 28]]\n"
     ]
    }
   ],
   "source": [
    "model_accuracy={}\n",
    "\n",
    "for model in models.keys():\n",
    "    train_x,test_x,train_y,test_y=train_test_split(x,y,test_size=0.2,random_state=500)\n",
    "    mod = models[model].fit(train_x,train_y)\n",
    "    predict=mod.predict(test_x)\n",
    "    #print(f\"{model}\",classification_report(predict,test_y))\n",
    "    print(f\"{model}\")\n",
    "    print(confusion_matrix(predict,test_y))\n",
    "    \n",
    "    if model not in model_accuracy.keys():\n",
    "        model_accuracy.update({model:accuracy_score(test_y,predict)})"
   ]
  },
  {
   "cell_type": "code",
   "execution_count": 430,
   "metadata": {},
   "outputs": [
    {
     "data": {
      "text/plain": [
       "{'svc': 0.6666666666666666, 'knn': 0.9166666666666666, 'dtc': 1.0, 'nb': 1.0}"
      ]
     },
     "execution_count": 430,
     "metadata": {},
     "output_type": "execute_result"
    }
   ],
   "source": [
    "model_accuracy"
   ]
  },
  {
   "cell_type": "markdown",
   "metadata": {},
   "source": [
    "# Lets try With GridSearch\n"
   ]
  },
  {
   "cell_type": "code",
   "execution_count": 431,
   "metadata": {},
   "outputs": [],
   "source": [
    "params={\n",
    "    'knn': {'n_neighbors':[3,5,7,9,11,13,15],\n",
    "    'metric':['cosine','euclidean','manhattan'],\n",
    "    'weights':['uniform','distance']},\n",
    "    \n",
    "    'svc': {\n",
    "    'C':[0.1,1,10,100], \n",
    "    'gamma':[1,0.1,0.01,0.01], \n",
    "    'kernel':['rbf','linear']},\n",
    "    \n",
    "    'dtc':{\n",
    "        'criterion':['gini','entropy'],\n",
    "        'max_depth':[2,4,6,8,10,12]\n",
    "    },\n",
    "    \n",
    "    'nb':{\n",
    "        'priors': [None],\n",
    "    'var_smoothing': [0.00000001, 0.000000001, 0.00000001]\n",
    "    }\n",
    "    \n",
    "    }"
   ]
  },
  {
   "cell_type": "code",
   "execution_count": 432,
   "metadata": {},
   "outputs": [
    {
     "name": "stdout",
     "output_type": "stream",
     "text": [
      "Fitting 20 folds for each of 32 candidates, totalling 640 fits\n",
      "svc :  SVC(C=0.1, gamma=1, kernel='linear')\n",
      "svc\n",
      "[[56  0]\n",
      " [ 0 28]]\n",
      "Fitting 20 folds for each of 42 candidates, totalling 840 fits\n",
      "knn :  KNeighborsClassifier(metric='cosine', n_neighbors=3, weights='distance')\n",
      "knn\n",
      "[[56  1]\n",
      " [ 0 27]]\n",
      "Fitting 20 folds for each of 12 candidates, totalling 240 fits\n",
      "dtc :  DecisionTreeClassifier(max_depth=2)\n",
      "dtc\n",
      "[[56  0]\n",
      " [ 0 28]]\n",
      "Fitting 20 folds for each of 3 candidates, totalling 60 fits\n",
      "nb :  GaussianNB(var_smoothing=1e-08)\n",
      "nb\n",
      "[[56  0]\n",
      " [ 0 28]]\n"
     ]
    }
   ],
   "source": [
    "model_accuracy={}\n",
    "for model in models.keys():\n",
    "    mod = GridSearchCV(\n",
    "    models[model],\n",
    "    params[model],\n",
    "    verbose=1, #Progress bar showing\n",
    "    cv=20, #cross validation\n",
    "    n_jobs=-1, #cores to assign\n",
    ")\n",
    "    gridsearch_result=mod.fit(train_x,train_y)\n",
    "    predict=mod.predict(test_x)\n",
    "    print(f\"{model} : \",gridsearch_result.best_estimator_)\n",
    "    print(f\"{model}\")\n",
    "    print(confusion_matrix(predict,test_y))\n",
    "    if model not in model_accuracy.keys():\n",
    "        model_accuracy.update({model:accuracy_score(test_y,predict)})"
   ]
  },
  {
   "cell_type": "code",
   "execution_count": 372,
   "metadata": {},
   "outputs": [
    {
     "data": {
      "text/plain": [
       "{'svc': 1.0, 'knn': 0.9880952380952381, 'dtc': 1.0, 'nb': 1.0}"
      ]
     },
     "execution_count": 372,
     "metadata": {},
     "output_type": "execute_result"
    }
   ],
   "source": [
    "model_accuracy"
   ]
  },
  {
   "cell_type": "code",
   "execution_count": 50,
   "metadata": {},
   "outputs": [],
   "source": [
    "#Maybe the result is nice."
   ]
  },
  {
   "cell_type": "code",
   "execution_count": null,
   "metadata": {},
   "outputs": [],
   "source": []
  }
 ],
 "metadata": {
  "kernelspec": {
   "display_name": "Python 3.10.6 ('class')",
   "language": "python",
   "name": "python3"
  },
  "language_info": {
   "codemirror_mode": {
    "name": "ipython",
    "version": 3
   },
   "file_extension": ".py",
   "mimetype": "text/x-python",
   "name": "python",
   "nbconvert_exporter": "python",
   "pygments_lexer": "ipython3",
   "version": "3.10.6"
  },
  "orig_nbformat": 4,
  "vscode": {
   "interpreter": {
    "hash": "2ab26ebc9eac352ad84074c5872f53e9ff2d0f751ba36ba2a556974c64f5628d"
   }
  }
 },
 "nbformat": 4,
 "nbformat_minor": 2
}
