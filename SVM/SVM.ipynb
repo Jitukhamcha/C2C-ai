{
  "cells": [
    {
      "cell_type": "code",
      "execution_count": 2,
      "metadata": {
        "id": "w5VSmXYEQe5k"
      },
      "outputs": [],
      "source": [
        "import numpy as np\n",
        "import pandas as pd\n",
        "\n",
        "from sklearn.svm import SVC\n",
        "from sklearn.neighbors import KNeighborsClassifier\n",
        "from sklearn.model_selection import train_test_split\n",
        "from sklearn.metrics import confusion_matrix, classification_report"
      ]
    },
    {
      "cell_type": "code",
      "execution_count": 3,
      "metadata": {
        "id": "cutNQ_MYXn6F"
      },
      "outputs": [],
      "source": [
        "from sklearn.model_selection import GridSearchCV"
      ]
    },
    {
      "cell_type": "code",
      "execution_count": 4,
      "metadata": {
        "id": "DBwA28F3RCRS"
      },
      "outputs": [],
      "source": [
        "df = pd.read_csv(\"heart_failure_clinical_records_dataset.csv\")"
      ]
    },
    {
      "cell_type": "code",
      "execution_count": 5,
      "metadata": {
        "colab": {
          "base_uri": "https://localhost:8080/"
        },
        "id": "rkOMfE0URLQ5",
        "outputId": "5c138523-01a6-4898-83f9-977975528d7b"
      },
      "outputs": [
        {
          "name": "stdout",
          "output_type": "stream",
          "text": [
            "<class 'pandas.core.frame.DataFrame'>\n",
            "RangeIndex: 299 entries, 0 to 298\n",
            "Data columns (total 13 columns):\n",
            " #   Column                    Non-Null Count  Dtype  \n",
            "---  ------                    --------------  -----  \n",
            " 0   age                       299 non-null    float64\n",
            " 1   anaemia                   299 non-null    int64  \n",
            " 2   creatinine_phosphokinase  299 non-null    int64  \n",
            " 3   diabetes                  299 non-null    int64  \n",
            " 4   ejection_fraction         299 non-null    int64  \n",
            " 5   high_blood_pressure       299 non-null    int64  \n",
            " 6   platelets                 299 non-null    float64\n",
            " 7   serum_creatinine          299 non-null    float64\n",
            " 8   serum_sodium              299 non-null    int64  \n",
            " 9   sex                       299 non-null    int64  \n",
            " 10  smoking                   299 non-null    int64  \n",
            " 11  time                      299 non-null    int64  \n",
            " 12  DEATH_EVENT               299 non-null    int64  \n",
            "dtypes: float64(3), int64(10)\n",
            "memory usage: 30.5 KB\n"
          ]
        }
      ],
      "source": [
        "df.info()"
      ]
    },
    {
      "cell_type": "code",
      "execution_count": 6,
      "metadata": {
        "id": "ACufX0XgRrAN"
      },
      "outputs": [],
      "source": [
        "x=df.iloc[:, :-1].values\n",
        "y=df.iloc[:, 1].values"
      ]
    },
    {
      "cell_type": "code",
      "execution_count": 7,
      "metadata": {
        "id": "8bUT0dTNRz6w"
      },
      "outputs": [],
      "source": [
        "train_x, test_x, train_y, test_y = train_test_split(x, y, test_size= 0.2, random_state=150)"
      ]
    },
    {
      "cell_type": "code",
      "execution_count": 8,
      "metadata": {
        "id": "VRNWHQKEXWcG"
      },
      "outputs": [],
      "source": [
        "knn_model= KNeighborsClassifier()"
      ]
    },
    {
      "cell_type": "code",
      "execution_count": 9,
      "metadata": {
        "id": "lvkIAI7xVnSU"
      },
      "outputs": [],
      "source": [
        "params = {\n",
        "    #'n_neighbors' : [3, 5, 7, 9, 11, 13],\n",
        "   # 'metric' : ['cosine', 'euclidean', 'manhattan'],\n",
        "    #'weights': ['uniform', 'distance']\n",
        "    'C' : [0,1,1,10,100],\n",
        "    'gamma': [1, 0, 1, 1, 0.01, 0.001],\n",
        "    'kernel' : ['rbf', 'linear']\n",
        "}"
      ]
    },
    {
      "cell_type": "code",
      "execution_count": 10,
      "metadata": {
        "id": "lW22_jkbWwdS"
      },
      "outputs": [],
      "source": [
        "gridsearch = GridSearchCV(\n",
        "    SVC(),\n",
        "    params,\n",
        "    verbose=1, #progressbar dekhaune\n",
        "    cv=2, #cross validation\n",
        "   # n_jobs = -1\n",
        ")"
      ]
    },
    {
      "cell_type": "code",
      "execution_count": 11,
      "metadata": {
        "colab": {
          "base_uri": "https://localhost:8080/"
        },
        "id": "jiGc8ea8X6JM",
        "outputId": "1577f042-6593-4f97-efb4-19b0fc6138bb"
      },
      "outputs": [
        {
          "name": "stdout",
          "output_type": "stream",
          "text": [
            "Fitting 2 folds for each of 60 candidates, totalling 120 fits\n"
          ]
        }
      ],
      "source": [
        "gridsearch_result=gridsearch.fit(train_x, train_y)"
      ]
    },
    {
      "cell_type": "code",
      "execution_count": null,
      "metadata": {
        "colab": {
          "base_uri": "https://localhost:8080/"
        },
        "id": "buPjXn4IXyN9",
        "outputId": "b8b0d0e7-63fe-4b9b-821d-52a03adbad8b"
      },
      "outputs": [
        {
          "data": {
            "text/plain": [
              "0.6023734177215189"
            ]
          },
          "execution_count": 76,
          "metadata": {},
          "output_type": "execute_result"
        }
      ],
      "source": [
        "gridsearch_result.best_score_ "
      ]
    },
    {
      "cell_type": "code",
      "execution_count": null,
      "metadata": {
        "colab": {
          "base_uri": "https://localhost:8080/"
        },
        "id": "X8eP28VxYZkQ",
        "outputId": "4ba22015-53ed-4b3d-f1a1-6b0b560d68c4"
      },
      "outputs": [
        {
          "data": {
            "text/plain": [
              "KNeighborsClassifier(metric='cosine', n_neighbors=9)"
            ]
          },
          "execution_count": 77,
          "metadata": {},
          "output_type": "execute_result"
        }
      ],
      "source": [
        "gridsearch_result.best_estimator_"
      ]
    },
    {
      "cell_type": "code",
      "execution_count": null,
      "metadata": {
        "colab": {
          "base_uri": "https://localhost:8080/"
        },
        "id": "Cdf3f6sIYcZC",
        "outputId": "7a46aa92-fed3-4b33-94a9-32e19a51dc24"
      },
      "outputs": [
        {
          "data": {
            "text/plain": [
              "{'metric': 'cosine', 'n_neighbors': 9, 'weights': 'uniform'}"
            ]
          },
          "execution_count": 78,
          "metadata": {},
          "output_type": "execute_result"
        }
      ],
      "source": [
        "gridsearch_result.best_params_"
      ]
    },
    {
      "cell_type": "code",
      "execution_count": null,
      "metadata": {
        "id": "ZbnLgtqKYe0F"
      },
      "outputs": [],
      "source": [
        "knn_model= KNeighborsClassifier(metric='cosine', n_neighbors = 7, weights= 'uniform') "
      ]
    },
    {
      "cell_type": "code",
      "execution_count": null,
      "metadata": {
        "colab": {
          "base_uri": "https://localhost:8080/"
        },
        "id": "I0_kiYi1R5fi",
        "outputId": "ad44bf7d-741f-4881-a321-8a830cffa934"
      },
      "outputs": [
        {
          "data": {
            "text/plain": [
              "KNeighborsClassifier(metric='cosine', n_neighbors=7)"
            ]
          },
          "execution_count": 80,
          "metadata": {},
          "output_type": "execute_result"
        }
      ],
      "source": [
        "knn_model.fit(train_x, train_y)\n"
      ]
    },
    {
      "cell_type": "code",
      "execution_count": null,
      "metadata": {
        "id": "lPBpk1nVZJyi"
      },
      "outputs": [],
      "source": [
        "y_pred=knn_model.predict(test_x)"
      ]
    },
    {
      "cell_type": "code",
      "execution_count": null,
      "metadata": {
        "colab": {
          "base_uri": "https://localhost:8080/"
        },
        "id": "-1rGyjFAZSSn",
        "outputId": "17ae266f-ec85-456f-e983-937d57568748"
      },
      "outputs": [
        {
          "data": {
            "text/plain": [
              "array([1, 0, 0, 1, 1, 1, 1, 0, 1, 1, 1, 0, 0, 0, 0, 0, 1, 0, 0, 0, 1, 1,\n",
              "       0, 0, 0, 1, 0, 1, 0, 1, 0, 1, 1, 1, 0, 1, 1, 0, 0, 0, 1, 1, 0, 0,\n",
              "       0, 1, 0, 0, 1, 0, 0, 0, 1, 0, 0, 0, 0, 1, 1, 0])"
            ]
          },
          "execution_count": 82,
          "metadata": {},
          "output_type": "execute_result"
        }
      ],
      "source": [
        "y_pred\n"
      ]
    },
    {
      "cell_type": "code",
      "execution_count": null,
      "metadata": {
        "colab": {
          "base_uri": "https://localhost:8080/"
        },
        "id": "xB4gg4b0ZaXk",
        "outputId": "eb034f7e-d02d-4fdb-d22a-3f4b06010efd"
      },
      "outputs": [
        {
          "name": "stdout",
          "output_type": "stream",
          "text": [
            "              precision    recall  f1-score   support\n",
            "\n",
            "           0       0.68      0.68      0.68        34\n",
            "           1       0.58      0.58      0.58        26\n",
            "\n",
            "    accuracy                           0.63        60\n",
            "   macro avg       0.63      0.63      0.63        60\n",
            "weighted avg       0.63      0.63      0.63        60\n",
            "\n"
          ]
        }
      ],
      "source": [
        "print(classification_report(test_y, y_pred))"
      ]
    },
    {
      "cell_type": "code",
      "execution_count": null,
      "metadata": {
        "id": "yc7UhFioSMl9"
      },
      "outputs": [],
      "source": [
        "pred = svc_model.predict(test_x)"
      ]
    },
    {
      "cell_type": "code",
      "execution_count": null,
      "metadata": {
        "colab": {
          "base_uri": "https://localhost:8080/"
        },
        "id": "lqymEovCSSjC",
        "outputId": "649f6b49-f13d-4813-e47d-271f9001e3d9"
      },
      "outputs": [
        {
          "data": {
            "text/plain": [
              "array([0, 0, 1, 0, 0, 1, 1, 0, 0, 1, 0, 0, 1, 0, 0, 0, 1, 0, 0, 0, 1, 1,\n",
              "       0, 1, 0, 0, 0, 1, 0, 0, 1, 0, 1, 1, 0, 1, 1, 0, 0, 0, 1, 1, 0, 0,\n",
              "       0, 0, 0, 0, 0, 0, 0, 0, 1, 0, 1, 0, 1, 0, 0, 0])"
            ]
          },
          "execution_count": 85,
          "metadata": {},
          "output_type": "execute_result"
        }
      ],
      "source": [
        "pred\n"
      ]
    },
    {
      "cell_type": "code",
      "execution_count": null,
      "metadata": {
        "colab": {
          "base_uri": "https://localhost:8080/"
        },
        "id": "V_5R-wX9SYrs",
        "outputId": "fc0c72fb-0e39-4f50-c045-93533d993df9"
      },
      "outputs": [
        {
          "name": "stdout",
          "output_type": "stream",
          "text": [
            "              precision    recall  f1-score   support\n",
            "\n",
            "           0       0.60      0.71      0.65        34\n",
            "           1       0.50      0.38      0.43        26\n",
            "\n",
            "    accuracy                           0.57        60\n",
            "   macro avg       0.55      0.55      0.54        60\n",
            "weighted avg       0.56      0.57      0.56        60\n",
            "\n"
          ]
        }
      ],
      "source": [
        "print(classification_report(test_y, pred))"
      ]
    },
    {
      "cell_type": "code",
      "execution_count": null,
      "metadata": {
        "colab": {
          "base_uri": "https://localhost:8080/"
        },
        "id": "mv-mWaKrTCuA",
        "outputId": "094d1698-9ea6-40d2-fdf0-fc53003e1c67"
      },
      "outputs": [
        {
          "data": {
            "text/plain": [
              "array([[24, 10],\n",
              "       [16, 10]])"
            ]
          },
          "execution_count": 87,
          "metadata": {},
          "output_type": "execute_result"
        }
      ],
      "source": [
        "confusion_matrix(test_y, pred)"
      ]
    }
  ],
  "metadata": {
    "colab": {
      "provenance": []
    },
    "kernelspec": {
      "display_name": "Python 3.10.8 ('allinone')",
      "language": "python",
      "name": "python3"
    },
    "language_info": {
      "codemirror_mode": {
        "name": "ipython",
        "version": 3
      },
      "file_extension": ".py",
      "mimetype": "text/x-python",
      "name": "python",
      "nbconvert_exporter": "python",
      "pygments_lexer": "ipython3",
      "version": "3.10.8"
    },
    "vscode": {
      "interpreter": {
        "hash": "8f66c32e8979a238113c4f31e900fcb6c206d9c22c6a61f3a737faab915ba068"
      }
    }
  },
  "nbformat": 4,
  "nbformat_minor": 0
}
