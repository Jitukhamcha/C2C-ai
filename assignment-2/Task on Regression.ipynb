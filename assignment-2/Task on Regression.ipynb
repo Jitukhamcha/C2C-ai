{
 "cells": [
  {
   "cell_type": "code",
   "execution_count": 292,
   "id": "766697ce",
   "metadata": {},
   "outputs": [],
   "source": [
    "#importing libraries\n",
    "import numpy as np\n",
    "import pandas as pd\n",
    "import matplotlib.pyplot as plt\n",
    "from sklearn.model_selection import train_test_split\n",
    "from sklearn.linear_model import LogisticRegression\n",
    "from sklearn.linear_model import LinearRegression"
   ]
  },
  {
   "cell_type": "code",
   "execution_count": 293,
   "id": "35930589",
   "metadata": {},
   "outputs": [],
   "source": [
    "dataset = pd.read_csv('heart_failure_clinical_records_dataset.csv')"
   ]
  },
  {
   "cell_type": "code",
   "execution_count": 294,
   "id": "90cfd3f3",
   "metadata": {},
   "outputs": [
    {
     "data": {
      "text/html": [
       "<div>\n",
       "<style scoped>\n",
       "    .dataframe tbody tr th:only-of-type {\n",
       "        vertical-align: middle;\n",
       "    }\n",
       "\n",
       "    .dataframe tbody tr th {\n",
       "        vertical-align: top;\n",
       "    }\n",
       "\n",
       "    .dataframe thead th {\n",
       "        text-align: right;\n",
       "    }\n",
       "</style>\n",
       "<table border=\"1\" class=\"dataframe\">\n",
       "  <thead>\n",
       "    <tr style=\"text-align: right;\">\n",
       "      <th></th>\n",
       "      <th>age</th>\n",
       "      <th>anaemia</th>\n",
       "      <th>creatinine_phosphokinase</th>\n",
       "      <th>diabetes</th>\n",
       "      <th>ejection_fraction</th>\n",
       "      <th>high_blood_pressure</th>\n",
       "      <th>platelets</th>\n",
       "      <th>serum_creatinine</th>\n",
       "      <th>serum_sodium</th>\n",
       "      <th>sex</th>\n",
       "      <th>smoking</th>\n",
       "      <th>time</th>\n",
       "      <th>DEATH_EVENT</th>\n",
       "    </tr>\n",
       "  </thead>\n",
       "  <tbody>\n",
       "    <tr>\n",
       "      <th>0</th>\n",
       "      <td>75.0</td>\n",
       "      <td>0</td>\n",
       "      <td>582</td>\n",
       "      <td>0</td>\n",
       "      <td>20</td>\n",
       "      <td>1</td>\n",
       "      <td>265000.00</td>\n",
       "      <td>1.9</td>\n",
       "      <td>130</td>\n",
       "      <td>1</td>\n",
       "      <td>0</td>\n",
       "      <td>4</td>\n",
       "      <td>1</td>\n",
       "    </tr>\n",
       "    <tr>\n",
       "      <th>1</th>\n",
       "      <td>55.0</td>\n",
       "      <td>0</td>\n",
       "      <td>7861</td>\n",
       "      <td>0</td>\n",
       "      <td>38</td>\n",
       "      <td>0</td>\n",
       "      <td>263358.03</td>\n",
       "      <td>1.1</td>\n",
       "      <td>136</td>\n",
       "      <td>1</td>\n",
       "      <td>0</td>\n",
       "      <td>6</td>\n",
       "      <td>1</td>\n",
       "    </tr>\n",
       "    <tr>\n",
       "      <th>2</th>\n",
       "      <td>65.0</td>\n",
       "      <td>0</td>\n",
       "      <td>146</td>\n",
       "      <td>0</td>\n",
       "      <td>20</td>\n",
       "      <td>0</td>\n",
       "      <td>162000.00</td>\n",
       "      <td>1.3</td>\n",
       "      <td>129</td>\n",
       "      <td>1</td>\n",
       "      <td>1</td>\n",
       "      <td>7</td>\n",
       "      <td>1</td>\n",
       "    </tr>\n",
       "    <tr>\n",
       "      <th>3</th>\n",
       "      <td>50.0</td>\n",
       "      <td>1</td>\n",
       "      <td>111</td>\n",
       "      <td>0</td>\n",
       "      <td>20</td>\n",
       "      <td>0</td>\n",
       "      <td>210000.00</td>\n",
       "      <td>1.9</td>\n",
       "      <td>137</td>\n",
       "      <td>1</td>\n",
       "      <td>0</td>\n",
       "      <td>7</td>\n",
       "      <td>1</td>\n",
       "    </tr>\n",
       "    <tr>\n",
       "      <th>4</th>\n",
       "      <td>65.0</td>\n",
       "      <td>1</td>\n",
       "      <td>160</td>\n",
       "      <td>1</td>\n",
       "      <td>20</td>\n",
       "      <td>0</td>\n",
       "      <td>327000.00</td>\n",
       "      <td>2.7</td>\n",
       "      <td>116</td>\n",
       "      <td>0</td>\n",
       "      <td>0</td>\n",
       "      <td>8</td>\n",
       "      <td>1</td>\n",
       "    </tr>\n",
       "    <tr>\n",
       "      <th>5</th>\n",
       "      <td>90.0</td>\n",
       "      <td>1</td>\n",
       "      <td>47</td>\n",
       "      <td>0</td>\n",
       "      <td>40</td>\n",
       "      <td>1</td>\n",
       "      <td>204000.00</td>\n",
       "      <td>2.1</td>\n",
       "      <td>132</td>\n",
       "      <td>1</td>\n",
       "      <td>1</td>\n",
       "      <td>8</td>\n",
       "      <td>1</td>\n",
       "    </tr>\n",
       "    <tr>\n",
       "      <th>6</th>\n",
       "      <td>75.0</td>\n",
       "      <td>1</td>\n",
       "      <td>246</td>\n",
       "      <td>0</td>\n",
       "      <td>15</td>\n",
       "      <td>0</td>\n",
       "      <td>127000.00</td>\n",
       "      <td>1.2</td>\n",
       "      <td>137</td>\n",
       "      <td>1</td>\n",
       "      <td>0</td>\n",
       "      <td>10</td>\n",
       "      <td>1</td>\n",
       "    </tr>\n",
       "    <tr>\n",
       "      <th>7</th>\n",
       "      <td>60.0</td>\n",
       "      <td>1</td>\n",
       "      <td>315</td>\n",
       "      <td>1</td>\n",
       "      <td>60</td>\n",
       "      <td>0</td>\n",
       "      <td>454000.00</td>\n",
       "      <td>1.1</td>\n",
       "      <td>131</td>\n",
       "      <td>1</td>\n",
       "      <td>1</td>\n",
       "      <td>10</td>\n",
       "      <td>1</td>\n",
       "    </tr>\n",
       "    <tr>\n",
       "      <th>8</th>\n",
       "      <td>65.0</td>\n",
       "      <td>0</td>\n",
       "      <td>157</td>\n",
       "      <td>0</td>\n",
       "      <td>65</td>\n",
       "      <td>0</td>\n",
       "      <td>263358.03</td>\n",
       "      <td>1.5</td>\n",
       "      <td>138</td>\n",
       "      <td>0</td>\n",
       "      <td>0</td>\n",
       "      <td>10</td>\n",
       "      <td>1</td>\n",
       "    </tr>\n",
       "    <tr>\n",
       "      <th>9</th>\n",
       "      <td>80.0</td>\n",
       "      <td>1</td>\n",
       "      <td>123</td>\n",
       "      <td>0</td>\n",
       "      <td>35</td>\n",
       "      <td>1</td>\n",
       "      <td>388000.00</td>\n",
       "      <td>9.4</td>\n",
       "      <td>133</td>\n",
       "      <td>1</td>\n",
       "      <td>1</td>\n",
       "      <td>10</td>\n",
       "      <td>1</td>\n",
       "    </tr>\n",
       "  </tbody>\n",
       "</table>\n",
       "</div>"
      ],
      "text/plain": [
       "    age  anaemia  creatinine_phosphokinase  diabetes  ejection_fraction  \\\n",
       "0  75.0        0                       582         0                 20   \n",
       "1  55.0        0                      7861         0                 38   \n",
       "2  65.0        0                       146         0                 20   \n",
       "3  50.0        1                       111         0                 20   \n",
       "4  65.0        1                       160         1                 20   \n",
       "5  90.0        1                        47         0                 40   \n",
       "6  75.0        1                       246         0                 15   \n",
       "7  60.0        1                       315         1                 60   \n",
       "8  65.0        0                       157         0                 65   \n",
       "9  80.0        1                       123         0                 35   \n",
       "\n",
       "   high_blood_pressure  platelets  serum_creatinine  serum_sodium  sex  \\\n",
       "0                    1  265000.00               1.9           130    1   \n",
       "1                    0  263358.03               1.1           136    1   \n",
       "2                    0  162000.00               1.3           129    1   \n",
       "3                    0  210000.00               1.9           137    1   \n",
       "4                    0  327000.00               2.7           116    0   \n",
       "5                    1  204000.00               2.1           132    1   \n",
       "6                    0  127000.00               1.2           137    1   \n",
       "7                    0  454000.00               1.1           131    1   \n",
       "8                    0  263358.03               1.5           138    0   \n",
       "9                    1  388000.00               9.4           133    1   \n",
       "\n",
       "   smoking  time  DEATH_EVENT  \n",
       "0        0     4            1  \n",
       "1        0     6            1  \n",
       "2        1     7            1  \n",
       "3        0     7            1  \n",
       "4        0     8            1  \n",
       "5        1     8            1  \n",
       "6        0    10            1  \n",
       "7        1    10            1  \n",
       "8        0    10            1  \n",
       "9        1    10            1  "
      ]
     },
     "execution_count": 294,
     "metadata": {},
     "output_type": "execute_result"
    }
   ],
   "source": [
    "#first n rows\n",
    "dataset.head(10)"
   ]
  },
  {
   "cell_type": "code",
   "execution_count": 295,
   "id": "fcd4ce8b",
   "metadata": {},
   "outputs": [
    {
     "data": {
      "text/html": [
       "<div>\n",
       "<style scoped>\n",
       "    .dataframe tbody tr th:only-of-type {\n",
       "        vertical-align: middle;\n",
       "    }\n",
       "\n",
       "    .dataframe tbody tr th {\n",
       "        vertical-align: top;\n",
       "    }\n",
       "\n",
       "    .dataframe thead th {\n",
       "        text-align: right;\n",
       "    }\n",
       "</style>\n",
       "<table border=\"1\" class=\"dataframe\">\n",
       "  <thead>\n",
       "    <tr style=\"text-align: right;\">\n",
       "      <th></th>\n",
       "      <th>age</th>\n",
       "      <th>anaemia</th>\n",
       "      <th>creatinine_phosphokinase</th>\n",
       "      <th>diabetes</th>\n",
       "      <th>ejection_fraction</th>\n",
       "      <th>high_blood_pressure</th>\n",
       "      <th>platelets</th>\n",
       "      <th>serum_creatinine</th>\n",
       "      <th>serum_sodium</th>\n",
       "      <th>sex</th>\n",
       "      <th>smoking</th>\n",
       "      <th>time</th>\n",
       "      <th>DEATH_EVENT</th>\n",
       "    </tr>\n",
       "  </thead>\n",
       "  <tbody>\n",
       "    <tr>\n",
       "      <th>count</th>\n",
       "      <td>299.000000</td>\n",
       "      <td>299.000000</td>\n",
       "      <td>299.000000</td>\n",
       "      <td>299.000000</td>\n",
       "      <td>299.000000</td>\n",
       "      <td>299.000000</td>\n",
       "      <td>299.000000</td>\n",
       "      <td>299.00000</td>\n",
       "      <td>299.000000</td>\n",
       "      <td>299.000000</td>\n",
       "      <td>299.00000</td>\n",
       "      <td>299.000000</td>\n",
       "      <td>299.00000</td>\n",
       "    </tr>\n",
       "    <tr>\n",
       "      <th>mean</th>\n",
       "      <td>60.833893</td>\n",
       "      <td>0.431438</td>\n",
       "      <td>581.839465</td>\n",
       "      <td>0.418060</td>\n",
       "      <td>38.083612</td>\n",
       "      <td>0.351171</td>\n",
       "      <td>263358.029264</td>\n",
       "      <td>1.39388</td>\n",
       "      <td>136.625418</td>\n",
       "      <td>0.648829</td>\n",
       "      <td>0.32107</td>\n",
       "      <td>130.260870</td>\n",
       "      <td>0.32107</td>\n",
       "    </tr>\n",
       "    <tr>\n",
       "      <th>std</th>\n",
       "      <td>11.894809</td>\n",
       "      <td>0.496107</td>\n",
       "      <td>970.287881</td>\n",
       "      <td>0.494067</td>\n",
       "      <td>11.834841</td>\n",
       "      <td>0.478136</td>\n",
       "      <td>97804.236869</td>\n",
       "      <td>1.03451</td>\n",
       "      <td>4.412477</td>\n",
       "      <td>0.478136</td>\n",
       "      <td>0.46767</td>\n",
       "      <td>77.614208</td>\n",
       "      <td>0.46767</td>\n",
       "    </tr>\n",
       "    <tr>\n",
       "      <th>min</th>\n",
       "      <td>40.000000</td>\n",
       "      <td>0.000000</td>\n",
       "      <td>23.000000</td>\n",
       "      <td>0.000000</td>\n",
       "      <td>14.000000</td>\n",
       "      <td>0.000000</td>\n",
       "      <td>25100.000000</td>\n",
       "      <td>0.50000</td>\n",
       "      <td>113.000000</td>\n",
       "      <td>0.000000</td>\n",
       "      <td>0.00000</td>\n",
       "      <td>4.000000</td>\n",
       "      <td>0.00000</td>\n",
       "    </tr>\n",
       "    <tr>\n",
       "      <th>25%</th>\n",
       "      <td>51.000000</td>\n",
       "      <td>0.000000</td>\n",
       "      <td>116.500000</td>\n",
       "      <td>0.000000</td>\n",
       "      <td>30.000000</td>\n",
       "      <td>0.000000</td>\n",
       "      <td>212500.000000</td>\n",
       "      <td>0.90000</td>\n",
       "      <td>134.000000</td>\n",
       "      <td>0.000000</td>\n",
       "      <td>0.00000</td>\n",
       "      <td>73.000000</td>\n",
       "      <td>0.00000</td>\n",
       "    </tr>\n",
       "    <tr>\n",
       "      <th>50%</th>\n",
       "      <td>60.000000</td>\n",
       "      <td>0.000000</td>\n",
       "      <td>250.000000</td>\n",
       "      <td>0.000000</td>\n",
       "      <td>38.000000</td>\n",
       "      <td>0.000000</td>\n",
       "      <td>262000.000000</td>\n",
       "      <td>1.10000</td>\n",
       "      <td>137.000000</td>\n",
       "      <td>1.000000</td>\n",
       "      <td>0.00000</td>\n",
       "      <td>115.000000</td>\n",
       "      <td>0.00000</td>\n",
       "    </tr>\n",
       "    <tr>\n",
       "      <th>75%</th>\n",
       "      <td>70.000000</td>\n",
       "      <td>1.000000</td>\n",
       "      <td>582.000000</td>\n",
       "      <td>1.000000</td>\n",
       "      <td>45.000000</td>\n",
       "      <td>1.000000</td>\n",
       "      <td>303500.000000</td>\n",
       "      <td>1.40000</td>\n",
       "      <td>140.000000</td>\n",
       "      <td>1.000000</td>\n",
       "      <td>1.00000</td>\n",
       "      <td>203.000000</td>\n",
       "      <td>1.00000</td>\n",
       "    </tr>\n",
       "    <tr>\n",
       "      <th>max</th>\n",
       "      <td>95.000000</td>\n",
       "      <td>1.000000</td>\n",
       "      <td>7861.000000</td>\n",
       "      <td>1.000000</td>\n",
       "      <td>80.000000</td>\n",
       "      <td>1.000000</td>\n",
       "      <td>850000.000000</td>\n",
       "      <td>9.40000</td>\n",
       "      <td>148.000000</td>\n",
       "      <td>1.000000</td>\n",
       "      <td>1.00000</td>\n",
       "      <td>285.000000</td>\n",
       "      <td>1.00000</td>\n",
       "    </tr>\n",
       "  </tbody>\n",
       "</table>\n",
       "</div>"
      ],
      "text/plain": [
       "              age     anaemia  creatinine_phosphokinase    diabetes  \\\n",
       "count  299.000000  299.000000                299.000000  299.000000   \n",
       "mean    60.833893    0.431438                581.839465    0.418060   \n",
       "std     11.894809    0.496107                970.287881    0.494067   \n",
       "min     40.000000    0.000000                 23.000000    0.000000   \n",
       "25%     51.000000    0.000000                116.500000    0.000000   \n",
       "50%     60.000000    0.000000                250.000000    0.000000   \n",
       "75%     70.000000    1.000000                582.000000    1.000000   \n",
       "max     95.000000    1.000000               7861.000000    1.000000   \n",
       "\n",
       "       ejection_fraction  high_blood_pressure      platelets  \\\n",
       "count         299.000000           299.000000     299.000000   \n",
       "mean           38.083612             0.351171  263358.029264   \n",
       "std            11.834841             0.478136   97804.236869   \n",
       "min            14.000000             0.000000   25100.000000   \n",
       "25%            30.000000             0.000000  212500.000000   \n",
       "50%            38.000000             0.000000  262000.000000   \n",
       "75%            45.000000             1.000000  303500.000000   \n",
       "max            80.000000             1.000000  850000.000000   \n",
       "\n",
       "       serum_creatinine  serum_sodium         sex    smoking        time  \\\n",
       "count         299.00000    299.000000  299.000000  299.00000  299.000000   \n",
       "mean            1.39388    136.625418    0.648829    0.32107  130.260870   \n",
       "std             1.03451      4.412477    0.478136    0.46767   77.614208   \n",
       "min             0.50000    113.000000    0.000000    0.00000    4.000000   \n",
       "25%             0.90000    134.000000    0.000000    0.00000   73.000000   \n",
       "50%             1.10000    137.000000    1.000000    0.00000  115.000000   \n",
       "75%             1.40000    140.000000    1.000000    1.00000  203.000000   \n",
       "max             9.40000    148.000000    1.000000    1.00000  285.000000   \n",
       "\n",
       "       DEATH_EVENT  \n",
       "count    299.00000  \n",
       "mean       0.32107  \n",
       "std        0.46767  \n",
       "min        0.00000  \n",
       "25%        0.00000  \n",
       "50%        0.00000  \n",
       "75%        1.00000  \n",
       "max        1.00000  "
      ]
     },
     "execution_count": 295,
     "metadata": {},
     "output_type": "execute_result"
    }
   ],
   "source": [
    "dataset.describe()"
   ]
  },
  {
   "cell_type": "code",
   "execution_count": 296,
   "id": "0cca3efd",
   "metadata": {},
   "outputs": [],
   "source": [
    "#dataset processing\n",
    "x=dataset.iloc[:,:12].values"
   ]
  },
  {
   "cell_type": "code",
   "execution_count": 297,
   "id": "30e9f4d3",
   "metadata": {},
   "outputs": [
    {
     "data": {
      "text/plain": [
       "array([[7.500e+01, 0.000e+00, 5.820e+02, ..., 1.000e+00, 0.000e+00,\n",
       "        4.000e+00],\n",
       "       [5.500e+01, 0.000e+00, 7.861e+03, ..., 1.000e+00, 0.000e+00,\n",
       "        6.000e+00],\n",
       "       [6.500e+01, 0.000e+00, 1.460e+02, ..., 1.000e+00, 1.000e+00,\n",
       "        7.000e+00],\n",
       "       ...,\n",
       "       [4.500e+01, 0.000e+00, 2.060e+03, ..., 0.000e+00, 0.000e+00,\n",
       "        2.780e+02],\n",
       "       [4.500e+01, 0.000e+00, 2.413e+03, ..., 1.000e+00, 1.000e+00,\n",
       "        2.800e+02],\n",
       "       [5.000e+01, 0.000e+00, 1.960e+02, ..., 1.000e+00, 1.000e+00,\n",
       "        2.850e+02]])"
      ]
     },
     "execution_count": 297,
     "metadata": {},
     "output_type": "execute_result"
    }
   ],
   "source": [
    "x"
   ]
  },
  {
   "cell_type": "code",
   "execution_count": 298,
   "id": "82f68587",
   "metadata": {},
   "outputs": [],
   "source": [
    "y=dataset.loc[:,'DEATH_EVENT'].values"
   ]
  },
  {
   "cell_type": "code",
   "execution_count": 299,
   "id": "4029a8ea",
   "metadata": {},
   "outputs": [
    {
     "data": {
      "text/plain": [
       "array([1, 1, 1, 1, 1, 1, 1, 1, 1, 1, 1, 1, 1, 1, 0, 1, 1, 1, 1, 1, 0, 1,\n",
       "       1, 0, 1, 1, 1, 1, 1, 1, 1, 1, 1, 0, 1, 1, 1, 1, 0, 1, 1, 1, 1, 0,\n",
       "       1, 1, 1, 1, 1, 1, 1, 1, 1, 1, 1, 1, 0, 0, 1, 1, 1, 1, 0, 1, 0, 1,\n",
       "       1, 1, 1, 1, 0, 0, 1, 0, 1, 1, 0, 0, 0, 0, 0, 0, 1, 0, 1, 0, 0, 0,\n",
       "       0, 0, 0, 0, 0, 1, 0, 0, 0, 0, 0, 0, 0, 0, 0, 0, 0, 1, 0, 0, 0, 0,\n",
       "       1, 0, 0, 1, 0, 0, 0, 0, 0, 1, 0, 0, 0, 0, 1, 0, 1, 0, 0, 0, 0, 0,\n",
       "       0, 0, 0, 0, 0, 0, 0, 0, 1, 0, 0, 0, 1, 0, 0, 0, 1, 0, 1, 0, 0, 0,\n",
       "       0, 0, 0, 0, 0, 0, 0, 0, 0, 1, 1, 1, 0, 1, 0, 0, 0, 0, 0, 0, 0, 0,\n",
       "       0, 0, 0, 0, 0, 1, 1, 1, 1, 1, 1, 1, 0, 0, 0, 0, 0, 0, 1, 1, 0, 0,\n",
       "       0, 0, 0, 0, 0, 0, 0, 0, 0, 0, 0, 0, 0, 0, 0, 1, 0, 0, 0, 1, 0, 0,\n",
       "       1, 0, 0, 0, 0, 0, 0, 0, 0, 0, 1, 0, 0, 0, 0, 0, 0, 0, 0, 0, 0, 0,\n",
       "       0, 0, 0, 0, 1, 0, 0, 0, 0, 0, 0, 0, 0, 0, 0, 0, 0, 0, 0, 0, 1, 0,\n",
       "       0, 0, 1, 0, 0, 0, 0, 0, 0, 0, 0, 0, 0, 0, 0, 0, 0, 0, 0, 0, 0, 0,\n",
       "       0, 0, 0, 0, 0, 0, 0, 0, 0, 0, 0, 0, 0], dtype=int64)"
      ]
     },
     "execution_count": 299,
     "metadata": {},
     "output_type": "execute_result"
    }
   ],
   "source": [
    "y"
   ]
  },
  {
   "cell_type": "code",
   "execution_count": 300,
   "id": "9f1bd6f7",
   "metadata": {},
   "outputs": [],
   "source": [
    "x_train,x_test,y_train,y_test=train_test_split(x,y,test_size=0.3)"
   ]
  },
  {
   "cell_type": "code",
   "execution_count": 301,
   "id": "6781226c",
   "metadata": {},
   "outputs": [
    {
     "name": "stdout",
     "output_type": "stream",
     "text": [
      "shape of x_train (209, 12)\n"
     ]
    }
   ],
   "source": [
    "print(\"shape of x_train\",x_train.shape)"
   ]
  },
  {
   "cell_type": "code",
   "execution_count": 302,
   "id": "63272c94",
   "metadata": {},
   "outputs": [
    {
     "data": {
      "text/plain": [
       "array([[6.300e+01, 1.000e+00, 5.140e+02, ..., 1.000e+00, 0.000e+00,\n",
       "        8.300e+01],\n",
       "       [4.000e+01, 0.000e+00, 4.780e+02, ..., 1.000e+00, 0.000e+00,\n",
       "        1.480e+02],\n",
       "       [5.900e+01, 0.000e+00, 6.600e+01, ..., 1.000e+00, 0.000e+00,\n",
       "        1.350e+02],\n",
       "       ...,\n",
       "       [4.200e+01, 0.000e+00, 5.209e+03, ..., 1.000e+00, 1.000e+00,\n",
       "        8.700e+01],\n",
       "       [6.300e+01, 1.000e+00, 1.030e+02, ..., 1.000e+00, 1.000e+00,\n",
       "        2.700e+02],\n",
       "       [5.000e+01, 1.000e+00, 2.980e+02, ..., 1.000e+00, 1.000e+00,\n",
       "        2.400e+02]])"
      ]
     },
     "execution_count": 302,
     "metadata": {},
     "output_type": "execute_result"
    }
   ],
   "source": [
    "x_train"
   ]
  },
  {
   "cell_type": "code",
   "execution_count": 303,
   "id": "52260e6a",
   "metadata": {},
   "outputs": [
    {
     "name": "stdout",
     "output_type": "stream",
     "text": [
      "shape of x_test (90, 12)\n"
     ]
    }
   ],
   "source": [
    "print(\"shape of x_test\",x_test.shape)"
   ]
  },
  {
   "cell_type": "code",
   "execution_count": 304,
   "id": "201e993a",
   "metadata": {},
   "outputs": [
    {
     "data": {
      "text/plain": [
       "array([[6.50e+01, 0.00e+00, 1.98e+02, ..., 1.00e+00, 1.00e+00, 1.46e+02],\n",
       "       [5.20e+01, 0.00e+00, 1.32e+02, ..., 1.00e+00, 1.00e+00, 1.12e+02],\n",
       "       [6.00e+01, 1.00e+00, 9.50e+01, ..., 1.00e+00, 1.00e+00, 1.46e+02],\n",
       "       ...,\n",
       "       [6.50e+01, 0.00e+00, 3.26e+02, ..., 0.00e+00, 0.00e+00, 2.20e+02],\n",
       "       [8.10e+01, 0.00e+00, 4.54e+03, ..., 1.00e+00, 1.00e+00, 1.07e+02],\n",
       "       [4.50e+01, 0.00e+00, 5.82e+02, ..., 0.00e+00, 0.00e+00, 2.50e+02]])"
      ]
     },
     "execution_count": 304,
     "metadata": {},
     "output_type": "execute_result"
    }
   ],
   "source": [
    "x_test"
   ]
  },
  {
   "cell_type": "code",
   "execution_count": 305,
   "id": "5ccd2000",
   "metadata": {},
   "outputs": [
    {
     "name": "stdout",
     "output_type": "stream",
     "text": [
      "shape of y_train (209,)\n",
      "shape of y_test (90,)\n"
     ]
    }
   ],
   "source": [
    "print(\"shape of y_train\",y_train.shape)\n",
    "print(\"shape of y_test\",y_test.shape)"
   ]
  },
  {
   "cell_type": "code",
   "execution_count": 306,
   "id": "62a78f2a",
   "metadata": {},
   "outputs": [
    {
     "data": {
      "text/plain": [
       "array([0, 0, 0, 0, 0, 0, 1, 0, 0, 1, 0, 1, 0, 0, 1, 0, 0, 1, 1, 0, 0, 0,\n",
       "       1, 0, 0, 1, 1, 0, 1, 0, 0, 0, 0, 0, 1, 0, 0, 0, 0, 0, 0, 0, 1, 0,\n",
       "       0, 0, 0, 0, 0, 0, 1, 1, 1, 1, 0, 0, 0, 0, 0, 0, 0, 1, 1, 0, 0, 0,\n",
       "       0, 0, 0, 1, 0, 0, 0, 0, 0, 0, 1, 1, 0, 0, 0, 1, 1, 0, 0, 1, 0, 0,\n",
       "       0, 0], dtype=int64)"
      ]
     },
     "execution_count": 306,
     "metadata": {},
     "output_type": "execute_result"
    }
   ],
   "source": [
    "y_test"
   ]
  },
  {
   "cell_type": "code",
   "execution_count": 307,
   "id": "42310f6a",
   "metadata": {},
   "outputs": [],
   "source": [
    "#model training/fitting\n",
    "regressor = LinearRegression()"
   ]
  },
  {
   "cell_type": "code",
   "execution_count": 308,
   "id": "8a5d59d0",
   "metadata": {},
   "outputs": [],
   "source": [
    "model = regressor.fit(x_train,y_train)"
   ]
  },
  {
   "cell_type": "code",
   "execution_count": 309,
   "id": "be70581a",
   "metadata": {},
   "outputs": [],
   "source": [
    "#prediction\n",
    "y_pred = model.predict(x_test)"
   ]
  },
  {
   "cell_type": "code",
   "execution_count": 310,
   "id": "71cf9ac9",
   "metadata": {},
   "outputs": [
    {
     "data": {
      "text/plain": [
       "array([ 0.28827295,  0.3409485 , -0.00606659,  0.44198298, -0.05048742,\n",
       "       -0.04847503,  0.26775377,  0.41827215,  0.44066457,  0.51152058,\n",
       "        0.19633312,  0.84035964, -0.18005137, -0.01314848,  0.58504999,\n",
       "        0.56021693,  0.06040333,  0.90332824,  0.58947763,  0.4699978 ,\n",
       "        0.52974757,  0.16745917,  0.32299836,  0.44282726,  0.50738689,\n",
       "        0.54182226,  0.36083892,  0.22317714,  0.65011472,  0.30297723,\n",
       "        0.65607696, -0.09405181,  0.54986718,  0.00106572,  0.28268104,\n",
       "       -0.0716659 , -0.17383476, -0.07549096,  0.20380145,  0.2987428 ,\n",
       "        0.26943305,  0.38303511,  0.52316421, -0.01261064,  0.32843452,\n",
       "        0.45243225,  0.35288325, -0.15032006,  0.10568673, -0.22122178,\n",
       "        0.13237594,  0.88178786,  0.29466155,  0.75376843, -0.21173701,\n",
       "        0.31738321,  0.19485669,  0.31595682,  0.33417036,  0.26874484,\n",
       "        0.33838868,  0.61315568,  0.59572513,  0.13082135,  0.24859437,\n",
       "        0.27474635,  0.14990054,  0.4417092 ,  0.39090189,  0.22211789,\n",
       "        0.34732551,  0.57934711,  0.08206461,  0.73371871,  0.20802262,\n",
       "       -0.02524214,  0.73894119,  0.67549797, -0.07440676,  0.27707632,\n",
       "        0.0999944 ,  0.88199759,  0.46933031,  0.18590295,  0.06409948,\n",
       "        0.98632571,  0.13607445,  0.13308905,  0.65683098, -0.19195046])"
      ]
     },
     "execution_count": 310,
     "metadata": {},
     "output_type": "execute_result"
    }
   ],
   "source": [
    "y_pred"
   ]
  },
  {
   "cell_type": "code",
   "execution_count": 311,
   "id": "10f8b591",
   "metadata": {},
   "outputs": [
    {
     "data": {
      "text/plain": [
       "array([0, 0, 0, 0, 0, 0, 1, 0, 0, 1, 0, 1, 0, 0, 1, 0, 0, 1, 1, 0, 0, 0,\n",
       "       1, 0, 0, 1, 1, 0, 1, 0, 0, 0, 0, 0, 1, 0, 0, 0, 0, 0, 0, 0, 1, 0,\n",
       "       0, 0, 0, 0, 0, 0, 1, 1, 1, 1, 0, 0, 0, 0, 0, 0, 0, 1, 1, 0, 0, 0,\n",
       "       0, 0, 0, 1, 0, 0, 0, 0, 0, 0, 1, 1, 0, 0, 0, 1, 1, 0, 0, 1, 0, 0,\n",
       "       0, 0], dtype=int64)"
      ]
     },
     "execution_count": 311,
     "metadata": {},
     "output_type": "execute_result"
    }
   ],
   "source": [
    "y_test"
   ]
  },
  {
   "cell_type": "code",
   "execution_count": 312,
   "id": "4487f2cd",
   "metadata": {},
   "outputs": [
    {
     "name": "stdout",
     "output_type": "stream",
     "text": [
      "[ 0.6037246   0.18581506  0.5734822   0.89318632  0.43783099  0.44750507\n",
      "  0.27140246  0.23635536  0.42492216  0.24740867  0.67459609  0.87644187\n",
      "  0.8663703   0.31005218  0.44742037  0.68053063  0.09658548  0.49637461\n",
      " -0.02750029  0.46075383  0.43431849  0.54800376  0.91019263  0.06337912\n",
      "  0.79227156  0.00729614  0.04641151  0.71441059  0.34277993  0.00880935\n",
      "  0.65225166  0.74244363  0.16373957  0.09323792  0.28826857 -0.03097634\n",
      "  0.32331901  0.37322601  0.71242487  0.23871902  0.92727711  0.4919726\n",
      "  0.08818337  0.13526138  0.37979731  0.14526774  1.09594691  0.48256897\n",
      "  0.12038719  0.45626228  0.15320902  0.3308275   0.69099857  0.69071224\n",
      " -0.20781296  0.34938016  0.39556958  0.68065585 -0.02736921  1.13134131\n",
      "  0.76924772  0.52631823 -0.06522065 -0.1787811   0.24155084  0.04431255\n",
      "  0.28045755  0.29282261  0.10610037 -0.01764297  0.52400584  0.00493781\n",
      "  0.40672225  0.57495031  0.56982062 -0.10196424  0.26013993  0.02279761\n",
      "  0.62371725  0.39191699  0.583773    0.95680256  0.20571536  0.6150545\n",
      "  0.09686568  0.63808868  0.22395962  0.22891776  0.46640591 -0.06700576\n",
      "  0.07377004  0.75944761  0.57707094  0.40494012  0.0117093   0.63042718\n",
      "  0.41157157 -0.35639671  0.26610904  0.70160121  0.7543742   0.2444489\n",
      "  0.60371564  0.51753137  0.56720562  0.42526042  0.17778121  0.67212931\n",
      "  0.173889   -0.02160428  0.78910196  0.22015602  0.33462979  0.9191375\n",
      "  0.655556    0.13642827  0.00941195  0.17525768  0.23509424  0.71827037\n",
      " -0.14144143  0.32811325  0.21857092  0.068642    0.58057626 -0.13929999\n",
      " -0.04354901 -0.09656915  0.7324875   0.07014642 -0.02256174  0.08990807\n",
      "  0.34530896  0.4405723   0.06085491  0.54447116  0.17047035 -0.0765064\n",
      "  0.3893159  -0.06796022  0.48577825  0.24297769  0.16908578  0.37791895\n",
      " -0.0546375   0.10713094 -0.22157957  1.39731621  0.60969798  0.74314996\n",
      "  0.5788335   0.2380158   0.2204521  -0.19935408  0.56698017  0.90125939\n",
      "  0.32224444  0.1332089   0.10434755  0.9225938   0.03169054  0.31492548\n",
      " -0.03140862  0.47498756 -0.1228235   0.18291468  0.49069651  0.24037976\n",
      "  0.95195916  0.61373926  0.07811922  0.39095733  0.04522057  0.35411376\n",
      "  0.22437     0.16306626 -0.05078935  0.18086005  0.19767167  0.32491652\n",
      "  0.35435509  0.37266905  0.06490857  0.504222    0.93318107  0.53308184\n",
      "  1.24180261  0.47731595  0.01099045  0.26021657 -0.0467835   0.48449057\n",
      "  0.24701862  0.43184163  0.69944777  0.40890742  0.02947544  0.64889993\n",
      "  0.56043192 -0.38162293  0.13631819  0.59932734  0.58894197  0.24971971\n",
      "  0.29170982 -0.22246551  0.44062393 -0.08232845 -0.14026845]\n"
     ]
    }
   ],
   "source": [
    "custom_value = np.array([[30]])\n",
    "print(model.predict(x_train))"
   ]
  },
  {
   "cell_type": "code",
   "execution_count": 313,
   "id": "0602e189",
   "metadata": {},
   "outputs": [
    {
     "name": "stdout",
     "output_type": "stream",
     "text": [
      "[ 0.28827295  0.3409485  -0.00606659  0.44198298 -0.05048742 -0.04847503\n",
      "  0.26775377  0.41827215  0.44066457  0.51152058  0.19633312  0.84035964\n",
      " -0.18005137 -0.01314848  0.58504999  0.56021693  0.06040333  0.90332824\n",
      "  0.58947763  0.4699978   0.52974757  0.16745917  0.32299836  0.44282726\n",
      "  0.50738689  0.54182226  0.36083892  0.22317714  0.65011472  0.30297723\n",
      "  0.65607696 -0.09405181  0.54986718  0.00106572  0.28268104 -0.0716659\n",
      " -0.17383476 -0.07549096  0.20380145  0.2987428   0.26943305  0.38303511\n",
      "  0.52316421 -0.01261064  0.32843452  0.45243225  0.35288325 -0.15032006\n",
      "  0.10568673 -0.22122178  0.13237594  0.88178786  0.29466155  0.75376843\n",
      " -0.21173701  0.31738321  0.19485669  0.31595682  0.33417036  0.26874484\n",
      "  0.33838868  0.61315568  0.59572513  0.13082135  0.24859437  0.27474635\n",
      "  0.14990054  0.4417092   0.39090189  0.22211789  0.34732551  0.57934711\n",
      "  0.08206461  0.73371871  0.20802262 -0.02524214  0.73894119  0.67549797\n",
      " -0.07440676  0.27707632  0.0999944   0.88199759  0.46933031  0.18590295\n",
      "  0.06409948  0.98632571  0.13607445  0.13308905  0.65683098 -0.19195046]\n"
     ]
    }
   ],
   "source": [
    "#custom_value = np.array([[30]])\n",
    "print(model.predict(x_test))"
   ]
  },
  {
   "cell_type": "code",
   "execution_count": 314,
   "id": "a1f565e6",
   "metadata": {},
   "outputs": [],
   "source": [
    "from sklearn.metrics import accuracy_score\n"
   ]
  },
  {
   "cell_type": "code",
   "execution_count": 315,
   "id": "6a081fdd",
   "metadata": {},
   "outputs": [
    {
     "data": {
      "image/png": "[encoded data removed]",
      "text/plain": [
       "<Figure size 432x288 with 1 Axes>"
      ]
     },
     "metadata": {
      "needs_background": "light"
     },
     "output_type": "display_data"
    }
   ],
   "source": [
    "#plotting\n",
    "plt.title(\"heart failure clinical records\")\n",
    "plt.xlabel(\"factors of failure\")\n",
    "plt.ylabel(\"Death events\")\n",
    "#plt.plot(x_test, y_test, color ='b')\n",
    "plt.plot(x_test, model.predict(x_test), color ='k')\n",
    "plt.show()\n"
   ]
  },
  {
   "cell_type": "code",
   "execution_count": 316,
   "id": "4401aa59",
   "metadata": {},
   "outputs": [],
   "source": [
    "model = LogisticRegression()"
   ]
  },
  {
   "cell_type": "code",
   "execution_count": 317,
   "id": "100a586b",
   "metadata": {},
   "outputs": [
    {
     "data": {
      "text/plain": [
       "LogisticRegression()"
      ]
     },
     "execution_count": 317,
     "metadata": {},
     "output_type": "execute_result"
    }
   ],
   "source": [
    "model.fit(x,y)"
   ]
  },
  {
   "cell_type": "code",
   "execution_count": 318,
   "id": "639a4eb5",
   "metadata": {},
   "outputs": [
    {
     "data": {
      "text/plain": [
       "array([0, 1], dtype=int64)"
      ]
     },
     "execution_count": 318,
     "metadata": {},
     "output_type": "execute_result"
    }
   ],
   "source": [
    "model.classes_"
   ]
  },
  {
   "cell_type": "code",
   "execution_count": 319,
   "id": "99058f83",
   "metadata": {},
   "outputs": [
    {
     "data": {
      "text/plain": [
       "array([1, 1, 1, 1, 1, 1, 1, 0, 0, 1, 1, 1, 1, 1, 1, 1, 1, 1, 1, 0, 1, 1,\n",
       "       1, 0, 1, 1, 1, 1, 1, 1, 1, 1, 1, 1, 1, 1, 1, 1, 1, 1, 1, 1, 1, 1,\n",
       "       0, 1, 1, 1, 1, 1, 1, 1, 0, 0, 1, 1, 1, 1, 1, 1, 1, 0, 1, 0, 0, 1,\n",
       "       1, 1, 1, 1, 0, 1, 1, 0, 1, 1, 0, 0, 1, 0, 1, 0, 1, 0, 1, 0, 0, 0,\n",
       "       0, 1, 0, 0, 0, 1, 0, 0, 1, 0, 1, 0, 1, 0, 1, 1, 0, 1, 0, 0, 0, 0,\n",
       "       0, 0, 0, 0, 0, 0, 0, 0, 0, 1, 0, 0, 0, 1, 0, 0, 0, 0, 0, 0, 0, 0,\n",
       "       0, 0, 1, 0, 0, 1, 0, 0, 1, 0, 0, 0, 1, 0, 0, 0, 1, 0, 0, 0, 0, 0,\n",
       "       0, 0, 0, 0, 0, 0, 0, 0, 0, 0, 0, 0, 0, 0, 0, 0, 0, 0, 0, 0, 0, 0,\n",
       "       0, 0, 0, 0, 0, 0, 0, 0, 0, 0, 0, 0, 0, 0, 0, 0, 0, 0, 0, 0, 0, 0,\n",
       "       0, 0, 0, 0, 0, 0, 0, 0, 0, 0, 0, 0, 0, 0, 0, 0, 0, 0, 0, 0, 0, 0,\n",
       "       0, 0, 0, 0, 0, 0, 0, 0, 0, 0, 0, 0, 0, 0, 0, 0, 0, 0, 0, 0, 0, 0,\n",
       "       0, 0, 0, 0, 0, 0, 0, 0, 0, 0, 0, 0, 0, 0, 0, 0, 0, 0, 0, 0, 0, 0,\n",
       "       0, 0, 0, 0, 0, 0, 0, 0, 0, 0, 0, 0, 0, 0, 0, 0, 0, 0, 0, 0, 0, 0,\n",
       "       0, 0, 0, 0, 0, 0, 0, 0, 0, 0, 0, 0, 0], dtype=int64)"
      ]
     },
     "execution_count": 319,
     "metadata": {},
     "output_type": "execute_result"
    }
   ],
   "source": [
    "model.predict(x)"
   ]
  },
  {
   "cell_type": "code",
   "execution_count": 320,
   "id": "296e4928",
   "metadata": {},
   "outputs": [
    {
     "data": {
      "text/plain": [
       "array([[7.500e+01, 0.000e+00, 5.820e+02, ..., 1.000e+00, 0.000e+00,\n",
       "        4.000e+00],\n",
       "       [5.500e+01, 0.000e+00, 7.861e+03, ..., 1.000e+00, 0.000e+00,\n",
       "        6.000e+00],\n",
       "       [6.500e+01, 0.000e+00, 1.460e+02, ..., 1.000e+00, 1.000e+00,\n",
       "        7.000e+00],\n",
       "       ...,\n",
       "       [4.500e+01, 0.000e+00, 2.060e+03, ..., 0.000e+00, 0.000e+00,\n",
       "        2.780e+02],\n",
       "       [4.500e+01, 0.000e+00, 2.413e+03, ..., 1.000e+00, 1.000e+00,\n",
       "        2.800e+02],\n",
       "       [5.000e+01, 0.000e+00, 1.960e+02, ..., 1.000e+00, 1.000e+00,\n",
       "        2.850e+02]])"
      ]
     },
     "execution_count": 320,
     "metadata": {},
     "output_type": "execute_result"
    }
   ],
   "source": [
    "x"
   ]
  },
  {
   "cell_type": "code",
   "execution_count": 321,
   "id": "c29a7aab",
   "metadata": {},
   "outputs": [
    {
     "name": "stdout",
     "output_type": "stream",
     "text": [
      "<class 'numpy.ndarray'>\n"
     ]
    }
   ],
   "source": [
    "print(type(x_train))"
   ]
  },
  {
   "cell_type": "code",
   "execution_count": 322,
   "id": "1b0ccd71",
   "metadata": {},
   "outputs": [
    {
     "name": "stdout",
     "output_type": "stream",
     "text": [
      "<class 'numpy.ndarray'>\n"
     ]
    }
   ],
   "source": [
    "print(type(y_train))"
   ]
  },
  {
   "cell_type": "code",
   "execution_count": 323,
   "id": "8e6f928f",
   "metadata": {},
   "outputs": [
    {
     "data": {
      "image/png": "[encoded data removed]",
      "text/plain": [
       "<Figure size 432x288 with 1 Axes>"
      ]
     },
     "metadata": {
      "needs_background": "light"
     },
     "output_type": "display_data"
    }
   ],
   "source": [
    "#plotting\n",
    "plt.title(\"heart failure clinical records\")\n",
    "plt.xlabel(\"factors of failure\")\n",
    "plt.ylabel(\"Death events\")\n",
    "plt.plot(x_train, model.predict(x_train), color = \"blue\")\n",
    "plt.show()"
   ]
  },
  {
   "cell_type": "code",
   "execution_count": 324,
   "id": "90f5e4b6",
   "metadata": {},
   "outputs": [
    {
     "data": {
      "text/plain": [
       "0.8444444444444444"
      ]
     },
     "execution_count": 324,
     "metadata": {},
     "output_type": "execute_result"
    }
   ],
   "source": [
    "model.score(x_test,y_test)"
   ]
  },
  {
   "cell_type": "code",
   "execution_count": 325,
   "id": "ad04e74e",
   "metadata": {},
   "outputs": [
    {
     "data": {
      "text/plain": [
       "array([[0.03993593, 0.96006407],\n",
       "       [0.09354062, 0.90645938],\n",
       "       [0.06660551, 0.93339449],\n",
       "       [0.13088984, 0.86911016],\n",
       "       [0.08788516, 0.91211484],\n",
       "       [0.07971065, 0.92028935],\n",
       "       [0.02774565, 0.97225435],\n",
       "       [0.67896998, 0.32103002],\n",
       "       [0.64568654, 0.35431346],\n",
       "       [0.10796007, 0.89203993],\n",
       "       [0.16590046, 0.83409954],\n",
       "       [0.11108102, 0.88891898],\n",
       "       [0.24908964, 0.75091036],\n",
       "       [0.38056698, 0.61943302],\n",
       "       [0.31089828, 0.68910172],\n",
       "       [0.18051571, 0.81948429],\n",
       "       [0.08893601, 0.91106399],\n",
       "       [0.12242326, 0.87757674],\n",
       "       [0.08446964, 0.91553036],\n",
       "       [0.67134378, 0.32865622],\n",
       "       [0.11597534, 0.88402466],\n",
       "       [0.16985626, 0.83014374],\n",
       "       [0.19122196, 0.80877804],\n",
       "       [0.77882316, 0.22117684],\n",
       "       [0.10546694, 0.89453306],\n",
       "       [0.12330033, 0.87669967],\n",
       "       [0.07991552, 0.92008448],\n",
       "       [0.33569545, 0.66430455],\n",
       "       [0.32820393, 0.67179607],\n",
       "       [0.08417426, 0.91582574],\n",
       "       [0.07896957, 0.92103043],\n",
       "       [0.21890359, 0.78109641],\n",
       "       [0.43748227, 0.56251773],\n",
       "       [0.33938587, 0.66061413],\n",
       "       [0.46097896, 0.53902104],\n",
       "       [0.19818155, 0.80181845],\n",
       "       [0.21453508, 0.78546492],\n",
       "       [0.26417124, 0.73582876],\n",
       "       [0.16688699, 0.83311301],\n",
       "       [0.35016993, 0.64983007],\n",
       "       [0.08131677, 0.91868323],\n",
       "       [0.32042842, 0.67957158],\n",
       "       [0.31809015, 0.68190985],\n",
       "       [0.41272983, 0.58727017],\n",
       "       [0.683769  , 0.316231  ],\n",
       "       [0.49085443, 0.50914557],\n",
       "       [0.25343557, 0.74656443],\n",
       "       [0.42622537, 0.57377463],\n",
       "       [0.0535366 , 0.9464634 ],\n",
       "       [0.33986016, 0.66013984],\n",
       "       [0.13316347, 0.86683653],\n",
       "       [0.24933533, 0.75066467],\n",
       "       [0.621038  , 0.378962  ],\n",
       "       [0.53191028, 0.46808972],\n",
       "       [0.42021386, 0.57978614],\n",
       "       [0.0886803 , 0.9113197 ],\n",
       "       [0.28707823, 0.71292177],\n",
       "       [0.462545  , 0.537455  ],\n",
       "       [0.29389022, 0.70610978],\n",
       "       [0.12435441, 0.87564559],\n",
       "       [0.18962807, 0.81037193],\n",
       "       [0.63936346, 0.36063654],\n",
       "       [0.49905807, 0.50094193],\n",
       "       [0.62994193, 0.37005807],\n",
       "       [0.97443224, 0.02556776],\n",
       "       [0.2171071 , 0.7828929 ],\n",
       "       [0.332532  , 0.667468  ],\n",
       "       [0.19088452, 0.80911548],\n",
       "       [0.20021946, 0.79978054],\n",
       "       [0.31764357, 0.68235643],\n",
       "       [0.79120008, 0.20879992],\n",
       "       [0.45701416, 0.54298584],\n",
       "       [0.09098722, 0.90901278],\n",
       "       [0.65775136, 0.34224864],\n",
       "       [0.17769968, 0.82230032],\n",
       "       [0.25208309, 0.74791691],\n",
       "       [0.79137809, 0.20862191],\n",
       "       [0.77753739, 0.22246261],\n",
       "       [0.39176853, 0.60823147],\n",
       "       [0.73163479, 0.26836521],\n",
       "       [0.48999315, 0.51000685],\n",
       "       [0.66736281, 0.33263719],\n",
       "       [0.34789456, 0.65210544],\n",
       "       [0.53843539, 0.46156461],\n",
       "       [0.36828455, 0.63171545],\n",
       "       [0.85756561, 0.14243439],\n",
       "       [0.57685456, 0.42314544],\n",
       "       [0.84206591, 0.15793409],\n",
       "       [0.77945608, 0.22054392],\n",
       "       [0.36585045, 0.63414955],\n",
       "       [0.59031077, 0.40968923],\n",
       "       [0.68827716, 0.31172284],\n",
       "       [0.94118329, 0.05881671],\n",
       "       [0.36669775, 0.63330225],\n",
       "       [0.63776442, 0.36223558],\n",
       "       [0.87956262, 0.12043738],\n",
       "       [0.33535496, 0.66464504],\n",
       "       [0.82024131, 0.17975869],\n",
       "       [0.40653956, 0.59346044],\n",
       "       [0.60394769, 0.39605231],\n",
       "       [0.33800398, 0.66199602],\n",
       "       [0.54057423, 0.45942577],\n",
       "       [0.15053388, 0.84946612],\n",
       "       [0.46349966, 0.53650034],\n",
       "       [0.79166884, 0.20833116],\n",
       "       [0.43212462, 0.56787538],\n",
       "       [0.76095358, 0.23904642],\n",
       "       [0.66951184, 0.33048816],\n",
       "       [0.57732905, 0.42267095],\n",
       "       [0.84186812, 0.15813188],\n",
       "       [0.71897838, 0.28102162],\n",
       "       [0.64667568, 0.35332432],\n",
       "       [0.52911127, 0.47088873],\n",
       "       [0.84569294, 0.15430706],\n",
       "       [0.68543578, 0.31456422],\n",
       "       [0.65808996, 0.34191004],\n",
       "       [0.90152313, 0.09847687],\n",
       "       [0.76664773, 0.23335227],\n",
       "       [0.86393715, 0.13606285],\n",
       "       [0.33156794, 0.66843206],\n",
       "       [0.88595058, 0.11404942],\n",
       "       [0.56838623, 0.43161377],\n",
       "       [0.6493642 , 0.3506358 ],\n",
       "       [0.45297832, 0.54702168],\n",
       "       [0.66906671, 0.33093329],\n",
       "       [0.91287405, 0.08712595],\n",
       "       [0.52783554, 0.47216446],\n",
       "       [0.92543702, 0.07456298],\n",
       "       [0.55869456, 0.44130544],\n",
       "       [0.70419396, 0.29580604],\n",
       "       [0.92038194, 0.07961806],\n",
       "       [0.77301867, 0.22698133],\n",
       "       [0.83839018, 0.16160982],\n",
       "       [0.90506615, 0.09493385],\n",
       "       [0.2295869 , 0.7704131 ],\n",
       "       [0.55259555, 0.44740445],\n",
       "       [0.89150415, 0.10849585],\n",
       "       [0.40668927, 0.59331073],\n",
       "       [0.63490097, 0.36509903],\n",
       "       [0.63360333, 0.36639667],\n",
       "       [0.46082977, 0.53917023],\n",
       "       [0.81595598, 0.18404402],\n",
       "       [0.72045389, 0.27954611],\n",
       "       [0.73070711, 0.26929289],\n",
       "       [0.35260889, 0.64739111],\n",
       "       [0.71479712, 0.28520288],\n",
       "       [0.69300987, 0.30699013],\n",
       "       [0.8877168 , 0.1122832 ],\n",
       "       [0.40341351, 0.59658649],\n",
       "       [0.60709671, 0.39290329],\n",
       "       [0.71320343, 0.28679657],\n",
       "       [0.92603782, 0.07396218],\n",
       "       [0.88711548, 0.11288452],\n",
       "       [0.75500523, 0.24499477],\n",
       "       [0.65656498, 0.34343502],\n",
       "       [0.53393936, 0.46606064],\n",
       "       [0.801857  , 0.198143  ],\n",
       "       [0.67938645, 0.32061355],\n",
       "       [0.6490321 , 0.3509679 ],\n",
       "       [0.86114274, 0.13885726],\n",
       "       [0.73835385, 0.26164615],\n",
       "       [0.83482526, 0.16517474],\n",
       "       [0.79328391, 0.20671609],\n",
       "       [0.71526047, 0.28473953],\n",
       "       [0.7650251 , 0.2349749 ],\n",
       "       [0.54373214, 0.45626786],\n",
       "       [0.96481866, 0.03518134],\n",
       "       [0.51755946, 0.48244054],\n",
       "       [0.79757758, 0.20242242],\n",
       "       [0.71190249, 0.28809751],\n",
       "       [0.86206201, 0.13793799],\n",
       "       [0.82709495, 0.17290505],\n",
       "       [0.92744975, 0.07255025],\n",
       "       [0.69792913, 0.30207087],\n",
       "       [0.77458458, 0.22541542],\n",
       "       [0.96463216, 0.03536784],\n",
       "       [0.72947989, 0.27052011],\n",
       "       [0.94965686, 0.05034314],\n",
       "       [0.95398071, 0.04601929],\n",
       "       [0.87694002, 0.12305998],\n",
       "       [0.89705847, 0.10294153],\n",
       "       [0.70288375, 0.29711625],\n",
       "       [0.65624957, 0.34375043],\n",
       "       [0.77320561, 0.22679439],\n",
       "       [0.7864278 , 0.2135722 ],\n",
       "       [0.85121986, 0.14878014],\n",
       "       [0.96657181, 0.03342819],\n",
       "       [0.73498144, 0.26501856],\n",
       "       [0.90411069, 0.09588931],\n",
       "       [0.97608013, 0.02391987],\n",
       "       [0.74253713, 0.25746287],\n",
       "       [0.9748274 , 0.0251726 ],\n",
       "       [0.95092239, 0.04907761],\n",
       "       [0.7256044 , 0.2743956 ],\n",
       "       [0.83690129, 0.16309871],\n",
       "       [0.86138657, 0.13861343],\n",
       "       [0.95825104, 0.04174896],\n",
       "       [0.83938929, 0.16061071],\n",
       "       [0.84388401, 0.15611599],\n",
       "       [0.90582144, 0.09417856],\n",
       "       [0.90914977, 0.09085023],\n",
       "       [0.99245173, 0.00754827],\n",
       "       [0.96968921, 0.03031079],\n",
       "       [0.82388094, 0.17611906],\n",
       "       [0.85392598, 0.14607402],\n",
       "       [0.97360819, 0.02639181],\n",
       "       [0.97291653, 0.02708347],\n",
       "       [0.75946258, 0.24053742],\n",
       "       [0.90315464, 0.09684536],\n",
       "       [0.94017006, 0.05982994],\n",
       "       [0.66552508, 0.33447492],\n",
       "       [0.98947943, 0.01052057],\n",
       "       [0.9400667 , 0.0599333 ],\n",
       "       [0.93694134, 0.06305866],\n",
       "       [0.90340668, 0.09659332],\n",
       "       [0.84133823, 0.15866177],\n",
       "       [0.94748628, 0.05251372],\n",
       "       [0.99321319, 0.00678681],\n",
       "       [0.8761197 , 0.1238803 ],\n",
       "       [0.94044401, 0.05955599],\n",
       "       [0.67814931, 0.32185069],\n",
       "       [0.96105858, 0.03894142],\n",
       "       [0.97301356, 0.02698644],\n",
       "       [0.91044834, 0.08955166],\n",
       "       [0.90328617, 0.09671383],\n",
       "       [0.97435723, 0.02564277],\n",
       "       [0.88309169, 0.11690831],\n",
       "       [0.90601588, 0.09398412],\n",
       "       [0.85277291, 0.14722709],\n",
       "       [0.80352289, 0.19647711],\n",
       "       [0.89881213, 0.10118787],\n",
       "       [0.89563842, 0.10436158],\n",
       "       [0.97655888, 0.02344112],\n",
       "       [0.96300256, 0.03699744],\n",
       "       [0.9769063 , 0.0230937 ],\n",
       "       [0.95635688, 0.04364312],\n",
       "       [0.94870953, 0.05129047],\n",
       "       [0.86011337, 0.13988663],\n",
       "       [0.93929644, 0.06070356],\n",
       "       [0.97612454, 0.02387546],\n",
       "       [0.92976314, 0.07023686],\n",
       "       [0.89050447, 0.10949553],\n",
       "       [0.97820143, 0.02179857],\n",
       "       [0.9027264 , 0.0972736 ],\n",
       "       [0.96297371, 0.03702629],\n",
       "       [0.95244545, 0.04755455],\n",
       "       [0.88919984, 0.11080016],\n",
       "       [0.8716945 , 0.1283055 ],\n",
       "       [0.97698878, 0.02301122],\n",
       "       [0.97146222, 0.02853778],\n",
       "       [0.93628097, 0.06371903],\n",
       "       [0.94957531, 0.05042469],\n",
       "       [0.98330553, 0.01669447],\n",
       "       [0.91392738, 0.08607262],\n",
       "       [0.9924144 , 0.0075856 ],\n",
       "       [0.95035377, 0.04964623],\n",
       "       [0.94709821, 0.05290179],\n",
       "       [0.96864082, 0.03135918],\n",
       "       [0.96084884, 0.03915116],\n",
       "       [0.99054366, 0.00945634],\n",
       "       [0.97690467, 0.02309533],\n",
       "       [0.96819306, 0.03180694],\n",
       "       [0.90570443, 0.09429557],\n",
       "       [0.9894196 , 0.0105804 ],\n",
       "       [0.96073388, 0.03926612],\n",
       "       [0.98031763, 0.01968237],\n",
       "       [0.91629142, 0.08370858],\n",
       "       [0.97491774, 0.02508226],\n",
       "       [0.98697656, 0.01302344],\n",
       "       [0.98718598, 0.01281402],\n",
       "       [0.9792325 , 0.0207675 ],\n",
       "       [0.98405374, 0.01594626],\n",
       "       [0.96320484, 0.03679516],\n",
       "       [0.99012985, 0.00987015],\n",
       "       [0.9500585 , 0.0499415 ],\n",
       "       [0.98911164, 0.01088836],\n",
       "       [0.94701914, 0.05298086],\n",
       "       [0.94233279, 0.05766721],\n",
       "       [0.96845903, 0.03154097],\n",
       "       [0.98455982, 0.01544018],\n",
       "       [0.94433075, 0.05566925],\n",
       "       [0.95543861, 0.04456139],\n",
       "       [0.98397337, 0.01602663],\n",
       "       [0.96108722, 0.03891278],\n",
       "       [0.98786706, 0.01213294],\n",
       "       [0.98575433, 0.01424567],\n",
       "       [0.97104269, 0.02895731],\n",
       "       [0.99745756, 0.00254244],\n",
       "       [0.96197833, 0.03802167],\n",
       "       [0.91777753, 0.08222247],\n",
       "       [0.99656207, 0.00343793],\n",
       "       [0.97079687, 0.02920313],\n",
       "       [0.9880733 , 0.0119267 ],\n",
       "       [0.9761344 , 0.0238656 ],\n",
       "       [0.98003624, 0.01996376],\n",
       "       [0.98372694, 0.01627306],\n",
       "       [0.99886718, 0.00113282],\n",
       "       [0.98921083, 0.01078917],\n",
       "       [0.9962649 , 0.0037351 ]])"
      ]
     },
     "execution_count": 325,
     "metadata": {},
     "output_type": "execute_result"
    }
   ],
   "source": [
    "model.predict_proba(x)"
   ]
  },
  {
   "cell_type": "code",
   "execution_count": 326,
   "id": "5b4fb7c4",
   "metadata": {},
   "outputs": [
    {
     "data": {
      "text/plain": [
       "array([[7.500e+01, 0.000e+00, 5.820e+02, ..., 1.000e+00, 0.000e+00,\n",
       "        4.000e+00],\n",
       "       [5.500e+01, 0.000e+00, 7.861e+03, ..., 1.000e+00, 0.000e+00,\n",
       "        6.000e+00],\n",
       "       [6.500e+01, 0.000e+00, 1.460e+02, ..., 1.000e+00, 1.000e+00,\n",
       "        7.000e+00],\n",
       "       ...,\n",
       "       [4.500e+01, 0.000e+00, 2.060e+03, ..., 0.000e+00, 0.000e+00,\n",
       "        2.780e+02],\n",
       "       [4.500e+01, 0.000e+00, 2.413e+03, ..., 1.000e+00, 1.000e+00,\n",
       "        2.800e+02],\n",
       "       [5.000e+01, 0.000e+00, 1.960e+02, ..., 1.000e+00, 1.000e+00,\n",
       "        2.850e+02]])"
      ]
     },
     "execution_count": 326,
     "metadata": {},
     "output_type": "execute_result"
    }
   ],
   "source": [
    "x"
   ]
  },
  {
   "cell_type": "code",
   "execution_count": null,
   "id": "ad2e7bf3",
   "metadata": {},
   "outputs": [],
   "source": []
  },
  {
   "cell_type": "code",
   "execution_count": null,
   "id": "8e7503f6",
   "metadata": {},
   "outputs": [],
   "source": []
  }
 ],
 "metadata": {
  "kernelspec": {
   "display_name": "Python 3 (ipykernel)",
   "language": "python",
   "name": "python3"
  },
  "language_info": {
   "codemirror_mode": {
    "name": "ipython",
    "version": 3
   },
   "file_extension": ".py",
   "mimetype": "text/x-python",
   "name": "python",
   "nbconvert_exporter": "python",
   "pygments_lexer": "ipython3",
   "version": "3.9.12"
  }
 },
 "nbformat": 4,
 "nbformat_minor": 5
}
