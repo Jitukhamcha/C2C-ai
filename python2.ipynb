{
 "cells": [
  {
   "cell_type": "code",
   "execution_count": 1,
   "id": "9bad1a67",
   "metadata": {},
   "outputs": [
    {
     "name": "stdout",
     "output_type": "stream",
     "text": [
      "hello\n"
     ]
    }
   ],
   "source": [
    "print('hello')"
   ]
  },
  {
   "cell_type": "code",
   "execution_count": 2,
   "id": "c4f5591a",
   "metadata": {},
   "outputs": [
    {
     "name": "stdout",
     "output_type": "stream",
     "text": [
      "enter a stinglearning python\n"
     ]
    }
   ],
   "source": [
    "inputstring=input('enter a sting')"
   ]
  },
  {
   "cell_type": "code",
   "execution_count": 3,
   "id": "1baa1975",
   "metadata": {},
   "outputs": [
    {
     "name": "stdout",
     "output_type": "stream",
     "text": [
      "input string is: learning python\n"
     ]
    }
   ],
   "source": [
    "print('input string is:',inputstring)"
   ]
  },
  {
   "cell_type": "code",
   "execution_count": 7,
   "id": "564d940e",
   "metadata": {},
   "outputs": [],
   "source": [
    "def towerOfHannoi(n,source,destination,auxiliary):\n",
    "    if n==1:\n",
    "        print(\"move disk 1 from source\",source,\"to destination\",destination)\n",
    "        return\n",
    "    towerOfHannoi(n-1,source,auxiliary,destination)\n",
    "    print(\"Move disk\",n,\"from source\",source,\"to destination\",destination)\n",
    "    towerOfHannoi(n-1,auxiliary,destination,source)\n",
    "    n=4\n",
    "    towerOfHannoi(n,'A','B','C')"
   ]
  },
  {
   "cell_type": "code",
   "execution_count": 6,
   "id": "aaed4634",
   "metadata": {},
   "outputs": [
    {
     "name": "stdout",
     "output_type": "stream",
     "text": [
      "hi\n"
     ]
    }
   ],
   "source": [
    "print('hi')"
   ]
  },
  {
   "cell_type": "code",
   "execution_count": 8,
   "id": "fb64a60d",
   "metadata": {},
   "outputs": [],
   "source": [
    "def towerOfHannoi(n,source,destination,auxiliary):\n",
    "    if(n==1):\n",
    "        print(\"move disk 1 from source\",source,\"to destination\",destination)\n",
    "        return"
   ]
  },
  {
   "cell_type": "code",
   "execution_count": 11,
   "id": "d7e21c00",
   "metadata": {},
   "outputs": [
    {
     "ename": "NameError",
     "evalue": "name 'source' is not defined",
     "output_type": "error",
     "traceback": [
      "\u001b[1;31m---------------------------------------------------------------------------\u001b[0m",
      "\u001b[1;31mNameError\u001b[0m                                 Traceback (most recent call last)",
      "Input \u001b[1;32mIn [11]\u001b[0m, in \u001b[0;36m<cell line: 5>\u001b[1;34m()\u001b[0m\n\u001b[0;32m      3\u001b[0m         \u001b[38;5;28mprint\u001b[39m(\u001b[38;5;124m\"\u001b[39m\u001b[38;5;124mmove disk 1 from source\u001b[39m\u001b[38;5;124m\"\u001b[39m,source,\u001b[38;5;124m\"\u001b[39m\u001b[38;5;124mto destination\u001b[39m\u001b[38;5;124m\"\u001b[39m,destination)\n\u001b[0;32m      4\u001b[0m         \u001b[38;5;28;01mreturn\u001b[39;00m\n\u001b[1;32m----> 5\u001b[0m towerOfHannoi(n\u001b[38;5;241m-\u001b[39m\u001b[38;5;241m1\u001b[39m,\u001b[43msource\u001b[49m,auxiliary,destination)\n\u001b[0;32m      6\u001b[0m \u001b[38;5;28mprint\u001b[39m(\u001b[38;5;124m\"\u001b[39m\u001b[38;5;124mMove disk\u001b[39m\u001b[38;5;124m\"\u001b[39m,n,\u001b[38;5;124m\"\u001b[39m\u001b[38;5;124mfrom source\u001b[39m\u001b[38;5;124m\"\u001b[39m,source,\u001b[38;5;124m\"\u001b[39m\u001b[38;5;124mto destination\u001b[39m\u001b[38;5;124m\"\u001b[39m,destination)\n\u001b[0;32m      7\u001b[0m towerOfHannoi(n\u001b[38;5;241m-\u001b[39m\u001b[38;5;241m1\u001b[39m,auxiliary,destination,source)\n",
      "\u001b[1;31mNameError\u001b[0m: name 'source' is not defined"
     ]
    }
   ],
   "source": [
    "def towerOfHannoi(n,source,destination,auxiliary):\n",
    "    if(n==1):\n",
    "        print(\"move disk 1 from source\",source,\"to destination\",destination)\n",
    "        return\n",
    "towerOfHannoi(n-1, source,auxiliary,destination)\n",
    "print(\"Move disk\",n,\"from source\",source,\"to destination\",destination)\n",
    "towerOfHannoi(n-1,auxiliary,destination,source)\n",
    "n=4\n",
    "towerOfHannoi(n,'A','B','C')"
   ]
  },
  {
   "cell_type": "code",
   "execution_count": 10,
   "id": "163aa96a",
   "metadata": {},
   "outputs": [
    {
     "name": "stdout",
     "output_type": "stream",
     "text": [
      "Move disk 1 from source A to destination C\n",
      "Move disk 2 from source A to destination B\n",
      "Move disk 1 from source C to destination B\n",
      "Move disk 3 from source A to destination C\n",
      "Move disk 1 from source B to destination A\n",
      "Move disk 2 from source B to destination C\n",
      "Move disk 1 from source A to destination C\n",
      "Move disk 4 from source A to destination B\n",
      "Move disk 1 from source C to destination B\n",
      "Move disk 2 from source C to destination A\n",
      "Move disk 1 from source B to destination A\n",
      "Move disk 3 from source C to destination B\n",
      "Move disk 1 from source A to destination C\n",
      "Move disk 2 from source A to destination B\n",
      "Move disk 1 from source C to destination B\n"
     ]
    }
   ],
   "source": [
    "def TowerOfHanoi(n , source, destination, auxiliary):\n",
    "    if n==1:\n",
    "        print (\"Move disk 1 from source\",source,\"to destination\",destination)\n",
    "        return\n",
    "    TowerOfHanoi(n-1, source, auxiliary, destination)\n",
    "    print (\"Move disk\",n,\"from source\",source,\"to destination\",destination)\n",
    "    TowerOfHanoi(n-1, auxiliary, destination, source)\n",
    "         \n",
    "\n",
    "n = 4\n",
    "TowerOfHanoi(n,'A','B','C')\n",
    "# A, C, B are the name of rods"
   ]
  },
  {
   "cell_type": "code",
   "execution_count": 13,
   "id": "214f2b02",
   "metadata": {},
   "outputs": [
    {
     "ename": "IndentationError",
     "evalue": "expected an indented block (2405846933.py, line 3)",
     "output_type": "error",
     "traceback": [
      "\u001b[1;36m  Input \u001b[1;32mIn [13]\u001b[1;36m\u001b[0m\n\u001b[1;33m    return ('yes triangle can be formed')\u001b[0m\n\u001b[1;37m    ^\u001b[0m\n\u001b[1;31mIndentationError\u001b[0m\u001b[1;31m:\u001b[0m expected an indented block\n"
     ]
    }
   ],
   "source": [
    "def is_triangle(length_1,length_2,length_3):\n",
    "    if length_1+length_2>length_3 or length_1+length_3>length_2 or length_2+length_3>length_1:\n",
    "    return ('yes triangle can be formed')\n",
    "else:\n",
    "    return ('no triangle cannot be formed')\n",
    "\n",
    "is_triangle(12,1,1)\n"
   ]
  },
  {
   "cell_type": "code",
   "execution_count": 14,
   "id": "4a0a99fd",
   "metadata": {},
   "outputs": [
    {
     "ename": "IndentationError",
     "evalue": "expected an indented block (1750402139.py, line 3)",
     "output_type": "error",
     "traceback": [
      "\u001b[1;36m  Input \u001b[1;32mIn [14]\u001b[1;36m\u001b[0m\n\u001b[1;33m    return ('yes triangle can be formed')\u001b[0m\n\u001b[1;37m    ^\u001b[0m\n\u001b[1;31mIndentationError\u001b[0m\u001b[1;31m:\u001b[0m expected an indented block\n"
     ]
    }
   ],
   "source": [
    "def is_triangle(length_1,length_2,length_3):\n",
    "    if length_1+length_2>length_3 or length_1+length_3>length_2 or length_2+length_3>length_1:\n",
    "        return ('yes triangle can be formed')\n",
    "else:\n",
    "    return ('no triangle cannot be formed')\n",
    "\n",
    "is_triangle(12,1,1)\n",
    "\n"
   ]
  },
  {
   "cell_type": "code",
   "execution_count": 15,
   "id": "38e9e97c",
   "metadata": {},
   "outputs": [
    {
     "ename": "SyntaxError",
     "evalue": "invalid syntax (1823260373.py, line 4)",
     "output_type": "error",
     "traceback": [
      "\u001b[1;36m  Input \u001b[1;32mIn [15]\u001b[1;36m\u001b[0m\n\u001b[1;33m    else:\u001b[0m\n\u001b[1;37m    ^\u001b[0m\n\u001b[1;31mSyntaxError\u001b[0m\u001b[1;31m:\u001b[0m invalid syntax\n"
     ]
    }
   ],
   "source": [
    "def is_triangle(length_1,length_2,length_3):\n",
    "    if length_1+length_2>length_3 or length_1+length_3>length_2 or length_2+length_3>length_1:\n",
    "        return ('yes triangle can be formed')\n",
    "    else:\n",
    "        return ('no triangle cannot be formed')\n",
    "\n",
    "is_triangle(12,1,1)\n"
   ]
  },
  {
   "cell_type": "code",
   "execution_count": 30,
   "id": "f0351746",
   "metadata": {},
   "outputs": [
    {
     "data": {
      "text/plain": [
       "'no triangle can be formed'"
      ]
     },
     "execution_count": 30,
     "metadata": {},
     "output_type": "execute_result"
    }
   ],
   "source": [
    "def is_triangle(length_1,length_2,length_3):\n",
    "    if length_1+length_2<length_3 or length_1+length_3<length_2 or length_2+length_3<length_1:\n",
    "        return ('no triangle can be formed')\n",
    "    else:\n",
    "        return ('yes triangle cannot be formed')\n",
    "\n",
    "is_triangle(12,1,1)\n",
    "\n"
   ]
  },
  {
   "cell_type": "code",
   "execution_count": 18,
   "id": "e49c6713",
   "metadata": {},
   "outputs": [],
   "source": [
    "def is_triangle(length_1,length_2,length_3):\n",
    "    if length_1+length_2<length_3 or length_1+length_3<length_2 or length_2+length_3<length_1:\n",
    "        return False\n",
    "    else:\n",
    "        return True\n",
    "    length_1=(input('enter lenght of stick 1:'))\n",
    "    length_2=(input('enter length of stick 2:'))\n",
    "    length_3=(input('enter length of stick 3:'))\n"
   ]
  },
  {
   "cell_type": "code",
   "execution_count": 19,
   "id": "e4459719",
   "metadata": {},
   "outputs": [],
   "source": [
    "def is_triangle(length_1,length_2,length_3):\n",
    "    if length_1+length_2<length_3 or length_1+length_3<length_2 or length_2+length_3<length_1:\n",
    "        return False\n",
    "    else:\n",
    "        return True"
   ]
  },
  {
   "cell_type": "code",
   "execution_count": 20,
   "id": "6548ec17",
   "metadata": {},
   "outputs": [
    {
     "name": "stdout",
     "output_type": "stream",
     "text": [
      "enter lenght of stick 1:3\n",
      "enter length of stick 2:3\n",
      "enter length of stick 3:3\n"
     ]
    }
   ],
   "source": [
    "length_1=(input('enter lenght of stick 1:'))\n",
    "length_2=(input('enter length of stick 2:'))\n",
    "length_3=(input('enter length of stick 3:'))\n"
   ]
  },
  {
   "cell_type": "code",
   "execution_count": 23,
   "id": "6fd9a609",
   "metadata": {},
   "outputs": [
    {
     "name": "stdout",
     "output_type": "stream",
     "text": [
      "yes triangle can be formed\n"
     ]
    }
   ],
   "source": [
    "if is_triangle(length_1,length_2,length_3):\n",
    "    print('yes triangle can be formed')\n",
    "else:\n",
    "    print('no triangle cannot be formed')"
   ]
  },
  {
   "cell_type": "code",
   "execution_count": 24,
   "id": "b9caf361",
   "metadata": {},
   "outputs": [
    {
     "name": "stdout",
     "output_type": "stream",
     "text": [
      "enter string:Zebra\n"
     ]
    }
   ],
   "source": [
    "my_string=input(\"enter string:\")"
   ]
  },
  {
   "cell_type": "code",
   "execution_count": 25,
   "id": "55f1b221",
   "metadata": {},
   "outputs": [
    {
     "name": "stdout",
     "output_type": "stream",
     "text": [
      "yes the letter is present\n"
     ]
    }
   ],
   "source": [
    "if \"e\" in my_string:\n",
    "    print('yes the letter is present')\n",
    "else:\n",
    "    print('no the letter is not present')"
   ]
  },
  {
   "cell_type": "code",
   "execution_count": 27,
   "id": "5e0f370f",
   "metadata": {},
   "outputs": [
    {
     "name": "stdout",
     "output_type": "stream",
     "text": [
      "no the letter is not present in string\n"
     ]
    }
   ],
   "source": [
    "if \"z\" in my_string:\n",
    "    print('yes the letter is present in string')\n",
    "else:\n",
    "    print('no the letter is not present in string')"
   ]
  },
  {
   "cell_type": "code",
   "execution_count": null,
   "id": "8f50b8cf",
   "metadata": {},
   "outputs": [],
   "source": []
  }
 ],
 "metadata": {
  "kernelspec": {
   "display_name": "Python 3 (ipykernel)",
   "language": "python",
   "name": "python3"
  },
  "language_info": {
   "codemirror_mode": {
    "name": "ipython",
    "version": 3
   },
   "file_extension": ".py",
   "mimetype": "text/x-python",
   "name": "python",
   "nbconvert_exporter": "python",
   "pygments_lexer": "ipython3",
   "version": "3.9.12"
  }
 },
 "nbformat": 4,
 "nbformat_minor": 5
}
