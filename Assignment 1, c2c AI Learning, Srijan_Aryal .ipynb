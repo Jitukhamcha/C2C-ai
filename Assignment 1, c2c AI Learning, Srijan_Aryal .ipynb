{
 "cells": [
  {
   "cell_type": "markdown",
   "id": "54ca6f1d",
   "metadata": {},
   "source": [
    "Q1. Write a function named is_triangle that takes three integers as arguments, and that prints\n",
    "either “Yes” or “No”, depending on whether you can or cannot form a triangle from sticks\n",
    "with the given lengths.\n"
   ]
  },
  {
   "cell_type": "code",
   "execution_count": 12,
   "id": "4345da7c",
   "metadata": {},
   "outputs": [
    {
     "name": "stdout",
     "output_type": "stream",
     "text": [
      "Yes!, these lenght of stick do make an triangle.\n",
      "No!, these lenght of stick do not make a triangle.\n",
      "Yes!, these lenght of stick do make an triangle.\n"
     ]
    }
   ],
   "source": [
    "def is_triangle (a,b,c):\n",
    "    if a+b==c or b+c==a or a+c==b:\n",
    "        print(\"Yes!, these lenght of stick do make an triangle.\")\n",
    "    else:\n",
    "        print(\"No!, these lenght of stick do not make a triangle.\")\n",
    "is_triangle(1,2,3)\n",
    "is_triangle(3,4,5)\n",
    "is_triangle(222,333,555)"
   ]
  },
  {
   "cell_type": "markdown",
   "id": "4fc0b9ea",
   "metadata": {},
   "source": [
    "Q2. Write a function that prompts the user to input three stick lengths, converts them to integers,\n",
    "and uses is_triangle to check whether sticks with the given lengths can form a triangle.\n"
   ]
  },
  {
   "cell_type": "code",
   "execution_count": 17,
   "id": "e4916eb1",
   "metadata": {},
   "outputs": [
    {
     "name": "stdout",
     "output_type": "stream",
     "text": [
      "Enter the lenght of first stick:12\n",
      "Enter the lenght of second stick:12\n",
      "Enter the lenght of third stick:42\n",
      "No!, these lenght of stick do not make a triangle.\n"
     ]
    }
   ],
   "source": [
    "def inp():\n",
    "    global x,y,z\n",
    "    x = int(input(\"Enter the lenght of first stick:\"))\n",
    "    y = int(input(\"Enter the lenght of second stick:\"))\n",
    "    z = int(input(\"Enter the lenght of third stick:\"))\n",
    "inp()\n",
    "#print(x)\n",
    "#print(y + z)\n",
    "is_triangle (x,y,z)"
   ]
  },
  {
   "cell_type": "markdown",
   "id": "89bbe618",
   "metadata": {},
   "source": [
    "Q3. Find out if the letter entered by the user is in the given string. Histogram:\n",
    "### Zebra - {‘z’:1, ‘e’:1, …}\n"
   ]
  },
  {
   "cell_type": "code",
   "execution_count": 45,
   "id": "1956a344",
   "metadata": {},
   "outputs": [
    {
     "name": "stdout",
     "output_type": "stream",
     "text": [
      "Enter a word:HIPPOpotamas\n",
      "Frequency of alphabets repetation in given string is:  {'H': 1, 'I': 1, 'P': 2, 'O': 1, 'p': 1, 'o': 1, 't': 1, 'a': 2, 'm': 1, 's': 1}\n"
     ]
    }
   ],
   "source": [
    "letter = input(\"Enter a word:\")\n",
    "#print(\"Your word is \")\n",
    "#print(a)\n",
    "#letter.lower()\n",
    "ourdict = {}\n",
    "#type(ourdict)\n",
    "for i in letter:\n",
    "    if i in ourdict:\n",
    "        ourdict[i] += 1\n",
    "    else:\n",
    "        ourdict[i] = 1\n",
    "        \n",
    "print(\"Frequency of alphabets repetation in given string is: \", ourdict)\n"
   ]
  },
  {
   "cell_type": "markdown",
   "id": "c758cc53",
   "metadata": {},
   "source": [
    "### Tower of Hanoi"
   ]
  },
  {
   "cell_type": "code",
   "execution_count": 16,
   "id": "7396c026",
   "metadata": {},
   "outputs": [
    {
     "name": "stdout",
     "output_type": "stream",
     "text": [
      "Transfer disk 1 from A to C\n",
      "Transfer disk 2 from A to B\n",
      "Transfer disk 1 from C to B\n",
      "Transfer disk 3 from A to C\n",
      "Transfer disk 1 from B to A\n",
      "Transfer disk 2 from B to C\n",
      "Transfer disk 1 from A to C\n",
      "Transfer disk 4 from A to B\n",
      "Transfer disk 1 from C to B\n",
      "Transfer disk 2 from C to A\n",
      "Transfer disk 1 from B to A\n",
      "Transfer disk 3 from C to B\n",
      "Transfer disk 1 from A to C\n",
      "Transfer disk 2 from A to B\n",
      "Transfer disk 1 from C to B\n"
     ]
    }
   ],
   "source": [
    "def toh(n,s,d,a): #s=source,d=destination,a=axiallly(helper)\n",
    "    if n==1:\n",
    "        print(\"Transfer disk\",n, \"from\",s,\"to\",d)\n",
    "        return\n",
    "    toh(n-1,s,a,d)\n",
    "    print(\"Transfer disk\",n,\"from\",s,\"to\",d)\n",
    "    toh(n-1,a,d,s)\n",
    "n = 4\n",
    "toh(n,'A','B','C')"
   ]
  },
  {
   "cell_type": "markdown",
   "id": "5ee550b7",
   "metadata": {},
   "source": [
    "Q5.Merge in dictionary"
   ]
  },
  {
   "cell_type": "code",
   "execution_count": 13,
   "id": "075d91e7",
   "metadata": {},
   "outputs": [
    {
     "data": {
      "text/plain": [
       "{'model': 'Ferari',\n",
       " 'manu_date': 2021,\n",
       " 'engine': 'Fuel injection',\n",
       " 'company': 'Yamaha',\n",
       " 'purchase_date': 2022,\n",
       " 'Break': 'ABS',\n",
       " 'Manufacturer': 'honda',\n",
       " 'date': 2020,\n",
       " 'engine_cc': 113}"
      ]
     },
     "execution_count": 13,
     "metadata": {},
     "output_type": "execute_result"
    }
   ],
   "source": [
    "car = {\"model\":\"Ferari\",\"manu_date\":2021,\"engine\":\"Fuel injection\"}\n",
    "bike = {\"company\":\"Yamaha\",\"purchase_date\":2022,\"Break\":\"ABS\"} \n",
    "scooty = {\"Manufacturer\":\"honda\",\"date\":2020,\"engine_cc\":113}\n",
    "car.update(bike)\n",
    "car.update(scooty)\n",
    "car\n",
    "#def merge(a,b,c):\n",
    "#    return(a.update(b))\n",
    "#print(merge(car,bike,car))"
   ]
  },
  {
   "cell_type": "code",
   "execution_count": null,
   "id": "64e2f280",
   "metadata": {},
   "outputs": [],
   "source": []
  }
 ],
 "metadata": {
  "kernelspec": {
   "display_name": "Python 3.8.1 64-bit",
   "language": "python",
   "name": "python3"
  },
  "language_info": {
   "codemirror_mode": {
    "name": "ipython",
    "version": 3
   },
   "file_extension": ".py",
   "mimetype": "text/x-python",
   "name": "python",
   "nbconvert_exporter": "python",
   "pygments_lexer": "ipython3",
   "version": "3.8.1"
  },
  "vscode": {
   "interpreter": {
    "hash": "a4868653bb6f8972e87e4c446ab8a445a15b25dedb8594cc74c480f8152ea86a"
   }
  }
 },
 "nbformat": 4,
 "nbformat_minor": 5
}
