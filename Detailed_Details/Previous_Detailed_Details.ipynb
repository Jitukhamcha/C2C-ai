{
 "cells": [
  {
   "cell_type": "markdown",
   "metadata": {},
   "source": [
    "<h1>Loading Necessary Libraries</h1>"
   ]
  },
  {
   "cell_type": "code",
   "execution_count": 1,
   "metadata": {},
   "outputs": [],
   "source": [
    "import pandas as pd\n",
    "import numpy as np\n"
   ]
  },
  {
   "cell_type": "markdown",
   "metadata": {},
   "source": [
    "<h2>Data PreProcessing Starts</h2>"
   ]
  },
  {
   "cell_type": "code",
   "execution_count": 2,
   "metadata": {},
   "outputs": [],
   "source": [
    "df=pd.read_csv('test.csv')\n",
    "df_survived=pd.read_csv('gender_submission.csv')"
   ]
  },
  {
   "cell_type": "markdown",
   "metadata": {},
   "source": [
    "# Concating df and df_survived because df doesnot have survived column and both are aligned perfectly\n"
   ]
  },
  {
   "cell_type": "code",
   "execution_count": 3,
   "metadata": {},
   "outputs": [],
   "source": [
    "df=pd.concat([df,df_survived['Survived']],axis=1)"
   ]
  },
  {
   "cell_type": "code",
   "execution_count": 4,
   "metadata": {},
   "outputs": [
    {
     "name": "stdout",
     "output_type": "stream",
     "text": [
      "<class 'pandas.core.frame.DataFrame'>\n",
      "RangeIndex: 418 entries, 0 to 417\n",
      "Data columns (total 12 columns):\n",
      " #   Column       Non-Null Count  Dtype  \n",
      "---  ------       --------------  -----  \n",
      " 0   PassengerId  418 non-null    int64  \n",
      " 1   Pclass       418 non-null    int64  \n",
      " 2   Name         418 non-null    object \n",
      " 3   Sex          418 non-null    object \n",
      " 4   Age          332 non-null    float64\n",
      " 5   SibSp        418 non-null    int64  \n",
      " 6   Parch        418 non-null    int64  \n",
      " 7   Ticket       418 non-null    object \n",
      " 8   Fare         417 non-null    float64\n",
      " 9   Cabin        91 non-null     object \n",
      " 10  Embarked     418 non-null    object \n",
      " 11  Survived     418 non-null    int64  \n",
      "dtypes: float64(2), int64(5), object(5)\n",
      "memory usage: 39.3+ KB\n"
     ]
    }
   ],
   "source": [
    "df.info()"
   ]
  },
  {
   "cell_type": "code",
   "execution_count": 5,
   "metadata": {},
   "outputs": [
    {
     "data": {
      "text/plain": [
       "PassengerId      0\n",
       "Pclass           0\n",
       "Name             0\n",
       "Sex              0\n",
       "Age             86\n",
       "SibSp            0\n",
       "Parch            0\n",
       "Ticket           0\n",
       "Fare             1\n",
       "Cabin          327\n",
       "Embarked         0\n",
       "Survived         0\n",
       "dtype: int64"
      ]
     },
     "execution_count": 5,
     "metadata": {},
     "output_type": "execute_result"
    }
   ],
   "source": [
    "df.isnull().sum()"
   ]
  },
  {
   "cell_type": "markdown",
   "metadata": {},
   "source": [
    "## Lets Fill NAN Feilds"
   ]
  },
  {
   "cell_type": "code",
   "execution_count": 6,
   "metadata": {},
   "outputs": [],
   "source": [
    "df['Fare'].fillna(df['Fare'].mean(),inplace=True) #Replacing with mean values\n",
    "df['Age'].fillna(df['Age'].mean(),inplace=True) #Replacing with mean values\n",
    "df.drop('Cabin',axis=1,inplace=True)"
   ]
  },
  {
   "cell_type": "markdown",
   "metadata": {},
   "source": [
    "# A Function to view more details with Survival"
   ]
  },
  {
   "cell_type": "code",
   "execution_count": 7,
   "metadata": {},
   "outputs": [],
   "source": [
    "\n",
    "def Detailed_Details(df,target,outcome):\n",
    "    print(\"Comparing\",target,\" With\",outcome)\n",
    "    print(\"Total\",len(df))\n",
    "    print(\"\\n\")\n",
    "    print(\"Column Name\\t\\t\\tTotal\\tPercentage\\tTotal_Outcome(1)\\tPercentage_Outcome(1)\\tTotal_Outcome(0)\\tPercentage_Outcome(0) \")\n",
    "    #for checking type\n",
    "    type={'int','int16','int32','int64','float','float16','float32','float64'}\n",
    "   \n",
    "    uniq_cases=len(df)/5\n",
    "    total_data=len(df)\n",
    "   \n",
    "    df_current=df[target]\n",
    "    check_type=df_current.dtypes\n",
    "    \n",
    "    #for formatting\n",
    "    design=0\n",
    "    \n",
    "    if(str(check_type) in type):\n",
    "    \n",
    "        if (df_current.unique().sum()<uniq_cases):\n",
    "            \n",
    "            uniq_sorted=sorted(df_current.unique())\n",
    "            for uniq in uniq_sorted:\n",
    "                \n",
    "                total_outcome_1=0\n",
    "                total_outcome_0=0\n",
    "                for j in range(0,len(df)):\n",
    "                    if((df[outcome][j]==1) and (df_current[j]==uniq)):\n",
    "                        total_outcome_1+=1\n",
    "                    elif((df[outcome][j]==0) and (df_current[j]==uniq)):\n",
    "                        total_outcome_0+=1\n",
    "                \n",
    "                total=df_current.value_counts()[uniq]\n",
    "                percent= round((total/total_data*100),2)\n",
    "                \n",
    "                percentage_outcome_1=round(((total_outcome_1/total)*100),2)\n",
    "                percentage_outcome_0=round((100-percentage_outcome_1),2)\n",
    "                \n",
    "                if(design==0):\n",
    "                    print(target)\n",
    "                \n",
    "                print(\"  \",uniq,\"\\t\\t\\t\\t\",total,\"\\t\",percent,\"% \\t\\t\",total_outcome_1,\"\\t\\t\\t\",percentage_outcome_1,\"%\\t\\t\",total_outcome_0,\"\\t\\t\",percentage_outcome_0,\"%\")\n",
    "                print(\"\\n\")\n",
    "                design=1\n",
    "        else:\n",
    "            mean_value=round(df_current.mean(),2)\n",
    "            \n",
    "            total_abm=0\n",
    "            total_blm=0\n",
    "            \n",
    "            total_outcome_abm_1=0\n",
    "            total_outcome_abm_0=0\n",
    "            \n",
    "            total_outcome_blm_1=0\n",
    "            total_outcome_blm_0=0\n",
    "            \n",
    "            for j in range(0,len(df)):\n",
    "                if(df_current[j]>=mean_value):\n",
    "                    total_abm+=1\n",
    "                    if(df[outcome][j]==1):\n",
    "                        total_outcome_abm_1+=1\n",
    "                    else:\n",
    "                         total_outcome_abm_0+=1\n",
    "                else:\n",
    "                    total_blm+=1\n",
    "                    if(df[outcome][j]==1):\n",
    "                        total_outcome_blm_1+=1\n",
    "                    else:\n",
    "                         total_outcome_blm_0+=1\n",
    "           \n",
    "            percent_abm=round(((total_abm/total_data)*100),2)\n",
    "            percent_blm=round((100-percent_abm),2)\n",
    "            \n",
    "            percent_abm_1=round(((total_outcome_abm_1/total_abm)*100),2)\n",
    "            percent_abm_0=round((100-percent_abm_1),2)\n",
    "            \n",
    "            percent_blm_1=round(((total_outcome_blm_1/total_blm)*100),2)\n",
    "            percent_blm_0=round((100-percent_blm_1),2)\n",
    "            \n",
    "            if(design==0):\n",
    "                    print(target)\n",
    "                \n",
    "            print(\" LessThan(\",mean_value,\")\\t\\t\",total_blm,\"\\t\",percent_blm,\"% \\t\",total_outcome_blm_1,\"\\t\\t\\t\",percent_blm_1,\"%\\t\\t\\t\",total_outcome_blm_0,\"\\t\\t\\t\\t\",percent_blm_0,\"%\")\n",
    "            print(\" GreaterThan(\",mean_value,\")\\t\\t\",total_abm,\"\\t\",percent_abm,\"% \\t \",total_outcome_abm_1,\"\\t\\t\\t\",percent_abm_1,\"%\\t\\t\\t\",total_outcome_abm_0,\"\\t\\t\\t\\t\",percent_abm_0,\"%\")\n",
    "            print(\"\\n\")\n",
    "            design=1\n",
    "    else:\n",
    "        if (df_current.nunique()<uniq_cases):\n",
    "            \n",
    "            for uniq in df_current.unique():\n",
    "                total_outcome_1=0\n",
    "                total_outcome_0=0\n",
    "                for j in range(0,len(df)):\n",
    "                    if((df[outcome][j]==1) and (df_current[j]==uniq)):\n",
    "                        total_outcome_1+=1\n",
    "                    elif((df[outcome][j]==0) and (df_current[j]==uniq)):\n",
    "                        total_outcome_0+=1\n",
    "                \n",
    "                total=df_current.value_counts()[uniq]\n",
    "                percent= round((total/total_data*100),2)\n",
    "                \n",
    "                percentage_outcome_1=round(((total_outcome_1/total)*100),2)\n",
    "                percentage_outcome_0=round((100-percentage_outcome_1),2)\n",
    "                \n",
    "                if(design==0):\n",
    "                    print(target)\n",
    "                \n",
    "                print(\"  \",uniq,\"\\t\\t\\t\",total,\"\\t\",percent,\"% \\t\\t\",total_outcome_1,\"\\t\\t\",percentage_outcome_1,\"%\\t\\t\\t\",total_outcome_0,\"\\t\\t\\t\",percentage_outcome_0,\"%\")\n",
    "                print(\"\\n\")\n",
    "                design=1\n",
    "        else:\n",
    "            print(\"Target value is string and have greater unique Values\")\n",
    "                "
   ]
  },
  {
   "cell_type": "code",
   "execution_count": 8,
   "metadata": {},
   "outputs": [
    {
     "name": "stdout",
     "output_type": "stream",
     "text": [
      "Comparing PassengerId  With Survived\n",
      "Total 418\n",
      "\n",
      "\n",
      "Column Name\t\t\tTotal\tPercentage\tTotal_Outcome(1)\tPercentage_Outcome(1)\tTotal_Outcome(0)\tPercentage_Outcome(0) \n",
      "PassengerId\n",
      " LessThan( 1100.5 )\t\t 209 \t 50.0 % \t 79 \t\t\t 37.8 %\t\t\t 130 \t\t\t\t 62.2 %\n",
      " GreaterThan( 1100.5 )\t\t 209 \t 50.0 % \t  73 \t\t\t 34.93 %\t\t\t 136 \t\t\t\t 65.07 %\n",
      "\n",
      "\n"
     ]
    }
   ],
   "source": [
    "# With Passenger Id\n",
    "Detailed_Details(df,'PassengerId','Survived')\n",
    "\n",
    "#Doesnot seem like it really matters. PassengerId looks like in sorted manner"
   ]
  },
  {
   "cell_type": "code",
   "execution_count": 9,
   "metadata": {},
   "outputs": [
    {
     "name": "stdout",
     "output_type": "stream",
     "text": [
      "Comparing Pclass  With Survived\n",
      "Total 418\n",
      "\n",
      "\n",
      "Column Name\t\t\tTotal\tPercentage\tTotal_Outcome(1)\tPercentage_Outcome(1)\tTotal_Outcome(0)\tPercentage_Outcome(0) \n",
      "Pclass\n",
      "   1 \t\t\t\t 107 \t 25.6 % \t\t 50 \t\t\t 46.73 %\t\t 57 \t\t 53.27 %\n",
      "\n",
      "\n",
      "   2 \t\t\t\t 93 \t 22.25 % \t\t 30 \t\t\t 32.26 %\t\t 63 \t\t 67.74 %\n",
      "\n",
      "\n",
      "   3 \t\t\t\t 218 \t 52.15 % \t\t 72 \t\t\t 33.03 %\t\t 146 \t\t 66.97 %\n",
      "\n",
      "\n"
     ]
    }
   ],
   "source": [
    "# With PClass\n",
    "Detailed_Details(df,'Pclass','Survived')\n",
    "\n",
    "#High class 1 have higher chance of survival. Class may matter"
   ]
  },
  {
   "cell_type": "code",
   "execution_count": 10,
   "metadata": {},
   "outputs": [
    {
     "name": "stdout",
     "output_type": "stream",
     "text": [
      "Comparing Name  With Survived\n",
      "Total 418\n",
      "\n",
      "\n",
      "Column Name\t\t\tTotal\tPercentage\tTotal_Outcome(1)\tPercentage_Outcome(1)\tTotal_Outcome(0)\tPercentage_Outcome(0) \n",
      "Target value is string and have greater unique Values\n"
     ]
    }
   ],
   "source": [
    "# With Name\n",
    "Detailed_Details(df,'Name','Survived')\n",
    "\n",
    "#Cannot with our model"
   ]
  },
  {
   "cell_type": "code",
   "execution_count": 11,
   "metadata": {},
   "outputs": [
    {
     "name": "stdout",
     "output_type": "stream",
     "text": [
      "Comparing Sex  With Survived\n",
      "Total 418\n",
      "\n",
      "\n",
      "Column Name\t\t\tTotal\tPercentage\tTotal_Outcome(1)\tPercentage_Outcome(1)\tTotal_Outcome(0)\tPercentage_Outcome(0) \n",
      "Sex\n",
      "   male \t\t\t 266 \t 63.64 % \t\t 0 \t\t 0.0 %\t\t\t 266 \t\t\t 100.0 %\n",
      "\n",
      "\n",
      "   female \t\t\t 152 \t 36.36 % \t\t 152 \t\t 100.0 %\t\t\t 0 \t\t\t 0.0 %\n",
      "\n",
      "\n"
     ]
    }
   ],
   "source": [
    "# With Sex\n",
    "Detailed_Details(df,'Sex','Survived')\n",
    "\n",
    "#Only Female survive"
   ]
  },
  {
   "cell_type": "code",
   "execution_count": 12,
   "metadata": {},
   "outputs": [
    {
     "name": "stdout",
     "output_type": "stream",
     "text": [
      "Comparing Age  With Survived\n",
      "Total 418\n",
      "\n",
      "\n",
      "Column Name\t\t\tTotal\tPercentage\tTotal_Outcome(1)\tPercentage_Outcome(1)\tTotal_Outcome(0)\tPercentage_Outcome(0) \n",
      "Age\n",
      " LessThan( 30.27 )\t\t 200 \t 47.85 % \t 77 \t\t\t 38.5 %\t\t\t 123 \t\t\t\t 61.5 %\n",
      " GreaterThan( 30.27 )\t\t 218 \t 52.15 % \t  75 \t\t\t 34.4 %\t\t\t 143 \t\t\t\t 65.6 %\n",
      "\n",
      "\n"
     ]
    }
   ],
   "source": [
    "# With Age\n",
    "Detailed_Details(df,'Age','Survived')\n",
    "\n",
    "#Almost similar rate of survival. Age may not matter"
   ]
  },
  {
   "cell_type": "code",
   "execution_count": 13,
   "metadata": {},
   "outputs": [
    {
     "name": "stdout",
     "output_type": "stream",
     "text": [
      "Comparing SibSp  With Survived\n",
      "Total 418\n",
      "\n",
      "\n",
      "Column Name\t\t\tTotal\tPercentage\tTotal_Outcome(1)\tPercentage_Outcome(1)\tTotal_Outcome(0)\tPercentage_Outcome(0) \n",
      "SibSp\n",
      "   0 \t\t\t\t 283 \t 67.7 % \t\t 88 \t\t\t 31.1 %\t\t 195 \t\t 68.9 %\n",
      "\n",
      "\n",
      "   1 \t\t\t\t 110 \t 26.32 % \t\t 54 \t\t\t 49.09 %\t\t 56 \t\t 50.91 %\n",
      "\n",
      "\n",
      "   2 \t\t\t\t 14 \t 3.35 % \t\t 6 \t\t\t 42.86 %\t\t 8 \t\t 57.14 %\n",
      "\n",
      "\n",
      "   3 \t\t\t\t 4 \t 0.96 % \t\t 1 \t\t\t 25.0 %\t\t 3 \t\t 75.0 %\n",
      "\n",
      "\n",
      "   4 \t\t\t\t 4 \t 0.96 % \t\t 1 \t\t\t 25.0 %\t\t 3 \t\t 75.0 %\n",
      "\n",
      "\n",
      "   5 \t\t\t\t 1 \t 0.24 % \t\t 1 \t\t\t 100.0 %\t\t 0 \t\t 0.0 %\n",
      "\n",
      "\n",
      "   8 \t\t\t\t 2 \t 0.48 % \t\t 1 \t\t\t 50.0 %\t\t 1 \t\t 50.0 %\n",
      "\n",
      "\n"
     ]
    }
   ],
   "source": [
    "#With SibSip\n",
    "\n",
    "Detailed_Details(df,'SibSp','Survived')\n",
    "\n",
    "#Better check correlation for this"
   ]
  },
  {
   "cell_type": "code",
   "execution_count": 14,
   "metadata": {},
   "outputs": [
    {
     "name": "stdout",
     "output_type": "stream",
     "text": [
      "Comparing Parch  With Survived\n",
      "Total 418\n",
      "\n",
      "\n",
      "Column Name\t\t\tTotal\tPercentage\tTotal_Outcome(1)\tPercentage_Outcome(1)\tTotal_Outcome(0)\tPercentage_Outcome(0) \n",
      "Parch\n",
      "   0 \t\t\t\t 324 \t 77.51 % \t\t 99 \t\t\t 30.56 %\t\t 225 \t\t 69.44 %\n",
      "\n",
      "\n",
      "   1 \t\t\t\t 52 \t 12.44 % \t\t 28 \t\t\t 53.85 %\t\t 24 \t\t 46.15 %\n",
      "\n",
      "\n",
      "   2 \t\t\t\t 33 \t 7.89 % \t\t 20 \t\t\t 60.61 %\t\t 13 \t\t 39.39 %\n",
      "\n",
      "\n",
      "   3 \t\t\t\t 3 \t 0.72 % \t\t 2 \t\t\t 66.67 %\t\t 1 \t\t 33.33 %\n",
      "\n",
      "\n",
      "   4 \t\t\t\t 2 \t 0.48 % \t\t 2 \t\t\t 100.0 %\t\t 0 \t\t 0.0 %\n",
      "\n",
      "\n",
      "   5 \t\t\t\t 1 \t 0.24 % \t\t 0 \t\t\t 0.0 %\t\t 1 \t\t 100.0 %\n",
      "\n",
      "\n",
      "   6 \t\t\t\t 1 \t 0.24 % \t\t 0 \t\t\t 0.0 %\t\t 1 \t\t 100.0 %\n",
      "\n",
      "\n",
      "   9 \t\t\t\t 2 \t 0.48 % \t\t 1 \t\t\t 50.0 %\t\t 1 \t\t 50.0 %\n",
      "\n",
      "\n"
     ]
    }
   ],
   "source": [
    "#With Parch\n",
    "Detailed_Details(df,'Parch','Survived')\n",
    "#better to check correlation"
   ]
  },
  {
   "cell_type": "code",
   "execution_count": 15,
   "metadata": {},
   "outputs": [
    {
     "name": "stdout",
     "output_type": "stream",
     "text": [
      "Comparing Ticket  With Survived\n",
      "Total 418\n",
      "\n",
      "\n",
      "Column Name\t\t\tTotal\tPercentage\tTotal_Outcome(1)\tPercentage_Outcome(1)\tTotal_Outcome(0)\tPercentage_Outcome(0) \n",
      "Target value is string and have greater unique Values\n"
     ]
    }
   ],
   "source": [
    "#With Ticket\n",
    "Detailed_Details(df,'Ticket','Survived')"
   ]
  },
  {
   "cell_type": "code",
   "execution_count": 16,
   "metadata": {},
   "outputs": [
    {
     "name": "stdout",
     "output_type": "stream",
     "text": [
      "Comparing Fare  With Survived\n",
      "Total 418\n",
      "\n",
      "\n",
      "Column Name\t\t\tTotal\tPercentage\tTotal_Outcome(1)\tPercentage_Outcome(1)\tTotal_Outcome(0)\tPercentage_Outcome(0) \n",
      "Fare\n",
      " LessThan( 35.63 )\t\t 321 \t 76.79 % \t 99 \t\t\t 30.84 %\t\t\t 222 \t\t\t\t 69.16 %\n",
      " GreaterThan( 35.63 )\t\t 97 \t 23.21 % \t  53 \t\t\t 54.64 %\t\t\t 44 \t\t\t\t 45.36 %\n",
      "\n",
      "\n"
     ]
    }
   ],
   "source": [
    "#With Fare\n",
    "Detailed_Details(df,'Fare','Survived')\n",
    "#High Fares have better survival rate"
   ]
  },
  {
   "cell_type": "code",
   "execution_count": 401,
   "metadata": {},
   "outputs": [
    {
     "name": "stdout",
     "output_type": "stream",
     "text": [
      "Comparing Embarked  With Survived\n",
      "Total 418\n",
      "\n",
      "\n",
      "Column Name\t\t\tTotal\tPercentage\tTotal_Outcome(1)\tPercentage_Outcome(1)\tTotal_Outcome(0)\tPercentage_Outcome(0) \n",
      "Embarked\n",
      "   Q \t\t\t 46 \t 11.0 % \t\t 24 \t\t 52.17 %\t\t\t 22 \t\t\t 47.83 %\n",
      "\n",
      "\n",
      "   S \t\t\t 270 \t 64.59 % \t\t 88 \t\t 32.59 %\t\t\t 182 \t\t\t 67.41 %\n",
      "\n",
      "\n",
      "   C \t\t\t 102 \t 24.4 % \t\t 40 \t\t 39.22 %\t\t\t 62 \t\t\t 60.78 %\n",
      "\n",
      "\n"
     ]
    }
   ],
   "source": [
    "#With Embarked\n",
    "Detailed_Details(df,'Embarked','Survived')\n",
    "#People from  Q have more survival rate"
   ]
  }
 ],
 "metadata": {
  "kernelspec": {
   "display_name": "Python 3.10.6 ('class')",
   "language": "python",
   "name": "python3"
  },
  "language_info": {
   "codemirror_mode": {
    "name": "ipython",
    "version": 3
   },
   "file_extension": ".py",
   "mimetype": "text/x-python",
   "name": "python",
   "nbconvert_exporter": "python",
   "pygments_lexer": "ipython3",
   "version": "3.10.6"
  },
  "orig_nbformat": 4,
  "vscode": {
   "interpreter": {
    "hash": "2ab26ebc9eac352ad84074c5872f53e9ff2d0f751ba36ba2a556974c64f5628d"
   }
  }
 },
 "nbformat": 4,
 "nbformat_minor": 2
}
