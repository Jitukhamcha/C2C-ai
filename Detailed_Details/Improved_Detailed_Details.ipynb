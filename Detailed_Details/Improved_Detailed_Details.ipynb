{
 "cells": [
  {
   "cell_type": "code",
   "execution_count": 1,
   "metadata": {},
   "outputs": [],
   "source": [
    "import pandas as pd\n",
    "import numpy as np"
   ]
  },
  {
   "cell_type": "code",
   "execution_count": 2,
   "metadata": {},
   "outputs": [],
   "source": [
    "df=pd.read_csv('test.csv')\n",
    "df_survived=pd.read_csv('gender_submission.csv')"
   ]
  },
  {
   "cell_type": "code",
   "execution_count": 3,
   "metadata": {},
   "outputs": [],
   "source": [
    "df=pd.concat([df,df_survived['Survived']],axis=1)"
   ]
  },
  {
   "cell_type": "code",
   "execution_count": 4,
   "metadata": {},
   "outputs": [
    {
     "data": {
      "text/html": [
       "<div>\n",
       "<style scoped>\n",
       "    .dataframe tbody tr th:only-of-type {\n",
       "        vertical-align: middle;\n",
       "    }\n",
       "\n",
       "    .dataframe tbody tr th {\n",
       "        vertical-align: top;\n",
       "    }\n",
       "\n",
       "    .dataframe thead th {\n",
       "        text-align: right;\n",
       "    }\n",
       "</style>\n",
       "<table border=\"1\" class=\"dataframe\">\n",
       "  <thead>\n",
       "    <tr style=\"text-align: right;\">\n",
       "      <th></th>\n",
       "      <th>PassengerId</th>\n",
       "      <th>Pclass</th>\n",
       "      <th>Name</th>\n",
       "      <th>Sex</th>\n",
       "      <th>Age</th>\n",
       "      <th>SibSp</th>\n",
       "      <th>Parch</th>\n",
       "      <th>Ticket</th>\n",
       "      <th>Fare</th>\n",
       "      <th>Cabin</th>\n",
       "      <th>Embarked</th>\n",
       "      <th>Survived</th>\n",
       "    </tr>\n",
       "  </thead>\n",
       "  <tbody>\n",
       "    <tr>\n",
       "      <th>0</th>\n",
       "      <td>892</td>\n",
       "      <td>3</td>\n",
       "      <td>Kelly, Mr. James</td>\n",
       "      <td>male</td>\n",
       "      <td>34.5</td>\n",
       "      <td>0</td>\n",
       "      <td>0</td>\n",
       "      <td>330911</td>\n",
       "      <td>7.8292</td>\n",
       "      <td>NaN</td>\n",
       "      <td>Q</td>\n",
       "      <td>0</td>\n",
       "    </tr>\n",
       "    <tr>\n",
       "      <th>1</th>\n",
       "      <td>893</td>\n",
       "      <td>3</td>\n",
       "      <td>Wilkes, Mrs. James (Ellen Needs)</td>\n",
       "      <td>female</td>\n",
       "      <td>47.0</td>\n",
       "      <td>1</td>\n",
       "      <td>0</td>\n",
       "      <td>363272</td>\n",
       "      <td>7.0000</td>\n",
       "      <td>NaN</td>\n",
       "      <td>S</td>\n",
       "      <td>1</td>\n",
       "    </tr>\n",
       "    <tr>\n",
       "      <th>2</th>\n",
       "      <td>894</td>\n",
       "      <td>2</td>\n",
       "      <td>Myles, Mr. Thomas Francis</td>\n",
       "      <td>male</td>\n",
       "      <td>62.0</td>\n",
       "      <td>0</td>\n",
       "      <td>0</td>\n",
       "      <td>240276</td>\n",
       "      <td>9.6875</td>\n",
       "      <td>NaN</td>\n",
       "      <td>Q</td>\n",
       "      <td>0</td>\n",
       "    </tr>\n",
       "    <tr>\n",
       "      <th>3</th>\n",
       "      <td>895</td>\n",
       "      <td>3</td>\n",
       "      <td>Wirz, Mr. Albert</td>\n",
       "      <td>male</td>\n",
       "      <td>27.0</td>\n",
       "      <td>0</td>\n",
       "      <td>0</td>\n",
       "      <td>315154</td>\n",
       "      <td>8.6625</td>\n",
       "      <td>NaN</td>\n",
       "      <td>S</td>\n",
       "      <td>0</td>\n",
       "    </tr>\n",
       "    <tr>\n",
       "      <th>4</th>\n",
       "      <td>896</td>\n",
       "      <td>3</td>\n",
       "      <td>Hirvonen, Mrs. Alexander (Helga E Lindqvist)</td>\n",
       "      <td>female</td>\n",
       "      <td>22.0</td>\n",
       "      <td>1</td>\n",
       "      <td>1</td>\n",
       "      <td>3101298</td>\n",
       "      <td>12.2875</td>\n",
       "      <td>NaN</td>\n",
       "      <td>S</td>\n",
       "      <td>1</td>\n",
       "    </tr>\n",
       "  </tbody>\n",
       "</table>\n",
       "</div>"
      ],
      "text/plain": [
       "   PassengerId  Pclass                                          Name     Sex  \\\n",
       "0          892       3                              Kelly, Mr. James    male   \n",
       "1          893       3              Wilkes, Mrs. James (Ellen Needs)  female   \n",
       "2          894       2                     Myles, Mr. Thomas Francis    male   \n",
       "3          895       3                              Wirz, Mr. Albert    male   \n",
       "4          896       3  Hirvonen, Mrs. Alexander (Helga E Lindqvist)  female   \n",
       "\n",
       "    Age  SibSp  Parch   Ticket     Fare Cabin Embarked  Survived  \n",
       "0  34.5      0      0   330911   7.8292   NaN        Q         0  \n",
       "1  47.0      1      0   363272   7.0000   NaN        S         1  \n",
       "2  62.0      0      0   240276   9.6875   NaN        Q         0  \n",
       "3  27.0      0      0   315154   8.6625   NaN        S         0  \n",
       "4  22.0      1      1  3101298  12.2875   NaN        S         1  "
      ]
     },
     "execution_count": 4,
     "metadata": {},
     "output_type": "execute_result"
    }
   ],
   "source": [
    "df.head()"
   ]
  },
  {
   "cell_type": "markdown",
   "metadata": {},
   "source": [
    "Checking and dropping NaN items\n"
   ]
  },
  {
   "cell_type": "code",
   "execution_count": 5,
   "metadata": {},
   "outputs": [
    {
     "data": {
      "text/plain": [
       "PassengerId      0\n",
       "Pclass           0\n",
       "Name             0\n",
       "Sex              0\n",
       "Age             86\n",
       "SibSp            0\n",
       "Parch            0\n",
       "Ticket           0\n",
       "Fare             1\n",
       "Cabin          327\n",
       "Embarked         0\n",
       "Survived         0\n",
       "dtype: int64"
      ]
     },
     "execution_count": 5,
     "metadata": {},
     "output_type": "execute_result"
    }
   ],
   "source": [
    "df.isnull().sum()"
   ]
  },
  {
   "cell_type": "code",
   "execution_count": 6,
   "metadata": {},
   "outputs": [],
   "source": [
    "df['Fare'].fillna(df['Fare'].mean(),inplace=True) #Replacing with mean values\n",
    "df['Age'].fillna(df['Age'].mean(),inplace=True) #Replacing with mean values\n",
    "df.drop('Cabin',axis=1,inplace=True)"
   ]
  },
  {
   "cell_type": "markdown",
   "metadata": {},
   "source": [
    "<h1>Detailed_Details Function</h1>\n",
    "<h2> Takes 4 inputs </h2>\n",
    "<ul>\n",
    "<li> df = dataframe </li>\n",
    "<li> target= Targeted Feature </li>\n",
    "<li> outcome= Targeted Outcome </li>\n",
    "<li> max_unique_value_count = (Set)Maximum Unique Value Count in between Target and Outcome.Best to set Max_Unique_Count Finite (i.e Less than 25).<br> That is \"df[target].nunique()<=25\" or \"df[outcome].nunique()<=25\" <br> Now Choose Max Value Between them.</li>\n",
    "</ul>\n",
    "<h3> Remove all NaN values before Hand. </h3>\n",
    "<h3> If you have dropped rows in Dataframe. ReIndex Your DataFrame (DataFrame.reindex()). </h3>\n",
    "<h3> This function doesnot evaluate for strings or objects having large unique_value_counts. </h3>"
   ]
  },
  {
   "cell_type": "code",
   "execution_count": 16,
   "metadata": {},
   "outputs": [],
   "source": [
    "\n",
    "\n",
    "#if you have dropped rows you have to reindex to use this function.\n",
    "def Detailed_Details(df,feature,outcome,max_unique_value_count):\n",
    "    from IPython.display import HTML, display\n",
    "    html=f\"<h3><center>Comparing {feature} With {outcome}</center></h3>\"\n",
    "    \n",
    "    \n",
    "    #for checking type\n",
    "    type={'int','int16','int32','int64','float','float16','float32','float64'}\n",
    "    \n",
    "    uniq_cases=max_unique_value_count\n",
    "    total_data=len(df)\n",
    "    \n",
    "    #defining feature\n",
    "    df_feature=df[feature]\n",
    "    check_type=df_feature.dtypes\n",
    "    \n",
    "    \n",
    "    #defining outcome\n",
    "    df_outcome=df[outcome]\n",
    "    check_type_outcome=df_outcome.dtypes\n",
    "    check_type_feature=df_feature.dtypes\n",
    "    #designing vars\n",
    "    design=0\n",
    "    design_feature=0\n",
    "    if(str(check_type_outcome) in type or str(check_type_feature) in type):   # Checks if feature is of int or float data type\n",
    "        \n",
    "        if(df_feature.nunique()<=uniq_cases): #Checks if feature has less unique values\n",
    "            \n",
    "            uniq_sorted_ft=sorted(df_feature.unique()) #Sorts features unique values\n",
    "            \n",
    "            #Unique occurence of features\n",
    "            feature_count=np.array(list(df[feature].value_counts().sort_index()))\n",
    "            \n",
    "            #Percentage of each occurence of Feature\n",
    "            feature_percent=[]\n",
    "            for i in range(0,len(feature_count)):\n",
    "                feature_percent.append(round(((feature_count[i]/total_data)*100),2))\n",
    "            feature_percent=np.array(feature_percent)\n",
    "            \n",
    "            #UNIQUE NUMERICAL FEATURES AND UNIQUE NUMERICAL OUTCOMES\n",
    "            if(df_outcome.nunique()<=uniq_cases):\n",
    "                \n",
    "                uniq_sorted_ot=sorted(df_outcome.unique()) #list to put unique values for outcome\n",
    "                \n",
    "                #Each Unique Occurence of features and outcomes simultanously\n",
    "                outcome_count = np.array(list(df.groupby([outcome,feature]).size().unstack(fill_value=0).stack()))\n",
    "                \n",
    "                #Percentage of Occurence of features with outcome\n",
    "                \n",
    "                #partioning feature with respect to outcome\n",
    "                partition=int(((len(outcome_count)/len(feature_count))or(len(feature_count)/len(outcome_count))))\n",
    "                #so that percent will be float\n",
    "                outcome_count_float=[]\n",
    "                for i in range(0,len(outcome_count)):\n",
    "                    outcome_count_float.append(float(outcome_count[i]))\n",
    "                #Calculating outcome percentage\n",
    "                outcome_percent=[]\n",
    "                for i in range(0, len(outcome_count_float), len(feature_count)):\n",
    "                    outcome_percent.append(outcome_count_float[i:i+len(feature_count)])\n",
    "                \n",
    "                for i in range(0,len(feature_count)):\n",
    "                    for j in range(0,partition):\n",
    "                        outcome_percent[j][i]=((outcome_percent[j][i]/feature_count[i])*100)\n",
    "                        outcome_percent[j][i]=round(outcome_percent[j][i],2)\n",
    "                outcome_percent=np.array(outcome_percent)\n",
    "                \n",
    "                #indexes of outcome data\n",
    "                indexes=[]\n",
    "                for uniq in uniq_sorted_ot:\n",
    "                    indexes.append(uniq_sorted_ot.index(uniq))\n",
    "                \n",
    "                #Display\n",
    "                html+=f\"Total Features {len(df)} <br>\"\n",
    "                html+=\"<center><table cellpadding=15>\"\n",
    "                    \n",
    "                if design==0:\n",
    "                    html+=\"<tr>\"\n",
    "                    html+=f\"<td><center>{feature}</center> </td> <td>Total No. ({feature})</td> <td> Percentage ({feature}) </td>\"\n",
    "                    for i in indexes:\n",
    "                        html+=f\"<td>Total Outcome({uniq_sorted_ot[i]})</td> <td>Percentage Outcome({uniq_sorted_ot[i]})</td> \"\n",
    "                    html+=\"</tr>\"\n",
    "                    design=1\n",
    "                for i in range (0,len(feature_count)):\n",
    "                    html+=\"<tr>\"\n",
    "                    for j in range(0,partition):\n",
    "                        if design_feature==0:\n",
    "                            html+=f\"<td></center>{uniq_sorted_ft[i]}</center></td><td>{feature_count[i]}</td><td>{feature_percent[i]}%</td>\"\n",
    "                        if design_feature==0:\n",
    "                            html+=f\"<td>{outcome_count[i]}</td><td>{outcome_percent[j][i]}%</td>\"\n",
    "                        else:\n",
    "                            html+=f\"<td>{outcome_count[i+len(feature_count)*j]}</td><td>{outcome_percent[j][i]}%</td>\"\n",
    "                        design_feature=1\n",
    "                    html+=f\"</tr>\"\n",
    "                    design_feature=0\n",
    "                html+=\"<table></center>\"\n",
    "                display(HTML(html))\n",
    "                #UNIQUE NUMERICAL FEATURES AND MULTIPLE NUMERICAL OUTCOME\n",
    "            elif(df_outcome.nunique()>uniq_cases and str(check_type_outcome) in type):\n",
    "                mean_value=round(df_outcome.mean(),2)\n",
    "                \n",
    "                #Dict for Total and percent\n",
    "                total={}\n",
    "                percent={}\n",
    "                #Dict for total above and below mean and thier percentage\n",
    "                total_outcome_abm={}\n",
    "                total_outcome_blm={}\n",
    "                percent_outcome_abm={}\n",
    "                percent_outcome_blm={}\n",
    "                #initializing dictionaries with 0\n",
    "                for i in uniq_sorted_ft:\n",
    "                    total_outcome_abm[i]=0\n",
    "                    total_outcome_blm[i]=0\n",
    "                    total[i]=0\n",
    "                    percent[i]=0\n",
    "                    percent_outcome_abm[i]=0\n",
    "                    percent_outcome_blm[i]=0\n",
    "                #Count for total above and below mean\n",
    "                for uniq in uniq_sorted_ft:\n",
    "                    for i in range(0,len(df)):\n",
    "                        if(df_outcome[i]>=mean_value):\n",
    "                            if(df[feature][i]==uniq):\n",
    "                                total_outcome_abm[uniq]+=1\n",
    "                        else:\n",
    "                            if(df[feature][i]==uniq):\n",
    "                                total_outcome_blm[uniq]+=1\n",
    "                #Count total in each category\n",
    "                for uniq in uniq_sorted_ft:\n",
    "                    total[uniq]=total_outcome_abm[uniq]+total_outcome_blm[uniq]\n",
    "                #Count percent in each category\n",
    "                for uniq in uniq_sorted_ft:\n",
    "                    percent[uniq]=round(total[uniq]/total_data*100,2)\n",
    "                    percent_outcome_abm[uniq]=round(total_outcome_abm[uniq]/total[uniq]*100,2)\n",
    "                    percent_outcome_blm[uniq]=round(total_outcome_blm[uniq]/total[uniq]*100,2)\n",
    "                                             \n",
    "                #Display\n",
    "                if design==0:\n",
    "                    html+=f\"Total Features {len(df)}<br>\"\n",
    "                    html+=f\"Mean of {outcome} = {mean_value}<br>\"\n",
    "                    html+=\"<center><table cellpadding=15>\"\n",
    "                    html+=\"<tr>\"\n",
    "                    html+=f\"<td><center>{feature}</center> </td> <td>Total No. <br>({feature})</td> <td> Percentage <br>({feature}) </td>\"\n",
    "                    html+=f\"<td>Total No.<br>(Greater Than Mean)</td> <td>Percentage<br>(Greater Than Mean)</td><td>Total No.<br>(Less Than Mean)</td> <td>Percentage <br>(Less Than Mean)</td> \"\n",
    "                    html+=\"</tr>\"\n",
    "                    design=1\n",
    "                \n",
    "                design_feature=0\n",
    "                for uniq in uniq_sorted_ft:\n",
    "                    \n",
    "                    html+=\"<tr>\"    \n",
    "                    html+=f\"<td>{uniq}</td> <td>{total[uniq]}</td><td>{percent[uniq]} %</td><td>{total_outcome_abm[uniq]}</td><td>{percent_outcome_abm[uniq]} %</td><td>{total_outcome_blm[uniq]}</td><td>{percent_outcome_blm[uniq]} %</td>\"           \n",
    "                    html+=f\"</tr>\"\n",
    "                html+=\"</table></center>\"\n",
    "                \n",
    "                display(HTML(html))\n",
    "        elif(df_feature.nunique()>uniq_cases and str(check_type_feature)  in type):\n",
    "                \n",
    "                mean_value=round(df_feature.mean(),2)\n",
    "                #Dict for Total and percent\n",
    "                total={}\n",
    "                percent={}\n",
    "                total_abm=0\n",
    "                total_blm=0\n",
    "                #Dict for total above and below mean and thier percentage\n",
    "                total_feature_abm={}\n",
    "                total_feature_blm={}\n",
    "                percent_feature_abm={}\n",
    "                percent_feature_blm={}\n",
    "                #initializing dictionaries with 0\n",
    "                uniq_sorted_ot=sorted(df_outcome.unique())\n",
    "                for i in uniq_sorted_ot:\n",
    "                    total_feature_abm[i]=0\n",
    "                    total_feature_blm[i]=0\n",
    "                    total[i]=0\n",
    "                    percent[i]=0\n",
    "                    percent_feature_abm[i]=0\n",
    "                    percent_feature_blm[i]=0\n",
    "                #Count below mean and above mean\n",
    "                for i in range(0,len(df)):\n",
    "                    if(df_feature[i]>=mean_value):\n",
    "                        total_abm+=1\n",
    "                    else:\n",
    "                        total_blm+=1\n",
    "                #Count for total above and below mean\n",
    "                for uniq in uniq_sorted_ot:\n",
    "                    for i in range(0,len(df)):\n",
    "                        if(df_feature[i]>=mean_value):\n",
    "                            if(df[outcome][i]==uniq):\n",
    "                                total_feature_abm[uniq]+=1\n",
    "                        else:\n",
    "                            if(df[outcome][i]==uniq):\n",
    "                                total_feature_blm[uniq]+=1\n",
    "                #Count total in each category\n",
    "                for uniq in uniq_sorted_ot:\n",
    "                    total[uniq]=total_feature_abm[uniq]+total_feature_blm[uniq]\n",
    "                #Count percent in each category\n",
    "                for uniq in uniq_sorted_ot:\n",
    "                    percent[uniq]=round(total[uniq]/total_data*100,2)\n",
    "                    percent_feature_abm[uniq]=round(total_feature_abm[uniq]/total[uniq]*100,2)\n",
    "                    percent_feature_blm[uniq]=round(total_feature_blm[uniq]/total[uniq]*100,2)\n",
    "                \n",
    "                #MULTIPLE NUMERICAL FEATURES AND UNIQUE NUMERICAL OUTCOMES \n",
    "                if(df_outcome.nunique()<=uniq_cases):\n",
    "                    uniq_sorted_ot=sorted(df_outcome.unique()) #Sorts features unique values\n",
    "                   \n",
    "                    #Unique occurence of features\n",
    "                    outcome_count=np.array(list(df[outcome].value_counts().sort_index()))\n",
    "            \n",
    "                    #Percentage of each occurence of Feature\n",
    "                    outcome_percent=[]\n",
    "                    for i in range(0,len(outcome_count)):\n",
    "                        outcome_percent.append(round(((outcome_count[i]/total_data)*100),2))\n",
    "                    outcome_percent=np.array(outcome_percent)\n",
    "            \n",
    "                    #Checks if outcome has less unique values\n",
    "                                             \n",
    "                    #Display\n",
    "                    if design==0:\n",
    "                        html+=f\"Total Features {len(df)}<br>\"\n",
    "                        html+=f\"Mean of {feature} = {mean_value}<br>\"\n",
    "                        html+=\"<center><table cellpadding=15>\"\n",
    "                        html+=\"<tr>\"\n",
    "                        html+=f\"<td><center>{feature}</center> </td> <td>Total No. <br>({feature})</td> <td> Percentage <br>({feature}) </td>\"\n",
    "                        for uniq in uniq_sorted_ot:\n",
    "                            html+=f\"<td>Total Outcome<br>({uniq})</td><td>Percentage Outcome<br>({uniq})\"\n",
    "                        html+=\"</td>\"\n",
    "                        html+=\"</tr>\"\n",
    "                        design=1\n",
    "                \n",
    "                    design_feature=0\n",
    "                    html+=f\"<tr><td>Greater Than Mean</td><td>{total_abm}</td><td>{round((total_abm/total_data)*100,2)}</td>\"\n",
    "                    for uniq in uniq_sorted_ot:\n",
    "                        html+=f\"<td>{total_feature_abm[uniq]}</td><td>{percent_feature_abm[uniq]} %</td>\"\n",
    "                    html+=f\"<tr><td>Less Than Mean</td><td>{total_blm}</td><td>{round((total_blm/total_data)*100,2)}</td>\"\n",
    "                    for uniq in uniq_sorted_ot:\n",
    "                        html+=f\"<td>{total_feature_blm[uniq]}</td><td>{percent_feature_blm[uniq]} %</td>\"  \n",
    "                    html+=\"</table></center>\"\n",
    "                \n",
    "                    display(HTML(html))\n",
    "                #MULTIPLE NUMERICAL FEATURES AND MULTIPLE NUMERICAL OUTCOMES\n",
    "                elif(df_outcome.nunique()>uniq_cases and str(check_type_outcome)  in type):\n",
    "                    mean_value_outcome=round(df_outcome.mean(),2)\n",
    "                    \n",
    "                    total_out_abm_fet_abm=0\n",
    "                    total_out_abm_fet_blm=0\n",
    "                    total_out_blm_fet_abm=0\n",
    "                    total_out_blm_fet_blm=0\n",
    "                        \n",
    "                    #Count for total above and below mean\n",
    "                    for i in range(0,len(df)):\n",
    "                        if(df_outcome[i]>=mean_value_outcome):\n",
    "                            if(df[feature][i]>=mean_value):\n",
    "                                total_out_abm_fet_abm+=1\n",
    "                            else:\n",
    "                                total_out_abm_fet_blm+=1\n",
    "                        else:\n",
    "                            if(df[feature][i]>=mean_value):\n",
    "                                total_out_blm_fet_abm+=1\n",
    "                            else:\n",
    "                                total_out_blm_fet_blm+=1\n",
    "                    per_out_abm_fet_abm=round((total_out_abm_fet_abm/total_abm*100),2)\n",
    "                    per_out_abm_fet_blm=round((total_out_abm_fet_blm/total_blm*100),2)\n",
    "                    per_out_blm_fet_abm=round((100-per_out_abm_fet_abm),2)\n",
    "                    per_out_blm_fet_blm=round((100-per_out_abm_fet_blm),2)      \n",
    "                    \n",
    "                    \n",
    "                    #Display\n",
    "                    if design==0:\n",
    "                        html+=f\"Total Features {len(df)}<br>\"\n",
    "                        html+=f\"Mean of {feature} = {mean_value}<br>\"\n",
    "                        html+=f\"Mean of {outcome} ={mean_value_outcome}<br>\"\n",
    "                        html+=\"<center><table cellpadding=15>\"\n",
    "                        html+=\"<tr>\"\n",
    "                        html+=f\"<td><center>{feature}</center> </td> <td>Total No. <br>({feature})</td> <td> Percentage <br>({feature}) </td>\"\n",
    "                        html+=f\"<td> Total Outcome <br>Greater Than Mean<br>({mean_value_outcome})</td><td> Percentage Outcome <br>Greater Than Mean<br>({mean_value_outcome})</td>\"\n",
    "                        html+=f\"<td> Total Outcome <br>Less Than Mean<br>({mean_value_outcome})</td><td> Percentage Outcome <br>Less Than Mean<br>({mean_value_outcome})</td>\"\n",
    "                        html+=\"</td>\"\n",
    "                        html+=\"</tr>\"\n",
    "                        design=1\n",
    "                \n",
    "                    design_feature=0\n",
    "                    html+=f\"<tr><td>Greater Than Mean<br>({mean_value})</td><td>{total_abm}</td><td>{round((total_abm/total_data)*100,2)} %</td><td>{total_out_abm_fet_abm}</td><td>{per_out_abm_fet_abm} %</td><td>{total_out_blm_fet_abm}</td><td>{per_out_blm_fet_abm} %</td>\"\n",
    "                    \n",
    "                    html+=f\"<tr><td>Less Than Mean<br>({mean_value})</td><td>{total_blm}</td><td>{round((total_blm/total_data)*100,2)} %</td><td>{total_out_abm_fet_blm}</td><td>{per_out_abm_fet_blm} %</td><td>{total_out_blm_fet_blm}</td><td>{per_out_blm_fet_blm} %</td>\"\n",
    "                      \n",
    "                    html+=\"</table></center>\"\n",
    "                    \n",
    "                    display(HTML(html))\n",
    "                          \n",
    "    elif((str(check_type_feature) not in type and df_feature.nunique()<=uniq_cases) and (str(check_type_outcome) not in type) and df_outcome.nunique()<=uniq_cases):\n",
    "        #UNIQUE STRING FEATURE VS UNIQUE STRING OUTCOME\n",
    "        if(df_feature.nunique()<=uniq_cases and df_outcome.nunique()<=uniq_cases ): #Checks if feature has less unique values\n",
    "            \n",
    "            uniq_sorted_ft=sorted(df_feature.unique()) #Sorts features unique values\n",
    "            \n",
    "            #Checks if outcome has less unique values\n",
    "            uniq_sorted_ot=sorted(df_outcome.unique()) #list to put unique values for outcome\n",
    "                \n",
    "            #Unique occurence of features\n",
    "            feature_count=np.array(list(df[feature].value_counts().sort_index()))\n",
    "                \n",
    "                \n",
    "            #Each Unique Occurence of features and outcomes simultanously\n",
    "            outcome_count = np.array(list(df.groupby([outcome,feature]).size().unstack(fill_value=0).stack()))\n",
    "                \n",
    "            #Percentage of each occurence of Feature\n",
    "            feature_percent=[]\n",
    "            for i in range(0,len(feature_count)):\n",
    "                feature_percent.append(round(((feature_count[i]/total_data)*100),2))\n",
    "            feature_percent=np.array(feature_percent)    \n",
    "                \n",
    "                \n",
    "            #Percentage of Occurence of features with outcome\n",
    "                \n",
    "            #partioning feature with respect to outcome\n",
    "            partition=int(((len(outcome_count)/len(feature_count))or(len(feature_count)/len(outcome_count))))\n",
    "            #so that percent will be float\n",
    "            outcome_count_float=[]\n",
    "            for i in range(0,len(outcome_count)):\n",
    "                outcome_count_float.append(float(outcome_count[i]))\n",
    "            #Calculating outcome percentage\n",
    "            outcome_percent=[]\n",
    "            for i in range(0, len(outcome_count_float), len(feature_count)):\n",
    "                outcome_percent.append(outcome_count_float[i:i+len(feature_count)])\n",
    "                \n",
    "            for i in range(0,len(feature_count)):\n",
    "                for j in range(0,partition):\n",
    "                    outcome_percent[j][i]=((outcome_percent[j][i]/feature_count[i])*100)\n",
    "                    outcome_percent[j][i]=round(outcome_percent[j][i],2)\n",
    "            outcome_percent=np.array(outcome_percent)\n",
    "                \n",
    "            #indexes of outcome data\n",
    "            indexes=[]\n",
    "            for uniq in uniq_sorted_ot:\n",
    "                indexes.append(uniq_sorted_ot.index(uniq))\n",
    "                \n",
    "            #Display\n",
    "            html+=f\"Total Features {len(df)}<br>\"\n",
    "            html+=\"<center><table cellpadding=15>\"\n",
    "            if design==0:\n",
    "                html+=\"<tr>\"\n",
    "                html+=f\"<td><center>{feature}</center> </td> <td>Total No. <br>({feature})</td> <td> Percentage <br>({feature}) </td>\"\n",
    "                for i in indexes:\n",
    "                    html+=f\"<td>Total No.<br>({uniq_sorted_ot[i]})</td> <td>Percentage <br>({uniq_sorted_ot[i]})</td> \"\n",
    "                html+=\"</tr>\"\n",
    "                design=1\n",
    "            for i in range (0,len(feature_count)):\n",
    "                html+=\"<tr>\"\n",
    "                for j in range(0,partition):\n",
    "                    if design_feature==0:\n",
    "                        html+=f\"<td></center>{uniq_sorted_ft[i]}</center></td><td>{feature_count[i]}</td><td>{feature_percent[i]}%</td>\"\n",
    "                    if design_feature==0:\n",
    "                        html+=f\"<td>{outcome_count[i]}</td><td>{outcome_percent[j][i]}%</td>\"\n",
    "                    else:\n",
    "                        html+=f\"<td>{outcome_count[i+len(feature_count)*j]}</td><td>{outcome_percent[j][i]}%</td>\"\n",
    "                    design_feature=1\n",
    "                html+=f\"</tr>\"\n",
    "                \n",
    "                design_feature=0\n",
    "            html+=f\"</table></center>\"\n",
    "            display(HTML(html))\n",
    "        #MULTIPLE NUMERICAL FEATURES VS UNIQUE STRING OUTCOME\n",
    "        if (df_feature.nunique()>uniq_cases and str(check_type_feature)  in type and df_outcome.nunique()<=uniq_cases):\n",
    "            mean_value=round(df_feature.mean(),2)\n",
    "            uniq_sorted_ot=sorted(df_outcome.unique()) #Sorts features unique values\n",
    "            #Dict for Total and percent\n",
    "            total={}\n",
    "            \n",
    "            percent={}\n",
    "            total_abm=0\n",
    "            total_blm=0\n",
    "            #Dict for total above and below mean and thier percentage\n",
    "            total_feature_abm={}\n",
    "            total_feature_blm={}\n",
    "            percent_feature_abm={}\n",
    "            percent_feature_blm={}\n",
    "            #initializing dictionaries with 0\n",
    "            uniq_sorted_ot=sorted(df_outcome.unique())\n",
    "            for i in uniq_sorted_ot:\n",
    "                total_feature_abm[i]=0\n",
    "                total_feature_blm[i]=0\n",
    "                total[i]=0\n",
    "                percent[i]=0\n",
    "                percent_feature_abm[i]=0\n",
    "                percent_feature_blm[i]=0\n",
    "            #Count below mean and above mean\n",
    "            for i in range(0,len(df)):\n",
    "                if(df_feature[i]>=mean_value):\n",
    "                    total_abm+=1\n",
    "                else:\n",
    "                    total_blm+=1\n",
    "            #Count for total above and below mean\n",
    "            for uniq in uniq_sorted_ot:\n",
    "                for i in range(0,len(df)):\n",
    "                    if(df_feature[i]>=mean_value):\n",
    "                        if(df[outcome][i]==uniq):\n",
    "                            total_feature_abm[uniq]+=1\n",
    "                    else:\n",
    "                        if(df[outcome][i]==uniq):\n",
    "                            total_feature_blm[uniq]+=1\n",
    "            #Count total in each category\n",
    "            for uniq in uniq_sorted_ot:\n",
    "                total[uniq]=total_feature_abm[uniq]+total_feature_blm[uniq]\n",
    "            #Count percent in each category\n",
    "            for uniq in uniq_sorted_ot:\n",
    "                percent[uniq]=round(total[uniq]/total_data*100,2)\n",
    "                percent_feature_abm[uniq]=round(total_feature_abm[uniq]/total[uniq]*100,2)\n",
    "                percent_feature_blm[uniq]=round(total_feature_blm[uniq]/total[uniq]*100,2)\n",
    "                        \n",
    "            #Unique occurence of features\n",
    "            outcome_count=np.array(list(df[outcome].value_counts().sort_index()))\n",
    "            \n",
    "            #Percentage of each occurence of Feature\n",
    "            outcome_percent=[]\n",
    "            for i in range(0,len(outcome_count)):\n",
    "                outcome_percent.append(round(((outcome_count[i]/total_data)*100),2))\n",
    "            outcome_percent=np.array(outcome_percent)\n",
    "            \n",
    "            #Checks if outcome has less unique values\n",
    "                                             \n",
    "            #Display\n",
    "            if design==0:\n",
    "                html+=f\"Total Features {len(df)}<br>\"\n",
    "                html+=f\"Mean of {feature} = {mean_value}<br>\"\n",
    "                html+=\"<center><table cellpadding=15>\"\n",
    "                html+=\"<tr>\"\n",
    "                html+=f\"<td><center>{feature}</center> </td> <td>Total No. <br>({feature})</td> <td> Percentage <br>({feature}) </td>\"\n",
    "                for uniq in uniq_sorted_ot:\n",
    "                    html+=f\"<td>Total Outcome<br>({uniq})</td><td>Percentage Outcome<br>({uniq})\"\n",
    "                html+=\"</td>\"\n",
    "                html+=\"</tr>\"\n",
    "                design=1\n",
    "                \n",
    "                design_feature=0\n",
    "                html+=f\"<tr><td>Greater Than Mean</td><td>{total_abm}</td><td>{round((total_abm/total_data)*100,2)}</td>\"\n",
    "                for uniq in uniq_sorted_ot:\n",
    "                    html+=f\"<td>{total_feature_abm[uniq]}</td><td>{percent_feature_abm[uniq]} %</td>\"\n",
    "                html+=f\"<tr><td>Less Than Mean</td><td>{total_blm}</td><td>{round((total_blm/total_data)*100,2)}</td>\"\n",
    "                for uniq in uniq_sorted_ot:\n",
    "                    html+=f\"<td>{total_feature_blm[uniq]}</td><td>{percent_feature_blm[uniq]} %</td>\"  \n",
    "                html+=\"</table></center>\"\n",
    "                \n",
    "                display(HTML(html))\n",
    "        #UNIQUE STRING FEATURES AND MULTIPLE NUMERICAL OUTCOMES\n",
    "        if(df_feature.nunique()<=uniq_cases and df_outcome.nunique()>uniq_cases and str(check_type_outcome)  in type):\n",
    "            mean_value=round(df_outcome.mean(),2)\n",
    "            \n",
    "            #Dict for Total and percent\n",
    "            total={}\n",
    "            percent={}\n",
    "            #Dict for total above and below mean and thier percentage\n",
    "            total_outcome_abm={}\n",
    "            total_outcome_blm={}\n",
    "            percent_outcome_abm={}\n",
    "            percent_outcome_blm={}\n",
    "            #initializing dictionaries with 0\n",
    "            for i in uniq_sorted_ft:\n",
    "                total_outcome_abm[i]=0\n",
    "                total_outcome_blm[i]=0\n",
    "                total[i]=0\n",
    "                percent[i]=0\n",
    "                percent_outcome_abm[i]=0\n",
    "                percent_outcome_blm[i]=0\n",
    "            #Count for total above and below mean\n",
    "            for uniq in uniq_sorted_ft:\n",
    "                for i in range(0,len(df)):\n",
    "                    if(df_outcome[i]>=mean_value):\n",
    "                        if(df[feature][i]==uniq):\n",
    "                            total_outcome_abm[uniq]+=1\n",
    "                    else:\n",
    "                        if(df[feature][i]==uniq):\n",
    "                            total_outcome_blm[uniq]+=1\n",
    "            #Count total in each category\n",
    "            for uniq in uniq_sorted_ft:\n",
    "                total[uniq]=total_outcome_abm[uniq]+total_outcome_blm[uniq]\n",
    "            #Count percent in each category\n",
    "            for uniq in uniq_sorted_ft:\n",
    "                percent[uniq]=round(total[uniq]/total_data*100,2)\n",
    "                percent_outcome_abm[uniq]=round(total_outcome_abm[uniq]/total[uniq]*100,2)\n",
    "                percent_outcome_blm[uniq]=round(total_outcome_blm[uniq]/total[uniq]*100,2)\n",
    "                                             \n",
    "            #Display\n",
    "            if design==0:\n",
    "                html+=f\"Total Features {len(df)}<br>\"\n",
    "                html+=f\"Mean of {outcome} = {mean_value}<br>\"\n",
    "                html+=\"<center><table cellpadding=15>\"\n",
    "                html+=\"<tr>\"\n",
    "                html+=f\"<td><center>{feature}</center> </td> <td>Total No. <br>({feature})</td> <td> Percentage <br>({feature}) </td>\"\n",
    "                html+=f\"<td>Total No.<br>(Greater Than Mean)</td> <td>Percentage<br>(Greater Than Mean)</td><td>Total No.<br>(Less Than Mean)</td> <td>Percentage <br>(Less Than Mean)</td> \"\n",
    "                html+=\"</tr>\"\n",
    "                design=1\n",
    "                \n",
    "            design_feature=0\n",
    "            for uniq in uniq_sorted_ft:\n",
    "                html+=\"<tr>\"    \n",
    "                html+=f\"<td>{uniq}</td> <td>{total[uniq]}</td><td>{percent[uniq]} %</td><td>{total_outcome_abm[uniq]}</td><td>{percent_outcome_abm[uniq]} %</td><td>{total_outcome_blm[uniq]}</td><td>{percent_outcome_blm[uniq]} %</td>\"           \n",
    "                html+=f\"</tr>\"\n",
    "            html+=\"</table></center>\"\n",
    "            display(HTML(html))\n",
    "        \n",
    "    if(df_feature.nunique()>len(df)/1.5 and str(check_type_feature not in type)):\n",
    "        html_alert=f\"<h2><center>CAN'T_EVALUATE_ERROR:<font color='red'> {feature}</font> as <font color='red'> Feature </font> is of type <font color='red'>{check_type_feature}</font> having a large number of unique values.</center></h2>\"\n",
    "        display(HTML(html_alert))          \n",
    "    if(df_outcome.nunique()>len(df)/1.5 and str(check_type_outcome not in type)):\n",
    "        html_alert=f\"<h2><center>CAN'T_EVALUATE_ERROR:<font color='red'> {outcome}</font> as <font color ='red'>Outcome </font> is of type <font color='red'>{check_type_outcome}</font> having a large number of unique values.</center></h2>\"\n",
    "        display(HTML(html_alert))  "
   ]
  },
  {
   "cell_type": "markdown",
   "metadata": {},
   "source": [
    "<h1> UNIQUE NUMERICAL VS UNIQUE NUMERICAL </h1>\n",
    "<h3>Comparing Between Pclass(unique_value_count = 3)[ 1 2 3] and Survived (unique_value_count=2)[0 1] <br>(Both Unique Numerical Values)</h3>\n",
    "<h4>So choose max_unique_value_count =3 </h4>"
   ]
  },
  {
   "cell_type": "code",
   "execution_count": 17,
   "metadata": {},
   "outputs": [
    {
     "data": {
      "text/html": [
       "<h3><center>Comparing Pclass With Survived</center></h3>Total Features 418 <br><center><table cellpadding=15><tr><td><center>Pclass</center> </td> <td>Total No. (Pclass)</td> <td> Percentage (Pclass) </td><td>Total Outcome(0)</td> <td>Percentage Outcome(0)</td> <td>Total Outcome(1)</td> <td>Percentage Outcome(1)</td> </tr><tr><td></center>1</center></td><td>107</td><td>25.6%</td><td>57</td><td>53.27%</td><td>50</td><td>46.73%</td></tr><tr><td></center>2</center></td><td>93</td><td>22.25%</td><td>63</td><td>67.74%</td><td>30</td><td>32.26%</td></tr><tr><td></center>3</center></td><td>218</td><td>52.15%</td><td>146</td><td>66.97%</td><td>72</td><td>33.03%</td></tr><table></center>"
      ],
      "text/plain": [
       "<IPython.core.display.HTML object>"
      ]
     },
     "metadata": {},
     "output_type": "display_data"
    },
    {
     "data": {
      "text/html": [
       "<h3><center>Comparing Survived With Pclass</center></h3>Total Features 418 <br><center><table cellpadding=15><tr><td><center>Survived</center> </td> <td>Total No. (Survived)</td> <td> Percentage (Survived) </td><td>Total Outcome(1)</td> <td>Percentage Outcome(1)</td> <td>Total Outcome(2)</td> <td>Percentage Outcome(2)</td> <td>Total Outcome(3)</td> <td>Percentage Outcome(3)</td> </tr><tr><td></center>0</center></td><td>266</td><td>63.64%</td><td>57</td><td>21.43%</td><td>63</td><td>23.68%</td><td>146</td><td>54.89%</td></tr><tr><td></center>1</center></td><td>152</td><td>36.36%</td><td>50</td><td>32.89%</td><td>30</td><td>19.74%</td><td>72</td><td>47.37%</td></tr><table></center>"
      ],
      "text/plain": [
       "<IPython.core.display.HTML object>"
      ]
     },
     "metadata": {},
     "output_type": "display_data"
    }
   ],
   "source": [
    "Detailed_Details(df,'Pclass','Survived',3)\n",
    "Detailed_Details(df,'Survived','Pclass',3)"
   ]
  },
  {
   "cell_type": "markdown",
   "metadata": {},
   "source": [
    "<h1> MULTIPLE NUMERICAL VS UNIQUE NUMERICAL</h1>\n",
    "<h3>Comparing Between Pclass(unique_value_count=3)[1 2 3] with Fare(has high unique_value_count) <br>(Pclass Has Distinct Value but Fare doesnot have.)</h3>\n",
    "<h4>We set max_unique_value_count = 3 </h4>"
   ]
  },
  {
   "cell_type": "code",
   "execution_count": 18,
   "metadata": {},
   "outputs": [
    {
     "data": {
      "text/html": [
       "<h3><center>Comparing Pclass With Fare</center></h3>Total Features 418<br>Mean of Fare = 35.63<br><center><table cellpadding=15><tr><td><center>Pclass</center> </td> <td>Total No. <br>(Pclass)</td> <td> Percentage <br>(Pclass) </td><td>Total No.<br>(Greater Than Mean)</td> <td>Percentage<br>(Greater Than Mean)</td><td>Total No.<br>(Less Than Mean)</td> <td>Percentage <br>(Less Than Mean)</td> </tr><tr><td>1</td> <td>107</td><td>25.6 %</td><td>77</td><td>71.96 %</td><td>30</td><td>28.04 %</td></tr><tr><td>2</td> <td>93</td><td>22.25 %</td><td>12</td><td>12.9 %</td><td>81</td><td>87.1 %</td></tr><tr><td>3</td> <td>218</td><td>52.15 %</td><td>8</td><td>3.67 %</td><td>210</td><td>96.33 %</td></tr></table></center>"
      ],
      "text/plain": [
       "<IPython.core.display.HTML object>"
      ]
     },
     "metadata": {},
     "output_type": "display_data"
    },
    {
     "data": {
      "text/html": [
       "<h3><center>Comparing Fare With Pclass</center></h3>Total Features 418<br>Mean of Fare = 35.63<br><center><table cellpadding=15><tr><td><center>Fare</center> </td> <td>Total No. <br>(Fare)</td> <td> Percentage <br>(Fare) </td><td>Total Outcome<br>(1)</td><td>Percentage Outcome<br>(1)<td>Total Outcome<br>(2)</td><td>Percentage Outcome<br>(2)<td>Total Outcome<br>(3)</td><td>Percentage Outcome<br>(3)</td></tr><tr><td>Greater Than Mean</td><td>97</td><td>23.21</td><td>77</td><td>71.96 %</td><td>12</td><td>12.9 %</td><td>8</td><td>3.67 %</td><tr><td>Less Than Mean</td><td>321</td><td>76.79</td><td>30</td><td>28.04 %</td><td>81</td><td>87.1 %</td><td>210</td><td>96.33 %</td></table></center>"
      ],
      "text/plain": [
       "<IPython.core.display.HTML object>"
      ]
     },
     "metadata": {},
     "output_type": "display_data"
    }
   ],
   "source": [
    "Detailed_Details(df,'Pclass','Fare',3)\n",
    "Detailed_Details(df,'Fare','Pclass',3)"
   ]
  },
  {
   "cell_type": "markdown",
   "metadata": {},
   "source": [
    "<h1> MULTIPLE NUMERICAL VS MULTIPLE NUMERICAL </h1>\n",
    "<h3>Comparing Between Age(has high uniqe_value_count) with Fare(has high uniqe_value_count) \n",
    "<h4>We set max_unique_value_count to 0 (doesnot really matter here) </h4>"
   ]
  },
  {
   "cell_type": "code",
   "execution_count": 19,
   "metadata": {},
   "outputs": [
    {
     "data": {
      "text/html": [
       "<h3><center>Comparing Age With Fare</center></h3>Total Features 418<br>Mean of Age = 30.27<br>Mean of Fare =35.63<br><center><table cellpadding=15><tr><td><center>Age</center> </td> <td>Total No. <br>(Age)</td> <td> Percentage <br>(Age) </td><td> Total Outcome <br>Greater Than Mean<br>(35.63)</td><td> Percentage Outcome <br>Greater Than Mean<br>(35.63)</td><td> Total Outcome <br>Less Than Mean<br>(35.63)</td><td> Percentage Outcome <br>Less Than Mean<br>(35.63)</td></td></tr><tr><td>Greater Than Mean<br>(30.27)</td><td>218</td><td>52.15 %</td><td>61</td><td>27.98 %</td><td>157</td><td>72.02 %</td><tr><td>Less Than Mean<br>(30.27)</td><td>200</td><td>47.85 %</td><td>36</td><td>18.0 %</td><td>164</td><td>82.0 %</td></table></center>"
      ],
      "text/plain": [
       "<IPython.core.display.HTML object>"
      ]
     },
     "metadata": {},
     "output_type": "display_data"
    },
    {
     "data": {
      "text/html": [
       "<h3><center>Comparing Fare With Age</center></h3>Total Features 418<br>Mean of Fare = 35.63<br>Mean of Age =30.27<br><center><table cellpadding=15><tr><td><center>Fare</center> </td> <td>Total No. <br>(Fare)</td> <td> Percentage <br>(Fare) </td><td> Total Outcome <br>Greater Than Mean<br>(30.27)</td><td> Percentage Outcome <br>Greater Than Mean<br>(30.27)</td><td> Total Outcome <br>Less Than Mean<br>(30.27)</td><td> Percentage Outcome <br>Less Than Mean<br>(30.27)</td></td></tr><tr><td>Greater Than Mean<br>(35.63)</td><td>97</td><td>23.21 %</td><td>61</td><td>62.89 %</td><td>36</td><td>37.11 %</td><tr><td>Less Than Mean<br>(35.63)</td><td>321</td><td>76.79 %</td><td>157</td><td>48.91 %</td><td>164</td><td>51.09 %</td></table></center>"
      ],
      "text/plain": [
       "<IPython.core.display.HTML object>"
      ]
     },
     "metadata": {},
     "output_type": "display_data"
    }
   ],
   "source": [
    "Detailed_Details(df,'Age','Fare',0)\n",
    "Detailed_Details(df,'Fare','Age',0)"
   ]
  },
  {
   "cell_type": "markdown",
   "metadata": {},
   "source": [
    "<h1> UNIQUE NUMERICAL VS UNIQUE STRING </h1>\n",
    "<h3>Comparing Between Pclass(uniqe_value_count=3)[1 2 3] with Sex(unique_value_count=2)[female male] <br> (Both Have low unique_value_counts)</h3>\n",
    "<h4>We set max_unique_value_count=3</h4>"
   ]
  },
  {
   "cell_type": "code",
   "execution_count": 20,
   "metadata": {},
   "outputs": [
    {
     "data": {
      "text/html": [
       "<h3><center>Comparing Pclass With Sex</center></h3>Total Features 418 <br><center><table cellpadding=15><tr><td><center>Pclass</center> </td> <td>Total No. (Pclass)</td> <td> Percentage (Pclass) </td><td>Total Outcome(female)</td> <td>Percentage Outcome(female)</td> <td>Total Outcome(male)</td> <td>Percentage Outcome(male)</td> </tr><tr><td></center>1</center></td><td>107</td><td>25.6%</td><td>50</td><td>46.73%</td><td>57</td><td>53.27%</td></tr><tr><td></center>2</center></td><td>93</td><td>22.25%</td><td>30</td><td>32.26%</td><td>63</td><td>67.74%</td></tr><tr><td></center>3</center></td><td>218</td><td>52.15%</td><td>72</td><td>33.03%</td><td>146</td><td>66.97%</td></tr><table></center>"
      ],
      "text/plain": [
       "<IPython.core.display.HTML object>"
      ]
     },
     "metadata": {},
     "output_type": "display_data"
    },
    {
     "data": {
      "text/html": [
       "<h3><center>Comparing Sex With Pclass</center></h3>Total Features 418 <br><center><table cellpadding=15><tr><td><center>Sex</center> </td> <td>Total No. (Sex)</td> <td> Percentage (Sex) </td><td>Total Outcome(1)</td> <td>Percentage Outcome(1)</td> <td>Total Outcome(2)</td> <td>Percentage Outcome(2)</td> <td>Total Outcome(3)</td> <td>Percentage Outcome(3)</td> </tr><tr><td></center>female</center></td><td>152</td><td>36.36%</td><td>50</td><td>32.89%</td><td>30</td><td>19.74%</td><td>72</td><td>47.37%</td></tr><tr><td></center>male</center></td><td>266</td><td>63.64%</td><td>57</td><td>21.43%</td><td>63</td><td>23.68%</td><td>146</td><td>54.89%</td></tr><table></center>"
      ],
      "text/plain": [
       "<IPython.core.display.HTML object>"
      ]
     },
     "metadata": {},
     "output_type": "display_data"
    }
   ],
   "source": [
    "Detailed_Details(df,'Pclass','Sex',3)\n",
    "Detailed_Details(df,'Sex','Pclass',3)\n"
   ]
  },
  {
   "cell_type": "markdown",
   "metadata": {},
   "source": [
    "\n",
    "<h1> MULTIPLE NUMERICAL VS UNIQUE STRING </h1>\n",
    "<h3>Comparing Between Fare(has high unique_value_count) with Embarked(uniqe_value_count=3)[C Q S] </h3>\n",
    "<h4>We set max_uniqe_value_count=3</h4>"
   ]
  },
  {
   "cell_type": "code",
   "execution_count": 21,
   "metadata": {},
   "outputs": [
    {
     "data": {
      "text/html": [
       "<h3><center>Comparing Fare With Embarked</center></h3>Total Features 418<br>Mean of Fare = 35.63<br><center><table cellpadding=15><tr><td><center>Fare</center> </td> <td>Total No. <br>(Fare)</td> <td> Percentage <br>(Fare) </td><td>Total Outcome<br>(C)</td><td>Percentage Outcome<br>(C)<td>Total Outcome<br>(Q)</td><td>Percentage Outcome<br>(Q)<td>Total Outcome<br>(S)</td><td>Percentage Outcome<br>(S)</td></tr><tr><td>Greater Than Mean</td><td>97</td><td>23.21</td><td>45</td><td>44.12 %</td><td>1</td><td>2.17 %</td><td>51</td><td>18.89 %</td><tr><td>Less Than Mean</td><td>321</td><td>76.79</td><td>57</td><td>55.88 %</td><td>45</td><td>97.83 %</td><td>219</td><td>81.11 %</td></table></center>"
      ],
      "text/plain": [
       "<IPython.core.display.HTML object>"
      ]
     },
     "metadata": {},
     "output_type": "display_data"
    },
    {
     "data": {
      "text/html": [
       "<h3><center>Comparing Embarked With Fare</center></h3>Total Features 418<br>Mean of Fare = 35.63<br><center><table cellpadding=15><tr><td><center>Embarked</center> </td> <td>Total No. <br>(Embarked)</td> <td> Percentage <br>(Embarked) </td><td>Total No.<br>(Greater Than Mean)</td> <td>Percentage<br>(Greater Than Mean)</td><td>Total No.<br>(Less Than Mean)</td> <td>Percentage <br>(Less Than Mean)</td> </tr><tr><td>C</td> <td>102</td><td>24.4 %</td><td>45</td><td>44.12 %</td><td>57</td><td>55.88 %</td></tr><tr><td>Q</td> <td>46</td><td>11.0 %</td><td>1</td><td>2.17 %</td><td>45</td><td>97.83 %</td></tr><tr><td>S</td> <td>270</td><td>64.59 %</td><td>51</td><td>18.89 %</td><td>219</td><td>81.11 %</td></tr></table></center>"
      ],
      "text/plain": [
       "<IPython.core.display.HTML object>"
      ]
     },
     "metadata": {},
     "output_type": "display_data"
    }
   ],
   "source": [
    "\n",
    "Detailed_Details(df,'Fare','Embarked',3)\n",
    "Detailed_Details(df,'Embarked','Fare',3)"
   ]
  },
  {
   "cell_type": "markdown",
   "metadata": {},
   "source": [
    "<h1> UNIQUE STRING VS UNIQUE STRING </h1>\n",
    "<h3>Comparing Between Sex(uniqe_value_count=2)[female male] with Embarked(uniqe_value_count=3)[C Q S] <br> (Both have low unique_value_counts and are of string type)</h3>\n",
    "<h4>We set max_uniqe_value_count=3</h4>"
   ]
  },
  {
   "cell_type": "code",
   "execution_count": 22,
   "metadata": {},
   "outputs": [
    {
     "data": {
      "text/html": [
       "<h3><center>Comparing Sex With Embarked</center></h3>Total Features 418<br><center><table cellpadding=15><tr><td><center>Sex</center> </td> <td>Total No. <br>(Sex)</td> <td> Percentage <br>(Sex) </td><td>Total No.<br>(C)</td> <td>Percentage <br>(C)</td> <td>Total No.<br>(Q)</td> <td>Percentage <br>(Q)</td> <td>Total No.<br>(S)</td> <td>Percentage <br>(S)</td> </tr><tr><td></center>female</center></td><td>152</td><td>36.36%</td><td>40</td><td>26.32%</td><td>24</td><td>15.79%</td><td>88</td><td>57.89%</td></tr><tr><td></center>male</center></td><td>266</td><td>63.64%</td><td>62</td><td>23.31%</td><td>22</td><td>8.27%</td><td>182</td><td>68.42%</td></tr></table></center>"
      ],
      "text/plain": [
       "<IPython.core.display.HTML object>"
      ]
     },
     "metadata": {},
     "output_type": "display_data"
    },
    {
     "data": {
      "text/html": [
       "<h3><center>Comparing Embarked With Sex</center></h3>Total Features 418<br><center><table cellpadding=15><tr><td><center>Embarked</center> </td> <td>Total No. <br>(Embarked)</td> <td> Percentage <br>(Embarked) </td><td>Total No.<br>(female)</td> <td>Percentage <br>(female)</td> <td>Total No.<br>(male)</td> <td>Percentage <br>(male)</td> </tr><tr><td></center>C</center></td><td>102</td><td>24.4%</td><td>40</td><td>39.22%</td><td>62</td><td>60.78%</td></tr><tr><td></center>Q</center></td><td>46</td><td>11.0%</td><td>24</td><td>52.17%</td><td>22</td><td>47.83%</td></tr><tr><td></center>S</center></td><td>270</td><td>64.59%</td><td>88</td><td>32.59%</td><td>182</td><td>67.41%</td></tr></table></center>"
      ],
      "text/plain": [
       "<IPython.core.display.HTML object>"
      ]
     },
     "metadata": {},
     "output_type": "display_data"
    }
   ],
   "source": [
    "Detailed_Details(df,'Sex','Embarked',3)\n",
    "Detailed_Details(df,'Embarked','Sex',3)"
   ]
  },
  {
   "cell_type": "markdown",
   "metadata": {},
   "source": [
    "<h3>Trying with String having high number of uniqe_value_count</h3>\n",
    "<h4>Like Name </h4>\n",
    "<h4>Here max_uniqe_value_count doesnot matter much</h4>"
   ]
  },
  {
   "cell_type": "code",
   "execution_count": 23,
   "metadata": {},
   "outputs": [
    {
     "data": {
      "text/html": [
       "<h2><center>CAN'T_EVALUATE_ERROR:<font color='red'> Name</font> as <font color ='red'>Outcome </font> is of type <font color='red'>object</font> having a large number of unique values.</center></h2>"
      ],
      "text/plain": [
       "<IPython.core.display.HTML object>"
      ]
     },
     "metadata": {},
     "output_type": "display_data"
    },
    {
     "data": {
      "text/html": [
       "<h2><center>CAN'T_EVALUATE_ERROR:<font color='red'> Name</font> as <font color='red'> Feature </font> is of type <font color='red'>object</font> having a large number of unique values.</center></h2>"
      ],
      "text/plain": [
       "<IPython.core.display.HTML object>"
      ]
     },
     "metadata": {},
     "output_type": "display_data"
    }
   ],
   "source": [
    "Detailed_Details(df,'Pclass','Name',3)\n",
    "\n",
    "Detailed_Details(df,'Name','Pclass',3)"
   ]
  },
  {
   "cell_type": "code",
   "execution_count": null,
   "metadata": {},
   "outputs": [],
   "source": []
  }
 ],
 "metadata": {
  "kernelspec": {
   "display_name": "Python 3.10.5 64-bit",
   "language": "python",
   "name": "python3"
  },
  "language_info": {
   "codemirror_mode": {
    "name": "ipython",
    "version": 3
   },
   "file_extension": ".py",
   "mimetype": "text/x-python",
   "name": "python",
   "nbconvert_exporter": "python",
   "pygments_lexer": "ipython3",
   "version": "3.10.5"
  },
  "orig_nbformat": 4,
  "vscode": {
   "interpreter": {
    "hash": "369f2c481f4da34e4445cda3fffd2e751bd1c4d706f27375911949ba6bb62e1c"
   }
  }
 },
 "nbformat": 4,
 "nbformat_minor": 2
}
