{
 "cells": [
  {
   "cell_type": "code",
   "execution_count": 65,
   "metadata": {},
   "outputs": [],
   "source": [
    "import pandas as pd\n",
    "import numpy as np"
   ]
  },
  {
   "cell_type": "code",
   "execution_count": 66,
   "metadata": {},
   "outputs": [],
   "source": [
    "df=pd.read_csv('test.csv')\n",
    "df_survived=pd.read_csv('gender_submission.csv')"
   ]
  },
  {
   "cell_type": "code",
   "execution_count": 67,
   "metadata": {},
   "outputs": [],
   "source": [
    "df=pd.concat([df,df_survived['Survived']],axis=1)"
   ]
  },
  {
   "cell_type": "code",
   "execution_count": 68,
   "metadata": {},
   "outputs": [
    {
     "data": {
      "text/html": [
       "<div>\n",
       "<style scoped>\n",
       "    .dataframe tbody tr th:only-of-type {\n",
       "        vertical-align: middle;\n",
       "    }\n",
       "\n",
       "    .dataframe tbody tr th {\n",
       "        vertical-align: top;\n",
       "    }\n",
       "\n",
       "    .dataframe thead th {\n",
       "        text-align: right;\n",
       "    }\n",
       "</style>\n",
       "<table border=\"1\" class=\"dataframe\">\n",
       "  <thead>\n",
       "    <tr style=\"text-align: right;\">\n",
       "      <th></th>\n",
       "      <th>PassengerId</th>\n",
       "      <th>Pclass</th>\n",
       "      <th>Name</th>\n",
       "      <th>Sex</th>\n",
       "      <th>Age</th>\n",
       "      <th>SibSp</th>\n",
       "      <th>Parch</th>\n",
       "      <th>Ticket</th>\n",
       "      <th>Fare</th>\n",
       "      <th>Cabin</th>\n",
       "      <th>Embarked</th>\n",
       "      <th>Survived</th>\n",
       "    </tr>\n",
       "  </thead>\n",
       "  <tbody>\n",
       "    <tr>\n",
       "      <th>0</th>\n",
       "      <td>892</td>\n",
       "      <td>3</td>\n",
       "      <td>Kelly, Mr. James</td>\n",
       "      <td>male</td>\n",
       "      <td>34.5</td>\n",
       "      <td>0</td>\n",
       "      <td>0</td>\n",
       "      <td>330911</td>\n",
       "      <td>7.8292</td>\n",
       "      <td>NaN</td>\n",
       "      <td>Q</td>\n",
       "      <td>0</td>\n",
       "    </tr>\n",
       "    <tr>\n",
       "      <th>1</th>\n",
       "      <td>893</td>\n",
       "      <td>3</td>\n",
       "      <td>Wilkes, Mrs. James (Ellen Needs)</td>\n",
       "      <td>female</td>\n",
       "      <td>47.0</td>\n",
       "      <td>1</td>\n",
       "      <td>0</td>\n",
       "      <td>363272</td>\n",
       "      <td>7.0000</td>\n",
       "      <td>NaN</td>\n",
       "      <td>S</td>\n",
       "      <td>1</td>\n",
       "    </tr>\n",
       "    <tr>\n",
       "      <th>2</th>\n",
       "      <td>894</td>\n",
       "      <td>2</td>\n",
       "      <td>Myles, Mr. Thomas Francis</td>\n",
       "      <td>male</td>\n",
       "      <td>62.0</td>\n",
       "      <td>0</td>\n",
       "      <td>0</td>\n",
       "      <td>240276</td>\n",
       "      <td>9.6875</td>\n",
       "      <td>NaN</td>\n",
       "      <td>Q</td>\n",
       "      <td>0</td>\n",
       "    </tr>\n",
       "    <tr>\n",
       "      <th>3</th>\n",
       "      <td>895</td>\n",
       "      <td>3</td>\n",
       "      <td>Wirz, Mr. Albert</td>\n",
       "      <td>male</td>\n",
       "      <td>27.0</td>\n",
       "      <td>0</td>\n",
       "      <td>0</td>\n",
       "      <td>315154</td>\n",
       "      <td>8.6625</td>\n",
       "      <td>NaN</td>\n",
       "      <td>S</td>\n",
       "      <td>0</td>\n",
       "    </tr>\n",
       "    <tr>\n",
       "      <th>4</th>\n",
       "      <td>896</td>\n",
       "      <td>3</td>\n",
       "      <td>Hirvonen, Mrs. Alexander (Helga E Lindqvist)</td>\n",
       "      <td>female</td>\n",
       "      <td>22.0</td>\n",
       "      <td>1</td>\n",
       "      <td>1</td>\n",
       "      <td>3101298</td>\n",
       "      <td>12.2875</td>\n",
       "      <td>NaN</td>\n",
       "      <td>S</td>\n",
       "      <td>1</td>\n",
       "    </tr>\n",
       "  </tbody>\n",
       "</table>\n",
       "</div>"
      ],
      "text/plain": [
       "   PassengerId  Pclass                                          Name     Sex  \\\n",
       "0          892       3                              Kelly, Mr. James    male   \n",
       "1          893       3              Wilkes, Mrs. James (Ellen Needs)  female   \n",
       "2          894       2                     Myles, Mr. Thomas Francis    male   \n",
       "3          895       3                              Wirz, Mr. Albert    male   \n",
       "4          896       3  Hirvonen, Mrs. Alexander (Helga E Lindqvist)  female   \n",
       "\n",
       "    Age  SibSp  Parch   Ticket     Fare Cabin Embarked  Survived  \n",
       "0  34.5      0      0   330911   7.8292   NaN        Q         0  \n",
       "1  47.0      1      0   363272   7.0000   NaN        S         1  \n",
       "2  62.0      0      0   240276   9.6875   NaN        Q         0  \n",
       "3  27.0      0      0   315154   8.6625   NaN        S         0  \n",
       "4  22.0      1      1  3101298  12.2875   NaN        S         1  "
      ]
     },
     "execution_count": 68,
     "metadata": {},
     "output_type": "execute_result"
    }
   ],
   "source": [
    "df.head()"
   ]
  },
  {
   "cell_type": "markdown",
   "metadata": {},
   "source": [
    "Checking and dropping NaN items\n"
   ]
  },
  {
   "cell_type": "code",
   "execution_count": 69,
   "metadata": {},
   "outputs": [
    {
     "data": {
      "text/plain": [
       "PassengerId      0\n",
       "Pclass           0\n",
       "Name             0\n",
       "Sex              0\n",
       "Age             86\n",
       "SibSp            0\n",
       "Parch            0\n",
       "Ticket           0\n",
       "Fare             1\n",
       "Cabin          327\n",
       "Embarked         0\n",
       "Survived         0\n",
       "dtype: int64"
      ]
     },
     "execution_count": 69,
     "metadata": {},
     "output_type": "execute_result"
    }
   ],
   "source": [
    "df.isnull().sum()"
   ]
  },
  {
   "cell_type": "code",
   "execution_count": 70,
   "metadata": {},
   "outputs": [],
   "source": [
    "df['Fare'].fillna(df['Fare'].mean(),inplace=True) #Replacing with mean values\n",
    "df['Age'].fillna(df['Age'].mean(),inplace=True) #Replacing with mean values\n",
    "df.drop('Cabin',axis=1,inplace=True)"
   ]
  },
  {
   "cell_type": "markdown",
   "metadata": {},
   "source": [
    "<h1>Detailed_Details Function</h1>\n",
    "<h2> Takes 4 inputs </h2>\n",
    "<ul>\n",
    "<li> df = dataframe </li>\n",
    "<li> target= Targeted Feature </li>\n",
    "<li> outcome= Targeted Outcome </li>\n",
    "<li> max_unique_value_count = (Set)Maximum Unique Value Count in between Target and Outcome.Best to set Max_Unique_Count Finite (i.e Less than 25).<br> That is \"df[target].nunique()<=25\" or \"df[outcome].nunique()<=25\" <br> Now Choose Max Value Between them.</li>\n",
    "</ul>\n",
    "<h3> Remove all NaN values before Hand. </h3>\n",
    "<h3> If you have dropped rows in Dataframe. ReIndex Your DataFrame (DataFrame.reindex()). </h3>\n",
    "<h3> This function doesnot evaluate for strings or objects having large unique_value_counts. </h3>"
   ]
  },
  {
   "cell_type": "code",
   "execution_count": 71,
   "metadata": {},
   "outputs": [],
   "source": [
    "#Code is in Detailed_Details.py\n",
    "from Detailed_Details import Detailed_Details"
   ]
  },
  {
   "cell_type": "markdown",
   "metadata": {},
   "source": [
    "<h1> UNIQUE NUMERICAL VS UNIQUE NUMERICAL </h1>\n",
    "<h3>Comparing Between Pclass(unique_value_count = 3)[ 1 2 3] and Survived (unique_value_count=2)[0 1] <br>(Both Unique Numerical Values)</h3>\n",
    "<h4>So choose max_unique_value_count =3 </h4>"
   ]
  },
  {
   "cell_type": "code",
   "execution_count": 72,
   "metadata": {},
   "outputs": [
    {
     "data": {
      "text/html": [
       "<h3><center>Comparing Pclass With Survived</center></h3>Total Features 418 <br><center><table cellpadding=15><tr><td><center>Pclass</center> </td> <td>Total No. (Pclass)</td> <td> Percentage (Pclass) </td><td>Total Outcome(0)</td> <td>Percentage Outcome(0)</td> <td>Total Outcome(1)</td> <td>Percentage Outcome(1)</td> </tr><tr><td></center>1</center></td><td>107</td><td>25.6%</td><td>57</td><td>53.27%</td><td>50</td><td>46.73%</td></tr><tr><td></center>2</center></td><td>93</td><td>22.25%</td><td>63</td><td>67.74%</td><td>30</td><td>32.26%</td></tr><tr><td></center>3</center></td><td>218</td><td>52.15%</td><td>146</td><td>66.97%</td><td>72</td><td>33.03%</td></tr><table></center>"
      ],
      "text/plain": [
       "<IPython.core.display.HTML object>"
      ]
     },
     "metadata": {},
     "output_type": "display_data"
    },
    {
     "data": {
      "text/html": [
       "<h3><center>Comparing Survived With Pclass</center></h3>Total Features 418 <br><center><table cellpadding=15><tr><td><center>Survived</center> </td> <td>Total No. (Survived)</td> <td> Percentage (Survived) </td><td>Total Outcome(1)</td> <td>Percentage Outcome(1)</td> <td>Total Outcome(2)</td> <td>Percentage Outcome(2)</td> <td>Total Outcome(3)</td> <td>Percentage Outcome(3)</td> </tr><tr><td></center>0</center></td><td>266</td><td>63.64%</td><td>57</td><td>21.43%</td><td>63</td><td>23.68%</td><td>146</td><td>54.89%</td></tr><tr><td></center>1</center></td><td>152</td><td>36.36%</td><td>50</td><td>32.89%</td><td>30</td><td>19.74%</td><td>72</td><td>47.37%</td></tr><table></center>"
      ],
      "text/plain": [
       "<IPython.core.display.HTML object>"
      ]
     },
     "metadata": {},
     "output_type": "display_data"
    }
   ],
   "source": [
    "Detailed_Details(df,'Pclass','Survived',3)\n",
    "Detailed_Details(df,'Survived','Pclass',3)"
   ]
  },
  {
   "cell_type": "markdown",
   "metadata": {},
   "source": [
    "<h1> MULTIPLE NUMERICAL VS UNIQUE NUMERICAL</h1>\n",
    "<h3>Comparing Between Pclass(unique_value_count=3)[1 2 3] with Fare(has high unique_value_count) <br>(Pclass Has Distinct Value but Fare doesnot have.)</h3>\n",
    "<h4>We set max_unique_value_count = 3 </h4>"
   ]
  },
  {
   "cell_type": "code",
   "execution_count": 73,
   "metadata": {},
   "outputs": [
    {
     "data": {
      "text/html": [
       "<h3><center>Comparing Pclass With Fare</center></h3>Total Features 418<br>Mean of Fare = 35.63<br><center><table cellpadding=15><tr><td><center>Pclass</center> </td> <td>Total No. <br>(Pclass)</td> <td> Percentage <br>(Pclass) </td><td>Total No.<br>(Greater Than Mean)</td> <td>Percentage<br>(Greater Than Mean)</td><td>Total No.<br>(Less Than Mean)</td> <td>Percentage <br>(Less Than Mean)</td> </tr><tr><td>1</td> <td>107</td><td>25.6 %</td><td>77</td><td>71.96 %</td><td>30</td><td>28.04 %</td></tr><tr><td>2</td> <td>93</td><td>22.25 %</td><td>12</td><td>12.9 %</td><td>81</td><td>87.1 %</td></tr><tr><td>3</td> <td>218</td><td>52.15 %</td><td>8</td><td>3.67 %</td><td>210</td><td>96.33 %</td></tr></table></center>"
      ],
      "text/plain": [
       "<IPython.core.display.HTML object>"
      ]
     },
     "metadata": {},
     "output_type": "display_data"
    },
    {
     "data": {
      "text/html": [
       "<h3><center>Comparing Fare With Pclass</center></h3>Total Features 418<br>Mean of Fare = 35.63<br><center><table cellpadding=15><tr><td><center>Fare</center> </td> <td>Total No. <br>(Fare)</td> <td> Percentage <br>(Fare) </td><td>Total Outcome<br>(1)</td><td>Percentage Outcome<br>(1)<td>Total Outcome<br>(2)</td><td>Percentage Outcome<br>(2)<td>Total Outcome<br>(3)</td><td>Percentage Outcome<br>(3)</td></tr><tr><td>Greater Than Mean</td><td>97</td><td>23.21</td><td>77</td><td>71.96 %</td><td>12</td><td>12.9 %</td><td>8</td><td>3.67 %</td><tr><td>Less Than Mean</td><td>321</td><td>76.79</td><td>30</td><td>28.04 %</td><td>81</td><td>87.1 %</td><td>210</td><td>96.33 %</td></table></center>"
      ],
      "text/plain": [
       "<IPython.core.display.HTML object>"
      ]
     },
     "metadata": {},
     "output_type": "display_data"
    }
   ],
   "source": [
    "Detailed_Details(df,'Pclass','Fare',3)\n",
    "Detailed_Details(df,'Fare','Pclass',3)"
   ]
  },
  {
   "cell_type": "markdown",
   "metadata": {},
   "source": [
    "<h1> MULTIPLE NUMERICAL VS MULTIPLE NUMERICAL </h1>\n",
    "<h3>Comparing Between Age(has high uniqe_value_count) with Fare(has high uniqe_value_count) \n",
    "<h4>We set max_unique_value_count to 0 (doesnot really matter here) </h4>"
   ]
  },
  {
   "cell_type": "code",
   "execution_count": 74,
   "metadata": {},
   "outputs": [
    {
     "data": {
      "text/html": [
       "<h3><center>Comparing Age With Fare</center></h3>Total Features 418<br>Mean of Age = 30.27<br>Mean of Fare =35.63<br><center><table cellpadding=15><tr><td><center>Age</center> </td> <td>Total No. <br>(Age)</td> <td> Percentage <br>(Age) </td><td> Total Outcome <br>Greater Than Mean<br>(35.63)</td><td> Percentage Outcome <br>Greater Than Mean<br>(35.63)</td><td> Total Outcome <br>Less Than Mean<br>(35.63)</td><td> Percentage Outcome <br>Less Than Mean<br>(35.63)</td></td></tr><tr><td>Greater Than Mean<br>(30.27)</td><td>218</td><td>52.15 %</td><td>61</td><td>27.98 %</td><td>157</td><td>72.02 %</td><tr><td>Less Than Mean<br>(30.27)</td><td>200</td><td>47.85 %</td><td>36</td><td>18.0 %</td><td>164</td><td>82.0 %</td></table></center>"
      ],
      "text/plain": [
       "<IPython.core.display.HTML object>"
      ]
     },
     "metadata": {},
     "output_type": "display_data"
    },
    {
     "data": {
      "text/html": [
       "<h3><center>Comparing Fare With Age</center></h3>Total Features 418<br>Mean of Fare = 35.63<br>Mean of Age =30.27<br><center><table cellpadding=15><tr><td><center>Fare</center> </td> <td>Total No. <br>(Fare)</td> <td> Percentage <br>(Fare) </td><td> Total Outcome <br>Greater Than Mean<br>(30.27)</td><td> Percentage Outcome <br>Greater Than Mean<br>(30.27)</td><td> Total Outcome <br>Less Than Mean<br>(30.27)</td><td> Percentage Outcome <br>Less Than Mean<br>(30.27)</td></td></tr><tr><td>Greater Than Mean<br>(35.63)</td><td>97</td><td>23.21 %</td><td>61</td><td>62.89 %</td><td>36</td><td>37.11 %</td><tr><td>Less Than Mean<br>(35.63)</td><td>321</td><td>76.79 %</td><td>157</td><td>48.91 %</td><td>164</td><td>51.09 %</td></table></center>"
      ],
      "text/plain": [
       "<IPython.core.display.HTML object>"
      ]
     },
     "metadata": {},
     "output_type": "display_data"
    }
   ],
   "source": [
    "Detailed_Details(df,'Age','Fare',0)\n",
    "Detailed_Details(df,'Fare','Age',0)"
   ]
  },
  {
   "cell_type": "markdown",
   "metadata": {},
   "source": [
    "<h1> UNIQUE NUMERICAL VS UNIQUE STRING </h1>\n",
    "<h3>Comparing Between Pclass(uniqe_value_count=3)[1 2 3] with Sex(unique_value_count=2)[female male] <br> (Both Have low unique_value_counts)</h3>\n",
    "<h4>We set max_unique_value_count=3</h4>"
   ]
  },
  {
   "cell_type": "code",
   "execution_count": 75,
   "metadata": {},
   "outputs": [
    {
     "data": {
      "text/html": [
       "<h3><center>Comparing Pclass With Sex</center></h3>Total Features 418 <br><center><table cellpadding=15><tr><td><center>Pclass</center> </td> <td>Total No. (Pclass)</td> <td> Percentage (Pclass) </td><td>Total Outcome(female)</td> <td>Percentage Outcome(female)</td> <td>Total Outcome(male)</td> <td>Percentage Outcome(male)</td> </tr><tr><td></center>1</center></td><td>107</td><td>25.6%</td><td>50</td><td>46.73%</td><td>57</td><td>53.27%</td></tr><tr><td></center>2</center></td><td>93</td><td>22.25%</td><td>30</td><td>32.26%</td><td>63</td><td>67.74%</td></tr><tr><td></center>3</center></td><td>218</td><td>52.15%</td><td>72</td><td>33.03%</td><td>146</td><td>66.97%</td></tr><table></center>"
      ],
      "text/plain": [
       "<IPython.core.display.HTML object>"
      ]
     },
     "metadata": {},
     "output_type": "display_data"
    },
    {
     "data": {
      "text/html": [
       "<h3><center>Comparing Sex With Pclass</center></h3>Total Features 418 <br><center><table cellpadding=15><tr><td><center>Sex</center> </td> <td>Total No. (Sex)</td> <td> Percentage (Sex) </td><td>Total Outcome(1)</td> <td>Percentage Outcome(1)</td> <td>Total Outcome(2)</td> <td>Percentage Outcome(2)</td> <td>Total Outcome(3)</td> <td>Percentage Outcome(3)</td> </tr><tr><td></center>female</center></td><td>152</td><td>36.36%</td><td>50</td><td>32.89%</td><td>30</td><td>19.74%</td><td>72</td><td>47.37%</td></tr><tr><td></center>male</center></td><td>266</td><td>63.64%</td><td>57</td><td>21.43%</td><td>63</td><td>23.68%</td><td>146</td><td>54.89%</td></tr><table></center>"
      ],
      "text/plain": [
       "<IPython.core.display.HTML object>"
      ]
     },
     "metadata": {},
     "output_type": "display_data"
    }
   ],
   "source": [
    "Detailed_Details(df,'Pclass','Sex',3)\n",
    "Detailed_Details(df,'Sex','Pclass',3)\n"
   ]
  },
  {
   "cell_type": "markdown",
   "metadata": {},
   "source": [
    "\n",
    "<h1> MULTIPLE NUMERICAL VS UNIQUE STRING </h1>\n",
    "<h3>Comparing Between Fare(has high unique_value_count) with Embarked(uniqe_value_count=3)[C Q S] </h3>\n",
    "<h4>We set max_uniqe_value_count=3</h4>"
   ]
  },
  {
   "cell_type": "code",
   "execution_count": 76,
   "metadata": {},
   "outputs": [
    {
     "data": {
      "text/html": [
       "<h3><center>Comparing Fare With Embarked</center></h3>Total Features 418<br>Mean of Fare = 35.63<br><center><table cellpadding=15><tr><td><center>Fare</center> </td> <td>Total No. <br>(Fare)</td> <td> Percentage <br>(Fare) </td><td>Total Outcome<br>(C)</td><td>Percentage Outcome<br>(C)<td>Total Outcome<br>(Q)</td><td>Percentage Outcome<br>(Q)<td>Total Outcome<br>(S)</td><td>Percentage Outcome<br>(S)</td></tr><tr><td>Greater Than Mean</td><td>97</td><td>23.21</td><td>45</td><td>44.12 %</td><td>1</td><td>2.17 %</td><td>51</td><td>18.89 %</td><tr><td>Less Than Mean</td><td>321</td><td>76.79</td><td>57</td><td>55.88 %</td><td>45</td><td>97.83 %</td><td>219</td><td>81.11 %</td></table></center>"
      ],
      "text/plain": [
       "<IPython.core.display.HTML object>"
      ]
     },
     "metadata": {},
     "output_type": "display_data"
    },
    {
     "data": {
      "text/html": [
       "<h3><center>Comparing Embarked With Fare</center></h3>Total Features 418<br>Mean of Fare = 35.63<br><center><table cellpadding=15><tr><td><center>Embarked</center> </td> <td>Total No. <br>(Embarked)</td> <td> Percentage <br>(Embarked) </td><td>Total No.<br>(Greater Than Mean)</td> <td>Percentage<br>(Greater Than Mean)</td><td>Total No.<br>(Less Than Mean)</td> <td>Percentage <br>(Less Than Mean)</td> </tr><tr><td>C</td> <td>102</td><td>24.4 %</td><td>45</td><td>44.12 %</td><td>57</td><td>55.88 %</td></tr><tr><td>Q</td> <td>46</td><td>11.0 %</td><td>1</td><td>2.17 %</td><td>45</td><td>97.83 %</td></tr><tr><td>S</td> <td>270</td><td>64.59 %</td><td>51</td><td>18.89 %</td><td>219</td><td>81.11 %</td></tr></table></center>"
      ],
      "text/plain": [
       "<IPython.core.display.HTML object>"
      ]
     },
     "metadata": {},
     "output_type": "display_data"
    }
   ],
   "source": [
    "\n",
    "Detailed_Details(df,'Fare','Embarked',3)\n",
    "Detailed_Details(df,'Embarked','Fare',3)"
   ]
  },
  {
   "cell_type": "markdown",
   "metadata": {},
   "source": [
    "<h1> UNIQUE STRING VS UNIQUE STRING </h1>\n",
    "<h3>Comparing Between Sex(uniqe_value_count=2)[female male] with Embarked(uniqe_value_count=3)[C Q S] <br> (Both have low unique_value_counts and are of string type)</h3>\n",
    "<h4>We set max_uniqe_value_count=3</h4>"
   ]
  },
  {
   "cell_type": "code",
   "execution_count": 77,
   "metadata": {},
   "outputs": [
    {
     "data": {
      "text/html": [
       "<h3><center>Comparing Sex With Embarked</center></h3>Total Features 418<br><center><table cellpadding=15><tr><td><center>Sex</center> </td> <td>Total No. <br>(Sex)</td> <td> Percentage <br>(Sex) </td><td>Total No.<br>(C)</td> <td>Percentage <br>(C)</td> <td>Total No.<br>(Q)</td> <td>Percentage <br>(Q)</td> <td>Total No.<br>(S)</td> <td>Percentage <br>(S)</td> </tr><tr><td></center>female</center></td><td>152</td><td>36.36%</td><td>40</td><td>26.32%</td><td>24</td><td>15.79%</td><td>88</td><td>57.89%</td></tr><tr><td></center>male</center></td><td>266</td><td>63.64%</td><td>62</td><td>23.31%</td><td>22</td><td>8.27%</td><td>182</td><td>68.42%</td></tr></table></center>"
      ],
      "text/plain": [
       "<IPython.core.display.HTML object>"
      ]
     },
     "metadata": {},
     "output_type": "display_data"
    },
    {
     "data": {
      "text/html": [
       "<h3><center>Comparing Embarked With Sex</center></h3>Total Features 418<br><center><table cellpadding=15><tr><td><center>Embarked</center> </td> <td>Total No. <br>(Embarked)</td> <td> Percentage <br>(Embarked) </td><td>Total No.<br>(female)</td> <td>Percentage <br>(female)</td> <td>Total No.<br>(male)</td> <td>Percentage <br>(male)</td> </tr><tr><td></center>C</center></td><td>102</td><td>24.4%</td><td>40</td><td>39.22%</td><td>62</td><td>60.78%</td></tr><tr><td></center>Q</center></td><td>46</td><td>11.0%</td><td>24</td><td>52.17%</td><td>22</td><td>47.83%</td></tr><tr><td></center>S</center></td><td>270</td><td>64.59%</td><td>88</td><td>32.59%</td><td>182</td><td>67.41%</td></tr></table></center>"
      ],
      "text/plain": [
       "<IPython.core.display.HTML object>"
      ]
     },
     "metadata": {},
     "output_type": "display_data"
    }
   ],
   "source": [
    "Detailed_Details(df,'Sex','Embarked',3)\n",
    "Detailed_Details(df,'Embarked','Sex',3)"
   ]
  },
  {
   "cell_type": "markdown",
   "metadata": {},
   "source": [
    "<h3>Trying with String having high number of uniqe_value_count</h3>\n",
    "<h4>Like Name </h4>\n",
    "<h4>Here max_uniqe_value_count doesnot matter much</h4>"
   ]
  },
  {
   "cell_type": "code",
   "execution_count": 78,
   "metadata": {},
   "outputs": [
    {
     "data": {
      "text/html": [
       "<h2><center>CAN'T_EVALUATE_ERROR:<font color='red'> Name</font> as <font color ='red'>Outcome </font> is of type <font color='red'>object</font> having a large number of unique values.</center></h2>"
      ],
      "text/plain": [
       "<IPython.core.display.HTML object>"
      ]
     },
     "metadata": {},
     "output_type": "display_data"
    },
    {
     "data": {
      "text/html": [
       "<h2><center>CAN'T_EVALUATE_ERROR:<font color='red'> Name</font> as <font color='red'> Feature </font> is of type <font color='red'>object</font> having a large number of unique values.</center></h2>"
      ],
      "text/plain": [
       "<IPython.core.display.HTML object>"
      ]
     },
     "metadata": {},
     "output_type": "display_data"
    }
   ],
   "source": [
    "Detailed_Details(df,'Pclass','Name',3)\n",
    "\n",
    "Detailed_Details(df,'Name','Pclass',3)"
   ]
  },
  {
   "cell_type": "code",
   "execution_count": null,
   "metadata": {},
   "outputs": [],
   "source": []
  }
 ],
 "metadata": {
  "kernelspec": {
   "display_name": "Python 3.10.5 64-bit",
   "language": "python",
   "name": "python3"
  },
  "language_info": {
   "codemirror_mode": {
    "name": "ipython",
    "version": 3
   },
   "file_extension": ".py",
   "mimetype": "text/x-python",
   "name": "python",
   "nbconvert_exporter": "python",
   "pygments_lexer": "ipython3",
   "version": "3.10.5"
  },
  "orig_nbformat": 4,
  "vscode": {
   "interpreter": {
    "hash": "369f2c481f4da34e4445cda3fffd2e751bd1c4d706f27375911949ba6bb62e1c"
   }
  }
 },
 "nbformat": 4,
 "nbformat_minor": 2
}
