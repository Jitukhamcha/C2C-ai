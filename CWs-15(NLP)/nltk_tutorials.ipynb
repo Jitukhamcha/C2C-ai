{
 "cells": [
  {
   "cell_type": "code",
   "execution_count": 1,
   "id": "dd44e432",
   "metadata": {},
   "outputs": [
    {
     "name": "stdout",
     "output_type": "stream",
     "text": [
      "showing info https://raw.githubusercontent.com/nltk/nltk_data/gh-pages/index.xml\n"
     ]
    },
    {
     "data": {
      "text/plain": [
       "True"
      ]
     },
     "execution_count": 1,
     "metadata": {},
     "output_type": "execute_result"
    }
   ],
   "source": [
    "import nltk\n",
    "nltk.download()"
   ]
  },
  {
   "cell_type": "markdown",
   "id": "70ab9bf4",
   "metadata": {},
   "source": [
    "Corpus - Body of text, singular. Corpora is the plural of this. Example: A collection of medical journals.\n",
    "Lexicon - Words and their meanings. Example: English dictionary. \n",
    "Token - Each \"entity\" that is a part of whatever was split up based on rules. For examples, each word is a token when a sentence is \"tokenized\" into words. \n",
    "        Each sentence can also be a token, if you tokenized the sentences out of a paragraph."
   ]
  },
  {
   "cell_type": "markdown",
   "id": "89aaeca7",
   "metadata": {},
   "source": [
    "<h1><b>TOKENIZATION </b></h1>"
   ]
  },
  {
   "cell_type": "code",
   "execution_count": 4,
   "id": "049d335d",
   "metadata": {},
   "outputs": [
    {
     "name": "stdout",
     "output_type": "stream",
     "text": [
      "['Hello Mr. Smith, how are you doing today?', 'The weather is great, and Python is awesome.', 'The sky is pinkish-blue.', \"You shouldn't eat cardboard.\"]\n"
     ]
    }
   ],
   "source": [
    "from nltk.tokenize import sent_tokenize, word_tokenize\n",
    "\n",
    "EXAMPLE_TEXT = \"Hello Mr. Smith, how are you doing today? The weather is great, and Python is awesome. The sky is pinkish-blue. You shouldn't eat cardboard.\"\n",
    "\n",
    "print(sent_tokenize(EXAMPLE_TEXT))"
   ]
  },
  {
   "cell_type": "code",
   "execution_count": 5,
   "id": "72e1507d",
   "metadata": {},
   "outputs": [
    {
     "name": "stdout",
     "output_type": "stream",
     "text": [
      "['Hello', 'Mr.', 'Smith', ',', 'how', 'are', 'you', 'doing', 'today', '?', 'The', 'weather', 'is', 'great', ',', 'and', 'Python', 'is', 'awesome', '.', 'The', 'sky', 'is', 'pinkish-blue', '.', 'You', 'should', \"n't\", 'eat', 'cardboard', '.']\n"
     ]
    }
   ],
   "source": [
    "print(word_tokenize(EXAMPLE_TEXT))"
   ]
  },
  {
   "cell_type": "markdown",
   "id": "ee680a5b",
   "metadata": {},
   "source": [
    "<h1><b>STOP WORDS</b></h1>"
   ]
  },
  {
   "cell_type": "code",
   "execution_count": 6,
   "id": "f46e0920",
   "metadata": {},
   "outputs": [
    {
     "data": {
      "text/plain": [
       "{'a',\n",
       " 'about',\n",
       " 'above',\n",
       " 'after',\n",
       " 'again',\n",
       " 'against',\n",
       " 'ain',\n",
       " 'all',\n",
       " 'am',\n",
       " 'an',\n",
       " 'and',\n",
       " 'any',\n",
       " 'are',\n",
       " 'aren',\n",
       " \"aren't\",\n",
       " 'as',\n",
       " 'at',\n",
       " 'be',\n",
       " 'because',\n",
       " 'been',\n",
       " 'before',\n",
       " 'being',\n",
       " 'below',\n",
       " 'between',\n",
       " 'both',\n",
       " 'but',\n",
       " 'by',\n",
       " 'can',\n",
       " 'couldn',\n",
       " \"couldn't\",\n",
       " 'd',\n",
       " 'did',\n",
       " 'didn',\n",
       " \"didn't\",\n",
       " 'do',\n",
       " 'does',\n",
       " 'doesn',\n",
       " \"doesn't\",\n",
       " 'doing',\n",
       " 'don',\n",
       " \"don't\",\n",
       " 'down',\n",
       " 'during',\n",
       " 'each',\n",
       " 'few',\n",
       " 'for',\n",
       " 'from',\n",
       " 'further',\n",
       " 'had',\n",
       " 'hadn',\n",
       " \"hadn't\",\n",
       " 'has',\n",
       " 'hasn',\n",
       " \"hasn't\",\n",
       " 'have',\n",
       " 'haven',\n",
       " \"haven't\",\n",
       " 'having',\n",
       " 'he',\n",
       " 'her',\n",
       " 'here',\n",
       " 'hers',\n",
       " 'herself',\n",
       " 'him',\n",
       " 'himself',\n",
       " 'his',\n",
       " 'how',\n",
       " 'i',\n",
       " 'if',\n",
       " 'in',\n",
       " 'into',\n",
       " 'is',\n",
       " 'isn',\n",
       " \"isn't\",\n",
       " 'it',\n",
       " \"it's\",\n",
       " 'its',\n",
       " 'itself',\n",
       " 'just',\n",
       " 'll',\n",
       " 'm',\n",
       " 'ma',\n",
       " 'me',\n",
       " 'mightn',\n",
       " \"mightn't\",\n",
       " 'more',\n",
       " 'most',\n",
       " 'mustn',\n",
       " \"mustn't\",\n",
       " 'my',\n",
       " 'myself',\n",
       " 'needn',\n",
       " \"needn't\",\n",
       " 'no',\n",
       " 'nor',\n",
       " 'not',\n",
       " 'now',\n",
       " 'o',\n",
       " 'of',\n",
       " 'off',\n",
       " 'on',\n",
       " 'once',\n",
       " 'only',\n",
       " 'or',\n",
       " 'other',\n",
       " 'our',\n",
       " 'ours',\n",
       " 'ourselves',\n",
       " 'out',\n",
       " 'over',\n",
       " 'own',\n",
       " 're',\n",
       " 's',\n",
       " 'same',\n",
       " 'shan',\n",
       " \"shan't\",\n",
       " 'she',\n",
       " \"she's\",\n",
       " 'should',\n",
       " \"should've\",\n",
       " 'shouldn',\n",
       " \"shouldn't\",\n",
       " 'so',\n",
       " 'some',\n",
       " 'such',\n",
       " 't',\n",
       " 'than',\n",
       " 'that',\n",
       " \"that'll\",\n",
       " 'the',\n",
       " 'their',\n",
       " 'theirs',\n",
       " 'them',\n",
       " 'themselves',\n",
       " 'then',\n",
       " 'there',\n",
       " 'these',\n",
       " 'they',\n",
       " 'this',\n",
       " 'those',\n",
       " 'through',\n",
       " 'to',\n",
       " 'too',\n",
       " 'under',\n",
       " 'until',\n",
       " 'up',\n",
       " 've',\n",
       " 'very',\n",
       " 'was',\n",
       " 'wasn',\n",
       " \"wasn't\",\n",
       " 'we',\n",
       " 'were',\n",
       " 'weren',\n",
       " \"weren't\",\n",
       " 'what',\n",
       " 'when',\n",
       " 'where',\n",
       " 'which',\n",
       " 'while',\n",
       " 'who',\n",
       " 'whom',\n",
       " 'why',\n",
       " 'will',\n",
       " 'with',\n",
       " 'won',\n",
       " \"won't\",\n",
       " 'wouldn',\n",
       " \"wouldn't\",\n",
       " 'y',\n",
       " 'you',\n",
       " \"you'd\",\n",
       " \"you'll\",\n",
       " \"you're\",\n",
       " \"you've\",\n",
       " 'your',\n",
       " 'yours',\n",
       " 'yourself',\n",
       " 'yourselves'}"
      ]
     },
     "execution_count": 6,
     "metadata": {},
     "output_type": "execute_result"
    }
   ],
   "source": [
    "from nltk.corpus import stopwords\n",
    "set(stopwords.words('english'))"
   ]
  },
  {
   "cell_type": "code",
   "execution_count": 7,
   "id": "3d556531",
   "metadata": {},
   "outputs": [
    {
     "name": "stdout",
     "output_type": "stream",
     "text": [
      "['This', 'is', 'a', 'sample', 'sentence', ',', 'showing', 'off', 'the', 'stop', 'words', 'filtration', '.']\n",
      "['This', 'sample', 'sentence', ',', 'showing', 'stop', 'words', 'filtration', '.']\n"
     ]
    }
   ],
   "source": [
    "\n",
    "# Stop words with NLTK\n",
    "\n",
    "\n",
    "\n",
    "# The idea of Natural Language Processing is to do some form of analysis, or processing, where the machine can understand, at least to some level, what the text means, says, or implies.\n",
    "\n",
    "# This is an obviously massive challenge, but there are steps to doing it that anyone can follow. The main idea, however, is that computers simply do not, and will not, ever understand words directly. Humans don't either *shocker*. In humans, memory is broken down into electrical signals in the brain, in the form of neural groups that fire in patterns. There is a lot about the brain that remains unknown, but, the more we break down the human brain to the basic elements, we find out basic the elements really are. Well, it turns out computers store information in a very similar way! We need a way to get as close to that as possible if we're going to mimic how humans read and understand text. Generally, computers use numbers for everything, but we often see directly in programming where we use binary signals (True or False, which directly translate to 1 or 0, which originates directly from either the presence of an electrical signal (True, 1), or not (False, 0)). To do this, we need a way to convert words to values, in numbers, or signal patterns. The process of converting data to something a computer can understand is referred to as \"pre-processing.\" One of the major forms of pre-processing is going to be filtering out useless data. In natural language processing, useless words (data), are referred to as stop words.\n",
    "\n",
    "# Immediately, we can recognize ourselves that some words carry more meaning than other words. We can also see that some words are just plain useless, and are filler words. We use them in the English language, for example, to sort of \"fluff\" up the sentence so it is not so strange sounding. An example of one of the most common, unofficial, useless words is the phrase \"umm.\" People stuff in \"umm\" frequently, some more than others. This word means nothing, unless of course we're searching for someone who is maybe lacking confidence, is confused, or hasn't practiced much speaking. We all do it, you can hear me saying \"umm\" or \"uhh\" in the videos plenty of ...uh ... times. For most analysis, these words are useless.\n",
    "\n",
    "# We would not want these words taking up space in our database, or taking up valuable processing time. As such, we call these words \"stop words\" because they are useless, and we wish to do nothing with them. Another version of the term \"stop words\" can be more literal: Words we stop on.\n",
    "\n",
    "# For example, you may wish to completely cease analysis if you detect words that are commonly used sarcastically, and stop immediately. Sarcastic words, or phrases are going to vary by lexicon and corpus. For now, we'll be considering stop words as words that just contain no meaning, and we want to remove them.\n",
    "\n",
    "# You can do this easily, by storing a list of words that you consider to be stop words. NLTK starts you off with a bunch of words that they consider to be stop words, you can access it via the NLTK corpus with:\n",
    "\n",
    "# Here is the list:\n",
    "set(stopwords.words('english'))\n",
    "{'ourselves', 'hers', 'between', 'yourself', 'but', 'again', 'there', 'about', 'once', 'during', 'out', 'very', 'having', 'with', 'they', 'own', 'an', 'be', 'some', 'for', 'do', 'its', 'yours', 'such', 'into', 'of', 'most', 'itself', 'other', 'off', 'is', 's', 'am', 'or', 'who', 'as', 'from', 'him', 'each', 'the', 'themselves', 'until', 'below', 'are', 'we', 'these', 'your', 'his', 'through', 'don', 'nor', 'me', 'were', 'her', 'more', 'himself', 'this', 'down', 'should', 'our', 'their', 'while', 'above', 'both', 'up', 'to', 'ours', 'had', 'she', 'all', 'no', 'when', 'at', 'any', 'before', 'them', 'same', 'and', 'been', 'have', 'in', 'will', 'on', 'does', 'yourselves', 'then', 'that', 'because', 'what', 'over', 'why', 'so', 'can', 'did', 'not', 'now', 'under', 'he', 'you', 'herself', 'has', 'just', 'where', 'too', 'only', 'myself', 'which', 'those', 'i', 'after', 'few', 'whom', 't', 'being', 'if', 'theirs', 'my', 'against', 'a', 'by', 'doing', 'it', 'how', 'further', 'was', 'here', 'than'}\n",
    "\n",
    "# Here is how you might incorporate using the stop_words set to remove the stop words from your text:\n",
    "\n",
    "from nltk.corpus import stopwords\n",
    "from nltk.tokenize import word_tokenize\n",
    "\n",
    "example_sent = \"This is a sample sentence, showing off the stop words filtration.\"\n",
    "\n",
    "stop_words = set(stopwords.words('english'))\n",
    "\n",
    "word_tokens = word_tokenize(example_sent)\n",
    "\n",
    "filtered_sentence = [w for w in word_tokens if not w in stop_words]\n",
    "\n",
    "filtered_sentence = []\n",
    "\n",
    "for w in word_tokens:\n",
    "    if w not in stop_words:\n",
    "        filtered_sentence.append(w)\n",
    "\n",
    "print(word_tokens)\n",
    "print(filtered_sentence)"
   ]
  },
  {
   "cell_type": "markdown",
   "id": "94824570",
   "metadata": {},
   "source": [
    "<h1><b>STEMMING </b></h1>"
   ]
  },
  {
   "cell_type": "code",
   "execution_count": 14,
   "id": "a572740e",
   "metadata": {},
   "outputs": [
    {
     "name": "stdout",
     "output_type": "stream",
     "text": [
      "go\n",
      "went\n",
      "is\n",
      "manli\n",
      "mine\n"
     ]
    }
   ],
   "source": [
    "from nltk.stem import PorterStemmer\n",
    "from nltk.tokenize import sent_tokenize, word_tokenize\n",
    "\n",
    "ps = PorterStemmer()\n",
    "\n",
    "example_words = ['going','went','is','manly','mining']\n",
    "\n",
    "for w in example_words:\n",
    "    print(ps.stem(w))"
   ]
  },
  {
   "cell_type": "code",
   "execution_count": 16,
   "id": "029affa5",
   "metadata": {},
   "outputs": [
    {
     "name": "stdout",
     "output_type": "stream",
     "text": [
      "it\n",
      "is\n",
      "import\n",
      "to\n",
      "be\n",
      "veri\n",
      "pythonli\n",
      "while\n",
      "you\n",
      "are\n",
      "python\n",
      "with\n",
      "python\n",
      ".\n",
      "all\n",
      "python\n",
      "have\n",
      "python\n",
      "poorli\n",
      "at\n",
      "least\n",
      "onc\n",
      ".\n"
     ]
    }
   ],
   "source": [
    "new_text = \"It is important to be very pythonly while you are pythoning with python. All pythoners have pythoned poorly at least once.\"\n",
    "\n",
    "words = word_tokenize(new_text)\n",
    "\n",
    "for w in words:\n",
    "    print(ps.stem(w))"
   ]
  },
  {
   "cell_type": "code",
   "execution_count": 19,
   "id": "adf2f141",
   "metadata": {},
   "outputs": [
    {
     "name": "stdout",
     "output_type": "stream",
     "text": [
      "Stemming for students is student\n",
      "Stemming for studying is studi\n",
      "Stemming for cries is cri\n",
      "Stemming for crying is cri\n"
     ]
    }
   ],
   "source": [
    "import nltk\n",
    "from nltk.stem.porter import PorterStemmer\n",
    "porter_stemmer  = PorterStemmer()\n",
    "text = \"students studying cries crying\"\n",
    "tokenization = nltk.word_tokenize(text)\n",
    "for w in tokenization:\n",
    "    print(\"Stemming for {} is {}\".format(w,porter_stemmer.stem(w)))  "
   ]
  },
  {
   "cell_type": "markdown",
   "id": "b65fae56",
   "metadata": {},
   "source": [
    "<h1><b>LEMMATIZATION </b></h1>"
   ]
  },
  {
   "cell_type": "code",
   "execution_count": 27,
   "id": "e44d8bfe",
   "metadata": {},
   "outputs": [
    {
     "name": "stdout",
     "output_type": "stream",
     "text": [
      "rocks : rock\n",
      "corpora : corpus\n",
      "louder : loud\n",
      "better : good\n"
     ]
    }
   ],
   "source": [
    "# import these modules\n",
    "from nltk.stem import WordNetLemmatizer\n",
    "  \n",
    "lemmatizer = WordNetLemmatizer()\n",
    "  \n",
    "print(\"rocks :\", lemmatizer.lemmatize(\"rocks\"))\n",
    "print(\"corpora :\", lemmatizer.lemmatize(\"corpora\"))\n",
    "print(\"louder :\", lemmatizer.lemmatize(\"louder\",pos=\"a\"))\n",
    "  \n",
    "# a denotes adjective in \"pos\"\n",
    "print(\"better :\", lemmatizer.lemmatize(\"better\", pos =\"a\"))"
   ]
  },
  {
   "cell_type": "code",
   "execution_count": 28,
   "id": "de6b5044",
   "metadata": {},
   "outputs": [
    {
     "name": "stdout",
     "output_type": "stream",
     "text": [
      "Lemma for studies is study\n",
      "Lemma for studying is studying\n",
      "Lemma for cries is cry\n",
      "Lemma for cry is cry\n"
     ]
    }
   ],
   "source": [
    "import nltk\n",
    "from nltk.stem import \tWordNetLemmatizer\n",
    "\n",
    "wordnet_lemmatizer = WordNetLemmatizer()\n",
    "\n",
    "text = \"studies studying cries cry\"\n",
    "\n",
    "tokenization = nltk.word_tokenize(text)\n",
    "\n",
    "for w in tokenization:\n",
    "    print(\"Lemma for {} is {}\".format(w, wordnet_lemmatizer.lemmatize(w)))  "
   ]
  },
  {
   "cell_type": "code",
   "execution_count": 29,
   "id": "661ac1c5",
   "metadata": {},
   "outputs": [
    {
     "name": "stdout",
     "output_type": "stream",
     "text": [
      "cat\n",
      "cactus\n",
      "goose\n",
      "rock\n",
      "python\n",
      "good\n",
      "best\n",
      "run\n",
      "run\n"
     ]
    }
   ],
   "source": [
    "from nltk.stem import WordNetLemmatizer\n",
    "\n",
    "lemmatizer = WordNetLemmatizer()\n",
    "\n",
    "print(lemmatizer.lemmatize(\"cats\"))\n",
    "print(lemmatizer.lemmatize(\"cacti\"))\n",
    "print(lemmatizer.lemmatize(\"geese\"))\n",
    "print(lemmatizer.lemmatize(\"rocks\"))\n",
    "print(lemmatizer.lemmatize(\"python\"))\n",
    "print(lemmatizer.lemmatize(\"better\", pos=\"a\"))\n",
    "print(lemmatizer.lemmatize(\"best\", pos=\"a\"))\n",
    "print(lemmatizer.lemmatize(\"run\"))\n",
    "print(lemmatizer.lemmatize(\"run\",'v'))"
   ]
  },
  {
   "cell_type": "markdown",
   "id": "66905fad",
   "metadata": {},
   "source": [
    "<h1><b>Part of Speech Tagging </b></h1>"
   ]
  },
  {
   "cell_type": "markdown",
   "id": "525c1c6f",
   "metadata": {},
   "source": [
    "POS tag list:\n",
    "\n",
    "CC\tcoordinating conjunction\n",
    "CD\tcardinal digit\n",
    "DT\tdeterminer\n",
    "EX\texistential there (like: \"there is\" ... think of it like \"there exists\")\n",
    "FW\tforeign word\n",
    "IN\tpreposition/subordinating conjunction\n",
    "JJ\tadjective\t'big'\n",
    "JJR\tadjective, comparative\t'bigger'\n",
    "JJS\tadjective, superlative\t'biggest'\n",
    "LS\tlist marker\t1)\n",
    "MD\tmodal\tcould, will\n",
    "NN\tnoun, singular 'desk'\n",
    "NNS\tnoun plural\t'desks'\n",
    "NNP\tproper noun, singular\t'Harrison'\n",
    "NNPS\tproper noun, plural\t'Americans'\n",
    "PDT\tpredeterminer\t'all the kids'\n",
    "POS\tpossessive ending\tparent\\'s\n",
    "PRP\tpersonal pronoun\tI, he, she\n",
    "PRP$\tpossessive pronoun\tmy, his, hers\n",
    "RB\tadverb\tvery, silently,\n",
    "RBR\tadverb, comparative\tbetter\n",
    "RBS\tadverb, superlative\tbest\n",
    "RP\tparticle\tgive up\n",
    "TO\tto\tgo 'to' the store.\n",
    "UH\tinterjection\terrrrrrrrm\n",
    "VB\tverb, base form\ttake\n",
    "VBD\tverb, past tense\ttook\n",
    "VBG\tverb, gerund/present participle\ttaking\n",
    "VBN\tverb, past participle\ttaken\n",
    "VBP\tverb, sing. present, non-3d\ttake\n",
    "VBZ\tverb, 3rd person sing. present\ttakes\n",
    "WDT\twh-determiner\twhich\n",
    "WP\twh-pronoun\twho, what\n",
    "WP$\tpossessive wh-pronoun\twhose\n",
    "WRB\twh-abverb\twhere, when"
   ]
  },
  {
   "cell_type": "code",
   "execution_count": 30,
   "id": "8c54c5e5",
   "metadata": {},
   "outputs": [],
   "source": [
    "from nltk.corpus import state_union\n",
    "from nltk.tokenize import PunktSentenceTokenizer"
   ]
  },
  {
   "cell_type": "code",
   "execution_count": 31,
   "id": "bbad0a29",
   "metadata": {},
   "outputs": [],
   "source": [
    "train_text = state_union.raw(\"2005-GWBush.txt\")\n",
    "sample_text = state_union.raw(\"2006-GWBush.txt\")"
   ]
  },
  {
   "cell_type": "code",
   "execution_count": 33,
   "id": "407f51ce",
   "metadata": {},
   "outputs": [],
   "source": [
    "custom_sent_tokenizer = PunktSentenceTokenizer(train_text)"
   ]
  },
  {
   "cell_type": "code",
   "execution_count": 34,
   "id": "828f863e",
   "metadata": {},
   "outputs": [],
   "source": [
    "tokenized = custom_sent_tokenizer.tokenize(sample_text)"
   ]
  },
  {
   "cell_type": "code",
   "execution_count": 35,
   "id": "fd3c4df5",
   "metadata": {},
   "outputs": [
    {
     "name": "stdout",
     "output_type": "stream",
     "text": [
      "[('PRESIDENT', 'NNP'), ('GEORGE', 'NNP'), ('W.', 'NNP'), ('BUSH', 'NNP'), (\"'S\", 'POS'), ('ADDRESS', 'NNP'), ('BEFORE', 'IN'), ('A', 'NNP'), ('JOINT', 'NNP'), ('SESSION', 'NNP'), ('OF', 'IN'), ('THE', 'NNP'), ('CONGRESS', 'NNP'), ('ON', 'NNP'), ('THE', 'NNP'), ('STATE', 'NNP'), ('OF', 'IN'), ('THE', 'NNP'), ('UNION', 'NNP'), ('January', 'NNP'), ('31', 'CD'), (',', ','), ('2006', 'CD'), ('THE', 'NNP'), ('PRESIDENT', 'NNP'), (':', ':'), ('Thank', 'NNP'), ('you', 'PRP'), ('all', 'DT'), ('.', '.')]\n",
      "[('Mr.', 'NNP'), ('Speaker', 'NNP'), (',', ','), ('Vice', 'NNP'), ('President', 'NNP'), ('Cheney', 'NNP'), (',', ','), ('members', 'NNS'), ('of', 'IN'), ('Congress', 'NNP'), (',', ','), ('members', 'NNS'), ('of', 'IN'), ('the', 'DT'), ('Supreme', 'NNP'), ('Court', 'NNP'), ('and', 'CC'), ('diplomatic', 'JJ'), ('corps', 'NN'), (',', ','), ('distinguished', 'JJ'), ('guests', 'NNS'), (',', ','), ('and', 'CC'), ('fellow', 'JJ'), ('citizens', 'NNS'), (':', ':'), ('Today', 'VB'), ('our', 'PRP$'), ('nation', 'NN'), ('lost', 'VBD'), ('a', 'DT'), ('beloved', 'VBN'), (',', ','), ('graceful', 'JJ'), (',', ','), ('courageous', 'JJ'), ('woman', 'NN'), ('who', 'WP'), ('called', 'VBD'), ('America', 'NNP'), ('to', 'TO'), ('its', 'PRP$'), ('founding', 'NN'), ('ideals', 'NNS'), ('and', 'CC'), ('carried', 'VBD'), ('on', 'IN'), ('a', 'DT'), ('noble', 'JJ'), ('dream', 'NN'), ('.', '.')]\n",
      "[('Tonight', 'NN'), ('we', 'PRP'), ('are', 'VBP'), ('comforted', 'VBN'), ('by', 'IN'), ('the', 'DT'), ('hope', 'NN'), ('of', 'IN'), ('a', 'DT'), ('glad', 'JJ'), ('reunion', 'NN'), ('with', 'IN'), ('the', 'DT'), ('husband', 'NN'), ('who', 'WP'), ('was', 'VBD'), ('taken', 'VBN'), ('so', 'RB'), ('long', 'RB'), ('ago', 'RB'), (',', ','), ('and', 'CC'), ('we', 'PRP'), ('are', 'VBP'), ('grateful', 'JJ'), ('for', 'IN'), ('the', 'DT'), ('good', 'JJ'), ('life', 'NN'), ('of', 'IN'), ('Coretta', 'NNP'), ('Scott', 'NNP'), ('King', 'NNP'), ('.', '.')]\n",
      "[('(', '('), ('Applause', 'NNP'), ('.', '.'), (')', ')')]\n",
      "[('President', 'NNP'), ('George', 'NNP'), ('W.', 'NNP'), ('Bush', 'NNP'), ('reacts', 'VBZ'), ('to', 'TO'), ('applause', 'VB'), ('during', 'IN'), ('his', 'PRP$'), ('State', 'NNP'), ('of', 'IN'), ('the', 'DT'), ('Union', 'NNP'), ('Address', 'NNP'), ('at', 'IN'), ('the', 'DT'), ('Capitol', 'NNP'), (',', ','), ('Tuesday', 'NNP'), (',', ','), ('Jan', 'NNP'), ('.', '.')]\n"
     ]
    }
   ],
   "source": [
    "def process_content():\n",
    "    try:\n",
    "        for i in tokenized[:5]:\n",
    "            words = nltk.word_tokenize(i)\n",
    "            tagged = nltk.pos_tag(words)\n",
    "            print(tagged)\n",
    "\n",
    "    except Exception as e:\n",
    "        print(str(e))\n",
    "\n",
    "\n",
    "process_content()"
   ]
  },
  {
   "cell_type": "markdown",
   "id": "f70839e0",
   "metadata": {},
   "source": [
    "<h1><b>CHUNKING</b></h1>"
   ]
  },
  {
   "cell_type": "code",
   "execution_count": 36,
   "id": "e9284b3b",
   "metadata": {},
   "outputs": [],
   "source": [
    "import nltk\n",
    "from nltk.corpus import state_union\n",
    "from nltk.tokenize import PunktSentenceTokenizer\n",
    "\n",
    "train_text = state_union.raw(\"2005-GWBush.txt\")\n",
    "sample_text = state_union.raw(\"2006-GWBush.txt\")\n",
    "\n",
    "custom_sent_tokenizer = PunktSentenceTokenizer(train_text)\n",
    "\n",
    "tokenized = custom_sent_tokenizer.tokenize(sample_text)\n",
    "\n",
    "def process_content():\n",
    "    try:\n",
    "        for i in tokenized[:10]:\n",
    "            words = nltk.word_tokenize(i)\n",
    "            tagged = nltk.pos_tag(words)\n",
    "            chunkGram = r\"\"\"Chunk: {<RB.?>*<VB.?>*<NNP>+<NN>?}\"\"\"\n",
    "            chunkParser = nltk.RegexpParser(chunkGram)\n",
    "            chunked = chunkParser.parse(tagged)\n",
    "            chunked.draw()     \n",
    "            \n",
    "    except Exception as e:\n",
    "        print(str(e))\n",
    "\n",
    "process_content()"
   ]
  },
  {
   "cell_type": "markdown",
   "id": "aead338e",
   "metadata": {},
   "source": [
    "You have some words in your chunk you still do not want, but you have no idea how to get rid of them by chunking. You may find that chinking is your solution.\n",
    "\n",
    "Chinking is a lot like chunking, it is basically a way for you to remove a chunk from a chunk. The chunk that you remove from your chunk is your chink."
   ]
  },
  {
   "cell_type": "markdown",
   "id": "bf2c4351",
   "metadata": {},
   "source": [
    "<br><h1>CHINKING</br></h1>"
   ]
  },
  {
   "cell_type": "code",
   "execution_count": 19,
   "id": "1ef591cc",
   "metadata": {},
   "outputs": [],
   "source": [
    "import nltk\n",
    "from nltk.corpus import state_union\n",
    "from nltk.tokenize import PunktSentenceTokenizer\n",
    "\n",
    "train_text = state_union.raw(\"2005-GWBush.txt\")\n",
    "sample_text = state_union.raw(\"2006-GWBush.txt\")\n",
    "\n",
    "custom_sent_tokenizer = PunktSentenceTokenizer(train_text)\n",
    "\n",
    "tokenized = custom_sent_tokenizer.tokenize(sample_text)\n",
    "\n",
    "def process_content():\n",
    "    try:\n",
    "        for i in tokenized[5:15]:\n",
    "            words = nltk.word_tokenize(i)\n",
    "            tagged = nltk.pos_tag(words)\n",
    "\n",
    "            chunkGram = r\"\"\"Chunk: {<.*>+}\n",
    "                                    }<VB.?|IN|DT|TO>+{\"\"\"\n",
    "\n",
    "            chunkParser = nltk.RegexpParser(chunkGram)\n",
    "            chunked = chunkParser.parse(tagged)\n",
    "\n",
    "            chunked.draw()\n",
    "\n",
    "    except Exception as e:\n",
    "        print(str(e))\n",
    "\n",
    "process_content()"
   ]
  },
  {
   "cell_type": "markdown",
   "id": "263fbcbe",
   "metadata": {},
   "source": [
    "<br><h1>Named Entity Recognition</br></h1>"
   ]
  },
  {
   "cell_type": "code",
   "execution_count": 37,
   "id": "bf3d10b5",
   "metadata": {},
   "outputs": [],
   "source": [
    "import nltk\n",
    "from nltk.corpus import state_union\n",
    "from nltk.tokenize import PunktSentenceTokenizer\n",
    "\n",
    "train_text = state_union.raw(\"2005-GWBush.txt\")\n",
    "sample_text = state_union.raw(\"2006-GWBush.txt\")\n",
    "\n",
    "custom_sent_tokenizer = PunktSentenceTokenizer(train_text)\n",
    "\n",
    "tokenized = custom_sent_tokenizer.tokenize(sample_text)\n",
    "\n",
    "def process_content():\n",
    "    try:\n",
    "        for i in tokenized[5:15]:\n",
    "            words = nltk.word_tokenize(i)\n",
    "            tagged = nltk.pos_tag(words)\n",
    "            namedEnt = nltk.ne_chunk(tagged, binary=True)  # False\n",
    "#             namedEnt = nltk.ne_chunk(tagged, binary=False) \n",
    "            namedEnt.draw()\n",
    "    except Exception as e:\n",
    "        print(str(e))\n",
    "\n",
    "\n",
    "process_content()"
   ]
  },
  {
   "cell_type": "markdown",
   "id": "1273f710",
   "metadata": {},
   "source": [
    "<h1><b>Wordnet with NLTK</b></h1>"
   ]
  },
  {
   "cell_type": "code",
   "execution_count": 38,
   "id": "8ab40dcf",
   "metadata": {},
   "outputs": [],
   "source": [
    "from nltk.corpus import wordnet"
   ]
  },
  {
   "cell_type": "code",
   "execution_count": 39,
   "id": "34db5fc8",
   "metadata": {},
   "outputs": [],
   "source": [
    "syns = wordnet.synsets(\"program\")"
   ]
  },
  {
   "cell_type": "code",
   "execution_count": 40,
   "id": "e38515de",
   "metadata": {},
   "outputs": [
    {
     "name": "stdout",
     "output_type": "stream",
     "text": [
      "plan.n.01\n"
     ]
    }
   ],
   "source": [
    "print(syns[0].name())"
   ]
  },
  {
   "cell_type": "code",
   "execution_count": 45,
   "id": "c3fe08e7",
   "metadata": {},
   "outputs": [
    {
     "name": "stdout",
     "output_type": "stream",
     "text": [
      "plan\n"
     ]
    }
   ],
   "source": [
    "print(syns[0].lemmas()[0].name())"
   ]
  },
  {
   "cell_type": "code",
   "execution_count": 42,
   "id": "ee47eb74",
   "metadata": {},
   "outputs": [
    {
     "name": "stdout",
     "output_type": "stream",
     "text": [
      "a series of steps to be carried out or goals to be accomplished\n"
     ]
    }
   ],
   "source": [
    "print(syns[0].definition())"
   ]
  },
  {
   "cell_type": "code",
   "execution_count": 46,
   "id": "23ee5304",
   "metadata": {},
   "outputs": [
    {
     "name": "stdout",
     "output_type": "stream",
     "text": [
      "['they drew up a six-step plan', 'they discussed plans for a new bond issue']\n"
     ]
    }
   ],
   "source": [
    "print(syns[0].examples())"
   ]
  },
  {
   "cell_type": "code",
   "execution_count": 48,
   "id": "bfe9d885",
   "metadata": {},
   "outputs": [
    {
     "name": "stdout",
     "output_type": "stream",
     "text": [
      "{'hie', 'swiftness', 'accelerate', 'focal_ratio', 'travel_rapidly', 'step_on_it', 'hurrying', 'hurry', 'rush', 'cannonball_along', 'bucket_along', 'fastness', 'pelt_along', 'velocity', 'rush_along', 'quicken', 'speeding', 'f_number', 'amphetamine', 'race', 'belt_along', 'speed_up', 'upper', 'zip', 'speed', 'hotfoot', 'pep_pill', 'stop_number', 'hasten'}\n",
      "....................\n",
      "{'linger', 'decelerate'}\n"
     ]
    }
   ],
   "source": [
    "synonyms = []\n",
    "antonyms = []\n",
    "\n",
    "for syn in wordnet.synsets(\"speed\"):\n",
    "    for l in syn.lemmas():\n",
    "        synonyms.append(l.name())\n",
    "        if l.antonyms():\n",
    "            antonyms.append(l.antonyms()[0].name())\n",
    "\n",
    "print(set(synonyms))\n",
    "print(\"....................\")\n",
    "print(set(antonyms))"
   ]
  },
  {
   "cell_type": "code",
   "execution_count": 49,
   "id": "3df31fbd",
   "metadata": {},
   "outputs": [
    {
     "name": "stdout",
     "output_type": "stream",
     "text": [
      "0.9090909090909091\n"
     ]
    }
   ],
   "source": [
    "w1 = wordnet.synset('ship.n.01')\n",
    "w2 = wordnet.synset('boat.n.01')\n",
    "print(w1.wup_similarity(w2))"
   ]
  },
  {
   "cell_type": "markdown",
   "id": "32247f9b",
   "metadata": {},
   "source": [
    "<br><h2>GENSIM</br></h2>"
   ]
  },
  {
   "cell_type": "markdown",
   "id": "df146e08",
   "metadata": {},
   "source": [
    "<br><h2>Create a Dictionary from a list of sentences</br></h2>"
   ]
  },
  {
   "cell_type": "code",
   "execution_count": 50,
   "id": "50cc22e3",
   "metadata": {},
   "outputs": [
    {
     "name": "stdout",
     "output_type": "stream",
     "text": [
      "Collecting gensim\n",
      "  Downloading gensim-4.2.0-cp310-cp310-win_amd64.whl (23.9 MB)\n",
      "     -------------------------------------- 23.9/23.9 MB 757.7 kB/s eta 0:00:00\n",
      "Requirement already satisfied: numpy>=1.17.0 in c:\\users\\ghost\\anaconda3\\envs\\class\\lib\\site-packages (from gensim) (1.23.4)\n",
      "Collecting smart-open>=1.8.1\n",
      "  Downloading smart_open-6.2.0-py3-none-any.whl (58 kB)\n",
      "     --------------------------------------- 58.6/58.6 kB 96.8 kB/s eta 0:00:00\n",
      "Collecting Cython==0.29.28\n",
      "  Downloading Cython-0.29.28-py2.py3-none-any.whl (983 kB)\n",
      "     ------------------------------------ 983.8/983.8 kB 750.6 kB/s eta 0:00:00\n",
      "Requirement already satisfied: scipy>=0.18.1 in c:\\users\\ghost\\anaconda3\\envs\\class\\lib\\site-packages (from gensim) (1.9.1)\n",
      "Installing collected packages: smart-open, Cython, gensim\n",
      "Successfully installed Cython-0.29.28 gensim-4.2.0 smart-open-6.2.0\n"
     ]
    },
    {
     "name": "stderr",
     "output_type": "stream",
     "text": [
      "\n",
      "[notice] A new release of pip available: 22.3 -> 22.3.1\n",
      "[notice] To update, run: python.exe -m pip install --upgrade pip\n"
     ]
    }
   ],
   "source": [
    "!pip install gensim"
   ]
  },
  {
   "cell_type": "code",
   "execution_count": 51,
   "id": "5e7e269a",
   "metadata": {},
   "outputs": [
    {
     "name": "stdout",
     "output_type": "stream",
     "text": [
      "Dictionary<33 unique tokens: ['Saudis', 'The', 'a', 'acknowledge', 'are']...>\n"
     ]
    }
   ],
   "source": [
    "import gensim\n",
    "from gensim import corpora\n",
    "from pprint import pprint\n",
    "\n",
    "# How to create a dictionary from a list of sentences?\n",
    "documents = [\"The Saudis are preparing a report that will acknowledge that\", \n",
    "             \"Saudi journalist Jamal Khashoggi's death was the result of an\", \n",
    "             \"interrogation that went wrong, one that was intended to lead\", \n",
    "             \"to his abduction from Turkey, according to two sources.\"]\n",
    "\n",
    "documents_2 = [\"One source says the report will likely conclude that\", \n",
    "                \"the operation was carried out without clearance and\", \n",
    "                \"transparency and that those involved will be held\", \n",
    "                \"responsible. One of the sources acknowledged that the\", \n",
    "                \"report is still being prepared and cautioned that\", \n",
    "                \"things could change.\"]\n",
    "\n",
    "# Tokenize(split) the sentences into words\n",
    "texts = [[text for text in doc.split()] for doc in documents]\n",
    "\n",
    "# Create dictionary\n",
    "dictionary = corpora.Dictionary(texts)\n",
    "\n",
    "# Get information about the dictionary\n",
    "print(dictionary)"
   ]
  },
  {
   "cell_type": "code",
   "execution_count": 53,
   "id": "95b11fa4",
   "metadata": {},
   "outputs": [
    {
     "name": "stdout",
     "output_type": "stream",
     "text": [
      "{'Saudis': 0, 'The': 1, 'a': 2, 'acknowledge': 3, 'are': 4, 'preparing': 5, 'report': 6, 'that': 7, 'will': 8, 'Jamal': 9, \"Khashoggi's\": 10, 'Saudi': 11, 'an': 12, 'death': 13, 'journalist': 14, 'of': 15, 'result': 16, 'the': 17, 'was': 18, 'intended': 19, 'interrogation': 20, 'lead': 21, 'one': 22, 'to': 23, 'went': 24, 'wrong,': 25, 'Turkey,': 26, 'abduction': 27, 'according': 28, 'from': 29, 'his': 30, 'sources.': 31, 'two': 32}\n"
     ]
    }
   ],
   "source": [
    "# Show the word to id map\n",
    "print(dictionary.token2id)"
   ]
  },
  {
   "cell_type": "code",
   "execution_count": 54,
   "id": "af2c8383",
   "metadata": {},
   "outputs": [],
   "source": [
    "documents_2 = [\"The intersection graph of paths in trees\",\n",
    "               \"Graph minors IV Widths of trees and well quasi ordering\",\n",
    "               \"Graph minors A survey\"]\n",
    "\n",
    "texts_2 = [[text for text in doc.split()] for doc in documents_2]\n",
    "\n",
    "dictionary.add_documents(texts_2)"
   ]
  },
  {
   "cell_type": "code",
   "execution_count": 55,
   "id": "a7b0f635",
   "metadata": {},
   "outputs": [
    {
     "name": "stdout",
     "output_type": "stream",
     "text": [
      "Dictionary<48 unique tokens: ['Saudis', 'The', 'a', 'acknowledge', 'are']...>\n"
     ]
    }
   ],
   "source": [
    "print(dictionary)"
   ]
  },
  {
   "cell_type": "code",
   "execution_count": 56,
   "id": "cec8376a",
   "metadata": {},
   "outputs": [
    {
     "name": "stdout",
     "output_type": "stream",
     "text": [
      "{'Saudis': 0, 'The': 1, 'a': 2, 'acknowledge': 3, 'are': 4, 'preparing': 5, 'report': 6, 'that': 7, 'will': 8, 'Jamal': 9, \"Khashoggi's\": 10, 'Saudi': 11, 'an': 12, 'death': 13, 'journalist': 14, 'of': 15, 'result': 16, 'the': 17, 'was': 18, 'intended': 19, 'interrogation': 20, 'lead': 21, 'one': 22, 'to': 23, 'went': 24, 'wrong,': 25, 'Turkey,': 26, 'abduction': 27, 'according': 28, 'from': 29, 'his': 30, 'sources.': 31, 'two': 32, 'graph': 33, 'in': 34, 'intersection': 35, 'paths': 36, 'trees': 37, 'Graph': 38, 'IV': 39, 'Widths': 40, 'and': 41, 'minors': 42, 'ordering': 43, 'quasi': 44, 'well': 45, 'A': 46, 'survey': 47}\n"
     ]
    }
   ],
   "source": [
    "print(dictionary.token2id)"
   ]
  },
  {
   "cell_type": "code",
   "execution_count": 57,
   "id": "b2b2ae00",
   "metadata": {},
   "outputs": [
    {
     "data": {
      "text/plain": [
       "{'army': 0,\n",
       " 'chinaa': 1,\n",
       " 'chinese': 2,\n",
       " 'force': 3,\n",
       " 'liberation': 4,\n",
       " 'of': 5,\n",
       " 'peoplea': 6,\n",
       " 'recently': 7,\n",
       " 'recruited': 8,\n",
       " 'rocket': 9,\n",
       " 'tank': 10,\n",
       " 'technicians': 11,\n",
       " 'the': 12,\n",
       " 'think': 13,\n",
       " 'companies': 14,\n",
       " 'daily': 15,\n",
       " 'from': 16,\n",
       " 'on': 17,\n",
       " 'pla': 18,\n",
       " 'private': 19,\n",
       " 'reported': 20,\n",
       " 'saturday': 21,\n",
       " 'and': 22,\n",
       " 'appointment': 23,\n",
       " 'at': 24,\n",
       " 'ceremony': 25,\n",
       " 'experts': 26,\n",
       " 'founding': 27,\n",
       " 'hao': 28,\n",
       " 'letters': 29,\n",
       " 'other': 30,\n",
       " 'received': 31,\n",
       " 'science': 32,\n",
       " 'technology': 33,\n",
       " 'zhang': 34,\n",
       " 'according': 35,\n",
       " 'by': 36,\n",
       " 'defense': 37,\n",
       " 'national': 38,\n",
       " 'panel': 39,\n",
       " 'published': 40,\n",
       " 'report': 41,\n",
       " 'to': 42,\n",
       " 'as': 43,\n",
       " 'fellow': 44,\n",
       " 'his': 45,\n",
       " 'honored': 46,\n",
       " 'will': 47,\n",
       " 'œrocket': 48,\n",
       " 'conduct': 49,\n",
       " 'design': 50,\n",
       " 'fields': 51,\n",
       " 'into': 52,\n",
       " 'like': 53,\n",
       " 'members': 54,\n",
       " 'overall': 55,\n",
       " 'research': 56,\n",
       " 'serve': 57,\n",
       " 'which': 58,\n",
       " 'five': 59,\n",
       " 'for': 60,\n",
       " 'launching': 61,\n",
       " 'missile': 62,\n",
       " 'missiles': 63,\n",
       " 'network': 64,\n",
       " 'system': 65,\n",
       " 'years': 66,\n",
       " 'counterparts': 67,\n",
       " 'enjoy': 68,\n",
       " 'firms': 69,\n",
       " 'owned': 70,\n",
       " 'said': 71,\n",
       " 'same': 72,\n",
       " 'state': 73,\n",
       " 'their': 74,\n",
       " 'treatment': 75,\n",
       " 'china': 76,\n",
       " 'civilian': 77,\n",
       " 'deepening': 78,\n",
       " 'development': 79,\n",
       " 'in': 80,\n",
       " 'integration': 81,\n",
       " 'marks': 82,\n",
       " 'military': 83,\n",
       " 'new': 84,\n",
       " 'that': 85,\n",
       " 'this': 86,\n",
       " 'better': 87,\n",
       " 'capabilities': 88,\n",
       " 'combat': 89,\n",
       " 'contribute': 90,\n",
       " 'could': 91,\n",
       " 'enhancement': 92,\n",
       " 'forcea': 93,\n",
       " 'innovation': 94,\n",
       " 'make': 95}"
      ]
     },
     "execution_count": 57,
     "metadata": {},
     "output_type": "execute_result"
    }
   ],
   "source": [
    "#word to id from text file\n",
    "from gensim.utils import simple_preprocess\n",
    "from smart_open import smart_open\n",
    "import os\n",
    "\n",
    "# Create gensim dictionary form a single tet file\n",
    "dictionary = corpora.Dictionary(simple_preprocess(line, deacc=True) for line in open('sample.txt', encoding='utf-8'))\n",
    "\n",
    "# Token to Id map\n",
    "dictionary.token2id"
   ]
  },
  {
   "cell_type": "code",
   "execution_count": 58,
   "id": "72e2733c",
   "metadata": {},
   "outputs": [
    {
     "name": "stdout",
     "output_type": "stream",
     "text": [
      "badminton.txt\n",
      "Baseball.txt\n",
      "tabletennis.txt\n"
     ]
    },
    {
     "data": {
      "text/plain": [
       "{'across': 0,\n",
       " 'activity': 1,\n",
       " 'although': 2,\n",
       " 'and': 3,\n",
       " 'are': 4,\n",
       " 'as': 5,\n",
       " 'badminton': 6,\n",
       " 'be': 7,\n",
       " 'beach': 8,\n",
       " 'by': 9,\n",
       " 'casual': 10,\n",
       " 'common': 11,\n",
       " 'court': 12,\n",
       " 'doubles': 13,\n",
       " 'formal': 14,\n",
       " 'forms': 15,\n",
       " 'game': 16,\n",
       " 'games': 17,\n",
       " 'half': 18,\n",
       " 'hit': 19,\n",
       " 'in': 20,\n",
       " 'indoor': 21,\n",
       " 'is': 22,\n",
       " 'it': 23,\n",
       " 'landing': 24,\n",
       " 'larger': 25,\n",
       " 'may': 26,\n",
       " 'most': 27,\n",
       " 'net': 28,\n",
       " 'of': 29,\n",
       " 'often': 30,\n",
       " 'on': 31,\n",
       " 'one': 32,\n",
       " 'opposing': 33,\n",
       " 'or': 34,\n",
       " 'outdoor': 35,\n",
       " 'per': 36,\n",
       " 'played': 37,\n",
       " 'player': 38,\n",
       " 'players': 39,\n",
       " 'points': 40,\n",
       " 'racquet': 41,\n",
       " 'racquets': 42,\n",
       " 'rectangular': 43,\n",
       " 'scored': 44,\n",
       " 'shuttlecock': 45,\n",
       " 'side': 46,\n",
       " 'singles': 47,\n",
       " 'sport': 48,\n",
       " 'striking': 49,\n",
       " 'teams': 50,\n",
       " 'the': 51,\n",
       " 'to': 52,\n",
       " 'two': 53,\n",
       " 'using': 54,\n",
       " 'with': 55,\n",
       " 'within': 56,\n",
       " 'yard': 57,\n",
       " 'advantage': 58,\n",
       " 'allow': 59,\n",
       " 'also': 60,\n",
       " 'alters': 61,\n",
       " 'an': 62,\n",
       " 'at': 63,\n",
       " 'back': 64,\n",
       " 'ball': 65,\n",
       " 'bounce': 66,\n",
       " 'bounces': 67,\n",
       " 'demands': 68,\n",
       " 'divided': 69,\n",
       " 'except': 70,\n",
       " 'fails': 71,\n",
       " 'fast': 72,\n",
       " 'follows': 73,\n",
       " 'for': 74,\n",
       " 'forth': 75,\n",
       " 'four': 76,\n",
       " 'generally': 77,\n",
       " 'giving': 78,\n",
       " 'great': 79,\n",
       " 'hard': 80,\n",
       " 'hitter': 81,\n",
       " 'initial': 82,\n",
       " 'its': 83,\n",
       " 'known': 84,\n",
       " 'least': 85,\n",
       " 'lightweight': 86,\n",
       " 'limits': 87,\n",
       " 'must': 88,\n",
       " 'once': 89,\n",
       " 'opponent': 90,\n",
       " 'opposite': 91,\n",
       " 'options': 92,\n",
       " 'paddle': 93,\n",
       " 'ping': 94,\n",
       " 'place': 95,\n",
       " 'play': 96,\n",
       " 'point': 97,\n",
       " 'pong': 98,\n",
       " 'quick': 99,\n",
       " 'reactions': 100,\n",
       " 'return': 101,\n",
       " 'rules': 102,\n",
       " 'serve': 103,\n",
       " 'small': 104,\n",
       " 'so': 105,\n",
       " 'spinning': 106,\n",
       " 'table': 107,\n",
       " 'takes': 108,\n",
       " 'tennis': 109,\n",
       " 'that': 110,\n",
       " 'their': 111,\n",
       " 'them': 112,\n",
       " 'time': 113,\n",
       " 'toward': 114,\n",
       " 'trajectory': 115,\n",
       " 'when': 116,\n",
       " 'which': 117}"
      ]
     },
     "execution_count": 58,
     "metadata": {},
     "output_type": "execute_result"
    }
   ],
   "source": [
    "#word 2 id from multiple text file\n",
    "class ReadTxtFiles(object):\n",
    "    def __init__(self, dirname):\n",
    "        self.dirname = dirname\n",
    "\n",
    "    def __iter__(self):\n",
    "        for fname in os.listdir(self.dirname):\n",
    "            print(fname)\n",
    "            for line in open(os.path.join(self.dirname, fname), encoding='latin'):\n",
    "                yield simple_preprocess(line)\n",
    "\n",
    "path_to_text_directory = \"lsa_sports_food_docs\"\n",
    "\n",
    "dictionary = corpora.Dictionary(ReadTxtFiles(path_to_text_directory))\n",
    "\n",
    "# Token to Id map\n",
    "dictionary.token2id"
   ]
  },
  {
   "cell_type": "markdown",
   "id": "03edee9d",
   "metadata": {},
   "source": [
    "<br><h2>Bag of words</br></h2>"
   ]
  },
  {
   "cell_type": "code",
   "execution_count": 59,
   "id": "9a42fcfe",
   "metadata": {},
   "outputs": [
    {
     "name": "stdout",
     "output_type": "stream",
     "text": [
      "[[(0, 1), (1, 1), (2, 1), (3, 1), (4, 1)], [(4, 4)]]\n"
     ]
    }
   ],
   "source": [
    "# Bag of word gives : word id and its frequency\n",
    "# List with 2 sentences\n",
    "my_docs = [\"Who let the dogs out?\",\n",
    "           \"Who? Who? Who? Who?\"]\n",
    "\n",
    "# Tokenize the docs\n",
    "tokenized_list = [simple_preprocess(doc) for doc in my_docs]\n",
    "\n",
    "# Create the Corpus\n",
    "mydict = corpora.Dictionary()\n",
    "mycorpus = [mydict.doc2bow(doc, allow_update=True) for doc in tokenized_list]\n",
    "pprint(mycorpus)\n",
    "# The (0, 1) in line 1 means, the word with id=0 appears once in the 1st document.\n",
    "# Likewise, the (4, 4) in the second list item means the word with id 4 appears 4 \n",
    "# times in the second document. And so on."
   ]
  },
  {
   "cell_type": "code",
   "execution_count": 60,
   "id": "c1dd5df3",
   "metadata": {},
   "outputs": [
    {
     "name": "stdout",
     "output_type": "stream",
     "text": [
      "[[('dogs', 1), ('let', 1), ('out', 1), ('the', 1), ('who', 1)], [('who', 4)]]\n"
     ]
    }
   ],
   "source": [
    "word_counts = [[(mydict[id], count) for id, count in line] for line in mycorpus]\n",
    "pprint(word_counts)"
   ]
  },
  {
   "cell_type": "markdown",
   "id": "4144bbd4",
   "metadata": {},
   "source": [
    "<br><h2>Create a bag of words corpus from a text file</br></h2>"
   ]
  },
  {
   "cell_type": "code",
   "execution_count": 61,
   "id": "0095ae3b",
   "metadata": {},
   "outputs": [
    {
     "name": "stdout",
     "output_type": "stream",
     "text": [
      "[(0, 1), (1, 1), (2, 1), (3, 1), (4, 1), (5, 1), (6, 1), (7, 1), (8, 1), (9, 1), (10, 1), (11, 1), (12, 1), (13, 1)]\n",
      "[(14, 1), (15, 1), (16, 1), (17, 1), (18, 1), (19, 1), (20, 1), (21, 1)]\n",
      "[(5, 2), (12, 1), (22, 2), (23, 1), (24, 1), (25, 1), (26, 1), (27, 1), (28, 1), (29, 1), (30, 1), (31, 1), (32, 1), (33, 1), (34, 1)]\n",
      "[(3, 1), (9, 1), (12, 2), (18, 1), (22, 1), (26, 1), (32, 1), (33, 1), (35, 1), (36, 1), (37, 1), (38, 1), (39, 1), (40, 1), (41, 1), (42, 1)]\n",
      "[(15, 1), (17, 1), (18, 1), (21, 1)]\n",
      "[(3, 1), (9, 1), (14, 1), (16, 1), (19, 1), (22, 2), (26, 2), (32, 1), (33, 1), (34, 1), (43, 1), (44, 1), (45, 1), (46, 1), (47, 1)]\n",
      "[(3, 1), (5, 2), (9, 1), (10, 1), (12, 1), (13, 1), (18, 1), (43, 1), (47, 1), (48, 1), (49, 1), (50, 1), (51, 1), (52, 1), (53, 1), (54, 1), (55, 1), (56, 1), (57, 1)]\n",
      "[(12, 1), (22, 1), (33, 1), (58, 1), (59, 1), (60, 1), (61, 1), (62, 1), (63, 1), (64, 1), (65, 1)]\n",
      "[(12, 3), (16, 1), (26, 1), (41, 1), (43, 1), (47, 1), (66, 1), (67, 1), (68, 1), (69, 1), (70, 1), (71, 1), (72, 1), (73, 1), (74, 1)]\n",
      "[(12, 1), (15, 1), (18, 1), (57, 1), (70, 1), (75, 1), (76, 1), (77, 1), (78, 1), (79, 2), (80, 1), (81, 1), (82, 1), (83, 1), (84, 1), (85, 1)]\n",
      "[(5, 1), (12, 2), (22, 1), (32, 1), (33, 1), (42, 1), (86, 1), (87, 1), (88, 1), (89, 1), (90, 1), (91, 1), (92, 1), (93, 1), (94, 1)]\n"
     ]
    },
    {
     "name": "stderr",
     "output_type": "stream",
     "text": [
      "[nltk_data] Downloading package stopwords to\n",
      "[nltk_data]     C:\\Users\\Ghost\\AppData\\Roaming\\nltk_data...\n",
      "[nltk_data]   Package stopwords is already up-to-date!\n"
     ]
    }
   ],
   "source": [
    "from gensim.utils import simple_preprocess\n",
    "from smart_open import smart_open\n",
    "import nltk\n",
    "nltk.download('stopwords')  # run once\n",
    "from nltk.corpus import stopwords\n",
    "stop_words = stopwords.words('english')\n",
    "\n",
    "\n",
    "class BoWCorpus(object):\n",
    "    def __init__(self, path, dictionary):\n",
    "        self.filepath = path\n",
    "        self.dictionary = dictionary\n",
    "\n",
    "    def __iter__(self):\n",
    "        global mydict  # OPTIONAL, only if updating the source dictionary.\n",
    "        for line in smart_open(self.filepath, encoding='latin'):\n",
    "            # tokenize\n",
    "            tokenized_list = simple_preprocess(line, deacc=True)\n",
    "\n",
    "            # create bag of words\n",
    "            bow = self.dictionary.doc2bow(tokenized_list, allow_update=True)\n",
    "\n",
    "            # update the source dictionary (OPTIONAL)\n",
    "            mydict.merge_with(self.dictionary)\n",
    "\n",
    "            # lazy return the BoW\n",
    "            yield bow\n",
    "            \n",
    "# Create the Dictionary\n",
    "mydict = corpora.Dictionary()\n",
    "\n",
    "# Create the Corpus\n",
    "bow_corpus = BoWCorpus('sample.txt', dictionary=mydict)  # memory friendly\n",
    "\n",
    "# Print the token_id and count for each line.\n",
    "for line in bow_corpus:\n",
    "    print(line)"
   ]
  },
  {
   "cell_type": "markdown",
   "id": "9fe4c973",
   "metadata": {},
   "source": [
    "<br><h2>Save a gensim dictionary and corpus to disk and load them back</br></h2>"
   ]
  },
  {
   "cell_type": "code",
   "execution_count": 62,
   "id": "423e7565",
   "metadata": {},
   "outputs": [],
   "source": [
    "# Save the Dict and Corpus\n",
    "mydict.save('mydict.dict')  # save dict to disk\n",
    "corpora.MmCorpus.serialize('bow_corpus.mm', bow_corpus)  # save corpus to disk"
   ]
  },
  {
   "cell_type": "code",
   "execution_count": 63,
   "id": "e21625a8",
   "metadata": {},
   "outputs": [
    {
     "name": "stdout",
     "output_type": "stream",
     "text": [
      "[(0, 1.0), (1, 1.0), (2, 1.0), (3, 1.0), (4, 1.0), (5, 1.0), (6, 1.0), (7, 1.0), (8, 1.0), (9, 1.0), (10, 1.0), (11, 1.0), (12, 1.0), (13, 1.0)]\n",
      "[(14, 1.0), (15, 1.0), (16, 1.0), (17, 1.0), (18, 1.0), (19, 1.0), (20, 1.0), (21, 1.0)]\n",
      "[(5, 2.0), (12, 1.0), (22, 2.0), (23, 1.0), (24, 1.0), (25, 1.0), (26, 1.0), (27, 1.0), (28, 1.0), (29, 1.0), (30, 1.0), (31, 1.0), (32, 1.0), (33, 1.0), (34, 1.0)]\n",
      "[(3, 1.0), (9, 1.0), (12, 2.0), (18, 1.0), (22, 1.0), (26, 1.0), (32, 1.0), (33, 1.0), (35, 1.0), (36, 1.0), (37, 1.0), (38, 1.0), (39, 1.0), (40, 1.0), (41, 1.0), (42, 1.0)]\n",
      "[(15, 1.0), (17, 1.0), (18, 1.0), (21, 1.0)]\n",
      "[(3, 1.0), (9, 1.0), (14, 1.0), (16, 1.0), (19, 1.0), (22, 2.0), (26, 2.0), (32, 1.0), (33, 1.0), (34, 1.0), (43, 1.0), (44, 1.0), (45, 1.0), (46, 1.0), (47, 1.0)]\n",
      "[(3, 1.0), (5, 2.0), (9, 1.0), (10, 1.0), (12, 1.0), (13, 1.0), (18, 1.0), (43, 1.0), (47, 1.0), (48, 1.0), (49, 1.0), (50, 1.0), (51, 1.0), (52, 1.0), (53, 1.0), (54, 1.0), (55, 1.0), (56, 1.0), (57, 1.0)]\n",
      "[(12, 1.0), (22, 1.0), (33, 1.0), (58, 1.0), (59, 1.0), (60, 1.0), (61, 1.0), (62, 1.0), (63, 1.0), (64, 1.0), (65, 1.0)]\n",
      "[(12, 3.0), (16, 1.0), (26, 1.0), (41, 1.0), (43, 1.0), (47, 1.0), (66, 1.0), (67, 1.0), (68, 1.0), (69, 1.0), (70, 1.0), (71, 1.0), (72, 1.0), (73, 1.0), (74, 1.0)]\n",
      "[(12, 1.0), (15, 1.0), (18, 1.0), (57, 1.0), (70, 1.0), (75, 1.0), (76, 1.0), (77, 1.0), (78, 1.0), (79, 2.0), (80, 1.0), (81, 1.0), (82, 1.0), (83, 1.0), (84, 1.0), (85, 1.0)]\n",
      "[(5, 1.0), (12, 2.0), (22, 1.0), (32, 1.0), (33, 1.0), (42, 1.0), (86, 1.0), (87, 1.0), (88, 1.0), (89, 1.0), (90, 1.0), (91, 1.0), (92, 1.0), (93, 1.0), (94, 1.0)]\n"
     ]
    }
   ],
   "source": [
    "# Load them back\n",
    "loaded_dict = corpora.Dictionary.load('mydict.dict')\n",
    "\n",
    "corpus = corpora.MmCorpus('bow_corpus.mm')\n",
    "for line in corpus:\n",
    "    print(line)"
   ]
  },
  {
   "cell_type": "markdown",
   "id": "3b7b9c97",
   "metadata": {},
   "source": [
    "<br><h2>Create the TFIDF matrix (corpus) in gensim</br></h2>"
   ]
  },
  {
   "cell_type": "code",
   "execution_count": 64,
   "id": "c8809324",
   "metadata": {},
   "outputs": [
    {
     "name": "stdout",
     "output_type": "stream",
     "text": [
      "[['first', 1], ['is', 1], ['line', 1], ['the', 1], ['this', 1]]\n",
      "[['is', 1], ['the', 1], ['this', 1], ['second', 1], ['sentence', 1]]\n",
      "[['this', 1], ['document', 1], ['third', 1]]\n",
      "[['first', 0.63], ['is', 0.31], ['line', 0.63], ['the', 0.31], ['this', 0.13]]\n",
      "[['is', 0.31], ['the', 0.31], ['this', 0.13], ['second', 0.63], ['sentence', 0.63]]\n",
      "[['this', 0.15], ['document', 0.7], ['third', 0.7]]\n"
     ]
    }
   ],
   "source": [
    "from gensim import models\n",
    "import numpy as np\n",
    "\n",
    "documents = [\"This is the first line\",\n",
    "             \"This is the second sentence\",\n",
    "             \"This third document\"]\n",
    "\n",
    "# Create the Dictionary and Corpus\n",
    "mydict = corpora.Dictionary([simple_preprocess(line) for line in documents])\n",
    "corpus = [mydict.doc2bow(simple_preprocess(line)) for line in documents]\n",
    "\n",
    "# Show the Word Weights in Corpus\n",
    "for doc in corpus:\n",
    "    print([[mydict[id], freq] for id, freq in doc])\n",
    "\n",
    "# [['first', 1], ['is', 1], ['line', 1], ['the', 1], ['this', 1]]\n",
    "# [['is', 1], ['the', 1], ['this', 1], ['second', 1], ['sentence', 1]]\n",
    "# [['this', 1], ['document', 1], ['third', 1]]\n",
    "\n",
    "# Create the TF-IDF model\n",
    "tfidf = models.TfidfModel(corpus, smartirs='ntc')\n",
    "\n",
    "# Show the TF-IDF weights\n",
    "for doc in tfidf[corpus]:\n",
    "    print([[mydict[id], np.around(freq, decimals=2)] for id, freq in doc])"
   ]
  },
  {
   "cell_type": "markdown",
   "id": "7aa7b924",
   "metadata": {},
   "source": [
    "The Term Frequency – Inverse Document Frequency(TF-IDF) is also a bag-of-words model \n",
    "but unlike the regular corpus, TFIDF down weights tokens (words) that appears frequently across documents"
   ]
  },
  {
   "cell_type": "markdown",
   "id": "3fe03556",
   "metadata": {},
   "source": [
    "<br><h2>Use gensim downloader API to load datasets & word embedding models</br></h2>"
   ]
  },
  {
   "cell_type": "code",
   "execution_count": 66,
   "id": "748e5a7c",
   "metadata": {},
   "outputs": [
    {
     "data": {
      "text/plain": [
       "[('running', 0.880255401134491),\n",
       " ('runs', 0.8451682329177856),\n",
       " ('went', 0.8449698686599731),\n",
       " ('start', 0.8351630568504333),\n",
       " ('ran', 0.8289676308631897),\n",
       " ('out', 0.815359354019165),\n",
       " ('third', 0.8101339340209961),\n",
       " ('home', 0.8085862994194031),\n",
       " ('off', 0.803026020526886),\n",
       " ('got', 0.8010134696960449)]"
      ]
     },
     "execution_count": 66,
     "metadata": {},
     "output_type": "execute_result"
    }
   ],
   "source": [
    "import gensim.downloader as api\n",
    "\n",
    "# Get information about the model or dataset\n",
    "# glove-wiki-gigaword-50 is a glove word embedding\n",
    "api.info('glove-wiki-gigaword-50')\n",
    "\n",
    "# Download\n",
    "w2v_model = api.load(\"glove-wiki-gigaword-50\")\n",
    "w2v_model.most_similar('run')"
   ]
  },
  {
   "cell_type": "markdown",
   "id": "c2604710",
   "metadata": {},
   "source": [
    "<br><h2>Create bigrams and trigrams using Phraser models</br></h2>"
   ]
  },
  {
   "cell_type": "code",
   "execution_count": 67,
   "id": "c07e7163",
   "metadata": {},
   "outputs": [
    {
     "name": "stdout",
     "output_type": "stream",
     "text": [
      "[==================================================] 100.0% 31.6/31.6MB downloaded\n",
      "['anarchism', 'originated', 'as', 'a', 'term', 'of', 'abuse', 'first', 'used', 'against', 'early', 'working_class', 'radicals', 'including', 'the', 'diggers', 'of', 'the', 'english', 'revolution', 'and', 'the', 'sans_culottes', 'of', 'the', 'french_revolution', 'whilst', 'the', 'term', 'is', 'still', 'used', 'in', 'a', 'pejorative_way', 'to', 'describe', 'any', 'act', 'that', 'used', 'violent', 'means', 'to', 'destroy', 'the', 'organization', 'of', 'society', 'it', 'has', 'also', 'been', 'taken_up', 'as', 'a', 'positive', 'label', 'by', 'self', 'defined', 'anarchists', 'the', 'word', 'anarchism', 'is', 'derived_from', 'the', 'greek', 'without', 'archons', 'ruler', 'chief', 'king', 'anarchism', 'as', 'a', 'political_philosophy', 'is', 'the', 'belief_that', 'rulers', 'are', 'unnecessary', 'and', 'should_be', 'abolished', 'although', 'there_are', 'differing_interpretations', 'of', 'what', 'this', 'means', 'anarchism', 'also', 'refers_to', 'related', 'social_movements', 'that', 'advocate', 'the', 'elimination', 'of', 'authoritarian', 'institutions', 'particularly', 'the', 'state', 'the', 'word', 'anarchy', 'as', 'most', 'anarchists', 'use', 'it', 'does_not', 'imply', 'chaos', 'nihilism', 'or', 'anomie', 'but_rather', 'a', 'harmonious', 'anti_authoritarian', 'society', 'in', 'place', 'of', 'what', 'are', 'regarded_as', 'authoritarian', 'political', 'structures', 'and', 'coercive', 'economic', 'institutions', 'anarchists', 'advocate', 'social', 'relations', 'based_upon', 'voluntary_association', 'of', 'autonomous', 'individuals', 'mutual_aid', 'and', 'self_governance', 'while', 'anarchism', 'is', 'most', 'easily', 'defined', 'by', 'what', 'it', 'is', 'against', 'anarchists', 'also', 'offer', 'positive', 'visions', 'of', 'what', 'they_believe', 'to', 'be', 'a', 'truly', 'free', 'society', 'however', 'ideas_about', 'how', 'an', 'anarchist_society', 'might', 'work', 'vary_considerably', 'especially', 'with_respect', 'to', 'economics', 'there', 'is', 'also', 'disagreement_about', 'how', 'a', 'free', 'society', 'might_be', 'brought_about', 'origins', 'and', 'predecessors', 'kropotkin', 'and', 'others_argue', 'that', 'before', 'recorded_history', 'human', 'society', 'was', 'organized', 'on', 'anarchist_principles', 'most', 'anthropologists', 'follow', 'kropotkin', 'and', 'engels', 'in', 'believing_that', 'hunter_gatherer', 'bands', 'were', 'egalitarian', 'and', 'lacked', 'division', 'of', 'labour', 'accumulated_wealth', 'or', 'decreed', 'law', 'and', 'had', 'equal', 'access', 'to', 'resources', 'william_godwin', 'anarchists', 'including', 'the', 'the', 'anarchy', 'organisation', 'and', 'rothbard', 'find', 'anarchist', 'attitudes', 'in', 'taoism', 'from', 'ancient', 'china', 'kropotkin', 'found', 'similar', 'ideas', 'in', 'stoic', 'zeno', 'of', 'citium', 'according_to', 'kropotkin', 'zeno', 'repudiated', 'the', 'omnipotence', 'of', 'the', 'state', 'its', 'intervention', 'and', 'regimentation', 'and', 'proclaimed', 'the', 'sovereignty', 'of', 'the', 'moral', 'law', 'of', 'the', 'individual', 'the', 'anabaptists', 'of', 'one', 'six', 'th_century', 'europe', 'are', 'sometimes_considered', 'to', 'be', 'religious', 'forerunners', 'of', 'modern', 'anarchism', 'bertrand_russell', 'in', 'his', 'history', 'of', 'western_philosophy', 'writes', 'that', 'the', 'anabaptists', 'repudiated', 'all', 'law', 'since', 'they', 'held', 'that', 'the', 'good', 'man', 'will_be', 'guided', 'at', 'every', 'moment', 'by', 'the', 'holy_spirit', 'from', 'this', 'premise', 'they', 'arrive_at', 'communism', 'the', 'diggers', 'or', 'true', 'levellers', 'were', 'an', 'early', 'communistic', 'movement', 'during', 'the', 'time', 'of', 'the', 'english_civil', 'war', 'and', 'are', 'considered', 'by', 'some', 'as', 'forerunners', 'of', 'modern', 'anarchism', 'in', 'the', 'modern_era', 'the', 'first', 'to', 'use', 'the', 'term', 'to', 'mean', 'something', 'other', 'than', 'chaos', 'was', 'louis', 'armand', 'baron_de', 'lahontan', 'in', 'his', 'nouveaux', 'voyages', 'dans_l', 'am_rique', 'septentrionale', 'one', 'seven', 'zero', 'three', 'where', 'he', 'described', 'the', 'indigenous', 'american', 'society', 'which', 'had', 'no', 'state', 'laws', 'prisons', 'priests', 'or', 'private_property', 'as', 'being', 'in', 'anarchy', 'russell', 'means', 'a', 'libertarian', 'and', 'leader', 'in', 'the', 'american', 'indian', 'movement', 'has', 'repeatedly_stated', 'that', 'he', 'is', 'an', 'anarchist', 'and', 'so', 'are', 'all', 'his', 'ancestors', 'in', 'one', 'seven', 'nine', 'three', 'in', 'the', 'thick', 'of', 'the', 'french_revolution', 'william_godwin', 'published', 'an_enquiry', 'concerning', 'political', 'justice', 'although', 'godwin', 'did_not', 'use', 'the', 'word', 'anarchism', 'many', 'later', 'anarchists', 'have', 'regarded', 'this', 'book', 'as', 'the', 'first', 'major', 'anarchist', 'text', 'and', 'godwin', 'as', 'the', 'founder', 'of', 'philosophical_anarchism', 'but', 'at', 'this', 'point', 'no', 'anarchist_movement', 'yet', 'existed', 'and', 'the', 'term', 'anarchiste', 'was', 'known', 'mainly', 'as', 'an_insult', 'hurled', 'by', 'the', 'bourgeois', 'girondins', 'at', 'more_radical', 'elements', 'in', 'the', 'french_revolution', 'the', 'first', 'self', 'labelled', 'anarchist', 'pierre_joseph', 'proudhon', 'it', 'is', 'commonly', 'held', 'that', 'it_wasn', 't', 'until', 'pierre_joseph', 'proudhon', 'published', 'what', 'is', 'property', 'in', 'one', 'eight', 'four', 'zero', 'that', 'the', 'term', 'anarchist', 'was', 'adopted', 'as', 'a', 'self', 'description', 'it', 'is', 'for', 'this_reason', 'that', 'some', 'claim', 'proudhon', 'as', 'the', 'founder', 'of', 'modern', 'anarchist', 'theory', 'in', 'what', 'is', 'property', 'proudhon', 'answers', 'with', 'the', 'famous', 'accusation', 'property', 'is', 'theft', 'in', 'this', 'work', 'he', 'opposed', 'the', 'institution', 'of', 'decreed', 'property', 'propri_t', 'where', 'owners', 'have', 'complete', 'rights', 'to', 'use', 'and', 'abuse', 'their', 'property', 'as', 'they_wish', 'such_as', 'exploiting', 'workers', 'for', 'profit', 'in', 'its', 'place', 'proudhon', 'supported', 'what', 'he', 'called', 'possession', 'individuals', 'can', 'have', 'limited', 'rights', 'to', 'use', 'resources', 'capital', 'and', 'goods', 'in_accordance', 'with', 'principles', 'of', 'equality', 'and', 'justice', 'proudhon', 's', 'vision', 'of', 'anarchy', 'which', 'he', 'called', 'mutualism', 'mutuellisme', 'involved', 'an', 'exchange', 'economy', 'where', 'individuals', 'and', 'groups', 'could', 'trade', 'the', 'products', 'of', 'their', 'labor', 'using', 'labor', 'notes', 'which', 'represented', 'the', 'amount', 'of', 'working', 'time', 'involved', 'in', 'production', 'this', 'would', 'ensure_that', 'no', 'one', 'would', 'profit', 'from', 'the', 'labor', 'of', 'others', 'workers', 'could', 'freely', 'join_together', 'in', 'co_operative', 'workshops', 'an', 'interest', 'free', 'bank', 'would_be', 'set_up', 'to', 'provide', 'everyone', 'with', 'access', 'to', 'the', 'means', 'of', 'production', 'proudhon', 's', 'ideas', 'were', 'influential', 'within', 'french', 'working_class', 'movements', 'and', 'his_followers', 'were', 'active', 'in', 'the', 'revolution', 'of', 'one', 'eight', 'four', 'eight', 'in', 'france', 'proudhon', 's', 'philosophy', 'of', 'property', 'is', 'complex', 'it', 'was', 'developed', 'in', 'a', 'number', 'of', 'works', 'over', 'his_lifetime', 'and', 'there_are', 'differing_interpretations', 'of', 'some', 'of', 'his', 'ideas', 'for', 'more_detailed', 'discussion', 'see', 'here', 'max_stirner', 's', 'egoism', 'in', 'his', 'the', 'ego', 'and', 'its_own', 'stirner', 'argued_that', 'most_commonly', 'accepted', 'social_institutions', 'including', 'the', 'notion', 'of', 'state', 'property', 'as', 'a', 'right', 'natural', 'rights', 'in', 'general', 'and', 'the', 'very', 'notion', 'of', 'society', 'were', 'mere', 'illusions', 'or', 'ghosts', 'in', 'the', 'mind', 'saying', 'of', 'society', 'that', 'the', 'individuals', 'are', 'its', 'reality', 'he', 'advocated', 'egoism', 'and', 'a', 'form', 'of', 'amoralism', 'in', 'which', 'individuals', 'would', 'unite', 'in', 'associations', 'of', 'egoists', 'only', 'when', 'it', 'was', 'in', 'their', 'self_interest', 'to', 'do_so', 'for', 'him', 'property', 'simply', 'comes', 'about', 'through', 'might', 'whoever', 'knows_how', 'to', 'take', 'to', 'defend', 'the', 'thing', 'to', 'him', 'belongs', 'property', 'and', 'what', 'i', 'have', 'in', 'my', 'power', 'that', 'is', 'my_own', 'so', 'long', 'as', 'i', 'assert', 'myself', 'as', 'holder', 'i_am', 'the', 'proprietor', 'of', 'the', 'thing', 'stirner', 'never', 'called', 'himself', 'an', 'anarchist', 'he', 'accepted', 'only', 'the', 'label', 'egoist', 'nevertheless', 'his', 'ideas', 'were', 'influential', 'on', 'many', 'individualistically', 'inclined', 'anarchists', 'although', 'interpretations', 'of', 'his', 'thought', 'are', 'diverse', 'american_individualist', 'anarchism', 'benjamin_tucker', 'in', 'one', 'eight', 'two', 'five', 'josiah_warren', 'had', 'participated', 'in', 'a', 'communitarian', 'experiment', 'headed_by', 'robert_owen', 'called', 'new', 'harmony', 'which', 'failed', 'in', 'a', 'few_years', 'amidst', 'much', 'internal_conflict', 'warren', 'blamed', 'the', 'community', 's', 'failure', 'on', 'a', 'lack', 'of', 'individual', 'sovereignty', 'and', 'a', 'lack', 'of', 'private_property', 'warren', 'proceeded', 'to', 'organise', 'experimenal', 'anarchist', 'communities', 'which', 'respected', 'what', 'he', 'called', 'the', 'sovereignty', 'of', 'the', 'individual', 'at', 'utopia', 'and', 'modern_times', 'in', 'one', 'eight', 'three', 'three', 'warren', 'wrote', 'and', 'published', 'the', 'peaceful', 'revolutionist', 'which', 'some', 'have', 'noted', 'to', 'be', 'the', 'first', 'anarchist_periodical', 'ever', 'published', 'benjamin_tucker', 'says_that', 'warren', 'was', 'the', 'first', 'man', 'to', 'expound', 'and', 'formulate', 'the', 'doctrine', 'now_known', 'as', 'anarchism', 'liberty', 'xiv', 'december', 'one', 'nine', 'zero', 'zero', 'one', 'benjamin_tucker', 'became_interested', 'in', 'anarchism', 'through', 'meeting', 'josiah_warren', 'and', 'william', 'b_greene', 'he', 'edited', 'and', 'published', 'liberty', 'from', 'august', 'one', 'eight', 'eight', 'one', 'to', 'april', 'one', 'nine', 'zero', 'eight', 'it', 'is', 'widely_considered', 'to', 'be', 'the', 'finest', 'individualist_anarchist', 'periodical', 'ever', 'issued', 'in', 'the', 'english_language', 'tucker', 's', 'conception', 'of', 'individualist_anarchism', 'incorporated', 'the', 'ideas', 'of', 'a', 'variety', 'of', 'theorists', 'greene', 's', 'ideas', 'on', 'mutual', 'banking', 'warren', 's', 'ideas', 'on', 'cost', 'as', 'the', 'limit', 'of', 'price', 'a', 'heterodox', 'variety', 'of', 'labour', 'theory', 'of', 'value', 'proudhon', 's', 'market_anarchism', 'max_stirner', 's', 'egoism', 'and', 'herbert_spencer', 's', 'law', 'of', 'equal', 'freedom', 'tucker', 'strongly_supported', 'the', 'individual', 's', 'right', 'to', 'own', 'the', 'product', 'of', 'his', 'or', 'her', 'labour', 'as', 'private_property', 'and', 'believed', 'in', 'a', 'market_economy', 'for', 'trading', 'this', 'property', 'he', 'argued_that', 'in', 'a', 'truly', 'free_market', 'system', 'without', 'the', 'state', 'the', 'abundance', 'of', 'competition', 'would', 'eliminate', 'profits', 'and', 'ensure_that', 'all', 'workers', 'received', 'the', 'full', 'value', 'of', 'their', 'labor', 'other', 'one', 'nine', 'th_century', 'individualists', 'included', 'lysander_spooner', 'stephen_pearl', 'andrews', 'and', 'victor', 'yarros', 'the', 'first', 'international', 'mikhail_bakunin', 'one', 'eight', 'one', 'four', 'one', 'eight', 'seven', 'six', 'in', 'europe', 'harsh', 'reaction', 'followed', 'the', 'revolutions', 'of', 'one', 'eight', 'four', 'eight', 'twenty_years', 'later', 'in', 'one', 'eight', 'six', 'four', 'the', 'international_workingmen', 's', 'association', 'sometimes_called', 'the', 'first', 'international', 'united', 'some', 'diverse', 'european', 'revolutionary', 'currents', 'including', 'anarchism', 'due_to', 'its', 'genuine', 'links', 'to', 'active', 'workers', 'movements', 'the', 'international', 'became', 'signficiant', 'from', 'the', 'start', 'karl_marx', 'was', 'a', 'leading_figure', 'in', 'the', 'international', 'he', 'was', 'elected', 'to', 'every', 'succeeding', 'general', 'council', 'of', 'the', 'association', 'the', 'first', 'objections', 'to', 'marx', 'came', 'from', 'the', 'mutualists', 'who', 'opposed_communism', 'and', 'statism', 'shortly_after', 'mikhail_bakunin', 'and', 'his_followers', 'joined', 'in', 'one', 'eight', 'six', 'eight', 'the', 'first', 'international', 'became', 'polarised', 'into', 'two', 'camps', 'with', 'marx', 'and', 'bakunin', 'as', 'their_respective', 'figureheads', 'the', 'clearest', 'difference_between', 'the', 'camps', 'was', 'over', 'strategy', 'the', 'anarchists', 'around', 'bakunin', 'favoured', 'in', 'kropotkin', 's', 'words', 'direct', 'economical', 'struggle_against', 'capitalism', 'without_interfering', 'in', 'the', 'political', 'parliamentary', 'agitation', 'at', 'that', 'time', 'marx', 'and', 'his_followers', 'focused_on', 'parliamentary', 'activity', 'bakunin', 'characterised', 'marx', 's', 'ideas', 'as', 'authoritarian', 'and', 'predicted', 'that', 'if', 'a', 'marxist', 'party', 'gained', 'to', 'power', 'its', 'leaders', 'would', 'end', 'up', 'as', 'bad', 'as', 'the', 'ruling_class', 'they', 'had', 'fought_against', 'in', 'one', 'eight', 'seven', 'two', 'the', 'conflict', 'climaxed', 'with', 'a', 'final', 'split_between', 'the', 'two', 'groups', 'at', 'the', 'hague', 'congress', 'this', 'is', 'often_cited', 'as', 'the', 'origin', 'of', 'the', 'conflict_between', 'anarchists', 'and', 'marxists', 'from', 'this', 'moment', 'the', 'social_democratic', 'and', 'libertarian', 'currents', 'of', 'socialism', 'had', 'distinct', 'organisations', 'including', 'rival', 'internationals', 'anarchist_communism', 'peter_kropotkin', 'proudhon', 'and', 'bakunin', 'both', 'opposed_communism', 'associating', 'it', 'with', 'statism', 'however', 'in', 'the', 'one', 'eight', 'seven', 'zero', 's', 'many', 'anarchists', 'moved_away', 'from', 'bakunin', 's', 'economic', 'thinking', 'called', 'collectivism', 'and', 'embraced', 'communist', 'concepts', 'communists', 'believed', 'the', 'means', 'of', 'production', 'should_be', 'owned', 'collectively', 'and', 'that', 'goods', 'be', 'distributed', 'by', 'need', 'not', 'labor', 'an', 'early', 'anarchist', 'communist', 'was', 'joseph', 'd', 'jacque', 'the', 'first_person', 'to', 'describe', 'himself', 'as', 'libertarian', 'unlike', 'proudhon', 'he', 'argued_that', 'it', 'is', 'not', 'the', 'product', 'of', 'his', 'or', 'her', 'labor', 'that', 'the', 'worker', 'has', 'a', 'right', 'to', 'but', 'to', 'the', 'satisfaction', 'of', 'his', 'or', 'her', 'needs', 'whatever', 'may_be', 'their', 'nature', 'he', 'announced', 'his', 'ideas', 'in', 'his', 'us', 'published', 'journal', 'le', 'libertaire', 'one', 'eight', 'five', 'eight', 'one', 'eight', 'six', 'one', 'peter_kropotkin', 'often_seen', 'as', 'the', 'most_important', 'theorist', 'outlined', 'his', 'economic', 'ideas', 'in', 'the', 'conquest', 'of', 'bread', 'and', 'fields', 'factories', 'and', 'workshops', 'he_felt', 'co_operation', 'is', 'more', 'beneficial', 'than', 'competition', 'illustrated', 'in', 'nature', 'in', 'mutual_aid', 'a', 'factor', 'of', 'evolution', 'one', 'eight', 'nine', 'seven', 'subsequent', 'anarchist_communists', 'include', 'emma_goldman', 'and', 'alexander_berkman', 'many', 'in', 'the', 'anarcho_syndicalist', 'movements', 'see_below', 'saw', 'anarchist_communism', 'as', 'their', 'objective', 'isaac', 'puente', 's', 'one', 'nine', 'three', 'two', 'comunismo', 'libertario', 'was', 'adopted', 'by', 'the', 'spanish', 'cnt', 'as', 'its', 'manifesto', 'for', 'a', 'post', 'revolutionary', 'society', 'some', 'anarchists', 'disliked', 'merging', 'communism', 'with', 'anarchism', 'several', 'individualist_anarchists', 'maintained', 'that', 'abolition', 'of', 'private_property', 'was', 'not', 'consistent_with', 'liberty', 'for_example', 'benjamin_tucker', 'whilst', 'professing', 'respect', 'for', 'kropotkin', 'and', 'publishing', 'his', 'work', 'described', 'communist', 'anarchism', 'as', 'pseudo', 'anarchism', 'propaganda', 'of', 'the', 'deed', 'johann', 'most', 'was', 'an_outspoken', 'advocate', 'of', 'violence', 'anarchists', 'have', 'often', 'been', 'portrayed', 'as', 'dangerous', 'and', 'violent', 'due', 'mainly', 'to', 'a', 'number', 'of', 'high_profile', 'violent_acts', 'including', 'riots', 'assassinations', 'insurrections', 'and', 'terrorism', 'by', 'some', 'anarchists', 'some', 'revolutionaries', 'of', 'the', 'late', 'one', 'nine', 'th_century', 'encouraged', 'acts', 'of', 'political', 'violence', 'such_as', 'bombings', 'and', 'the', 'assassinations', 'of', 'heads', 'of', 'state', 'to', 'further', 'anarchism', 'such', 'actions', 'have', 'sometimes', 'been', 'called', 'propaganda', 'by', 'the', 'deed', 'one', 'of', 'the', 'more', 'outspoken', 'advocates', 'of', 'this', 'strategy', 'was', 'johann', 'most', 'who', 'said', 'the', 'existing', 'system', 'will_be', 'quickest', 'and', 'most', 'radically', 'overthrown_by', 'the', 'annihilation', 'of', 'its', 'exponents', 'therefore', 'massacres', 'of', 'the', 'enemies', 'of', 'the', 'people', 'must_be', 'set', 'in', 'motion', 'most', 's', 'preferred_method', 'of', 'terrorism', 'dynamite', 'earned_him', 'the', 'moniker', 'dynamost', 'however', 'there', 'is', 'no_consensus', 'on', 'the', 'legitimacy', 'or', 'utility', 'of', 'violence', 'in', 'general', 'mikhail_bakunin', 'and', 'errico_malatesta', 'for_example', 'wrote', 'of', 'violence', 'as', 'a', 'necessary', 'and', 'sometimes', 'desirable', 'force', 'in', 'revolutionary', 'settings', 'but', 'at', 'the', 'same_time', 'they', 'denounced', 'acts', 'of', 'individual', 'terrorism', 'malatesta', 'in', 'on', 'violence', 'and', 'bakunin', 'when', 'he', 'refuted', 'nechaev', 'other', 'anarchists', 'sometimes', 'identified', 'as', 'pacifist', 'anarchists', 'advocated', 'complete', 'nonviolence', 'leo_tolstoy', 'whose', 'philosophy', 'is', 'often', 'viewed_as', 'a', 'form', 'of', 'christian_anarchism', 'see_below', 'was', 'a', 'notable', 'exponent', 'of', 'nonviolent_resistance', 'anarchism', 'in', 'the', 'labour_movement', 'the', 'red', 'and', 'black_flag', 'coming', 'from', 'the', 'experience', 'of', 'anarchists', 'in', 'the', 'labour_movement', 'is', 'particularly', 'associated_with', 'anarcho_syndicalism', 'anarcho_syndicalism', 'was', 'an', 'early', 'two', 'zero', 'th_century', 'working_class', 'movement', 'seeking', 'to', 'overthrow', 'capitalism', 'and', 'the', 'state', 'to', 'institute', 'a', 'worker', 'controlled', 'society', 'the', 'movement', 'pursued', 'industrial', 'actions', 'such_as', 'general_strike', 'as', 'a', 'primary', 'strategy', 'many', 'anarcho_syndicalists', 'believed', 'in', 'anarchist_communism', 'though', 'not', 'all', 'communists', 'believed', 'in', 'syndicalism', 'after', 'the', 'one', 'eight', 'seven', 'one', 'repression', 'french', 'anarchism', 'reemerged', 'influencing', 'the', 'bourses', 'de', 'travails', 'of', 'autonomous', 'workers', 'groups', 'and', 'trade_unions', 'from', 'this', 'movement', 'the', 'conf', 'd_ration', 'g', 'n_rale', 'du_travail', 'general', 'confederation', 'of', 'work', 'cgt', 'was', 'formed', 'in', 'one', 'eight', 'nine', 'five', 'as', 'the', 'first', 'major', 'anarcho_syndicalist', 'movement', 'emile', 'pataud', 'and', 'emile', 'pouget', 's', 'writing', 'for', 'the', 'cgt', 'saw', 'libertarian_communism', 'developing', 'from', 'a', 'general_strike', 'after', 'one', 'nine', 'one', 'four', 'the', 'cgt', 'moved_away', 'from', 'anarcho_syndicalism', 'due_to', 'the', 'appeal', 'of', 'bolshevism', 'french', 'style', 'syndicalism', 'was', 'a', 'significant', 'movement', 'in', 'europe', 'prior_to', 'one', 'nine', 'two', 'one', 'and', 'remained', 'a', 'significant', 'movement', 'in', 'spain', 'until', 'the', 'mid', 'one', 'nine', 'four', 'zero', 's', 'the', 'industrial_workers', 'of', 'the', 'world', 'iww', 'founded', 'in', 'one', 'nine', 'zero', 'five', 'in', 'the', 'us', 'espoused', 'unionism', 'and', 'sought', 'a', 'general_strike', 'to', 'usher', 'in', 'a', 'stateless', 'society', 'in', 'one', 'nine', 'two', 'three', 'one', 'zero', 'zero', 'zero', 'zero', 'zero', 'members', 'existed', 'with', 'the', 'support', 'of', 'up', 'to', 'three', 'zero', 'zero', 'zero', 'zero', 'zero', 'though', 'not', 'explicitly', 'anarchist', 'they', 'organized', 'by', 'rank', 'and', 'file', 'democracy', 'embodying', 'a', 'spirit', 'of', 'resistance', 'that', 'has', 'inspired', 'many', 'anglophone', 'syndicalists', 'cnt', 'propaganda', 'from', 'april', 'two', 'zero', 'zero', 'four', 'reads', 'don_t', 'let', 'the', 'politicians', 'rule', 'our_lives', 'you', 'vote', 'and', 'they', 'decide', 'don_t', 'allow', 'it', 'unity', 'action', 'self', 'management', 'spanish', 'anarchist', 'trade_union', 'federations', 'were', 'formed', 'in', 'the', 'one', 'eight', 'seven', 'zero', 's', 'one', 'nine', 'zero', 'zero', 'and', 'one', 'nine', 'one', 'zero', 'the', 'most_successful', 'was', 'the', 'confederaci_n', 'nacional_del', 'trabajo', 'national', 'confederation', 'of', 'labour', 'cnt', 'founded', 'in', 'one', 'nine', 'one', 'zero', 'prior_to', 'the', 'one', 'nine', 'four', 'zero', 's', 'the', 'cnt', 'was', 'the', 'major', 'force', 'in', 'spanish', 'working_class', 'politics', 'with', 'a', 'membership', 'of', 'one', 'five', 'eight', 'million', 'in', 'one', 'nine', 'three', 'four', 'the', 'cnt', 'played', 'a', 'major_role', 'in', 'the', 'spanish_civil', 'war', 'see_also', 'anarchism', 'in', 'spain', 'syndicalists', 'like', 'ricardo', 'flores', 'mag', 'n', 'were', 'key_figures', 'in', 'the', 'mexican_revolution', 'latin', 'american', 'anarchism', 'was', 'strongly_influenced', 'extending', 'to', 'the', 'zapatista', 'rebellion', 'and', 'the', 'factory', 'occupation', 'movements', 'in', 'argentina', 'in', 'berlin', 'in', 'one', 'nine', 'two', 'two', 'the', 'cnt', 'was', 'joined', 'with', 'the', 'international', 'workers', 'association', 'an', 'anarcho_syndicalist', 'successor', 'to', 'the', 'first', 'international', 'contemporary', 'anarcho_syndicalism', 'continues', 'as', 'a', 'minor', 'force', 'in', 'many', 'socities', 'much_smaller', 'than', 'in', 'the', 'one', 'nine', 'one', 'zero', 's', 'two', 'zero', 's', 'and', 'three', 'zero', 's', 'the', 'largest', 'organised', 'anarchist_movement', 'today', 'is', 'in', 'spain', 'in', 'the', 'form', 'of', 'the', 'confederaci_n', 'general', 'del_trabajo', 'and', 'the', 'cnt', 'the', 'cgt', 'claims', 'a', 'paid', 'up', 'membership', 'of', 'six', 'zero', 'zero', 'zero', 'zero', 'and', 'received', 'over', 'a', 'million', 'votes', 'in', 'spanish', 'syndical', 'elections', 'other', 'active', 'syndicalist', 'movements', 'include', 'the', 'us', 'workers_solidarity', 'alliance', 'and', 'the', 'uk', 'solidarity', 'federation', 'the', 'revolutionary', 'industrial', 'unionist', 'industrial_workers', 'of', 'the', 'world', 'also', 'exists', 'claiming', 'two', 'zero', 'zero', 'zero', 'paid', 'members', 'contemporary', 'critics', 'of', 'anarcho_syndicalism', 'and', 'revolutionary', 'industrial_unionism', 'claim_that', 'they', 'are', 'workerist', 'and', 'fail', 'to', 'deal_with', 'economic', 'life', 'outside', 'work', 'post', 'leftist', 'critics', 'such_as', 'bob', 'black', 'claim', 'anarcho_syndicalism', 'advocates', 'oppressive_social', 'structures', 'such_as', 'work', 'and', 'the', 'workplace', 'anarcho_syndicalists', 'in', 'general', 'uphold', 'principles', 'of', 'workers_solidarity', 'direct_action', 'and', 'self', 'management', 'the', 'russian_revolution', 'the', 'russian_revolution', 'of', 'one', 'nine', 'one', 'seven', 'was', 'a', 'seismic', 'event', 'in', 'the', 'development', 'of', 'anarchism', 'as', 'a', 'movement', 'and', 'as', 'a', 'philosophy', 'anarchists', 'participated', 'alongside', 'the', 'bolsheviks', 'in', 'both', 'february', 'and', 'october', 'revolutions', 'many', 'anarchists', 'initially', 'supporting', 'the', 'bolshevik', 'coup', 'however', 'the', 'bolsheviks', 'soon', 'turned', 'against', 'the', 'anarchists', 'and', 'other', 'left_wing', 'opposition', 'a', 'conflict', 'which_culminated', 'in', 'the', 'one', 'nine', 'one', 'eight', 'kronstadt_rebellion', 'anarchists', 'in', 'central', 'russia', 'were', 'imprisoned', 'or', 'driven_underground', 'or', 'joined', 'the', 'victorious', 'bolsheviks', 'in', 'ukraine', 'anarchists', 'fought', 'in', 'the', 'civil_war', 'against', 'both', 'whites', 'and', 'bolsheviks', 'within', 'the', 'makhnovshchina', 'peasant', 'army', 'led', 'by', 'nestor_makhno', 'expelled', 'american', 'anarchists', 'emma_goldman', 'and', 'alexander_berkman', 'before_leaving', 'russia', 'were', 'amongst', 'those', 'agitating', 'in', 'response', 'to', 'bolshevik', 'policy', 'and', 'the', 'suppression', 'of', 'the', 'kronstadt', 'uprising', 'both', 'wrote', 'classic', 'accounts', 'of', 'their', 'experiences', 'in', 'russia', 'aiming', 'to', 'expose', 'the', 'reality', 'of', 'bolshevik', 'control', 'for', 'them', 'bakunin', 's', 'predictions_about', 'the', 'consequences', 'of', 'marxist', 'rule', 'had', 'proved', 'all', 'too', 'true', 'the', 'victory', 'of', 'the', 'bolsheviks', 'in', 'the', 'october_revolution', 'and', 'the', 'resulting', 'russian_civil', 'war', 'did', 'serious_damage', 'to', 'anarchist', 'movements', 'internationally', 'many', 'workers', 'and', 'activists', 'saw', 'bolshevik', 'success', 'as', 'setting', 'an', 'example', 'communist_parties', 'grew', 'at', 'the', 'expense', 'of', 'anarchism', 'and', 'other', 'socialist_movements', 'in', 'france', 'and', 'the', 'us', 'for_example', 'the', 'major', 'syndicalist', 'movements', 'of', 'the', 'cgt', 'and', 'iww', 'began', 'to', 'realign', 'themselves', 'away_from', 'anarchism', 'and', 'towards', 'the', 'communist', 'international', 'in', 'paris', 'the', 'dielo', 'truda', 'group', 'of', 'russian', 'anarchist', 'exiles', 'which', 'included', 'nestor_makhno', 'concluded_that', 'anarchists', 'needed', 'to', 'develop', 'new', 'forms', 'of', 'organisation', 'in', 'response', 'to', 'the', 'structures', 'of', 'bolshevism', 'their', 'one', 'nine', 'two', 'six', 'manifesto', 'known_as', 'the', 'organisational', 'platform', 'of', 'the', 'libertarian_communists', 'was', 'supported_by', 'some', 'communist_anarchists', 'though', 'opposed', 'by', 'many', 'others', 'the', 'platform', 'continues', 'to', 'inspire', 'some', 'contemporary', 'anarchist', 'groups', 'who', 'believe', 'in', 'an', 'anarchist_movement', 'organised_around', 'its', 'principles', 'of', 'theoretical', 'unity', 'tactical', 'unity', 'collective_responsibility', 'and', 'federalism', 'platformist', 'groups', 'today', 'include', 'the', 'workers_solidarity', 'movement', 'in', 'ireland', 'the', 'uk', 's', 'anarchist', 'federation', 'and', 'the', 'late', 'north_eastern', 'federation', 'of', 'anarchist_communists', 'in', 'the', 'northeastern_united', 'states', 'and', 'bordering', 'canada', 'the', 'fight_against', 'fascism', 'spain', 'one', 'nine', 'three', 'six', 'members', 'of', 'the', 'cnt', 'construct', 'armoured_cars', 'to', 'fight_against', 'the', 'fascists', 'in', 'one', 'of', 'the', 'collectivised', 'factories', 'in', 'the', 'one', 'nine', 'two', 'zero', 's', 'and', 'one', 'nine', 'three', 'zero', 's', 'the', 'familiar', 'dynamics', 'of', 'anarchism', 's', 'conflict', 'with', 'the', 'state', 'were', 'transformed', 'by', 'the', 'rise', 'of', 'fascism', 'in', 'europe', 'in', 'many_cases', 'european', 'anarchists', 'faced', 'difficult', 'choices', 'should', 'they', 'join', 'in', 'popular', 'fronts', 'with', 'reformist', 'democrats', 'and', 'soviet', 'led', 'communists', 'against', 'a', 'common', 'fascist', 'enemy', 'luigi', 'fabbri', 'an', 'exile', 'from', 'italian_fascism', 'was', 'amongst', 'those', 'arguing_that', 'fascism', 'was', 'something', 'different', 'fascism', 'is', 'not', 'just', 'another', 'form', 'of', 'government', 'which', 'like', 'all', 'others', 'uses', 'violence', 'it', 'is', 'the', 'most', 'authoritarian', 'and', 'the', 'most', 'violent', 'form', 'of', 'government', 'imaginable', 'it', 'represents', 'the', 'utmost', 'glorification', 'of', 'the', 'theory', 'and', 'practice', 'of', 'the', 'principle', 'of', 'authority', 'in', 'france', 'where', 'the', 'fascists', 'came_close', 'to', 'insurrection', 'in', 'the', 'february', 'one', 'nine', 'three', 'four', 'riots', 'anarchists', 'divided', 'over', 'a', 'united', 'front', 'policy', 'in', 'spain', 'the', 'cnt', 'initially_refused', 'to', 'join', 'a', 'popular_front', 'electoral', 'alliance', 'and', 'abstention', 'by', 'cnt', 'supporters', 'led', 'to', 'a', 'right_wing', 'election_victory', 'but', 'in', 'one', 'nine', 'three', 'six', 'the', 'cnt', 'changed', 'its', 'policy', 'and', 'anarchist', 'votes', 'helped_bring', 'the', 'popular_front', 'back', 'to', 'power', 'months_later', 'the', 'ruling_class', 'responded', 'with', 'an', 'attempted_coup', 'and', 'the', 'spanish_civil', 'war', 'one', 'nine', 'three', 'six', 'three', 'nine', 'was', 'underway', 'in', 'reponse', 'to', 'the', 'army', 'rebellion', 'an', 'anarchist', 'inspired', 'movement', 'of', 'peasants', 'and', 'workers', 'supported_by', 'armed', 'militias', 'took_control', 'of', 'the', 'major', 'city', 'of', 'barcelona', 'and', 'of', 'large_areas', 'of', 'rural', 'spain', 'where', 'they', 'collectivized', 'the', 'land', 'but', 'even', 'before', 'the', 'eventual', 'fascist', 'victory', 'in', 'one', 'nine', 'three', 'nine', 'the', 'anarchists', 'were', 'losing_ground', 'in', 'a', 'bitter_struggle', 'with', 'the', 'stalinists', 'the', 'cnt', 'leadership', 'often', 'appeared', 'confused', 'and', 'divided', 'with', 'some', 'members', 'controversially', 'entering', 'the', 'government', 'stalinist', 'led', 'troops', 'suppressed', 'the', 'collectives', 'and', 'persecuted', 'both', 'dissident', 'marxists', 'and', 'anarchists', 'since', 'the', 'late', 'one', 'nine', 'seven', 'zero', 's', 'anarchists', 'have_been', 'involved', 'in', 'fighting', 'the', 'rise', 'of', 'neo_fascist', 'groups', 'in', 'germany', 'and', 'the', 'united_kingdom', 'some', 'anarchists', 'worked', 'within', 'militant', 'anti_fascist', 'groups', 'alongside', 'members', 'of', 'the', 'marxist', 'left', 'they', 'advocated', 'directly', 'combating', 'fascists', 'with', 'physical', 'force', 'rather_than', 'relying_on', 'the', 'state', 'since', 'the', 'late', 'one', 'nine', 'nine', 'zero', 's', 'a', 'similar', 'tendency', 'has', 'developed', 'within', 'us', 'anarchism', 'see_also', 'anti_racist', 'action', 'us', 'anti_fascist', 'action', 'uk', 'antifa', 'religious', 'anarchism', 'leo_tolstoy', 'one', 'eight', 'two', 'eight', 'one', 'nine', 'one', 'zero', 'most', 'anarchist', 'culture', 'tends_to', 'be', 'secular', 'if', 'not', 'outright', 'anti', 'religious', 'however', 'the', 'combination', 'of', 'religious', 'social', 'conscience', 'historical', 'religiousity', 'amongst', 'oppressed', 'social_classes', 'and', 'the', 'compatibility', 'of', 'some', 'interpretations', 'of', 'religious_traditions', 'with', 'anarchism', 'has_resulted', 'in', 'religious', 'anarchism', 'christian', 'anarchists', 'believe_that', 'there', 'is', 'no', 'higher', 'authority', 'than', 'god', 'and', 'oppose', 'earthly', 'authority', 'such_as', 'government', 'and', 'established', 'churches', 'they_believe', 'that', 'jesus_teachings', 'were', 'clearly', 'anarchistic', 'but', 'were', 'corrupted', 'when', 'christianity', 'was', 'declared', 'the', 'official', 'religion', 'of', 'rome', 'christian', 'anarchists', 'who', 'follow', 'jesus', 'directive', 'to', 'turn', 'the', 'other', 'cheek', 'are', 'strict', 'pacifists', 'the', 'most_famous', 'advocate', 'of', 'christian_anarchism', 'was', 'leo_tolstoy', 'author', 'of', 'the', 'kingdom', 'of', 'god', 'is', 'within', 'you', 'who', 'called', 'for', 'a', 'society', 'based_on', 'compassion', 'nonviolent', 'principles', 'and', 'freedom', 'christian', 'anarchists', 'tend_to', 'form', 'experimental', 'communities', 'they', 'also', 'occasionally', 'resist', 'taxation', 'many', 'christian', 'anarchists', 'are', 'vegetarian', 'or', 'vegan', 'christian', 'anarchy', 'can_be', 'said', 'to', 'have', 'roots', 'as', 'old', 'as', 'the', 'religion', 's', 'birth', 'as', 'the', 'early', 'church', 'exhibits', 'many', 'anarchistic', 'tendencies', 'such_as', 'communal', 'goods', 'and', 'wealth', 'by', 'aiming', 'to', 'obey', 'utterly', 'certain', 'of', 'the', 'bible', 's', 'teachings', 'certain', 'anabaptist_groups', 'of', 'sixteenth_century', 'europe', 'attempted', 'to', 'emulate', 'the', 'early', 'church', 's', 'social', 'economic', 'organisation', 'and', 'philosophy', 'by', 'regarding', 'it', 'as', 'the', 'only', 'social_structure', 'capable', 'of', 'true', 'obediance', 'to', 'jesus_teachings', 'and', 'utterly', 'rejected', 'in', 'theory', 'all', 'earthly', 'hierarchies', 'and', 'authority', 'and', 'indeed', 'non', 'anabaptists', 'in', 'general', 'and', 'violence', 'as', 'ungodly', 'such', 'groups', 'for_example', 'the', 'hutterites', 'typically', 'went', 'from', 'initially', 'anarchistic', 'beginnings', 'to', 'as', 'their', 'movements', 'stabalised', 'more', 'authoritarian', 'social', 'models', 'chinese', 'anarchism', 'was', 'most_influential', 'in', 'the', 'one', 'nine', 'two', 'zero', 's', 'strands', 'of', 'chinese', 'anarchism', 'included', 'tai', 'xu', 's', 'buddhist', 'anarchism', 'which', 'was', 'influenced_by', 'tolstoy', 'and', 'the', 'well', 'field', 'system', 'neopaganism', 'with', 'its', 'focus_on', 'the', 'environment', 'and', 'equality', 'along_with', 'its', 'often', 'decentralized_nature', 'has', 'lead', 'to', 'a', 'number', 'of', 'neopagan', 'anarchists', 'one', 'of', 'the', 'most_prominent', 'is', 'starhawk', 'who', 'writes', 'extensively', 'about', 'both', 'spirituality', 'and', 'activism', 'anarchism', 'and', 'feminism', 'emma_goldman', 'early', 'french', 'feminists', 'such_as', 'jenny', 'd', 'h', 'ricourt', 'and', 'juliette', 'adam', 'criticised', 'the', 'mysogyny', 'in', 'the', 'anarchism', 'of', 'proudhon', 'during', 'the', 'one', 'eight', 'five', 'zero', 's', 'anarcha_feminism', 'is', 'a', 'kind', 'of', 'radical_feminism', 'that', 'espouses', 'the', 'belief_that', 'patriarchy', 'is', 'a', 'fundamental', 'problem', 'in', 'society', 'while', 'anarchist', 'feminism', 'has', 'existed', 'for', 'more_than', 'a', 'hundred_years', 'its', 'explicit', 'formulation', 'as', 'anarcha_feminism', 'dates_back', 'to', 'the', 'early', 'seven', 'zero', 's', 'during', 'the', 'second_wave', 'feminist_movement', 'anarcha_feminism', 'views', 'patriarchy', 'as', 'the', 'first', 'manifestation', 'of', 'hierarchy', 'in', 'human', 'history', 'thus', 'the', 'first', 'form', 'of', 'oppression', 'occurred', 'in', 'the', 'dominance', 'of', 'male', 'over', 'female', 'anarcha', 'feminists', 'then', 'conclude_that', 'if', 'feminists', 'are', 'against', 'patriarchy', 'they', 'must', 'also', 'be', 'against', 'all', 'forms', 'of', 'hierarchy', 'and', 'therefore', 'must', 'reject', 'the', 'authoritarian', 'nature', 'of', 'the', 'state', 'and', 'capitalism_anarcho', 'primitivists', 'see', 'the', 'creation', 'of', 'gender_roles', 'and', 'patriarchy', 'a', 'creation', 'of', 'the', 'start', 'of', 'civilization', 'and', 'therefore', 'consider', 'primitivism', 'to', 'also', 'be', 'an', 'anarchist', 'school', 'of', 'thought', 'that', 'addresses', 'feminist', 'concerns', 'eco', 'feminism', 'is', 'often_considered', 'a', 'feminist', 'variant', 'of', 'green', 'anarchist', 'feminist', 'thought', 'anarcha_feminism', 'is', 'most', 'often_associated', 'with', 'early', 'two', 'zero', 'th_century', 'authors', 'and', 'theorists', 'such_as', 'emma_goldman', 'and', 'voltairine_de', 'cleyre', 'although', 'even', 'early', 'first', 'wave_feminist', 'mary_wollstonecraft', 'held', 'proto', 'anarchist', 'views', 'and', 'william_godwin', 'is', 'often_considered', 'a', 'feminist', 'anarchist', 'precursor', 'it', 'should_be', 'noted_that', 'goldman', 'and', 'de_cleyre', 'though', 'they', 'both', 'opposed', 'the', 'state', 'had', 'opposing', 'philosophies', 'as', 'de_cleyre', 'explains', 'miss', 'goldman', 'is', 'a', 'communist', 'i_am', 'an', 'individualist', 'she', 'wishes', 'to', 'destroy', 'the', 'right', 'of', 'property', 'i_wish', 'to', 'assert', 'it', 'i', 'make', 'my', 'war', 'upon', 'privilege', 'and', 'authority', 'whereby', 'the', 'right', 'of', 'property', 'the', 'true', 'right', 'in', 'that', 'which', 'is', 'proper', 'to', 'the', 'individual', 'is', 'annihilated', 'she_believes', 'that', 'co_operation', 'would', 'entirely', 'supplant', 'competition', 'i', 'hold', 'that', 'competition', 'in', 'one', 'form', 'or', 'another', 'will_always', 'exist', 'and', 'that', 'it', 'is', 'highly_desirable', 'it', 'should', 'in', 'the', 'spanish_civil', 'war', 'an', 'anarcha', 'feminist', 'group', 'free', 'women', 'organized', 'to', 'defend', 'both', 'anarchist', 'and', 'feminist_ideas', 'in', 'the', 'modern_day', 'anarchist_movement', 'many', 'anarchists', 'male', 'or', 'female', 'consider_themselves', 'feminists', 'and', 'anarcha', 'feminist_ideas', 'are', 'growing', 'the', 'publishing', 'of', 'quiet', 'rumors', 'an', 'anarcha', 'feminist', 'reader', 'has', 'helped', 'to', 'spread', 'various_kinds', 'of', 'anti_authoritarian', 'and', 'anarchist', 'feminist_ideas', 'to', 'the', 'broader', 'movement', 'wendy_mcelroy', 'has', 'popularized', 'an', 'individualist_anarchism', 'take', 'on', 'feminism', 'in', 'her', 'books', 'articles', 'and', 'individualist', 'feminist', 'website', 'anarcho_capitalism', 'murray_rothbard', 'one', 'nine', 'two', 'six', 'one', 'nine', 'nine', 'five', 'anarcho_capitalism', 'is', 'a', 'predominantly', 'united_states', 'based', 'theoretical', 'tradition', 'that', 'desires', 'a', 'stateless', 'society', 'with', 'the', 'economic', 'system', 'of', 'free_market', 'capitalism', 'unlike', 'other', 'branches', 'of', 'anarchism', 'it', 'does_not', 'oppose', 'profit', 'or', 'capitalism', 'consequently', 'most', 'anarchists', 'do_not', 'recognise', 'anarcho_capitalism', 'as', 'a', 'form', 'of', 'anarchism', 'murray_rothbard', 's', 'synthesis', 'of', 'classical_liberalism', 'and', 'austrian_economics', 'was', 'germinal', 'for', 'the', 'development', 'of', 'contemporary', 'anarcho_capitalist', 'theory', 'he', 'defines', 'anarcho_capitalism', 'in', 'terms', 'of', 'the', 'non_aggression', 'principle', 'based_on', 'the', 'concept', 'of', 'natural_law', 'competiting', 'theorists', 'use', 'egoism', 'utilitarianism', 'used', 'by', 'david_friedman', 'or', 'contractarianism', 'used', 'by', 'jan', 'narveson', 'some', 'minarchists', 'such_as', 'ayn_rand', 'robert_nozick', 'and', 'robert', 'a', 'heinlein', 'have', 'influenced', 'anarcho_capitalism', 'some', 'anarcho_capitalists', 'along_with', 'some', 'right_wing', 'libertarian', 'historians', 'such_as', 'david', 'hart', 'and', 'ralph', 'raico', 'considered', 'similar', 'philosophies', 'existing', 'prior_to', 'rothbard', 'to', 'be', 'anarcho_capitalist', 'such_as', 'those', 'of', 'gustave_de', 'molinari', 'and', 'auberon_herbert', 'opponents', 'of', 'anarcho_capitalists', 'dispute', 'these', 'claims', 'the', 'place', 'of', 'anarcho_capitalism', 'within', 'anarchism', 'and', 'indeed', 'whether', 'it', 'is', 'a', 'form', 'of', 'anarchism', 'at', 'all', 'is', 'highly_controversial', 'for', 'more', 'on', 'this', 'debate', 'see', 'anarchism', 'and', 'anarcho_capitalism', 'anarchism', 'and', 'the', 'environment', 'since', 'the', 'late', 'one', 'nine', 'seven', 'zero', 's', 'anarchists', 'in', 'anglophone', 'and', 'european_countries', 'have_been', 'taking', 'action', 'for', 'the', 'natural_environment', 'eco_anarchists', 'or', 'green', 'anarchists', 'believe', 'in', 'deep_ecology', 'this', 'is', 'a', 'worldview', 'that', 'embraces', 'biodiversity', 'and', 'sustainability', 'eco_anarchists', 'often', 'use', 'direct_action', 'against', 'what', 'they', 'see', 'as', 'earth', 'destroying', 'institutions', 'of', 'particular_importance', 'is', 'the', 'earth', 'first', 'movement', 'that', 'takes', 'action', 'such_as', 'tree', 'sitting', 'another', 'important_component', 'is', 'ecofeminism', 'which', 'sees', 'the', 'domination', 'of', 'nature', 'as', 'a', 'metaphor', 'for', 'the', 'domination', 'of', 'women', 'green_anarchism', 'also', 'involves', 'a', 'critique', 'of', 'industrial_capitalism', 'and', 'for', 'some', 'green', 'anarchists', 'civilization', 'itself', 'primitivism', 'is', 'a', 'predominantly', 'western_philosophy', 'that', 'advocates', 'a', 'return', 'to', 'a', 'pre_industrial', 'and', 'usually', 'pre', 'agricultural', 'society', 'it', 'develops', 'a', 'critique', 'of', 'industrial', 'civilization', 'in', 'this', 'critique', 'technology', 'and', 'development', 'have', 'alienated', 'people', 'from', 'the', 'natural', 'world', 'this', 'philosophy', 'develops', 'themes', 'present', 'in', 'the', 'political', 'action', 'of', 'the', 'luddites', 'and', 'the', 'writings', 'of', 'jean_jacques', 'rousseau', 'primitivism', 'developed', 'in', 'the', 'context', 'of', 'the', 'reclaim', 'the', 'streets', 'earth', 'first', 'and', 'the', 'earth_liberation', 'front', 'movements', 'john_zerzan', 'wrote', 'that', 'civilization', 'not', 'just', 'the', 'state', 'would', 'need', 'to', 'fall', 'for', 'anarchy', 'to', 'be_achieved', 'anarcho', 'primitivists', 'point', 'to', 'the', 'anti_authoritarian', 'nature', 'of', 'many', 'primitive', 'or', 'hunter_gatherer', 'societies', 'throughout', 'the', 'world', 's', 'history', 'as', 'examples', 'of', 'anarchist', 'societies', 'other', 'branches', 'and', 'offshoots', 'anarchism', 'generates', 'many', 'eclectic', 'and', 'syncretic', 'philosophies', 'and', 'movements', 'since', 'the', 'western', 'social', 'formet', 'in', 'the', 'one', 'nine', 'six', 'zero', 's', 'and', 'one', 'nine', 'seven', 'zero', 's', 'a', 'number', 'new', 'of', 'movements', 'and', 'schools', 'have', 'appeared', 'most', 'of', 'these', 'stances', 'are', 'limited', 'to', 'even', 'smaller', 'numbers', 'than', 'the', 'schools', 'and', 'movements', 'listed_above', 'hakim_bey', 'post', 'left_anarchy', 'post', 'left_anarchy', 'also', 'called', 'egoist', 'anarchism', 'seeks', 'to', 'distance', 'itself', 'from', 'the', 'traditional', 'left', 'communists', 'liberals', 'social_democrats', 'etc', 'and', 'to', 'escape', 'the', 'confines', 'of', 'ideology', 'in', 'general', 'post', 'leftists', 'argue_that', 'anarchism', 'has_been', 'weakened', 'by', 'its', 'long', 'attachment', 'to', 'contrary', 'leftist', 'movements', 'and', 'single', 'issue', 'causes', 'anti', 'war', 'anti', 'nuclear', 'etc', 'it', 'calls', 'for', 'a', 'synthesis', 'of', 'anarchist', 'thought', 'and', 'a', 'specifically', 'anti_authoritarian', 'revolutionary_movement', 'outside', 'of', 'the', 'leftist', 'milieu', 'it', 'often', 'focuses_on', 'the', 'individual', 'rather_than', 'speaking', 'in', 'terms', 'of', 'class', 'or', 'other', 'broad', 'generalizations', 'and', 'shuns', 'organizational', 'tendencies', 'in', 'favor', 'of', 'the', 'complete_absence', 'of', 'explicit', 'hierarchy', 'important', 'groups', 'and', 'individuals', 'associated_with', 'post', 'left_anarchy', 'include', 'crimethinc', 'the', 'magazine', 'anarchy', 'a', 'journal', 'of', 'desire', 'armed', 'and', 'its', 'editor', 'jason', 'mcquinn', 'bob', 'black', 'hakim_bey', 'and', 'others', 'for', 'more', 'information', 'see', 'infoshop_org', 's', 'anarchy', 'after', 'leftism', 'section', 'and', 'the', 'post', 'left', 'section', 'on', 'anarchism', 'ws', 'see_also', 'post', 'left_anarchy', 'post_structuralism', 'the', 'term', 'postanarchism', 'was', 'originated', 'by', 'saul', 'newman', 'first', 'receiving', 'popular', 'attention', 'in', 'his', 'book', 'from', 'bakunin', 'to', 'lacan', 'to', 'refer_to', 'a', 'theoretical', 'move_towards', 'a', 'synthesis', 'of', 'classical', 'anarchist', 'theory', 'and', 'poststructuralist', 'thought', 'subsequent', 'to', 'newman', 's', 'use', 'of', 'the', 'term', 'however', 'it', 'has', 'taken', 'on', 'a', 'life', 'of', 'its_own', 'and', 'a', 'wide_range', 'of', 'ideas', 'including', 'autonomism', 'post', 'left_anarchy', 'situationism', 'post', 'colonialism', 'and', 'zapatismo', 'by', 'its', 'very', 'nature', 'post', 'anarchism', 'rejects', 'the', 'idea', 'that', 'it', 'should_be', 'a', 'coherent', 'set', 'of', 'doctrines', 'and', 'beliefs', 'as', 'such', 'it', 'is', 'difficult', 'if', 'not', 'impossible', 'to', 'state', 'with', 'any', 'degree', 'of', 'certainty', 'who', 'should', 'or', 'shouldn_t', 'be', 'grouped_under', 'the', 'rubric', 'nonetheless', 'key', 'thinkers', 'associated_with', 'post', 'anarchism', 'include', 'saul', 'newman', 'todd', 'may', 'gilles_deleuze', 'and', 'f_lix', 'guattari', 'external', 'reference', 'postanarchism', 'clearinghouse', 'see_also', 'post', 'anarchism', 'insurrectionary', 'anarchism', 'insurrectionary', 'anarchism', 'is', 'a', 'form', 'of', 'revolutionary', 'anarchism', 'critical', 'of', 'formal', 'anarchist', 'labor_unions', 'and', 'federations', 'insurrectionary', 'anarchists', 'advocate', 'informal', 'organization', 'including', 'small', 'affinity', 'groups', 'carrying_out', 'acts', 'of', 'resistance', 'in', 'various', 'struggles', 'and', 'mass', 'organizations', 'called', 'base', 'structures', 'which', 'can', 'include', 'exploited', 'individuals_who', 'are', 'not', 'anarchists', 'proponents', 'include', 'wolfi', 'landstreicher', 'and', 'alfredo', 'm', 'bonanno', 'author', 'of', 'works', 'including', 'armed', 'joy', 'and', 'the', 'anarchist', 'tension', 'this', 'tendency', 'is', 'represented', 'in', 'the', 'us', 'in', 'magazines', 'such_as', 'willful', 'disobedience', 'and', 'killing', 'king', 'abacus', 'see_also', 'insurrectionary', 'anarchism', 'small', 'a', 'anarchism', 'small', 'a', 'anarchism', 'is', 'a', 'term', 'used', 'in', 'two', 'different', 'but', 'not', 'unconnected', 'contexts', 'dave', 'neal', 'posited', 'the', 'term', 'in', 'opposition', 'to', 'big', 'a', 'anarchism', 'in', 'the', 'article', 'anarchism', 'ideology', 'or', 'methodology', 'while', 'big', 'a', 'anarchism', 'referred_to', 'ideological', 'anarchists', 'small', 'a', 'anarchism', 'was', 'applied', 'to', 'their', 'methodological', 'counterparts', 'those_who', 'viewed', 'anarchism', 'as', 'a', 'way', 'of', 'acting', 'or', 'a', 'historical', 'tendency', 'against', 'illegitimate', 'authority', 'as', 'an', 'anti', 'ideological', 'position', 'small', 'a', 'anarchism', 'shares', 'some', 'similarities', 'with', 'post', 'left_anarchy', 'david', 'graeber', 'and', 'andrej', 'grubacic', 'offer', 'an_alternative', 'use', 'of', 'the', 'term', 'applying', 'it', 'to', 'groups', 'and', 'movements', 'organising', 'according_to', 'or', 'acting', 'in', 'a', 'manner_consistent', 'with', 'anarchist_principles', 'of', 'decentralisation', 'voluntary_association', 'mutual_aid', 'the', 'network', 'model', 'and', 'crucially', 'the', 'rejection', 'of', 'any', 'idea', 'that', 'the', 'end', 'justifies', 'the', 'means', 'let_alone', 'that', 'the', 'business', 'of', 'a', 'revolutionary', 'is', 'to', 'seize', 'state', 'power', 'and', 'then', 'begin', 'imposing', 'one', 's', 'vision', 'at', 'the', 'point', 'of', 'a', 'gun', 'other', 'issues', 'conceptions', 'of', 'an', 'anarchist_society', 'many', 'political', 'philosophers', 'justify', 'support', 'of', 'the', 'state', 'as', 'a', 'means', 'of', 'regulating', 'violence', 'so', 'that', 'the', 'destruction', 'caused_by', 'human', 'conflict', 'is', 'minimized', 'and', 'fair', 'relationships', 'are', 'established', 'anarchists', 'argue_that', 'pursuit', 'of', 'these', 'ends', 'does_not', 'justify', 'the', 'establishment', 'of', 'a', 'state', 'many', 'argue_that', 'the', 'state', 'is', 'incompatible_with', 'those', 'goals', 'and', 'the', 'cause', 'of', 'chaos', 'violence', 'and', 'war', 'anarchists', 'argue_that', 'the', 'state', 'helps', 'to', 'create', 'a', 'monopoly', 'on', 'violence', 'and', 'uses', 'violence', 'to', 'advance', 'elite', 'interests', 'much', 'effort', 'has_been', 'dedicated', 'to', 'explaining_how', 'anarchist', 'societies', 'would', 'handle', 'criminality', 'see_also', 'anarchism', 'and', 'society', 'civil_rights', 'and', 'cultural', 'sovereignty', 'black', 'anarchism', 'opposes', 'the', 'existence', 'of', 'a', 'state', 'capitalism', 'and', 'subjugation', 'and', 'domination', 'of', 'people', 'of', 'color', 'and', 'favors', 'a', 'non', 'hierarchical_organization', 'of', 'society', 'theorists', 'include', 'ashanti', 'alston', 'lorenzo', 'komboa', 'ervin', 'and', 'sam', 'mbah', 'anarchist', 'people', 'of', 'color', 'was', 'created', 'as', 'a', 'forum', 'for', 'non', 'caucasian', 'anarchists', 'to', 'express', 'their', 'thoughts', 'about', 'racial', 'issues', 'within', 'the', 'anarchist_movement', 'particularly', 'within', 'the', 'united_states', 'national', 'anarchism', 'is', 'a', 'political', 'view', 'which', 'seeks', 'to', 'unite', 'cultural', 'or', 'ethnic', 'preservation', 'with', 'anarchist', 'views', 'its_adherents', 'propose', 'that', 'those', 'preventing', 'ethnic_groups', 'or', 'races', 'from', 'living', 'in', 'separate', 'autonomous', 'groupings', 'should_be', 'resisted', 'anti_racist', 'action', 'is', 'not', 'an', 'anarchist', 'group', 'but', 'many', 'anarchists', 'are', 'involved', 'it', 'focuses_on', 'publicly', 'confronting', 'racist', 'agitators', 'the', 'zapatista', 'movement', 'of', 'chiapas_mexico', 'is', 'a', 'cultural', 'sovereignty', 'group', 'with', 'some', 'anarchist', 'proclivities', 'neocolonialism', 'and', 'globalization', 'nearly_all', 'anarchists', 'oppose', 'neocolonialism', 'as', 'an_attempt', 'to', 'use', 'economic_coercion', 'on', 'a', 'global_scale', 'carried_out', 'through', 'state', 'institutions', 'such_as', 'the', 'world_bank', 'world_trade', 'organization', 'group', 'of', 'eight', 'and', 'the', 'world', 'economic_forum', 'globalization', 'is', 'an', 'ambiguous', 'term', 'that', 'has', 'different_meanings', 'to', 'different', 'anarchist', 'factions', 'most', 'anarchists', 'use', 'the', 'term', 'to', 'mean', 'neocolonialism', 'and', 'or', 'cultural_imperialism', 'which', 'they', 'may', 'see', 'as', 'related', 'many', 'are', 'active', 'in', 'the', 'anti_globalization', 'movement', 'others', 'particularly', 'anarcho_capitalists', 'use', 'globalization', 'to', 'mean', 'the', 'worldwide', 'expansion', 'of', 'the', 'division', 'of', 'labor', 'and', 'trade', 'which', 'they', 'see', 'as', 'beneficial', 'so', 'long', 'as', 'governments', 'do_not', 'intervene', 'parallel', 'structures', 'many', 'anarchists', 'try', 'to', 'set_up', 'alternatives', 'to', 'state', 'supported', 'institutions', 'and', 'outposts', 'such_as', 'food', 'not', 'bombs', 'infoshops', 'educational', 'systems', 'such_as', 'home_schooling', 'neighborhood', 'mediation_arbitration', 'groups', 'and', 'so', 'on', 'the', 'idea', 'is', 'to', 'create', 'the', 'structures', 'for', 'a', 'new', 'anti_authoritarian', 'society', 'in', 'the', 'shell', 'of', 'the', 'old', 'authoritarian', 'one', 'technology', 'recent', 'technological_developments', 'have', 'made', 'the', 'anarchist', 'cause', 'both', 'easier', 'to', 'advance', 'and', 'more', 'conceivable', 'to', 'people', 'many', 'people', 'use', 'the', 'internet', 'to', 'form', 'on', 'line', 'communities', 'intellectual_property', 'is', 'undermined', 'and', 'a', 'gift', 'culture', 'supported_by', 'sharing', 'music', 'files', 'open_source', 'programming', 'and', 'the', 'free_software', 'movement', 'these', 'cyber', 'communities', 'include', 'the', 'gnu_linux', 'indymedia', 'and', 'wiki', 'some', 'anarchists', 'see', 'information_technology', 'as', 'the', 'best', 'weapon', 'to', 'defeat', 'authoritarianism', 'some', 'even', 'think', 'the', 'information', 'age', 'makes', 'eventual', 'anarchy', 'inevitable', 'see_also', 'crypto_anarchism', 'and', 'cypherpunk', 'pacifism', 'some', 'anarchists', 'consider', 'pacifism', 'opposition', 'to', 'war', 'to', 'be', 'inherent', 'in', 'their', 'philosophy', 'anarcho', 'pacifists', 'take', 'it', 'further', 'and', 'follow', 'leo_tolstoy', 's', 'belief', 'in', 'non_violence', 'anarchists', 'see', 'war', 'as', 'an', 'activity', 'in', 'which', 'the', 'state', 'seeks', 'to', 'gain', 'and', 'consolidate_power', 'both', 'domestically', 'and', 'in', 'foreign', 'lands', 'and', 'subscribe', 'to', 'randolph', 'bourne', 's', 'view', 'that', 'war', 'is', 'the', 'health', 'of', 'the', 'state', 'a_lot', 'of', 'anarchist', 'activity', 'has_been', 'anti', 'war', 'based', 'parliamentarianism', 'in', 'general', 'terms', 'the', 'anarchist', 'ethos', 'opposes', 'voting', 'in', 'elections', 'because', 'voting', 'amounts', 'to', 'condoning', 'the', 'state', 'voluntaryism', 'is', 'an', 'anarchist', 'school', 'of', 'thought', 'which', 'emphasizes', 'tending', 'your_own', 'garden', 'and', 'neither', 'ballots', 'nor', 'bullets', 'the', 'anarchist', 'case', 'against', 'voting', 'is', 'explained', 'in', 'the', 'ethics', 'of', 'voting', 'by', 'george_h', 'smith', 'also', 'see', 'voting', 'anarchists', 'an_oxymoron', 'or', 'what', 'by', 'joe', 'peacott', 'and', 'writings', 'by', 'fred', 'woodworth', 'sectarianism', 'most', 'anarchist', 'schools', 'of', 'thought', 'are', 'to', 'some_degree', 'sectarian', 'there', 'is', 'often', 'a', 'difference', 'of', 'opinion', 'within', 'each', 'school', 'about', 'how', 'to', 'react', 'to', 'or', 'interact_with', 'other', 'schools', 'some', 'such_as', 'panarchists', 'believe_that', 'it', 'is', 'possible', 'for', 'a', 'variety', 'of', 'modes', 'of', 'social', 'life', 'to', 'coexist', 'and', 'compete', 'some', 'anarchists', 'view', 'opposing', 'schools', 'as', 'a', 'social', 'impossibility', 'and', 'resist', 'interaction', 'others', 'see', 'opportunities_for', 'coalition', 'building', 'or', 'at_least', 'temporary', 'alliances', 'for', 'specific_purposes', 'see', 'anarchism', 'without', 'adjectives', 'criticisms', 'of', 'anarchism', 'main_article', 'criticisms', 'of', 'anarchism', 'violence', 'since', 'anarchism', 'has', 'often', 'been', 'associated_with', 'violence', 'and', 'destruction', 'some', 'people', 'have', 'seen', 'it', 'as', 'being', 'too', 'violent', 'on', 'the', 'other_hand', 'hand', 'frederick_engels', 'criticsed', 'anarchists', 'for', 'not', 'being', 'violent', 'enough', 'a', 'revolution', 'is', 'certainly', 'the', 'most', 'authoritarian', 'thing', 'there', 'is', 'it', 'is', 'the', 'act', 'whereby', 'one', 'part', 'of', 'the', 'population', 'imposes', 'its', 'will', 'upon', 'the', 'other', 'part', 'by', 'means', 'of', 'rifles', 'bayonets', 'and', 'cannon', 'authoritarian', 'means', 'if', 'such', 'there', 'be', 'at', 'all', 'and', 'if', 'the', 'victorious', 'party', 'does_not', 'want', 'to', 'have', 'fought', 'in', 'vain', 'it', 'must', 'maintain', 'this', 'rule', 'by', 'means', 'of', 'the', 'terror', 'which', 'its', 'arms', 'inspire', 'in', 'the', 'reactionists', 'would', 'the', 'paris_commune', 'have', 'lasted', 'a', 'single', 'day', 'if', 'it', 'had', 'not', 'made', 'use', 'of', 'this', 'authority', 'of', 'the', 'armed', 'people', 'against', 'the', 'bourgeois', 'utopianism', 'anarchism', 'is', 'often_criticised', 'as', 'unfeasible', 'or', 'plain', 'utopian', 'even', 'by', 'many', 'who', 'agree_that', 'it', 's', 'a', 'nice', 'idea', 'in', 'principle', 'for_example', 'carl', 'landauer', 'in', 'his', 'book', 'european', 'socialism', 'criticizes', 'anarchism', 'as', 'being', 'unrealistically', 'utopian', 'and', 'holds_that', 'government', 'is', 'a', 'lesser', 'evil', 'than', 'a', 'society', 'without', 'repressive', 'force', 'he', 'holds_that', 'the', 'belief_that', 'ill', 'intentions', 'will_cease', 'if', 'repressive', 'force', 'disappears', 'is', 'an', 'absurdity', 'however', 'it', 'must_be', 'noted_that', 'not', 'all', 'anarchists', 'have', 'such', 'a', 'utopian', 'view', 'of', 'anarchism', 'for_example', 'some', 'such_as', 'benjamin_tucker', 'advocate', 'privately_funded', 'institutions', 'that', 'defend', 'individual_liberty', 'and', 'property', 'however', 'other', 'anarchists', 'such_as', 'sir_herbert', 'read', 'proudly', 'accept', 'the', 'characterization', 'utopian', 'class', 'character', 'marxists', 'have', 'characterised', 'anarchism', 'as', 'an', 'expression', 'of', 'the', 'class', 'interests', 'of', 'the', 'petite', 'bourgeoisie', 'or', 'perhaps', 'the', 'lumpenproletariat', 'see', 'e_g', 'plekhanov', 'for', 'a', 'marxist_critique', 'of', 'one', 'eight', 'nine', 'five', 'anarchists', 'have', 'also', 'been', 'characterised', 'as', 'spoilt', 'middle_class', 'dilettantes', 'most_recently', 'in', 'relation', 'to', 'anti_capitalist', 'protesters', 'tacit', 'authoritarianism', 'in', 'recent_decades', 'anarchism', 'has_been', 'criticised', 'by', 'situationists', 'post', 'anarchists', 'and', 'others', 'of', 'preserving', 'tacitly', 'statist', 'authoritarian', 'or', 'bureaucratic', 'tendencies', 'behind', 'a', 'dogmatic', 'facade', 'hypocrisy', 'some_critics', 'point', 'to', 'the', 'sexist', 'and', 'racist_views', 'of', 'some', 'prominent', 'anarchists', 'notably', 'proudhon', 'and', 'bakunin', 'as', 'examples', 'of', 'hypocrisy', 'inherent', 'within', 'anarchism', 'while', 'many', 'anarchists', 'however', 'dismiss', 'that', 'the', 'personal', 'prejudices', 'of', 'one', 'nine', 'th_century', 'theorists', 'influence', 'the', 'beliefs', 'of', 'present_day', 'anarchists', 'others', 'criticise', 'modern', 'anarchism', 'for', 'continuing', 'to', 'be', 'eurocentric', 'and', 'reference', 'the', 'impact', 'of', 'anarchist', 'thinkers', 'like', 'proudhon', 'on', 'fascism', 'through', 'groups', 'like', 'cercle', 'proudhon', 'anarcho_capitalist', 'bryan', 'caplan', 'argues_that', 'the', 'treatment', 'of', 'fascists', 'and', 'suspected', 'fascist', 'sympathizers', 'by', 'spanish', 'anarchists', 'in', 'the', 'spanish_civil', 'war', 'was', 'a', 'form', 'of', 'illegitimate', 'coercion', 'making', 'the', 'proffessed', 'anarchists', 'ultimately', 'just', 'a', 'third', 'faction', 'of', 'totalitarians', 'alongside', 'the', 'communists', 'and', 'fascists', 'he', 'also', 'criticizes', 'the', 'willingness', 'of', 'the', 'cnt', 'to', 'join', 'the', 'statist', 'republican', 'government', 'during', 'the', 'civil_war', 'and', 'references', 'stanley', 'g', 'payne', 's', 'book', 'on', 'the', 'franco_regime', 'which', 'claims', 'that', 'the', 'cnt', 'entered', 'negotiations', 'with', 'the', 'fascist', 'government', 'six', 'years', 'after', 'the', 'war', 'cultural', 'phenomena', 'noam_chomsky', 'one', 'nine', 'two', 'eight', 'the', 'kind', 'of', 'anarchism', 'that', 'is', 'most', 'easily', 'encountered', 'in', 'popular_culture', 'is', 'represented_by', 'celebrities', 'who', 'publicly', 'identify_themselves', 'as', 'anarchists', 'although', 'some', 'anarchists', 'reject_any', 'focus_on', 'such', 'famous', 'living', 'individuals', 'as', 'inherently', 'litist', 'the', 'following', 'figures', 'are', 'examples', 'of', 'prominent', 'publicly', 'self', 'avowed', 'anarchists', 'the', 'mit', 'professor', 'of', 'linguistics', 'noam_chomsky', 'the', 'science_fiction', 'author', 'ursula_k', 'le_guin', 'the', 'social', 'historian', 'howard_zinn', 'entertainer', 'and', 'author', 'hans', 'alfredsson', 'the', 'avant_garde', 'artist', 'nicol', 's', 'rossell', 'in', 'denmark', 'the', 'freetown', 'christiania', 'was', 'created', 'in', 'downtown', 'copenhagen', 'the', 'housing', 'and', 'employment', 'crisis', 'in', 'most', 'of', 'western_europe', 'led', 'to', 'the', 'formation', 'of', 'communes', 'and', 'squatter', 'movements', 'like', 'the', 'one', 'still', 'thriving', 'in', 'barcelona', 'in', 'catalonia', 'militant', 'resistance', 'to', 'neo_nazi', 'groups', 'in', 'places', 'like', 'germany', 'and', 'the', 'uprisings', 'of', 'autonomous', 'marxism', 'situationist', 'and', 'autonomist', 'groups', 'in', 'france', 'and', 'italy', 'also', 'helped', 'to', 'give', 'popularity', 'to', 'anti_authoritarian', 'non', 'capitalist', 'ideas', 'in', 'various', 'musical_styles', 'anarchism', 'rose', 'in', 'popularity', 'most_famous', 'for', 'the', 'linking', 'of', 'anarchist_ideas', 'and', 'music', 'has_been', 'punk_rock', 'although', 'in', 'the', 'modern', 'age', 'hip_hop', 'and', 'folk_music', 'are', 'also', 'becoming', 'important', 'mediums', 'for', 'the', 'spreading', 'of', 'the', 'anarchist', 'message', 'in', 'the', 'uk', 'this', 'was', 'associated_with', 'the', 'punk_rock', 'movement', 'the', 'band_crass', 'is', 'celebrated', 'for', 'its', 'anarchist', 'and', 'pacifist', 'ideas', 'the', 'dutch', 'punk_band', 'the', 'ex', 'further', 'exemplifies', 'this', 'expression', 'for', 'further_details', 'see', 'anarcho_punk', 'see_also', 'there_are', 'many', 'concepts', 'relevant', 'to', 'the', 'topic', 'of', 'anarchism', 'this', 'is', 'a', 'brief_summary', 'there', 'is', 'also', 'a', 'more', 'extensive', 'list', 'of', 'anarchist', 'concepts', 'individualist_anarchism', 'anarcho_communism', 'anarcho_syndicalism', 'anarcho_capitalism', 'mutualism', 'christian_anarchism', 'anarcha_feminism', 'green_anarchism', 'nihilist', 'anarchism_anarcho', 'nationalism', 'black', 'anarchism', 'national', 'anarchism', 'post', 'anarchism', 'post', 'left', 'anarchism', 'libertarian_socialism', 'anarchist', 'symbolism', 'list', 'of', 'anarchism', 'links', 'list', 'of', 'anarchists', 'list', 'of', 'anarchist_organizations', 'major', 'conflicts', 'within', 'anarchist', 'thought', 'past', 'and', 'present', 'anarchist', 'communities', 'historical_events', 'paris_commune', 'one', 'eight', 'seven', 'one', 'haymarket_riot', 'one', 'eight', 'eight', 'six', 'the', 'makhnovschina', 'one', 'nine', 'one', 'seven', 'one', 'nine', 'two', 'one', 'kronstadt_rebellion', 'one', 'nine', 'two', 'one', 'spanish', 'revolution', 'one', 'nine', 'three', 'six', 'see', 'anarchism', 'in', 'spain', 'and', 'spanish', 'revolution', 'may', 'one', 'nine', 'six', 'eight', 'france', 'one', 'nine', 'six', 'eight', 'wto', 'meeting', 'in', 'seattle', 'one', 'nine', 'nine', 'nine', 'books', 'the', 'following', 'is', 'a', 'sample', 'of', 'books', 'that', 'have_been', 'referenced', 'in', 'this', 'page', 'a', 'more', 'complete_list', 'can_be', 'found', 'at', 'the', 'list', 'of', 'anarchist', 'books', 'mikhail_bakunin', 'god', 'and', 'the', 'state', 'emma_goldman', 'anarchism', 'other', 'essays', 'peter_kropotkin', 'mutual_aid', 'pierre_joseph', 'proudhon', 'what', 'is', 'property', 'rudolf_rocker', 'anarcho_syndicalism', 'murray_rothbard', 'the', 'ethics', 'of', 'liberty', 'max_stirner', 'the', 'ego', 'and', 'its_own', 'leo_tolstoy', 'the', 'kingdom', 'of', 'god', 'is', 'within', 'you', 'anarchism', 'by', 'region', 'culture', 'african', 'anarchism', 'anarchism', 'in', 'spain', 'anarchism', 'in', 'the', 'english', 'tradition', 'chinese', 'anarchism', 'references', 'these', 'notes', 'have', 'no', 'corresponding', 'reference', 'in', 'the', 'article', 'they', 'might_be', 're', 'used', 'against', 'politics', 'appleton', 'boston', 'anarchists', 'yarros', 'victor', 'liberty', 'vii', 'january', 'two', 'one', 'eight', 'nine', 'two', 'noam_chomsky', 'on', 'anarchism', 'by', 'noam_chomsky', 'external_links', 'the', 'overwhelming', 'diversity', 'and', 'number', 'of', 'links', 'relating_to', 'anarchism', 'is', 'extensively_covered', 'on', 'the', 'links', 'subpage', 'anarchoblogs', 'blogs', 'by', 'anarchists', 'anarchy', 'archives', 'extensively', 'archives', 'information', 'relating_to', 'famous', 'anarchists', 'this', 'includes', 'many', 'of', 'their', 'books', 'and', 'other', 'publications', 'hundreds', 'of', 'anarchists', 'are_listed', 'with', 'short', 'bios', 'links', 'dedicated', 'pages', 'at', 'the', 'daily', 'bleed', 's', 'anarchist', 'encyclopedia', 'infoshop_org', 'wikipedia_page', 'industrial_workers', 'of', 'the', 'world', 'anarchism', 'forms', 'of', 'government', 'political_ideology', 'entry', 'points', 'political', 'theories', 'social', 'philosophy', 'autism', 'is', 'classified_as', 'a', 'neurodevelopmental', 'disorder', 'that', 'manifests_itself', 'in', 'markedly', 'abnormal', 'social_interaction', 'communication', 'ability', 'patterns', 'of', 'interests', 'and', 'patterns', 'of', 'behavior', 'although', 'the', 'specific', 'etiology', 'of', 'autism', 'is', 'unknown', 'many', 'researchers', 'suspect', 'that', 'autism', 'results', 'from', 'genetically', 'mediated', 'vulnerabilities', 'to', 'environmental', 'triggers', 'and', 'while', 'there', 'is', 'disagreement_about', 'the', 'magnitude', 'nature', 'and', 'mechanisms', 'for', 'such', 'environmental_factors', 'researchers_have', 'found', 'at_least', 'seven', 'major', 'genes', 'prevalent_among', 'individuals', 'diagnosed', 'as', 'autistic', 'some', 'estimate', 'that', 'autism', 'occurs', 'in', 'as', 'many', 'as', 'one', 'united_states', 'child', 'in', 'one', 'six', 'six', 'however', 'the', 'national_institute', 'of', 'mental_health', 'gives', 'a', 'more', 'conservative_estimate', 'of', 'one', 'in', 'one', 'zero', 'zero', 'zero', 'for', 'families', 'that', 'already', 'have', 'one', 'autistic_child', 'the', 'odds', 'of', 'a', 'second', 'autistic_child', 'may_be', 'as', 'high', 'as', 'one', 'in', 'twenty', 'diagnosis', 'is', 'based_on', 'a', 'list', 'of', 'psychiatric', 'criteria', 'and', 'a', 'series', 'of', 'standardized', 'clinical_tests', 'may', 'also', 'be', 'used', 'autism', 'may', 'not', 'be', 'physiologically', 'obvious', 'a', 'complete', 'physical', 'and', 'neurological', 'evaluation', 'will', 'typically', 'be', 'part', 'of', 'diagnosing', 'autism', 'some', 'now', 'speculate_that', 'autism', 'is', 'not', 'a', 'single', 'condition', 'but', 'a', 'group', 'of', 'several', 'distinct', 'conditions', 'that', 'manifest', 'in', 'similar', 'ways', 'by', 'definition', 'autism', 'must', 'manifest', 'delays', 'in', 'social_interaction', 'language', 'as', 'used', 'in', 'social', 'communication', 'or', 'symbolic', 'or', 'imaginative', 'play', 'with', 'onset', 'prior_to', 'age', 'three', 'years', 'according_to', 'the', 'diagnostic', 'and', 'statistical_manual', 'of', 'mental_disorders', 'the', 'icd', 'one', 'zero', 'also', 'says_that', 'symptoms', 'must', 'manifest', 'before', 'the', 'age', 'of', 'three', 'years', 'there', 'have_been', 'large', 'increases', 'in', 'the', 'reported', 'incidence', 'of', 'autism', 'for', 'reasons', 'that', 'are', 'heavily_debated', 'by', 'researchers', 'in', 'psychology', 'and', 'related_fields', 'within', 'the', 'scientific_community', 'some', 'children', 'with', 'autism', 'have', 'improved', 'their', 'social', 'and', 'other', 'skills', 'to', 'the', 'point', 'where', 'they', 'can', 'fully', 'participate', 'in', 'mainstream', 'education', 'and', 'social', 'events', 'but', 'there_are', 'lingering', 'concerns', 'that', 'an', 'absolute', 'cure', 'from', 'autism', 'is', 'impossible', 'with', 'current', 'technology', 'however', 'many', 'autistic_children', 'and', 'adults', 'who', 'are', 'able_to', 'communicate', 'at_least', 'in', 'writing', 'are', 'opposed', 'to', 'attempts', 'to', 'cure', 'their', 'conditions', 'and', 'see', 'such', 'conditions', 'as', 'part', 'of', 'who', 'they', 'are', 'history', 'dr', 'hans_asperger', 'described', 'a', 'form', 'of', 'autism', 'in', 'the', 'one', 'nine', 'four', 'zero', 's', 'that', 'later_became', 'known_as', 'asperger_s', 'syndrome', 'the', 'word', 'autism', 'was', 'first', 'used', 'in', 'the', 'english_language', 'by', 'swiss_psychiatrist', 'eugene_bleuler', 'in', 'a', 'one', 'nine', 'one', 'two', 'number', 'of', 'the', 'american', 'journal', 'of', 'insanity', 'it', 'comes_from', 'the', 'greek_word', 'for', 'self', 'however', 'the', 'classification', 'of', 'autism', 'did_not', 'occur', 'until', 'the', 'middle', 'of', 'the', 'twentieth_century', 'when', 'in', 'one', 'nine', 'four', 'three', 'psychiatrist_dr', 'leo', 'kanner', 'of', 'the', 'johns_hopkins', 'hospital', 'in', 'baltimore', 'reported', 'on', 'one', 'one', 'child', 'patients', 'with', 'striking', 'behavioral', 'similarities', 'and', 'introduced', 'the', 'label', 'early_infantile', 'autism', 'he', 'suggested', 'autism', 'from', 'the', 'greek', 'autos', 'meaning', 'self', 'to', 'describe', 'the', 'fact_that', 'the', 'children', 'seemed', 'to', 'lack', 'interest', 'in', 'other', 'people', 'although', 'kanner', 's', 'first', 'paper', 'on', 'the', 'subject', 'was', 'published', 'in', 'a', 'now_defunct', 'journal', 'the', 'nervous', 'child', 'almost_every', 'characteristic', 'he', 'originally', 'described', 'is', 'still', 'regarded_as', 'typical', 'of', 'the', 'autistic_spectrum', 'of', 'disorders', 'at', 'the', 'same_time', 'an', 'austrian', 'scientist', 'dr', 'hans_asperger', 'described', 'a', 'different', 'form', 'of', 'autism', 'that', 'became_known', 'as', 'asperger_s', 'syndrome', 'but', 'the', 'widespread', 'recognition', 'of', 'asperger_s', 'work', 'was', 'delayed', 'by', 'world_war', 'ii', 'in', 'germany', 'and', 'by', 'the', 'fact_that', 'his', 'seminal', 'paper', 'wasn_t', 'translated_into', 'english', 'for', 'almost', 'five', 'zero', 'years', 'the', 'majority', 'of', 'his', 'work', 'wasn_t', 'widely_read', 'until', 'one', 'nine', 'nine', 'seven', 'thus', 'these', 'two', 'conditions', 'were', 'described', 'and', 'are', 'today', 'listed', 'in', 'the', 'diagnostic', 'and', 'statistical_manual', 'of', 'mental_disorders', 'dsm_iv', 'tr', 'fourth_edition', 'text', 'revision', 'one', 'as', 'two', 'of', 'the', 'five', 'pervasive_developmental', 'disorders', 'pdd', 'more', 'often_referred', 'to', 'today', 'as', 'autism_spectrum', 'disorders', 'asd', 'all', 'of', 'these', 'conditions', 'are', 'characterized_by', 'varying_degrees', 'of', 'difference', 'in', 'communication_skills', 'social_interactions', 'and', 'restricted', 'repetitive', 'and', 'stereotyped', 'patterns', 'of', 'behavior', 'few', 'clinicians', 'today', 'solely', 'use', 'the', 'dsm_iv', 'criteria_for', 'determining', 'a', 'diagnosis', 'of', 'autism', 'which', 'are', 'based_on', 'the', 'absence', 'or', 'delay', 'of', 'certain', 'developmental', 'milestones', 'many', 'clinicians', 'instead', 'use', 'an_alternate', 'means', 'or', 'a', 'combination_thereof', 'to', 'more_accurately', 'determine', 'a', 'diagnosis', 'terminology', 'when_referring', 'to', 'someone', 'diagnosed_with', 'autism', 'the', 'term', 'autistic', 'is', 'often_used', 'however', 'the', 'term', 'person', 'with', 'autism', 'can_be', 'used', 'instead', 'this', 'is', 'referred_to', 'as', 'person', 'first', 'terminology', 'the', 'autistic', 'community', 'generally', 'prefers', 'the', 'term', 'autistic', 'for', 'reasons', 'that', 'are', 'fairly', 'controversial', 'this_article', 'uses', 'the', 'term', 'autistic', 'see', 'talk_page', 'characteristics', 'dr_leo', 'kanner', 'introduced', 'the', 'label', 'early_infantile', 'autism', 'in', 'one', 'nine', 'four', 'three', 'there', 'is', 'a', 'great_diversity', 'in', 'the', 'skills', 'and', 'behaviors', 'of', 'individuals', 'diagnosed', 'as', 'autistic', 'and', 'physicians', 'will', 'often', 'arrive_at', 'different', 'conclusions_about', 'the', 'appropriate', 'diagnosis', 'much', 'of', 'this', 'is', 'due_to', 'the', 'sensory', 'system', 'of', 'an', 'autistic', 'which', 'is', 'quite_different', 'from', 'the', 'sensory', 'system', 'of', 'other', 'people', 'since', 'certain', 'stimulations', 'can_affect', 'an', 'autistic', 'differently', 'than', 'a', 'non_autistic', 'and', 'the', 'degree', 'to', 'which', 'the', 'sensory', 'system', 'is', 'affected', 'varies_wildly', 'from', 'one', 'autistic', 'person', 'to', 'another', 'nevertheless', 'professionals', 'within', 'pediatric', 'care', 'and', 'development', 'often', 'look', 'for', 'early', 'indicators', 'of', 'autism', 'in', 'order', 'to', 'initiate', 'treatment', 'as', 'early', 'as', 'possible', 'however', 'some', 'people', 'do_not', 'believe', 'in', 'treatment', 'for', 'autism', 'either', 'because_they', 'do_not', 'believe', 'autism', 'is', 'a', 'disorder', 'or', 'because_they', 'believe', 'treatment', 'can', 'do', 'more', 'harm', 'than', 'good', 'social', 'development', 'typically', 'developing', 'infants', 'are', 'social', 'beings', 'early', 'in', 'life', 'they_do', 'such', 'things', 'as', 'gaze', 'at', 'people', 'turn', 'toward', 'voices', 'grasp', 'a', 'finger', 'and', 'even', 'smile', 'in', 'contrast', 'most', 'autistic_children', 'prefer', 'objects', 'to', 'faces', 'and', 'seem', 'to', 'have', 'tremendous', 'difficulty_learning', 'to', 'engage', 'in', 'the', 'give', 'and', 'take', 'of', 'everyday', 'human_interaction', 'even', 'in', 'the', 'first', 'few_months', 'of', 'life', 'many', 'seem', 'indifferent', 'to', 'other', 'people', 'because_they', 'avoid', 'eye_contact', 'and', 'do_not', 'interact_with', 'them', 'as', 'often', 'as', 'non_autistic', 'children', 'children', 'with', 'autism', 'often', 'appear', 'to', 'prefer', 'being', 'alone', 'to', 'the', 'company', 'of', 'others', 'and', 'may', 'passively', 'accept', 'such', 'things', 'as', 'hugs', 'and', 'cuddling', 'without', 'reciprocating', 'or', 'resist', 'attention', 'altogether', 'later', 'they', 'seldom', 'seek', 'comfort', 'from', 'others', 'or', 'respond', 'to', 'parents', 'displays', 'of', 'anger', 'or', 'affection', 'in', 'a', 'typical', 'way', 'research', 'has', 'suggested_that', 'although', 'autistic_children', 'are', 'attached', 'to', 'their', 'parents', 'their', 'expression', 'of', 'this', 'attachment', 'is', 'unusual', 'and', 'difficult', 'to', 'interpret', 'parents', 'who', 'looked_forward', 'to', 'the', 'joys', 'of', 'cuddling', 'teaching', 'and', 'playing', 'with', 'their', 'child', 'may', 'feel', 'crushed', 'by', 'this', 'lack', 'of', 'expected', 'attachment', 'behavior', 'children', 'with', 'autism', 'appear', 'to', 'lack', 'theory', 'of', 'mind', 'the', 'ability', 'to', 'see', 'things', 'from', 'another_person', 's', 'perspective', 'a', 'behavior', 'cited', 'as', 'exclusive', 'to', 'human_beings', 'above', 'the', 'age', 'of', 'five', 'and', 'possibly', 'other', 'higher', 'primates', 'such_as', 'adult', 'gorillas', 'chimpanzees', 'and', 'bonobos', 'typical', 'five', 'year_olds', 'can', 'develop', 'insights_into', 'other', 'people', 's', 'different', 'knowledge', 'feelings', 'and', 'intentions', 'interpretations', 'based_upon', 'social', 'cues', 'e_g', 'gestures', 'facial_expressions', 'an_individual', 'with', 'autism', 'seems', 'to', 'lack', 'these', 'interpretation', 'skills', 'an', 'inability', 'that', 'leaves', 'them', 'unable_to', 'predict', 'or', 'understand', 'other', 'people', 's', 'actions', 'the', 'social', 'alienation', 'of', 'autistic', 'and', 'asperger_s', 'people', 'is', 'so', 'intense', 'from', 'childhood', 'that', 'many', 'of', 'them', 'have', 'imaginary_friends', 'as', 'companionship', 'however', 'having', 'an_imaginary', 'friend', 'is', 'not_necessarily', 'a', 'sign', 'of', 'autism', 'and', 'also', 'occurs', 'in', 'non_autistic', 'children', 'although', 'not', 'universal', 'it', 'is', 'common', 'for', 'autistic_people', 'to', 'not', 'regulate', 'their', 'behavior', 'this', 'can', 'take', 'the', 'form', 'of', 'crying', 'or', 'verbal', 'outbursts', 'that', 'may_seem', 'out', 'of', 'proportion', 'to', 'the', 'situation', 'individuals', 'with', 'autism', 'generally', 'prefer', 'consistent', 'routines', 'and', 'environments', 'they', 'may', 'react', 'negatively', 'to', 'changes', 'in', 'them', 'it', 'is', 'not_uncommon', 'for', 'these', 'individuals', 'to', 'exhibit', 'aggression', 'increased', 'levels', 'of', 'self', 'stimulatory', 'behavior', 'self', 'injury', 'or', 'extensive', 'withdrawal', 'in', 'overwhelming', 'situations', 'sensory', 'system', 'a', 'key', 'indicator', 'to', 'clinicians', 'making', 'a', 'proper', 'assessment', 'for', 'autism', 'would', 'include', 'looking', 'for', 'symptoms', 'much_like', 'those', 'found', 'in', 'sensory', 'integration', 'dysfunction', 'children', 'will', 'exhibit', 'problems', 'coping_with', 'the', 'normal', 'sensory_input', 'indicators', 'of', 'this', 'disorder', 'include', 'oversensitivity', 'or', 'underreactivity', 'to', 'touch', 'movement', 'sights', 'or', 'sounds', 'physical', 'clumsiness', 'or', 'carelessness', 'poor', 'body', 'awareness', 'a', 'tendency', 'to', 'be', 'easily', 'distracted', 'impulsive', 'physical', 'or', 'verbal_behavior', 'an', 'activity', 'level', 'that', 'is', 'unusually_high', 'or', 'low', 'not', 'unwinding', 'or', 'calming', 'oneself', 'difficulty_learning', 'new', 'movements', 'difficulty', 'in', 'making', 'transitions', 'from', 'one', 'situation', 'to', 'another', 'social', 'and', 'or', 'emotional_problems', 'delays', 'in', 'speech', 'language', 'or', 'motor_skills', 'specific', 'learning_difficulties', 'delays', 'in', 'academic_achievement', 'one', 'common', 'example', 'is', 'an_individual', 'with', 'autism', 'hearing', 'a', 'person', 'with', 'autism', 'may_have', 'trouble', 'hearing', 'certain', 'people', 'while', 'other', 'people', 'are', 'louder_than', 'usual', 'or', 'the', 'person', 'with', 'autism', 'may_be', 'unable_to', 'filter', 'out', 'sounds', 'in', 'certain_situations', 'such_as', 'in', 'a', 'large', 'crowd', 'of', 'people', 'see', 'cocktail', 'party', 'effect', 'however', 'this', 'is', 'perhaps', 'the', 'part', 'of', 'the', 'autism', 'that', 'tends_to', 'vary', 'the', 'most', 'from', 'person', 'to', 'person', 'so', 'these', 'examples', 'may', 'not_apply', 'to', 'every', 'autistic', 'it', 'should_be', 'noted_that', 'sensory', 'difficulties', 'although', 'reportedly', 'common', 'in', 'autistics', 'are', 'not', 'part', 'of', 'the', 'dsm_iv', 'diagnostic_criteria', 'for', 'autistic', 'disorder', 'communication', 'difficulties', 'by', 'age', 'three', 'typical', 'children', 'have', 'passed', 'predictable', 'language', 'learning', 'milestones', 'one', 'of', 'the', 'earliest', 'is', 'babbling', 'by', 'the', 'first', 'birthday', 'a', 'typical', 'toddler', 'says', 'words', 'turns', 'when', 'he', 'or', 'she', 'hears', 'his', 'or', 'her', 'name', 'points', 'when', 'he', 'or', 'she_wants', 'a', 'toy', 'and', 'when', 'offered', 'something', 'distasteful', 'makes', 'it', 'clear', 'that', 'the', 'answer', 'is', 'no', 'speech', 'development', 'in', 'people', 'with', 'autism', 'takes', 'different_paths', 'some', 'remain', 'mute', 'throughout', 'their_lives', 'while', 'being', 'fully', 'literate', 'and', 'able_to', 'communicate', 'in', 'other', 'ways', 'images', 'sign_language', 'and', 'typing', 'are', 'far_more', 'natural', 'to', 'them', 'some', 'infants', 'who', 'later', 'show_signs', 'of', 'autism', 'coo', 'and', 'babble', 'during', 'the', 'first', 'few_months', 'of', 'life', 'but', 'stop', 'soon_afterwards', 'others', 'may_be', 'delayed', 'developing', 'language', 'as', 'late', 'as', 'the', 'teenage_years', 'still', 'inability_to', 'speak', 'does_not', 'mean', 'that', 'people', 'with', 'autism', 'are', 'unintelligent', 'or', 'unaware', 'once', 'given', 'appropriate', 'accommodations', 'many', 'will', 'happily', 'converse', 'for', 'hours', 'and', 'can', 'often', 'be_found', 'in', 'online_chat', 'rooms', 'discussion_boards', 'or', 'websites', 'and', 'even', 'using', 'communication', 'devices', 'at', 'autism', 'community', 'social', 'events', 'such_as', 'autreat', 'those_who', 'do', 'speak', 'often', 'use', 'language', 'in', 'unusual', 'ways', 'retaining', 'features', 'of', 'earlier_stages', 'of', 'language', 'development', 'for', 'long_periods', 'or', 'throughout', 'their_lives', 'some', 'speak', 'only', 'single', 'words', 'while_others', 'repeat', 'the', 'same', 'phrase', 'over', 'and', 'over', 'some', 'repeat', 'what', 'they', 'hear', 'a', 'condition', 'called', 'echolalia', 'sing', 'song', 'repetitions', 'in', 'particular', 'are', 'a', 'calming', 'joyous', 'activity', 'that', 'many', 'autistic_adults', 'engage', 'in', 'many', 'people', 'with', 'autism', 'have', 'a', 'strong', 'tonal', 'sense', 'and', 'can', 'often', 'understand', 'spoken_language', 'some', 'children', 'may', 'exhibit', 'only', 'slight', 'delays', 'in', 'language', 'or', 'even', 'seem', 'to', 'have', 'precocious', 'language', 'and', 'unusually_large', 'vocabularies', 'but', 'have', 'great_difficulty', 'in', 'sustaining', 'typical', 'conversations', 'the', 'give', 'and', 'take', 'of', 'non_autistic', 'conversation', 'is', 'hard', 'for', 'them', 'although', 'they', 'often', 'carry', 'on', 'a', 'monologue', 'on', 'a', 'favorite', 'subject', 'giving', 'no', 'one', 'else', 'an_opportunity', 'to', 'comment', 'when', 'given', 'the', 'chance', 'to', 'converse', 'with', 'other', 'autistics', 'they', 'comfortably', 'do_so', 'in', 'parallel', 'monologue', 'taking_turns', 'expressing', 'views', 'and', 'information', 'just', 'as', 'neurotypicals', 'people', 'without', 'autism', 'have', 'trouble_understanding', 'autistic', 'body', 'languages', 'vocal', 'tones', 'or', 'phraseology', 'people', 'with', 'autism', 'similarly', 'have', 'trouble', 'with', 'such', 'things', 'in', 'people', 'without', 'autism', 'in', 'particular', 'autistic', 'language', 'abilities', 'tend_to', 'be', 'highly', 'literal', 'people', 'without', 'autism', 'often', 'inappropriately', 'attribute', 'hidden_meaning', 'to', 'what', 'people', 'with', 'autism', 'say', 'or', 'expect', 'the', 'person', 'with', 'autism', 'to', 'sense', 'such', 'unstated', 'meaning', 'in', 'their_own', 'words', 'the', 'body', 'language', 'of', 'people', 'with', 'autism', 'can_be', 'difficult', 'for', 'other', 'people', 'to', 'understand', 'facial_expressions', 'movements', 'and', 'gestures', 'may_be', 'easily_understood', 'by', 'some', 'other', 'people', 'with', 'autism', 'but', 'do_not', 'match', 'those', 'used', 'by', 'other', 'people', 'also', 'their', 'tone', 'of', 'voice', 'has', 'a', 'much_more', 'subtle', 'inflection', 'in', 'reflecting', 'their', 'feelings', 'and', 'the', 'auditory', 'system', 'of', 'a', 'person', 'without', 'autism', 'often', 'cannot', 'sense', 'the', 'fluctuations', 'what', 'seems', 'to', 'non_autistic', 'people', 'like', 'a', 'high_pitched', 'sing', 'song', 'or', 'flat', 'robot', 'like', 'voice', 'is', 'common', 'in', 'autistic_children', 'some', 'autistic_children', 'with', 'relatively', 'good', 'language', 'skills', 'speak', 'like', 'little', 'adults', 'rather_than', 'communicating', 'at', 'their', 'current', 'age', 'level', 'which', 'is', 'one', 'of', 'the', 'things', 'that', 'can_lead', 'to', 'problems', 'since', 'non_autistic', 'people', 'are', 'often', 'unfamiliar_with', 'the', 'autistic', 'body', 'language', 'and', 'since', 'autistic', 'natural', 'language', 'may', 'not', 'tend_towards', 'speech', 'autistic_people', 'often', 'struggle', 'to', 'let', 'other', 'people', 'know_what', 'they', 'need', 'as', 'anybody', 'might', 'do', 'in', 'such', 'a', 'situation', 'they', 'may', 'scream', 'in', 'frustration', 'or', 'resort', 'to', 'grabbing', 'what', 'they_want', 'while_waiting', 'for', 'non_autistic', 'people', 'to', 'learn', 'to', 'communicate_with', 'them', 'people', 'with', 'autism', 'do_whatever', 'they', 'can', 'to', 'get', 'through', 'to', 'them', 'communication', 'difficulties', 'may', 'contribute', 'to', 'autistic_people', 'becoming', 'socially', 'anxious', 'or', 'depressed', 'repetitive', 'behaviors', 'although', 'people', 'with', 'autism', 'usually', 'appear', 'physically', 'normal', 'and', 'have', 'good', 'muscle', 'control', 'unusual', 'repetitive', 'motions', 'known_as', 'self', 'stimulation', 'or', 'stimming', 'may', 'set', 'them', 'apart', 'these', 'behaviors', 'might_be', 'extreme', 'and', 'highly', 'apparent', 'or', 'more_subtle', 'some', 'children', 'and', 'older', 'individuals', 'spend', 'a_lot', 'of', 'time', 'repeatedly', 'flapping', 'their', 'arms', 'or', 'wiggling', 'their', 'toes', 'others', 'suddenly', 'freeze', 'in', 'position', 'as', 'children', 'they', 'might', 'spend_hours', 'lining_up', 'their', 'cars', 'and', 'trains', 'in', 'a', 'certain', 'way', 'not', 'using', 'them', 'for', 'pretend', 'play', 'if_someone', 'accidentally', 'moves', 'one', 'of', 'these', 'toys', 'the', 'child', 'may_be', 'tremendously', 'upset', 'autistic_children', 'often', 'need', 'and', 'demand', 'absolute', 'consistency', 'in', 'their', 'environment', 'a', 'slight', 'change', 'in', 'any', 'routine', 'in', 'mealtimes', 'dressing', 'taking', 'a', 'bath', 'or', 'going', 'to', 'school', 'at', 'a', 'certain', 'time', 'and', 'by', 'the', 'same', 'route', 'can_be', 'extremely', 'disturbing', 'people', 'with', 'autism', 'sometimes', 'have', 'a', 'persistent', 'intense', 'preoccupation', 'for_example', 'the', 'child', 'might_be', 'obsessed_with', 'learning', 'all', 'about', 'vacuum_cleaners', 'train', 'schedules', 'or', 'lighthouses', 'often', 'they', 'show', 'great', 'interest', 'in', 'different', 'languages', 'numbers', 'symbols', 'or', 'science', 'topics', 'repetitive', 'behaviors', 'can', 'also', 'extend', 'into', 'the', 'spoken_word', 'as_well', 'perseveration', 'of', 'a', 'single', 'word', 'or', 'phrase', 'even', 'for', 'a', 'specific', 'number', 'of', 'times', 'can', 'also', 'become', 'a', 'part', 'of', 'the', 'child', 's', 'daily_routine', 'effects', 'in', 'education', 'children', 'with', 'autism', 'are', 'affected', 'with', 'these', 'symptoms', 'every_day', 'these', 'unusual', 'characteristics', 'set', 'them', 'apart_from', 'the', 'everyday', 'normal', 'student', 'because_they', 'have', 'trouble_understanding', 'people', 's', 'thoughts', 'and', 'feelings', 'they', 'have', 'trouble_understanding', 'what', 'their', 'teacher', 'may_be', 'telling_them', 'they_do', 'not', 'understand', 'that', 'facial_expressions', 'and', 'vocal', 'variations', 'hold', 'meanings', 'and', 'may', 'misinterpret', 'what', 'emotion', 'their', 'instructor', 'is', 'displaying', 'this', 'inability_to', 'fully', 'decipher', 'the', 'world', 'around', 'them', 'makes', 'education', 'stressful', 'teachers', 'need', 'to', 'be', 'aware', 'of', 'a', 'student', 's', 'disorder', 'so', 'that', 'they', 'are', 'able_to', 'help', 'the', 'student', 'get', 'the', 'best', 'out', 'of', 'the', 'lessons', 'being', 'taught', 'some', 'students', 'learn', 'better', 'with', 'visual', 'aids', 'as', 'they', 'are', 'better', 'able_to', 'understand', 'material', 'presented', 'this', 'way', 'because', 'of', 'this', 'many', 'teachers', 'create', 'visual', 'schedules', 'for', 'their', 'autistic', 'students', 'this', 'allows', 'the', 'student', 'to', 'know_what', 'is', 'going', 'on', 'throughout', 'the', 'day', 'so', 'they', 'know_what', 'to', 'prepare', 'for', 'and', 'what', 'activity', 'they', 'will_be', 'doing', 'next', 'some', 'autistic_children', 'have', 'trouble', 'going', 'from', 'one', 'activity', 'to', 'the', 'next', 'so', 'this', 'visual', 'schedule', 'can', 'help', 'to', 'reduce', 'stress', 'research', 'has', 'shown', 'that', 'working', 'in', 'pairs', 'may_be', 'beneficial', 'to', 'autistic_children', 'autistic', 'students', 'have', 'problems', 'in', 'schools', 'not', 'only', 'with', 'language', 'and', 'communication', 'but', 'with', 'socialization', 'as_well', 'they', 'feel', 'self_conscious', 'about', 'themselves', 'and', 'many', 'feel', 'that', 'they', 'will_always', 'be', 'outcasts', 'by', 'allowing_them', 'to', 'work', 'with', 'peers', 'they', 'can', 'make', 'friends', 'which', 'in', 'turn', 'can', 'help', 'them', 'cope_with', 'the', 'problems', 'that', 'arise', 'by', 'doing_so', 'they', 'can', 'become', 'more', 'integrated_into', 'the', 'mainstream', 'environment', 'of', 'the', 'classroom', 'a', 'teacher', 's', 'aide', 'can', 'also', 'be', 'useful', 'to', 'the', 'student', 'the', 'aide', 'is', 'able_to', 'give', 'more_elaborate', 'directions', 'that', 'the', 'teacher', 'may', 'not', 'have', 'time', 'to', 'explain', 'to', 'the', 'autistic_child', 'the', 'aide', 'can', 'also', 'facilitate', 'the', 'autistic_child', 'in', 'such', 'a', 'way', 'as', 'to', 'allow_them', 'to', 'stay', 'at', 'a', 'similar', 'level', 'to', 'the', 'rest', 'of', 'the', 'class', 'this', 'allows', 'a', 'partially', 'one', 'on', 'one', 'lesson', 'structure', 'so', 'that', 'the', 'child', 'is', 'still', 'able_to', 'stay', 'in', 'a', 'normal', 'classroom', 'but', 'be', 'given', 'the', 'extra', 'help', 'that', 'they', 'need', 'there_are', 'many', 'different', 'techniques', 'that', 'teachers', 'can', 'use', 'to', 'assist', 'their', 'students', 'a', 'teacher', 'needs', 'to', 'become_familiar', 'with', 'the', 'child', 's', 'disorder', 'to', 'know_what', 'will', 'work', 'best', 'with', 'that', 'particular', 'child', 'every', 'child', 'is', 'going', 'to', 'be', 'different', 'and', 'teachers', 'have', 'to', 'be_able', 'to', 'adjust', 'with', 'every', 'one', 'of', 'them', 'students', 'with', 'autism_spectrum', 'disorders', 'typically', 'have', 'high_levels', 'of', 'anxiety', 'and', 'stress', 'particularly', 'in', 'social', 'environments', 'like', 'school', 'if', 'a', 'student', 'exhibits', 'aggressive', 'or', 'explosive', 'behavior', 'it', 'is', 'important', 'for', 'educational', 'teams', 'to', 'recognize', 'the', 'impact', 'of', 'stress', 'and', 'anxiety', 'preparing', 'students', 'for', 'new', 'situations', 'by', 'writing', 'social', 'stories', 'can', 'lower', 'anxiety', 'teaching', 'social', 'and', 'emotional', 'concepts', 'using', 'systematic', 'teaching', 'approaches', 'such_as', 'the', 'incredible', 'five', 'point', 'scale', 'or', 'other', 'cognitive_behavioral', 'strategies', 'can', 'increase', 'a', 'student', 's', 'ability', 'to', 'control', 'excessive', 'behavioral', 'reactions', 'dsm', 'definition', 'autism', 'is', 'defined', 'in', 'section', 'two', 'nine', 'nine', 'zero', 'zero', 'of', 'the', 'diagnostic', 'and', 'statistical_manual', 'of', 'mental_disorders', 'dsm_iv', 'as', 'a', 'total', 'of', 'six', 'or', 'more', 'items', 'from', 'one', 'two', 'and', 'three', 'with', 'at_least', 'two', 'from', 'one', 'and', 'one', 'each', 'from', 'two', 'and', 'three', 'qualitative', 'impairment', 'in', 'social_interaction', 'as', 'manifested', 'by', 'at_least', 'two', 'of', 'the', 'following', 'marked_impairment', 'in', 'the', 'use', 'of', 'multiple', 'nonverbal', 'behaviors', 'such_as', 'eye', 'to', 'eye', 'gaze', 'facial_expression', 'body', 'postures', 'and', 'gestures', 'to', 'regulate', 'social_interaction', 'failure', 'to', 'develop', 'peer', 'relationships', 'appropriate', 'to', 'developmental', 'level', 'a', 'lack', 'of', 'spontaneous', 'seeking', 'to', 'share', 'enjoyment', 'interests', 'or', 'achievements', 'with', 'other', 'people', 'e_g', 'by', 'a', 'lack', 'of', 'showing', 'bringing', 'or', 'pointing_out', 'objects', 'of', 'interest', 'lack', 'of', 'social', 'or', 'emotional']\n"
     ]
    }
   ],
   "source": [
    "dataset = api.load(\"text8\")\n",
    "dataset = [wd for wd in dataset]\n",
    "\n",
    "dct = corpora.Dictionary(dataset)\n",
    "corpus = [dct.doc2bow(line) for line in dataset]\n",
    "\n",
    "# Build the bigram models\n",
    "bigram = gensim.models.phrases.Phrases(dataset, min_count=3, threshold=10)\n",
    "\n",
    "# Construct bigram\n",
    "print(bigram[dataset[0]])"
   ]
  },
  {
   "cell_type": "code",
   "execution_count": 68,
   "id": "1e3045f9",
   "metadata": {},
   "outputs": [
    {
     "name": "stdout",
     "output_type": "stream",
     "text": [
      "['anarchism', 'originated', 'as', 'a', 'term', 'of', 'abuse', 'first', 'used', 'against', 'early', 'working_class', 'radicals', 'including', 'the', 'diggers', 'of', 'the', 'english', 'revolution', 'and', 'the', 'sans_culottes', 'of', 'the', 'french_revolution', 'whilst', 'the', 'term', 'is', 'still', 'used', 'in', 'a', 'pejorative_way', 'to_describe', 'any', 'act', 'that', 'used', 'violent', 'means', 'to', 'destroy', 'the', 'organization', 'of', 'society', 'it', 'has', 'also_been', 'taken_up', 'as', 'a', 'positive', 'label', 'by', 'self', 'defined', 'anarchists', 'the', 'word', 'anarchism', 'is', 'derived_from', 'the', 'greek', 'without', 'archons', 'ruler', 'chief', 'king', 'anarchism', 'as', 'a', 'political_philosophy', 'is', 'the', 'belief_that', 'rulers', 'are', 'unnecessary', 'and', 'should_be', 'abolished', 'although', 'there_are', 'differing_interpretations', 'of', 'what', 'this', 'means', 'anarchism', 'also', 'refers_to', 'related', 'social_movements', 'that', 'advocate', 'the', 'elimination', 'of', 'authoritarian', 'institutions', 'particularly', 'the', 'state', 'the', 'word', 'anarchy', 'as', 'most', 'anarchists', 'use', 'it', 'does_not_imply', 'chaos', 'nihilism', 'or', 'anomie', 'but_rather', 'a', 'harmonious', 'anti_authoritarian', 'society', 'in', 'place', 'of', 'what', 'are', 'regarded_as', 'authoritarian', 'political', 'structures', 'and', 'coercive', 'economic', 'institutions', 'anarchists', 'advocate', 'social_relations', 'based_upon', 'voluntary_association', 'of', 'autonomous', 'individuals', 'mutual_aid', 'and', 'self_governance', 'while', 'anarchism', 'is', 'most', 'easily', 'defined_by', 'what', 'it', 'is', 'against', 'anarchists', 'also', 'offer', 'positive', 'visions', 'of', 'what_they_believe', 'to_be', 'a', 'truly', 'free', 'society', 'however', 'ideas_about', 'how', 'an', 'anarchist_society', 'might', 'work', 'vary_considerably', 'especially', 'with_respect_to', 'economics', 'there_is', 'also', 'disagreement_about', 'how', 'a', 'free', 'society', 'might_be', 'brought_about', 'origins', 'and', 'predecessors', 'kropotkin', 'and', 'others_argue_that', 'before', 'recorded_history', 'human_society', 'was', 'organized', 'on', 'anarchist_principles', 'most', 'anthropologists', 'follow', 'kropotkin', 'and', 'engels', 'in', 'believing_that', 'hunter_gatherer', 'bands', 'were', 'egalitarian', 'and', 'lacked', 'division', 'of', 'labour', 'accumulated_wealth', 'or', 'decreed', 'law', 'and', 'had', 'equal', 'access', 'to', 'resources', 'william_godwin', 'anarchists', 'including', 'the', 'the', 'anarchy', 'organisation', 'and', 'rothbard', 'find', 'anarchist', 'attitudes', 'in', 'taoism', 'from', 'ancient_china', 'kropotkin', 'found', 'similar', 'ideas', 'in', 'stoic', 'zeno', 'of', 'citium', 'according_to', 'kropotkin', 'zeno', 'repudiated', 'the', 'omnipotence', 'of', 'the', 'state', 'its', 'intervention', 'and', 'regimentation', 'and', 'proclaimed', 'the', 'sovereignty', 'of', 'the', 'moral_law', 'of', 'the', 'individual', 'the', 'anabaptists', 'of', 'one', 'six', 'th_century', 'europe', 'are', 'sometimes_considered', 'to_be', 'religious', 'forerunners', 'of', 'modern', 'anarchism', 'bertrand_russell', 'in', 'his', 'history', 'of', 'western_philosophy', 'writes_that', 'the', 'anabaptists', 'repudiated', 'all', 'law', 'since', 'they', 'held', 'that', 'the', 'good', 'man', 'will_be', 'guided', 'at', 'every', 'moment', 'by', 'the', 'holy_spirit', 'from', 'this', 'premise', 'they', 'arrive_at', 'communism', 'the', 'diggers', 'or', 'true', 'levellers', 'were', 'an', 'early', 'communistic', 'movement', 'during', 'the', 'time', 'of', 'the', 'english_civil_war', 'and', 'are', 'considered', 'by', 'some', 'as', 'forerunners', 'of', 'modern', 'anarchism', 'in', 'the', 'modern_era', 'the', 'first', 'to', 'use', 'the', 'term', 'to', 'mean', 'something', 'other_than', 'chaos', 'was', 'louis', 'armand', 'baron_de', 'lahontan', 'in', 'his', 'nouveaux', 'voyages', 'dans_l', 'am_rique', 'septentrionale', 'one', 'seven', 'zero', 'three', 'where_he', 'described', 'the', 'indigenous', 'american_society', 'which', 'had', 'no', 'state', 'laws', 'prisons', 'priests', 'or', 'private_property', 'as', 'being', 'in', 'anarchy', 'russell', 'means', 'a', 'libertarian', 'and', 'leader', 'in', 'the', 'american_indian', 'movement', 'has', 'repeatedly_stated', 'that', 'he', 'is', 'an_anarchist', 'and', 'so', 'are', 'all', 'his', 'ancestors', 'in', 'one', 'seven', 'nine', 'three', 'in', 'the', 'thick', 'of', 'the', 'french_revolution', 'william_godwin', 'published', 'an_enquiry', 'concerning', 'political', 'justice', 'although', 'godwin', 'did_not', 'use', 'the', 'word', 'anarchism', 'many', 'later', 'anarchists', 'have', 'regarded', 'this', 'book', 'as', 'the', 'first', 'major', 'anarchist', 'text', 'and', 'godwin', 'as', 'the', 'founder', 'of', 'philosophical_anarchism', 'but', 'at', 'this', 'point', 'no', 'anarchist_movement', 'yet', 'existed', 'and', 'the', 'term', 'anarchiste', 'was', 'known', 'mainly', 'as_an_insult', 'hurled', 'by', 'the', 'bourgeois', 'girondins', 'at', 'more_radical', 'elements', 'in', 'the', 'french_revolution', 'the', 'first', 'self', 'labelled', 'anarchist', 'pierre_joseph_proudhon', 'it', 'is', 'commonly_held', 'that', 'it_wasn_t', 'until', 'pierre_joseph_proudhon', 'published', 'what', 'is', 'property', 'in', 'one', 'eight', 'four', 'zero', 'that', 'the', 'term', 'anarchist', 'was', 'adopted', 'as', 'a', 'self_description', 'it', 'is', 'for_this_reason', 'that', 'some', 'claim', 'proudhon', 'as', 'the', 'founder', 'of', 'modern', 'anarchist', 'theory', 'in', 'what', 'is', 'property', 'proudhon', 'answers', 'with', 'the', 'famous', 'accusation', 'property', 'is', 'theft', 'in', 'this', 'work', 'he', 'opposed', 'the', 'institution', 'of', 'decreed', 'property', 'propri_t', 'where', 'owners', 'have', 'complete', 'rights', 'to', 'use', 'and', 'abuse', 'their', 'property', 'as', 'they_wish', 'such_as', 'exploiting', 'workers', 'for', 'profit', 'in', 'its', 'place', 'proudhon', 'supported', 'what', 'he', 'called', 'possession', 'individuals', 'can', 'have', 'limited', 'rights', 'to', 'use', 'resources', 'capital', 'and', 'goods', 'in_accordance_with', 'principles', 'of', 'equality', 'and', 'justice', 'proudhon', 's', 'vision', 'of', 'anarchy', 'which', 'he', 'called', 'mutualism', 'mutuellisme', 'involved', 'an', 'exchange', 'economy', 'where', 'individuals', 'and', 'groups', 'could', 'trade', 'the', 'products', 'of', 'their', 'labor', 'using', 'labor', 'notes', 'which', 'represented', 'the', 'amount', 'of', 'working', 'time', 'involved', 'in', 'production', 'this', 'would_ensure_that', 'no', 'one', 'would', 'profit', 'from', 'the', 'labor', 'of', 'others', 'workers', 'could', 'freely', 'join_together', 'in', 'co_operative', 'workshops', 'an', 'interest', 'free', 'bank', 'would_be', 'set_up', 'to', 'provide', 'everyone', 'with', 'access', 'to', 'the', 'means', 'of', 'production', 'proudhon', 's', 'ideas', 'were', 'influential', 'within', 'french', 'working_class', 'movements', 'and', 'his_followers', 'were', 'active', 'in', 'the', 'revolution', 'of', 'one', 'eight', 'four', 'eight', 'in', 'france', 'proudhon', 's', 'philosophy', 'of', 'property', 'is', 'complex', 'it', 'was', 'developed', 'in', 'a', 'number', 'of', 'works', 'over', 'his_lifetime', 'and', 'there_are', 'differing_interpretations', 'of', 'some', 'of', 'his', 'ideas', 'for', 'more_detailed_discussion', 'see', 'here', 'max_stirner', 's', 'egoism', 'in', 'his', 'the', 'ego', 'and', 'its_own', 'stirner', 'argued_that', 'most_commonly_accepted', 'social_institutions', 'including', 'the', 'notion', 'of', 'state', 'property', 'as', 'a', 'right', 'natural_rights', 'in', 'general', 'and', 'the', 'very', 'notion', 'of', 'society', 'were', 'mere', 'illusions', 'or', 'ghosts', 'in', 'the', 'mind', 'saying', 'of', 'society', 'that', 'the', 'individuals', 'are', 'its', 'reality', 'he', 'advocated', 'egoism', 'and', 'a', 'form', 'of', 'amoralism', 'in', 'which', 'individuals', 'would', 'unite', 'in', 'associations', 'of', 'egoists', 'only', 'when', 'it', 'was', 'in', 'their', 'self_interest', 'to_do_so', 'for', 'him', 'property', 'simply', 'comes', 'about', 'through', 'might', 'whoever', 'knows_how', 'to', 'take', 'to_defend', 'the', 'thing', 'to', 'him', 'belongs', 'property', 'and', 'what', 'i', 'have', 'in', 'my', 'power', 'that', 'is', 'my_own', 'so_long', 'as', 'i', 'assert', 'myself', 'as', 'holder', 'i_am', 'the', 'proprietor', 'of', 'the', 'thing', 'stirner', 'never', 'called', 'himself', 'an_anarchist', 'he', 'accepted', 'only', 'the', 'label', 'egoist', 'nevertheless', 'his', 'ideas', 'were', 'influential', 'on', 'many', 'individualistically', 'inclined', 'anarchists', 'although', 'interpretations', 'of', 'his', 'thought', 'are', 'diverse', 'american_individualist_anarchism', 'benjamin_tucker', 'in', 'one', 'eight', 'two', 'five', 'josiah_warren', 'had', 'participated_in', 'a', 'communitarian', 'experiment', 'headed_by', 'robert_owen', 'called', 'new', 'harmony', 'which', 'failed', 'in', 'a_few_years', 'amidst', 'much', 'internal_conflict', 'warren', 'blamed', 'the', 'community', 's', 'failure', 'on', 'a', 'lack', 'of', 'individual', 'sovereignty', 'and', 'a', 'lack', 'of', 'private_property', 'warren', 'proceeded', 'to', 'organise', 'experimenal', 'anarchist', 'communities', 'which', 'respected', 'what', 'he', 'called', 'the', 'sovereignty', 'of', 'the', 'individual', 'at', 'utopia', 'and', 'modern_times', 'in', 'one', 'eight', 'three', 'three', 'warren', 'wrote', 'and', 'published', 'the', 'peaceful', 'revolutionist', 'which', 'some', 'have', 'noted', 'to_be', 'the', 'first', 'anarchist_periodical', 'ever', 'published', 'benjamin_tucker', 'says_that', 'warren', 'was', 'the', 'first', 'man', 'to', 'expound', 'and', 'formulate', 'the', 'doctrine', 'now_known_as', 'anarchism', 'liberty', 'xiv', 'december', 'one', 'nine', 'zero', 'zero', 'one', 'benjamin_tucker', 'became_interested_in', 'anarchism', 'through', 'meeting', 'josiah_warren', 'and', 'william_b_greene', 'he', 'edited', 'and', 'published', 'liberty', 'from', 'august', 'one', 'eight', 'eight', 'one', 'to', 'april', 'one', 'nine', 'zero', 'eight', 'it', 'is_widely_considered', 'to_be', 'the', 'finest', 'individualist_anarchist', 'periodical', 'ever', 'issued', 'in', 'the', 'english_language', 'tucker', 's', 'conception', 'of', 'individualist_anarchism', 'incorporated', 'the', 'ideas', 'of', 'a_variety', 'of', 'theorists', 'greene', 's', 'ideas', 'on', 'mutual', 'banking', 'warren', 's', 'ideas', 'on', 'cost', 'as', 'the', 'limit', 'of', 'price', 'a', 'heterodox', 'variety', 'of', 'labour', 'theory', 'of', 'value', 'proudhon', 's', 'market_anarchism', 'max_stirner', 's', 'egoism', 'and', 'herbert_spencer', 's', 'law', 'of', 'equal', 'freedom', 'tucker', 'strongly_supported', 'the', 'individual', 's', 'right', 'to', 'own', 'the', 'product', 'of', 'his', 'or', 'her', 'labour', 'as', 'private_property', 'and', 'believed', 'in', 'a', 'market_economy', 'for', 'trading', 'this', 'property', 'he', 'argued_that', 'in', 'a', 'truly', 'free_market', 'system', 'without', 'the', 'state', 'the', 'abundance', 'of', 'competition', 'would_eliminate', 'profits', 'and', 'ensure_that', 'all', 'workers', 'received', 'the', 'full', 'value', 'of', 'their', 'labor', 'other', 'one', 'nine', 'th_century', 'individualists', 'included', 'lysander_spooner', 'stephen_pearl', 'andrews', 'and', 'victor', 'yarros', 'the', 'first', 'international', 'mikhail_bakunin', 'one', 'eight', 'one', 'four', 'one', 'eight', 'seven', 'six', 'in', 'europe', 'harsh', 'reaction', 'followed', 'the', 'revolutions', 'of', 'one', 'eight', 'four', 'eight', 'twenty_years_later', 'in', 'one', 'eight', 'six', 'four', 'the', 'international_workingmen', 's', 'association', 'sometimes_called', 'the', 'first', 'international', 'united', 'some', 'diverse', 'european', 'revolutionary', 'currents', 'including', 'anarchism', 'due_to_its', 'genuine', 'links', 'to', 'active', 'workers', 'movements', 'the', 'international', 'became', 'signficiant', 'from', 'the', 'start', 'karl_marx', 'was', 'a', 'leading_figure', 'in', 'the', 'international', 'he', 'was_elected', 'to', 'every', 'succeeding', 'general_council', 'of', 'the', 'association', 'the', 'first', 'objections', 'to', 'marx', 'came_from', 'the', 'mutualists', 'who', 'opposed_communism', 'and', 'statism', 'shortly_after', 'mikhail_bakunin', 'and', 'his_followers', 'joined', 'in', 'one', 'eight', 'six', 'eight', 'the', 'first', 'international', 'became', 'polarised', 'into', 'two', 'camps', 'with', 'marx', 'and', 'bakunin', 'as', 'their_respective', 'figureheads', 'the', 'clearest', 'difference_between', 'the', 'camps', 'was', 'over', 'strategy', 'the', 'anarchists', 'around', 'bakunin', 'favoured', 'in', 'kropotkin', 's', 'words', 'direct', 'economical', 'struggle_against', 'capitalism', 'without_interfering', 'in', 'the', 'political', 'parliamentary', 'agitation', 'at', 'that', 'time', 'marx', 'and', 'his_followers', 'focused_on', 'parliamentary', 'activity', 'bakunin', 'characterised', 'marx_s', 'ideas', 'as', 'authoritarian', 'and', 'predicted', 'that', 'if', 'a', 'marxist', 'party', 'gained', 'to', 'power', 'its', 'leaders', 'would', 'end', 'up', 'as', 'bad', 'as', 'the', 'ruling_class', 'they', 'had', 'fought_against', 'in', 'one', 'eight', 'seven', 'two', 'the', 'conflict', 'climaxed', 'with', 'a', 'final', 'split_between', 'the', 'two', 'groups', 'at', 'the', 'hague', 'congress', 'this', 'is_often_cited', 'as', 'the', 'origin', 'of', 'the', 'conflict_between', 'anarchists', 'and', 'marxists', 'from', 'this', 'moment', 'the', 'social_democratic', 'and', 'libertarian', 'currents', 'of', 'socialism', 'had', 'distinct', 'organisations', 'including', 'rival', 'internationals', 'anarchist_communism', 'peter_kropotkin', 'proudhon', 'and', 'bakunin', 'both', 'opposed_communism', 'associating', 'it', 'with', 'statism', 'however', 'in', 'the', 'one', 'eight', 'seven', 'zero', 's', 'many', 'anarchists', 'moved_away_from', 'bakunin', 's', 'economic', 'thinking', 'called', 'collectivism', 'and', 'embraced', 'communist', 'concepts', 'communists', 'believed', 'the', 'means', 'of', 'production', 'should_be', 'owned', 'collectively', 'and', 'that', 'goods', 'be', 'distributed', 'by', 'need_not', 'labor', 'an', 'early', 'anarchist', 'communist', 'was', 'joseph', 'd', 'jacque', 'the', 'first_person', 'to_describe', 'himself', 'as', 'libertarian', 'unlike', 'proudhon', 'he', 'argued_that', 'it', 'is', 'not', 'the', 'product', 'of', 'his', 'or', 'her', 'labor', 'that', 'the', 'worker', 'has', 'a', 'right', 'to', 'but', 'to', 'the', 'satisfaction', 'of', 'his', 'or', 'her', 'needs', 'whatever', 'may_be', 'their', 'nature', 'he', 'announced', 'his', 'ideas', 'in', 'his', 'us', 'published', 'journal', 'le', 'libertaire', 'one', 'eight', 'five', 'eight', 'one', 'eight', 'six', 'one', 'peter_kropotkin', 'often_seen_as', 'the', 'most_important', 'theorist', 'outlined', 'his', 'economic', 'ideas', 'in', 'the', 'conquest', 'of', 'bread', 'and', 'fields', 'factories', 'and', 'workshops', 'he_felt', 'co_operation', 'is', 'more', 'beneficial', 'than', 'competition', 'illustrated', 'in', 'nature', 'in', 'mutual_aid', 'a', 'factor', 'of', 'evolution', 'one', 'eight', 'nine', 'seven', 'subsequent', 'anarchist_communists', 'include', 'emma_goldman', 'and', 'alexander_berkman', 'many', 'in', 'the', 'anarcho_syndicalist', 'movements', 'see_below', 'saw', 'anarchist_communism', 'as', 'their', 'objective', 'isaac', 'puente', 's', 'one', 'nine', 'three', 'two', 'comunismo', 'libertario', 'was', 'adopted', 'by', 'the', 'spanish', 'cnt', 'as', 'its', 'manifesto', 'for', 'a', 'post', 'revolutionary', 'society', 'some', 'anarchists', 'disliked', 'merging', 'communism', 'with', 'anarchism', 'several', 'individualist_anarchists', 'maintained', 'that', 'abolition', 'of', 'private_property', 'was', 'not', 'consistent_with', 'liberty', 'for_example', 'benjamin_tucker', 'whilst', 'professing', 'respect', 'for', 'kropotkin', 'and', 'publishing', 'his', 'work', 'described', 'communist', 'anarchism', 'as', 'pseudo', 'anarchism', 'propaganda', 'of', 'the', 'deed', 'johann', 'most', 'was', 'an_outspoken', 'advocate', 'of', 'violence', 'anarchists', 'have', 'often_been', 'portrayed_as', 'dangerous', 'and', 'violent', 'due_mainly', 'to', 'a', 'number', 'of', 'high_profile', 'violent_acts', 'including', 'riots', 'assassinations', 'insurrections', 'and', 'terrorism', 'by', 'some', 'anarchists', 'some', 'revolutionaries', 'of', 'the', 'late', 'one', 'nine', 'th_century', 'encouraged', 'acts', 'of', 'political_violence', 'such_as', 'bombings', 'and', 'the', 'assassinations', 'of', 'heads', 'of', 'state', 'to', 'further', 'anarchism', 'such', 'actions', 'have', 'sometimes', 'been', 'called', 'propaganda', 'by', 'the', 'deed', 'one', 'of', 'the', 'more', 'outspoken', 'advocates', 'of', 'this', 'strategy', 'was', 'johann', 'most', 'who', 'said', 'the', 'existing', 'system', 'will_be', 'quickest', 'and', 'most', 'radically', 'overthrown_by', 'the', 'annihilation', 'of', 'its', 'exponents', 'therefore', 'massacres', 'of', 'the', 'enemies', 'of', 'the', 'people', 'must_be', 'set', 'in', 'motion', 'most', 's', 'preferred_method', 'of', 'terrorism', 'dynamite', 'earned_him', 'the', 'moniker', 'dynamost', 'however', 'there_is', 'no_consensus_on', 'the', 'legitimacy', 'or', 'utility', 'of', 'violence', 'in', 'general', 'mikhail_bakunin', 'and', 'errico_malatesta', 'for_example', 'wrote', 'of', 'violence', 'as', 'a', 'necessary', 'and', 'sometimes', 'desirable', 'force', 'in', 'revolutionary', 'settings', 'but', 'at', 'the', 'same_time', 'they', 'denounced', 'acts', 'of', 'individual', 'terrorism', 'malatesta', 'in', 'on', 'violence', 'and', 'bakunin', 'when', 'he', 'refuted', 'nechaev', 'other', 'anarchists', 'sometimes_identified', 'as', 'pacifist', 'anarchists', 'advocated', 'complete', 'nonviolence', 'leo_tolstoy', 'whose', 'philosophy', 'is', 'often_viewed_as', 'a', 'form', 'of', 'christian_anarchism', 'see_below', 'was', 'a', 'notable', 'exponent', 'of', 'nonviolent_resistance', 'anarchism', 'in', 'the', 'labour_movement', 'the', 'red', 'and', 'black_flag', 'coming_from', 'the', 'experience', 'of', 'anarchists', 'in', 'the', 'labour_movement', 'is', 'particularly', 'associated_with', 'anarcho_syndicalism', 'anarcho_syndicalism', 'was', 'an', 'early', 'two', 'zero', 'th_century', 'working_class', 'movement', 'seeking', 'to', 'overthrow', 'capitalism', 'and', 'the', 'state', 'to', 'institute', 'a', 'worker', 'controlled', 'society', 'the', 'movement', 'pursued', 'industrial', 'actions', 'such_as', 'general_strike', 'as', 'a', 'primary', 'strategy', 'many', 'anarcho_syndicalists', 'believed', 'in', 'anarchist_communism', 'though', 'not', 'all', 'communists', 'believed', 'in', 'syndicalism', 'after', 'the', 'one', 'eight', 'seven', 'one', 'repression', 'french', 'anarchism', 'reemerged', 'influencing', 'the', 'bourses', 'de', 'travails', 'of', 'autonomous', 'workers', 'groups', 'and', 'trade_unions', 'from', 'this', 'movement', 'the', 'conf', 'd_ration', 'g_n_rale', 'du_travail', 'general', 'confederation', 'of', 'work', 'cgt', 'was', 'formed', 'in', 'one', 'eight', 'nine', 'five', 'as', 'the', 'first', 'major', 'anarcho_syndicalist', 'movement', 'emile', 'pataud', 'and', 'emile', 'pouget', 's', 'writing', 'for', 'the', 'cgt', 'saw', 'libertarian_communism', 'developing', 'from', 'a', 'general_strike', 'after', 'one', 'nine', 'one', 'four', 'the', 'cgt', 'moved_away_from', 'anarcho_syndicalism', 'due_to', 'the', 'appeal', 'of', 'bolshevism', 'french', 'style', 'syndicalism', 'was', 'a', 'significant', 'movement', 'in', 'europe', 'prior_to', 'one', 'nine', 'two', 'one', 'and', 'remained', 'a', 'significant', 'movement', 'in', 'spain', 'until', 'the', 'mid', 'one', 'nine', 'four', 'zero', 's', 'the', 'industrial_workers', 'of', 'the', 'world', 'iww', 'founded', 'in', 'one', 'nine', 'zero', 'five', 'in', 'the', 'us', 'espoused', 'unionism', 'and', 'sought', 'a', 'general_strike', 'to', 'usher', 'in', 'a', 'stateless', 'society', 'in', 'one', 'nine', 'two', 'three', 'one', 'zero', 'zero', 'zero', 'zero', 'zero', 'members', 'existed', 'with', 'the', 'support', 'of', 'up', 'to', 'three', 'zero', 'zero', 'zero', 'zero', 'zero', 'though', 'not', 'explicitly', 'anarchist', 'they', 'organized', 'by', 'rank', 'and', 'file', 'democracy', 'embodying', 'a', 'spirit', 'of', 'resistance', 'that', 'has_inspired', 'many', 'anglophone', 'syndicalists', 'cnt', 'propaganda', 'from', 'april', 'two', 'zero', 'zero', 'four', 'reads', 'don_t_let', 'the', 'politicians', 'rule', 'our_lives', 'you', 'vote', 'and', 'they', 'decide', 'don_t', 'allow', 'it', 'unity', 'action', 'self_management', 'spanish', 'anarchist', 'trade_union', 'federations', 'were', 'formed', 'in', 'the', 'one', 'eight', 'seven', 'zero', 's', 'one', 'nine', 'zero', 'zero', 'and', 'one', 'nine', 'one', 'zero', 'the', 'most_successful', 'was', 'the', 'confederaci_n', 'nacional_del', 'trabajo', 'national', 'confederation', 'of', 'labour', 'cnt', 'founded', 'in', 'one', 'nine', 'one', 'zero', 'prior_to', 'the', 'one', 'nine', 'four', 'zero', 's', 'the', 'cnt', 'was', 'the', 'major', 'force', 'in', 'spanish', 'working_class', 'politics', 'with', 'a', 'membership', 'of', 'one', 'five', 'eight', 'million', 'in', 'one', 'nine', 'three', 'four', 'the', 'cnt', 'played', 'a_major_role', 'in', 'the', 'spanish_civil_war', 'see_also', 'anarchism', 'in', 'spain', 'syndicalists', 'like', 'ricardo', 'flores', 'mag', 'n', 'were', 'key_figures', 'in', 'the', 'mexican_revolution', 'latin_american', 'anarchism', 'was_strongly_influenced', 'extending', 'to', 'the', 'zapatista', 'rebellion', 'and', 'the', 'factory', 'occupation', 'movements', 'in', 'argentina', 'in', 'berlin', 'in', 'one', 'nine', 'two', 'two', 'the', 'cnt', 'was', 'joined', 'with', 'the', 'international', 'workers', 'association', 'an', 'anarcho_syndicalist', 'successor', 'to', 'the', 'first', 'international', 'contemporary', 'anarcho_syndicalism', 'continues', 'as', 'a', 'minor', 'force', 'in', 'many', 'socities', 'much_smaller_than', 'in', 'the', 'one', 'nine', 'one', 'zero', 's', 'two', 'zero', 's', 'and', 'three', 'zero', 's', 'the', 'largest', 'organised', 'anarchist_movement', 'today', 'is', 'in', 'spain', 'in', 'the', 'form', 'of', 'the', 'confederaci_n', 'general', 'del_trabajo', 'and', 'the', 'cnt', 'the', 'cgt', 'claims', 'a', 'paid', 'up', 'membership', 'of', 'six', 'zero', 'zero', 'zero', 'zero', 'and', 'received', 'over', 'a', 'million', 'votes', 'in', 'spanish', 'syndical', 'elections', 'other', 'active', 'syndicalist', 'movements', 'include', 'the', 'us', 'workers_solidarity', 'alliance', 'and', 'the', 'uk', 'solidarity', 'federation', 'the', 'revolutionary', 'industrial', 'unionist', 'industrial_workers', 'of', 'the', 'world', 'also', 'exists', 'claiming', 'two', 'zero', 'zero', 'zero', 'paid', 'members', 'contemporary', 'critics', 'of', 'anarcho_syndicalism', 'and', 'revolutionary', 'industrial_unionism', 'claim_that', 'they_are', 'workerist', 'and', 'fail', 'to', 'deal_with', 'economic', 'life', 'outside', 'work', 'post', 'leftist', 'critics', 'such_as', 'bob', 'black', 'claim', 'anarcho_syndicalism', 'advocates', 'oppressive_social', 'structures', 'such_as', 'work', 'and', 'the', 'workplace', 'anarcho_syndicalists', 'in', 'general', 'uphold', 'principles', 'of', 'workers_solidarity', 'direct_action', 'and', 'self_management', 'the', 'russian_revolution', 'the', 'russian_revolution', 'of', 'one', 'nine', 'one', 'seven', 'was', 'a', 'seismic', 'event', 'in', 'the', 'development', 'of', 'anarchism', 'as', 'a', 'movement', 'and', 'as', 'a', 'philosophy', 'anarchists', 'participated', 'alongside', 'the', 'bolsheviks', 'in', 'both', 'february', 'and', 'october', 'revolutions', 'many', 'anarchists', 'initially', 'supporting', 'the', 'bolshevik', 'coup', 'however', 'the', 'bolsheviks', 'soon_turned', 'against', 'the', 'anarchists', 'and', 'other', 'left_wing_opposition', 'a', 'conflict', 'which_culminated_in', 'the', 'one', 'nine', 'one', 'eight', 'kronstadt_rebellion', 'anarchists', 'in', 'central', 'russia', 'were', 'imprisoned', 'or', 'driven_underground', 'or', 'joined', 'the', 'victorious', 'bolsheviks', 'in', 'ukraine', 'anarchists', 'fought', 'in', 'the', 'civil_war', 'against', 'both', 'whites', 'and', 'bolsheviks', 'within', 'the', 'makhnovshchina', 'peasant', 'army', 'led_by', 'nestor_makhno', 'expelled', 'american', 'anarchists', 'emma_goldman', 'and', 'alexander_berkman', 'before_leaving', 'russia', 'were', 'amongst', 'those', 'agitating', 'in', 'response', 'to', 'bolshevik', 'policy', 'and', 'the', 'suppression', 'of', 'the', 'kronstadt', 'uprising', 'both', 'wrote', 'classic', 'accounts', 'of', 'their', 'experiences', 'in', 'russia', 'aiming', 'to', 'expose', 'the', 'reality', 'of', 'bolshevik', 'control', 'for', 'them', 'bakunin', 's', 'predictions_about', 'the', 'consequences', 'of', 'marxist', 'rule', 'had', 'proved', 'all', 'too', 'true', 'the', 'victory', 'of', 'the', 'bolsheviks', 'in', 'the', 'october_revolution', 'and', 'the', 'resulting', 'russian_civil_war', 'did', 'serious_damage', 'to', 'anarchist', 'movements', 'internationally', 'many', 'workers', 'and', 'activists', 'saw', 'bolshevik', 'success', 'as', 'setting', 'an_example', 'communist_parties', 'grew', 'at', 'the', 'expense', 'of', 'anarchism', 'and', 'other', 'socialist_movements', 'in', 'france', 'and', 'the', 'us', 'for_example', 'the', 'major', 'syndicalist', 'movements', 'of', 'the', 'cgt', 'and', 'iww', 'began', 'to', 'realign', 'themselves', 'away_from', 'anarchism', 'and', 'towards', 'the', 'communist_international', 'in', 'paris', 'the', 'dielo', 'truda', 'group', 'of', 'russian', 'anarchist', 'exiles', 'which', 'included', 'nestor_makhno', 'concluded_that', 'anarchists', 'needed', 'to', 'develop', 'new', 'forms', 'of', 'organisation', 'in', 'response', 'to', 'the', 'structures', 'of', 'bolshevism', 'their', 'one', 'nine', 'two', 'six', 'manifesto', 'known_as', 'the', 'organisational', 'platform', 'of', 'the', 'libertarian_communists', 'was', 'supported_by', 'some', 'communist_anarchists', 'though', 'opposed', 'by', 'many_others', 'the', 'platform', 'continues_to', 'inspire', 'some', 'contemporary', 'anarchist', 'groups', 'who', 'believe', 'in', 'an', 'anarchist_movement', 'organised_around', 'its', 'principles', 'of', 'theoretical', 'unity', 'tactical', 'unity', 'collective_responsibility', 'and', 'federalism', 'platformist', 'groups', 'today', 'include', 'the', 'workers_solidarity', 'movement', 'in', 'ireland', 'the', 'uk', 's', 'anarchist', 'federation', 'and', 'the', 'late', 'north_eastern', 'federation', 'of', 'anarchist_communists', 'in', 'the', 'northeastern_united_states', 'and', 'bordering', 'canada', 'the', 'fight_against', 'fascism', 'spain', 'one', 'nine', 'three', 'six', 'members', 'of', 'the', 'cnt', 'construct', 'armoured_cars', 'to', 'fight_against', 'the', 'fascists', 'in', 'one', 'of', 'the', 'collectivised', 'factories', 'in', 'the', 'one', 'nine', 'two', 'zero', 's', 'and', 'one', 'nine', 'three', 'zero', 's', 'the', 'familiar', 'dynamics', 'of', 'anarchism', 's', 'conflict_with', 'the', 'state', 'were', 'transformed', 'by', 'the', 'rise', 'of', 'fascism', 'in', 'europe', 'in_many_cases', 'european', 'anarchists', 'faced', 'difficult', 'choices', 'should', 'they', 'join', 'in', 'popular', 'fronts', 'with', 'reformist', 'democrats', 'and', 'soviet', 'led', 'communists', 'against', 'a', 'common', 'fascist', 'enemy', 'luigi', 'fabbri', 'an', 'exile', 'from', 'italian_fascism', 'was', 'amongst', 'those', 'arguing_that', 'fascism', 'was', 'something', 'different', 'fascism', 'is', 'not_just', 'another', 'form', 'of', 'government', 'which', 'like', 'all', 'others', 'uses', 'violence', 'it', 'is', 'the', 'most', 'authoritarian', 'and', 'the', 'most', 'violent', 'form', 'of', 'government', 'imaginable', 'it', 'represents', 'the', 'utmost', 'glorification', 'of', 'the', 'theory', 'and', 'practice', 'of', 'the', 'principle', 'of', 'authority', 'in', 'france', 'where', 'the', 'fascists', 'came_close_to', 'insurrection', 'in', 'the', 'february', 'one', 'nine', 'three', 'four', 'riots', 'anarchists', 'divided', 'over', 'a', 'united_front', 'policy', 'in', 'spain', 'the', 'cnt', 'initially_refused', 'to_join', 'a', 'popular_front', 'electoral', 'alliance', 'and', 'abstention', 'by', 'cnt', 'supporters', 'led', 'to', 'a', 'right_wing', 'election_victory', 'but', 'in', 'one', 'nine', 'three', 'six', 'the', 'cnt', 'changed', 'its', 'policy', 'and', 'anarchist', 'votes', 'helped_bring', 'the', 'popular_front', 'back', 'to', 'power', 'months_later', 'the', 'ruling_class', 'responded_with', 'an', 'attempted_coup', 'and', 'the', 'spanish_civil_war', 'one', 'nine', 'three', 'six', 'three', 'nine', 'was', 'underway', 'in', 'reponse', 'to', 'the', 'army', 'rebellion', 'an_anarchist', 'inspired', 'movement', 'of', 'peasants', 'and', 'workers', 'supported_by', 'armed', 'militias', 'took_control', 'of', 'the', 'major', 'city', 'of', 'barcelona', 'and', 'of', 'large_areas', 'of', 'rural', 'spain', 'where', 'they', 'collectivized', 'the', 'land', 'but', 'even', 'before', 'the', 'eventual', 'fascist', 'victory', 'in', 'one', 'nine', 'three', 'nine', 'the', 'anarchists', 'were', 'losing_ground', 'in', 'a', 'bitter_struggle', 'with', 'the', 'stalinists', 'the', 'cnt', 'leadership', 'often', 'appeared', 'confused', 'and', 'divided', 'with', 'some', 'members', 'controversially', 'entering', 'the', 'government', 'stalinist', 'led', 'troops', 'suppressed', 'the', 'collectives', 'and', 'persecuted', 'both', 'dissident', 'marxists', 'and', 'anarchists', 'since', 'the', 'late', 'one', 'nine', 'seven', 'zero', 's', 'anarchists', 'have_been', 'involved', 'in', 'fighting', 'the', 'rise', 'of', 'neo_fascist', 'groups', 'in', 'germany', 'and', 'the', 'united_kingdom', 'some', 'anarchists', 'worked', 'within', 'militant', 'anti_fascist', 'groups', 'alongside', 'members', 'of', 'the', 'marxist', 'left', 'they', 'advocated', 'directly', 'combating', 'fascists', 'with', 'physical_force', 'rather_than_relying_on', 'the', 'state', 'since', 'the', 'late', 'one', 'nine', 'nine', 'zero', 's', 'a', 'similar', 'tendency', 'has', 'developed', 'within', 'us', 'anarchism', 'see_also', 'anti_racist', 'action', 'us', 'anti_fascist', 'action', 'uk', 'antifa', 'religious', 'anarchism', 'leo_tolstoy', 'one', 'eight', 'two', 'eight', 'one', 'nine', 'one', 'zero', 'most', 'anarchist', 'culture', 'tends_to_be', 'secular', 'if', 'not', 'outright', 'anti', 'religious', 'however', 'the', 'combination', 'of', 'religious', 'social', 'conscience', 'historical', 'religiousity', 'amongst', 'oppressed', 'social_classes', 'and', 'the', 'compatibility', 'of', 'some', 'interpretations', 'of', 'religious_traditions', 'with', 'anarchism', 'has_resulted_in', 'religious', 'anarchism', 'christian', 'anarchists', 'believe_that', 'there_is', 'no', 'higher', 'authority', 'than', 'god', 'and', 'oppose', 'earthly', 'authority', 'such_as', 'government', 'and', 'established', 'churches', 'they_believe_that', 'jesus_teachings', 'were', 'clearly', 'anarchistic', 'but', 'were', 'corrupted', 'when', 'christianity', 'was', 'declared', 'the', 'official_religion', 'of', 'rome', 'christian', 'anarchists', 'who', 'follow', 'jesus', 'directive', 'to', 'turn', 'the', 'other', 'cheek', 'are', 'strict', 'pacifists', 'the', 'most_famous', 'advocate', 'of', 'christian_anarchism', 'was', 'leo_tolstoy', 'author', 'of', 'the', 'kingdom', 'of', 'god', 'is', 'within', 'you', 'who', 'called', 'for', 'a', 'society', 'based_on', 'compassion', 'nonviolent', 'principles', 'and', 'freedom', 'christian', 'anarchists', 'tend_to', 'form', 'experimental', 'communities', 'they', 'also', 'occasionally', 'resist', 'taxation', 'many', 'christian', 'anarchists', 'are', 'vegetarian', 'or', 'vegan', 'christian', 'anarchy', 'can_be', 'said', 'to', 'have', 'roots', 'as', 'old', 'as', 'the', 'religion', 's', 'birth', 'as', 'the', 'early', 'church', 'exhibits', 'many', 'anarchistic', 'tendencies', 'such_as', 'communal', 'goods', 'and', 'wealth', 'by', 'aiming', 'to', 'obey', 'utterly', 'certain', 'of', 'the', 'bible', 's', 'teachings', 'certain', 'anabaptist_groups', 'of', 'sixteenth_century', 'europe', 'attempted_to', 'emulate', 'the', 'early', 'church', 's', 'social_economic', 'organisation', 'and', 'philosophy', 'by', 'regarding', 'it', 'as', 'the', 'only', 'social_structure', 'capable', 'of', 'true', 'obediance', 'to', 'jesus_teachings', 'and', 'utterly', 'rejected', 'in', 'theory', 'all', 'earthly', 'hierarchies', 'and', 'authority', 'and', 'indeed', 'non', 'anabaptists', 'in', 'general', 'and', 'violence', 'as', 'ungodly', 'such', 'groups', 'for_example', 'the', 'hutterites', 'typically', 'went', 'from', 'initially', 'anarchistic', 'beginnings', 'to', 'as', 'their', 'movements', 'stabalised', 'more', 'authoritarian', 'social', 'models', 'chinese', 'anarchism', 'was', 'most_influential', 'in', 'the', 'one', 'nine', 'two', 'zero', 's', 'strands', 'of', 'chinese', 'anarchism', 'included', 'tai', 'xu', 's', 'buddhist', 'anarchism', 'which', 'was', 'influenced_by', 'tolstoy', 'and', 'the', 'well', 'field', 'system', 'neopaganism', 'with', 'its', 'focus_on', 'the', 'environment', 'and', 'equality', 'along_with', 'its', 'often', 'decentralized_nature', 'has', 'lead', 'to', 'a', 'number', 'of', 'neopagan', 'anarchists', 'one', 'of', 'the', 'most_prominent', 'is', 'starhawk', 'who', 'writes', 'extensively', 'about', 'both', 'spirituality', 'and', 'activism', 'anarchism', 'and', 'feminism', 'emma_goldman', 'early', 'french', 'feminists', 'such_as', 'jenny', 'd', 'h', 'ricourt', 'and', 'juliette', 'adam', 'criticised', 'the', 'mysogyny', 'in', 'the', 'anarchism', 'of', 'proudhon', 'during', 'the', 'one', 'eight', 'five', 'zero', 's', 'anarcha_feminism', 'is', 'a', 'kind', 'of', 'radical_feminism', 'that', 'espouses', 'the', 'belief_that', 'patriarchy', 'is', 'a', 'fundamental', 'problem', 'in', 'society', 'while', 'anarchist', 'feminism', 'has_existed', 'for', 'more_than', 'a', 'hundred_years', 'its', 'explicit', 'formulation', 'as', 'anarcha_feminism', 'dates_back_to', 'the', 'early', 'seven', 'zero', 's', 'during', 'the', 'second_wave', 'feminist_movement', 'anarcha_feminism', 'views', 'patriarchy', 'as', 'the', 'first', 'manifestation', 'of', 'hierarchy', 'in', 'human', 'history', 'thus', 'the', 'first', 'form', 'of', 'oppression', 'occurred', 'in', 'the', 'dominance', 'of', 'male', 'over', 'female', 'anarcha', 'feminists', 'then', 'conclude_that', 'if', 'feminists', 'are', 'against', 'patriarchy', 'they', 'must', 'also', 'be', 'against', 'all', 'forms', 'of', 'hierarchy', 'and', 'therefore', 'must', 'reject', 'the', 'authoritarian', 'nature', 'of', 'the', 'state', 'and', 'capitalism_anarcho', 'primitivists', 'see', 'the', 'creation', 'of', 'gender_roles', 'and', 'patriarchy', 'a', 'creation', 'of', 'the', 'start', 'of', 'civilization', 'and', 'therefore', 'consider', 'primitivism', 'to', 'also', 'be', 'an_anarchist', 'school', 'of', 'thought', 'that', 'addresses', 'feminist', 'concerns', 'eco', 'feminism', 'is_often_considered', 'a', 'feminist', 'variant', 'of', 'green', 'anarchist', 'feminist', 'thought', 'anarcha_feminism', 'is', 'most_often_associated', 'with', 'early', 'two', 'zero', 'th_century', 'authors', 'and', 'theorists_such_as', 'emma_goldman', 'and', 'voltairine_de', 'cleyre', 'although', 'even', 'early', 'first', 'wave_feminist', 'mary_wollstonecraft', 'held', 'proto', 'anarchist', 'views', 'and', 'william_godwin', 'is_often_considered', 'a', 'feminist', 'anarchist', 'precursor', 'it_should_be', 'noted_that', 'goldman', 'and', 'de_cleyre', 'though', 'they', 'both', 'opposed', 'the', 'state', 'had', 'opposing', 'philosophies', 'as', 'de_cleyre', 'explains', 'miss', 'goldman', 'is', 'a', 'communist', 'i_am', 'an_individualist', 'she', 'wishes', 'to', 'destroy', 'the', 'right', 'of', 'property', 'i_wish', 'to', 'assert', 'it', 'i', 'make', 'my', 'war', 'upon', 'privilege', 'and', 'authority', 'whereby', 'the', 'right', 'of', 'property', 'the', 'true', 'right', 'in', 'that', 'which', 'is', 'proper', 'to', 'the', 'individual', 'is', 'annihilated', 'she_believes', 'that', 'co_operation', 'would', 'entirely', 'supplant', 'competition', 'i', 'hold', 'that', 'competition', 'in', 'one', 'form', 'or', 'another', 'will_always', 'exist', 'and', 'that', 'it', 'is', 'highly_desirable', 'it', 'should', 'in', 'the', 'spanish_civil_war', 'an', 'anarcha', 'feminist', 'group', 'free', 'women', 'organized', 'to_defend', 'both', 'anarchist', 'and', 'feminist_ideas', 'in', 'the', 'modern_day', 'anarchist_movement', 'many', 'anarchists', 'male', 'or', 'female', 'consider_themselves', 'feminists', 'and', 'anarcha', 'feminist_ideas', 'are', 'growing', 'the', 'publishing', 'of', 'quiet', 'rumors', 'an', 'anarcha', 'feminist', 'reader', 'has', 'helped', 'to', 'spread', 'various_kinds', 'of', 'anti_authoritarian', 'and', 'anarchist', 'feminist_ideas', 'to', 'the', 'broader', 'movement', 'wendy_mcelroy', 'has', 'popularized', 'an', 'individualist_anarchism', 'take', 'on', 'feminism', 'in', 'her', 'books', 'articles', 'and', 'individualist', 'feminist', 'website', 'anarcho_capitalism', 'murray_rothbard', 'one', 'nine', 'two', 'six', 'one', 'nine', 'nine', 'five', 'anarcho_capitalism', 'is', 'a', 'predominantly', 'united_states', 'based', 'theoretical', 'tradition', 'that', 'desires', 'a', 'stateless', 'society', 'with', 'the', 'economic_system', 'of', 'free_market_capitalism', 'unlike_other', 'branches', 'of', 'anarchism', 'it', 'does_not', 'oppose', 'profit', 'or', 'capitalism', 'consequently', 'most', 'anarchists', 'do_not', 'recognise', 'anarcho_capitalism', 'as', 'a', 'form', 'of', 'anarchism', 'murray_rothbard', 's', 'synthesis', 'of', 'classical_liberalism', 'and', 'austrian_economics', 'was', 'germinal', 'for', 'the', 'development', 'of', 'contemporary', 'anarcho_capitalist', 'theory', 'he', 'defines', 'anarcho_capitalism', 'in', 'terms', 'of', 'the', 'non_aggression', 'principle', 'based_on', 'the', 'concept', 'of', 'natural_law', 'competiting', 'theorists', 'use', 'egoism', 'utilitarianism', 'used', 'by', 'david_friedman', 'or', 'contractarianism', 'used', 'by', 'jan', 'narveson', 'some', 'minarchists', 'such_as', 'ayn_rand', 'robert_nozick', 'and', 'robert', 'a_heinlein', 'have_influenced', 'anarcho_capitalism', 'some', 'anarcho_capitalists', 'along_with', 'some', 'right_wing', 'libertarian', 'historians', 'such_as', 'david', 'hart', 'and', 'ralph', 'raico', 'considered', 'similar', 'philosophies', 'existing', 'prior_to', 'rothbard', 'to_be', 'anarcho_capitalist', 'such_as', 'those', 'of', 'gustave_de_molinari', 'and', 'auberon_herbert', 'opponents', 'of', 'anarcho_capitalists', 'dispute', 'these', 'claims', 'the', 'place', 'of', 'anarcho_capitalism', 'within', 'anarchism', 'and', 'indeed', 'whether', 'it', 'is', 'a', 'form', 'of', 'anarchism', 'at', 'all', 'is', 'highly_controversial', 'for', 'more', 'on', 'this', 'debate', 'see', 'anarchism', 'and', 'anarcho_capitalism', 'anarchism', 'and', 'the', 'environment', 'since', 'the', 'late', 'one', 'nine', 'seven', 'zero', 's', 'anarchists', 'in', 'anglophone', 'and', 'european_countries', 'have_been', 'taking', 'action', 'for', 'the', 'natural_environment', 'eco_anarchists', 'or', 'green', 'anarchists', 'believe', 'in', 'deep_ecology', 'this', 'is', 'a', 'worldview', 'that', 'embraces', 'biodiversity', 'and', 'sustainability', 'eco_anarchists', 'often', 'use', 'direct_action', 'against', 'what', 'they', 'see', 'as', 'earth', 'destroying', 'institutions', 'of', 'particular_importance', 'is', 'the', 'earth', 'first', 'movement', 'that', 'takes', 'action', 'such_as', 'tree', 'sitting', 'another', 'important_component', 'is', 'ecofeminism', 'which', 'sees', 'the', 'domination', 'of', 'nature', 'as', 'a', 'metaphor', 'for', 'the', 'domination', 'of', 'women', 'green_anarchism', 'also', 'involves', 'a', 'critique', 'of', 'industrial_capitalism', 'and', 'for', 'some', 'green', 'anarchists', 'civilization', 'itself', 'primitivism', 'is', 'a', 'predominantly', 'western_philosophy', 'that', 'advocates', 'a', 'return', 'to', 'a', 'pre_industrial', 'and', 'usually', 'pre', 'agricultural', 'society', 'it', 'develops', 'a', 'critique', 'of', 'industrial', 'civilization', 'in', 'this', 'critique', 'technology', 'and', 'development', 'have', 'alienated', 'people', 'from', 'the', 'natural', 'world', 'this', 'philosophy', 'develops', 'themes', 'present', 'in', 'the', 'political', 'action', 'of', 'the', 'luddites', 'and', 'the', 'writings', 'of', 'jean_jacques_rousseau', 'primitivism', 'developed', 'in', 'the', 'context', 'of', 'the', 'reclaim', 'the', 'streets', 'earth', 'first', 'and', 'the', 'earth_liberation_front', 'movements', 'john_zerzan', 'wrote', 'that', 'civilization', 'not_just', 'the', 'state', 'would_need', 'to', 'fall', 'for', 'anarchy', 'to', 'be_achieved', 'anarcho', 'primitivists', 'point', 'to', 'the', 'anti_authoritarian', 'nature', 'of', 'many', 'primitive', 'or', 'hunter_gatherer_societies', 'throughout', 'the', 'world', 's', 'history', 'as', 'examples', 'of', 'anarchist', 'societies', 'other_branches', 'and', 'offshoots', 'anarchism', 'generates', 'many', 'eclectic', 'and', 'syncretic', 'philosophies', 'and', 'movements', 'since', 'the', 'western', 'social', 'formet', 'in', 'the', 'one', 'nine', 'six', 'zero', 's', 'and', 'one', 'nine', 'seven', 'zero', 's', 'a', 'number', 'new', 'of', 'movements', 'and', 'schools', 'have', 'appeared', 'most', 'of', 'these', 'stances', 'are', 'limited', 'to', 'even', 'smaller_numbers', 'than', 'the', 'schools', 'and', 'movements', 'listed_above', 'hakim_bey', 'post_left_anarchy', 'post_left_anarchy', 'also', 'called', 'egoist', 'anarchism', 'seeks_to', 'distance', 'itself', 'from', 'the', 'traditional', 'left', 'communists', 'liberals', 'social_democrats', 'etc', 'and', 'to', 'escape', 'the', 'confines', 'of', 'ideology', 'in', 'general', 'post', 'leftists', 'argue_that', 'anarchism', 'has_been', 'weakened', 'by', 'its', 'long', 'attachment', 'to', 'contrary', 'leftist', 'movements', 'and', 'single', 'issue', 'causes', 'anti_war', 'anti_nuclear', 'etc', 'it', 'calls_for', 'a', 'synthesis', 'of', 'anarchist', 'thought', 'and', 'a', 'specifically', 'anti_authoritarian', 'revolutionary_movement', 'outside', 'of', 'the', 'leftist', 'milieu', 'it', 'often', 'focuses_on', 'the', 'individual', 'rather_than', 'speaking', 'in', 'terms', 'of', 'class', 'or', 'other', 'broad', 'generalizations', 'and', 'shuns', 'organizational', 'tendencies', 'in', 'favor', 'of', 'the', 'complete_absence', 'of', 'explicit', 'hierarchy', 'important', 'groups', 'and', 'individuals', 'associated_with', 'post_left_anarchy', 'include', 'crimethinc', 'the', 'magazine', 'anarchy', 'a', 'journal', 'of', 'desire', 'armed', 'and', 'its', 'editor', 'jason', 'mcquinn', 'bob', 'black', 'hakim_bey', 'and', 'others', 'for', 'more_information', 'see', 'infoshop_org', 's', 'anarchy', 'after', 'leftism', 'section', 'and', 'the', 'post', 'left', 'section', 'on', 'anarchism', 'ws', 'see_also', 'post_left_anarchy', 'post_structuralism', 'the', 'term', 'postanarchism', 'was', 'originated', 'by', 'saul', 'newman', 'first', 'receiving', 'popular', 'attention', 'in', 'his', 'book', 'from', 'bakunin', 'to', 'lacan', 'to', 'refer_to', 'a', 'theoretical', 'move_towards', 'a', 'synthesis', 'of', 'classical', 'anarchist', 'theory', 'and', 'poststructuralist', 'thought', 'subsequent', 'to', 'newman', 's', 'use', 'of', 'the', 'term', 'however', 'it', 'has', 'taken', 'on', 'a', 'life', 'of', 'its_own', 'and', 'a_wide_range', 'of', 'ideas', 'including', 'autonomism', 'post_left_anarchy', 'situationism', 'post', 'colonialism', 'and', 'zapatismo', 'by', 'its', 'very', 'nature', 'post', 'anarchism', 'rejects', 'the', 'idea_that', 'it_should_be', 'a', 'coherent', 'set', 'of', 'doctrines', 'and', 'beliefs', 'as', 'such', 'it', 'is', 'difficult', 'if', 'not', 'impossible', 'to', 'state', 'with', 'any', 'degree', 'of', 'certainty', 'who', 'should', 'or', 'shouldn_t_be', 'grouped_under', 'the', 'rubric', 'nonetheless', 'key', 'thinkers', 'associated_with', 'post', 'anarchism', 'include', 'saul', 'newman', 'todd', 'may', 'gilles_deleuze', 'and', 'f_lix_guattari', 'external', 'reference', 'postanarchism', 'clearinghouse', 'see_also', 'post', 'anarchism', 'insurrectionary', 'anarchism', 'insurrectionary', 'anarchism', 'is', 'a', 'form', 'of', 'revolutionary', 'anarchism', 'critical', 'of', 'formal', 'anarchist', 'labor_unions', 'and', 'federations', 'insurrectionary', 'anarchists', 'advocate', 'informal', 'organization', 'including', 'small', 'affinity', 'groups', 'carrying_out', 'acts', 'of', 'resistance', 'in', 'various', 'struggles', 'and', 'mass', 'organizations', 'called', 'base', 'structures', 'which', 'can', 'include', 'exploited', 'individuals_who_are', 'not', 'anarchists', 'proponents', 'include', 'wolfi', 'landstreicher', 'and', 'alfredo', 'm', 'bonanno', 'author', 'of', 'works', 'including', 'armed', 'joy', 'and', 'the', 'anarchist', 'tension', 'this', 'tendency', 'is', 'represented', 'in', 'the', 'us', 'in', 'magazines', 'such_as', 'willful', 'disobedience', 'and', 'killing', 'king', 'abacus', 'see_also', 'insurrectionary', 'anarchism', 'small', 'a', 'anarchism', 'small', 'a', 'anarchism', 'is', 'a', 'term', 'used', 'in', 'two', 'different', 'but', 'not', 'unconnected', 'contexts', 'dave', 'neal', 'posited', 'the', 'term', 'in', 'opposition', 'to', 'big', 'a', 'anarchism', 'in', 'the', 'article', 'anarchism', 'ideology', 'or', 'methodology', 'while', 'big', 'a', 'anarchism', 'referred_to', 'ideological', 'anarchists', 'small', 'a', 'anarchism', 'was', 'applied', 'to', 'their', 'methodological', 'counterparts', 'those_who', 'viewed', 'anarchism', 'as', 'a', 'way', 'of', 'acting', 'or', 'a', 'historical', 'tendency', 'against', 'illegitimate', 'authority', 'as', 'an', 'anti', 'ideological', 'position', 'small', 'a', 'anarchism', 'shares', 'some', 'similarities', 'with', 'post_left_anarchy', 'david', 'graeber', 'and', 'andrej', 'grubacic', 'offer', 'an_alternative', 'use', 'of', 'the', 'term', 'applying', 'it', 'to', 'groups', 'and', 'movements', 'organising', 'according_to', 'or', 'acting', 'in', 'a', 'manner_consistent_with', 'anarchist_principles', 'of', 'decentralisation', 'voluntary_association', 'mutual_aid', 'the', 'network', 'model', 'and', 'crucially', 'the', 'rejection', 'of', 'any', 'idea_that', 'the', 'end', 'justifies', 'the', 'means', 'let_alone', 'that', 'the', 'business', 'of', 'a', 'revolutionary', 'is', 'to_seize', 'state', 'power', 'and', 'then', 'begin', 'imposing', 'one', 's', 'vision', 'at', 'the', 'point', 'of', 'a', 'gun', 'other', 'issues', 'conceptions', 'of', 'an', 'anarchist_society', 'many', 'political', 'philosophers', 'justify', 'support', 'of', 'the', 'state', 'as', 'a', 'means', 'of', 'regulating', 'violence', 'so', 'that', 'the', 'destruction', 'caused_by', 'human', 'conflict', 'is', 'minimized', 'and', 'fair', 'relationships', 'are', 'established', 'anarchists', 'argue_that', 'pursuit', 'of', 'these', 'ends', 'does_not', 'justify', 'the', 'establishment', 'of', 'a', 'state', 'many', 'argue_that', 'the', 'state', 'is', 'incompatible_with', 'those', 'goals', 'and', 'the', 'cause', 'of', 'chaos', 'violence', 'and', 'war', 'anarchists', 'argue_that', 'the', 'state', 'helps', 'to_create', 'a', 'monopoly', 'on', 'violence', 'and', 'uses', 'violence', 'to', 'advance', 'elite', 'interests', 'much', 'effort', 'has_been', 'dedicated', 'to', 'explaining_how', 'anarchist', 'societies', 'would', 'handle', 'criminality', 'see_also', 'anarchism', 'and', 'society', 'civil_rights', 'and', 'cultural', 'sovereignty', 'black', 'anarchism', 'opposes', 'the', 'existence', 'of', 'a', 'state', 'capitalism', 'and', 'subjugation', 'and', 'domination', 'of', 'people', 'of', 'color', 'and', 'favors', 'a', 'non', 'hierarchical_organization', 'of', 'society', 'theorists', 'include', 'ashanti', 'alston', 'lorenzo', 'komboa', 'ervin', 'and', 'sam', 'mbah', 'anarchist', 'people', 'of', 'color', 'was', 'created', 'as', 'a', 'forum', 'for', 'non', 'caucasian', 'anarchists', 'to', 'express', 'their', 'thoughts', 'about', 'racial', 'issues', 'within', 'the', 'anarchist_movement', 'particularly', 'within', 'the', 'united_states', 'national', 'anarchism', 'is', 'a', 'political', 'view', 'which', 'seeks_to', 'unite', 'cultural', 'or', 'ethnic', 'preservation', 'with', 'anarchist', 'views', 'its_adherents', 'propose', 'that', 'those', 'preventing', 'ethnic_groups', 'or', 'races', 'from', 'living', 'in', 'separate', 'autonomous', 'groupings', 'should_be', 'resisted', 'anti_racist', 'action', 'is', 'not', 'an_anarchist', 'group', 'but', 'many', 'anarchists', 'are', 'involved', 'it', 'focuses_on', 'publicly', 'confronting', 'racist', 'agitators', 'the', 'zapatista', 'movement', 'of', 'chiapas_mexico', 'is', 'a', 'cultural', 'sovereignty', 'group', 'with', 'some', 'anarchist', 'proclivities', 'neocolonialism', 'and', 'globalization', 'nearly_all', 'anarchists', 'oppose', 'neocolonialism', 'as', 'an_attempt_to', 'use', 'economic_coercion', 'on', 'a', 'global_scale', 'carried_out', 'through', 'state', 'institutions', 'such_as', 'the', 'world_bank', 'world_trade_organization', 'group', 'of', 'eight', 'and', 'the', 'world_economic_forum', 'globalization', 'is', 'an', 'ambiguous', 'term', 'that', 'has', 'different_meanings', 'to', 'different', 'anarchist', 'factions', 'most', 'anarchists', 'use', 'the', 'term', 'to', 'mean', 'neocolonialism', 'and', 'or', 'cultural_imperialism', 'which', 'they', 'may', 'see', 'as', 'related', 'many', 'are', 'active', 'in', 'the', 'anti_globalization_movement', 'others', 'particularly', 'anarcho_capitalists', 'use', 'globalization', 'to', 'mean', 'the', 'worldwide', 'expansion', 'of', 'the', 'division', 'of', 'labor', 'and', 'trade', 'which', 'they', 'see', 'as', 'beneficial', 'so_long', 'as', 'governments', 'do_not', 'intervene', 'parallel', 'structures', 'many', 'anarchists', 'try_to', 'set_up', 'alternatives', 'to', 'state', 'supported', 'institutions', 'and', 'outposts', 'such_as', 'food', 'not', 'bombs', 'infoshops', 'educational', 'systems', 'such_as', 'home_schooling', 'neighborhood', 'mediation_arbitration', 'groups', 'and', 'so', 'on', 'the', 'idea', 'is', 'to_create', 'the', 'structures', 'for', 'a', 'new', 'anti_authoritarian', 'society', 'in', 'the', 'shell', 'of', 'the', 'old', 'authoritarian', 'one', 'technology', 'recent', 'technological_developments', 'have', 'made', 'the', 'anarchist', 'cause', 'both', 'easier', 'to', 'advance', 'and', 'more', 'conceivable', 'to', 'people', 'many', 'people', 'use', 'the', 'internet', 'to', 'form', 'on', 'line', 'communities', 'intellectual_property', 'is', 'undermined', 'and', 'a', 'gift', 'culture', 'supported_by', 'sharing', 'music', 'files', 'open_source', 'programming', 'and', 'the', 'free_software_movement', 'these', 'cyber', 'communities', 'include', 'the', 'gnu_linux', 'indymedia', 'and', 'wiki', 'some', 'anarchists', 'see', 'information_technology', 'as', 'the', 'best', 'weapon', 'to', 'defeat', 'authoritarianism', 'some', 'even', 'think', 'the', 'information', 'age', 'makes', 'eventual', 'anarchy', 'inevitable', 'see_also', 'crypto_anarchism', 'and', 'cypherpunk', 'pacifism', 'some', 'anarchists', 'consider', 'pacifism', 'opposition', 'to', 'war', 'to_be', 'inherent', 'in', 'their', 'philosophy', 'anarcho', 'pacifists', 'take', 'it', 'further', 'and', 'follow', 'leo_tolstoy', 's', 'belief', 'in', 'non_violence', 'anarchists', 'see', 'war', 'as', 'an', 'activity', 'in', 'which', 'the', 'state', 'seeks_to', 'gain', 'and', 'consolidate_power', 'both', 'domestically', 'and', 'in', 'foreign', 'lands', 'and', 'subscribe_to', 'randolph', 'bourne', 's', 'view', 'that', 'war', 'is', 'the', 'health', 'of', 'the', 'state', 'a_lot', 'of', 'anarchist', 'activity', 'has_been', 'anti_war', 'based', 'parliamentarianism', 'in', 'general', 'terms', 'the', 'anarchist', 'ethos', 'opposes', 'voting', 'in', 'elections', 'because', 'voting', 'amounts', 'to', 'condoning', 'the', 'state', 'voluntaryism', 'is', 'an_anarchist', 'school', 'of', 'thought', 'which', 'emphasizes', 'tending', 'your_own', 'garden', 'and', 'neither', 'ballots', 'nor', 'bullets', 'the', 'anarchist', 'case', 'against', 'voting', 'is', 'explained', 'in', 'the', 'ethics', 'of', 'voting', 'by', 'george_h', 'smith', 'also', 'see', 'voting', 'anarchists', 'an_oxymoron', 'or', 'what', 'by', 'joe', 'peacott', 'and', 'writings', 'by', 'fred', 'woodworth', 'sectarianism', 'most', 'anarchist', 'schools', 'of', 'thought', 'are', 'to_some_degree', 'sectarian', 'there_is', 'often', 'a', 'difference', 'of', 'opinion', 'within', 'each', 'school', 'about', 'how', 'to', 'react', 'to', 'or', 'interact_with', 'other', 'schools', 'some', 'such_as', 'panarchists', 'believe_that', 'it', 'is', 'possible', 'for', 'a_variety', 'of', 'modes', 'of', 'social', 'life', 'to', 'coexist', 'and', 'compete', 'some', 'anarchists', 'view', 'opposing', 'schools', 'as', 'a', 'social', 'impossibility', 'and', 'resist', 'interaction', 'others', 'see', 'opportunities_for', 'coalition', 'building', 'or', 'at_least', 'temporary', 'alliances', 'for_specific_purposes', 'see', 'anarchism', 'without', 'adjectives', 'criticisms', 'of', 'anarchism', 'main_article', 'criticisms', 'of', 'anarchism', 'violence', 'since', 'anarchism', 'has', 'often_been', 'associated_with', 'violence', 'and', 'destruction', 'some', 'people', 'have_seen', 'it', 'as', 'being', 'too', 'violent', 'on', 'the', 'other_hand', 'hand', 'frederick_engels', 'criticsed', 'anarchists', 'for', 'not', 'being', 'violent', 'enough', 'a', 'revolution', 'is', 'certainly', 'the', 'most', 'authoritarian', 'thing', 'there_is', 'it', 'is', 'the', 'act', 'whereby', 'one', 'part', 'of', 'the', 'population', 'imposes', 'its', 'will', 'upon', 'the', 'other', 'part', 'by', 'means', 'of', 'rifles', 'bayonets', 'and', 'cannon', 'authoritarian', 'means', 'if', 'such', 'there', 'be', 'at', 'all', 'and', 'if', 'the', 'victorious', 'party', 'does_not_want', 'to', 'have', 'fought', 'in', 'vain', 'it', 'must_maintain', 'this', 'rule', 'by', 'means', 'of', 'the', 'terror', 'which', 'its', 'arms', 'inspire', 'in', 'the', 'reactionists', 'would', 'the', 'paris_commune', 'have', 'lasted', 'a', 'single', 'day', 'if', 'it', 'had', 'not', 'made', 'use', 'of', 'this', 'authority', 'of', 'the', 'armed', 'people', 'against', 'the', 'bourgeois', 'utopianism', 'anarchism', 'is', 'often_criticised', 'as', 'unfeasible', 'or', 'plain', 'utopian', 'even', 'by', 'many', 'who', 'agree_that', 'it', 's', 'a', 'nice', 'idea', 'in', 'principle', 'for_example', 'carl', 'landauer', 'in', 'his', 'book', 'european', 'socialism', 'criticizes', 'anarchism', 'as', 'being', 'unrealistically', 'utopian', 'and', 'holds_that', 'government', 'is', 'a', 'lesser', 'evil', 'than', 'a', 'society', 'without', 'repressive', 'force', 'he', 'holds_that', 'the', 'belief_that', 'ill', 'intentions', 'will_cease', 'if', 'repressive', 'force', 'disappears', 'is', 'an', 'absurdity', 'however', 'it', 'must_be_noted_that', 'not', 'all', 'anarchists', 'have', 'such', 'a', 'utopian', 'view', 'of', 'anarchism', 'for_example', 'some', 'such_as', 'benjamin_tucker', 'advocate', 'privately_funded', 'institutions', 'that', 'defend', 'individual_liberty', 'and', 'property', 'however', 'other', 'anarchists', 'such_as', 'sir_herbert', 'read', 'proudly', 'accept', 'the', 'characterization', 'utopian', 'class', 'character', 'marxists', 'have', 'characterised', 'anarchism', 'as', 'an_expression', 'of', 'the', 'class', 'interests', 'of', 'the', 'petite', 'bourgeoisie', 'or', 'perhaps', 'the', 'lumpenproletariat', 'see', 'e_g', 'plekhanov', 'for', 'a', 'marxist_critique', 'of', 'one', 'eight', 'nine', 'five', 'anarchists', 'have', 'also_been', 'characterised_as', 'spoilt', 'middle_class', 'dilettantes', 'most_recently', 'in', 'relation', 'to', 'anti_capitalist', 'protesters', 'tacit', 'authoritarianism', 'in_recent_decades', 'anarchism', 'has_been_criticised', 'by', 'situationists', 'post', 'anarchists', 'and', 'others', 'of', 'preserving', 'tacitly', 'statist', 'authoritarian', 'or', 'bureaucratic', 'tendencies', 'behind', 'a', 'dogmatic', 'facade', 'hypocrisy', 'some_critics', 'point', 'to', 'the', 'sexist', 'and', 'racist_views', 'of', 'some', 'prominent', 'anarchists', 'notably', 'proudhon', 'and', 'bakunin', 'as', 'examples', 'of', 'hypocrisy', 'inherent', 'within', 'anarchism', 'while', 'many', 'anarchists', 'however', 'dismiss', 'that', 'the', 'personal', 'prejudices', 'of', 'one', 'nine', 'th_century', 'theorists', 'influence', 'the', 'beliefs', 'of', 'present_day', 'anarchists', 'others', 'criticise', 'modern', 'anarchism', 'for', 'continuing', 'to_be', 'eurocentric', 'and', 'reference', 'the', 'impact', 'of', 'anarchist', 'thinkers', 'like', 'proudhon', 'on', 'fascism', 'through', 'groups', 'like', 'cercle', 'proudhon', 'anarcho_capitalist', 'bryan', 'caplan', 'argues_that', 'the', 'treatment', 'of', 'fascists', 'and', 'suspected', 'fascist', 'sympathizers', 'by', 'spanish', 'anarchists', 'in', 'the', 'spanish_civil_war', 'was', 'a', 'form', 'of', 'illegitimate', 'coercion', 'making', 'the', 'proffessed', 'anarchists', 'ultimately', 'just', 'a', 'third', 'faction', 'of', 'totalitarians', 'alongside', 'the', 'communists', 'and', 'fascists', 'he', 'also', 'criticizes', 'the', 'willingness', 'of', 'the', 'cnt', 'to_join', 'the', 'statist', 'republican_government', 'during', 'the', 'civil_war', 'and', 'references', 'stanley', 'g', 'payne', 's', 'book', 'on', 'the', 'franco_regime', 'which', 'claims_that', 'the', 'cnt', 'entered', 'negotiations_with', 'the', 'fascist_government', 'six', 'years_after', 'the', 'war', 'cultural', 'phenomena', 'noam_chomsky', 'one', 'nine', 'two', 'eight', 'the', 'kind', 'of', 'anarchism', 'that', 'is', 'most', 'easily', 'encountered', 'in', 'popular_culture', 'is', 'represented_by', 'celebrities', 'who', 'publicly', 'identify_themselves_as', 'anarchists', 'although', 'some', 'anarchists', 'reject_any', 'focus_on', 'such', 'famous', 'living', 'individuals', 'as', 'inherently', 'litist', 'the', 'following', 'figures', 'are', 'examples', 'of', 'prominent', 'publicly', 'self', 'avowed', 'anarchists', 'the', 'mit', 'professor', 'of', 'linguistics', 'noam_chomsky', 'the', 'science_fiction_author', 'ursula_k_le_guin', 'the', 'social', 'historian', 'howard_zinn', 'entertainer', 'and', 'author', 'hans', 'alfredsson', 'the', 'avant_garde', 'artist', 'nicol', 's', 'rossell', 'in', 'denmark', 'the', 'freetown', 'christiania', 'was', 'created', 'in', 'downtown', 'copenhagen', 'the', 'housing', 'and', 'employment', 'crisis', 'in', 'most', 'of', 'western_europe', 'led', 'to', 'the', 'formation', 'of', 'communes', 'and', 'squatter', 'movements', 'like', 'the', 'one', 'still', 'thriving', 'in', 'barcelona', 'in', 'catalonia', 'militant', 'resistance', 'to', 'neo_nazi_groups', 'in', 'places_like', 'germany', 'and', 'the', 'uprisings', 'of', 'autonomous', 'marxism', 'situationist', 'and', 'autonomist', 'groups', 'in', 'france', 'and', 'italy', 'also', 'helped', 'to', 'give', 'popularity', 'to', 'anti_authoritarian', 'non', 'capitalist', 'ideas', 'in', 'various', 'musical_styles', 'anarchism', 'rose', 'in', 'popularity', 'most_famous', 'for', 'the', 'linking', 'of', 'anarchist_ideas', 'and', 'music', 'has_been', 'punk_rock', 'although', 'in', 'the', 'modern', 'age', 'hip_hop', 'and', 'folk_music', 'are', 'also', 'becoming', 'important', 'mediums', 'for', 'the', 'spreading', 'of', 'the', 'anarchist', 'message', 'in', 'the', 'uk', 'this', 'was', 'associated_with', 'the', 'punk_rock', 'movement', 'the', 'band_crass', 'is', 'celebrated', 'for', 'its', 'anarchist', 'and', 'pacifist', 'ideas', 'the', 'dutch', 'punk_band', 'the', 'ex', 'further', 'exemplifies', 'this', 'expression', 'for_further_details', 'see', 'anarcho_punk', 'see_also', 'there_are_many', 'concepts', 'relevant', 'to', 'the', 'topic', 'of', 'anarchism', 'this', 'is', 'a', 'brief_summary', 'there_is', 'also', 'a', 'more_extensive', 'list', 'of', 'anarchist', 'concepts', 'individualist_anarchism', 'anarcho_communism', 'anarcho_syndicalism', 'anarcho_capitalism', 'mutualism', 'christian_anarchism', 'anarcha_feminism', 'green_anarchism', 'nihilist', 'anarchism_anarcho', 'nationalism', 'black', 'anarchism', 'national', 'anarchism', 'post', 'anarchism', 'post', 'left', 'anarchism', 'libertarian_socialism', 'anarchist', 'symbolism', 'list', 'of', 'anarchism', 'links', 'list', 'of', 'anarchists', 'list', 'of', 'anarchist_organizations', 'major', 'conflicts', 'within', 'anarchist', 'thought', 'past', 'and', 'present', 'anarchist', 'communities', 'historical_events', 'paris_commune', 'one', 'eight', 'seven', 'one', 'haymarket_riot', 'one', 'eight', 'eight', 'six', 'the', 'makhnovschina', 'one', 'nine', 'one', 'seven', 'one', 'nine', 'two', 'one', 'kronstadt_rebellion', 'one', 'nine', 'two', 'one', 'spanish', 'revolution', 'one', 'nine', 'three', 'six', 'see', 'anarchism', 'in', 'spain', 'and', 'spanish', 'revolution', 'may', 'one', 'nine', 'six', 'eight', 'france', 'one', 'nine', 'six', 'eight', 'wto', 'meeting', 'in', 'seattle', 'one', 'nine', 'nine', 'nine', 'books', 'the', 'following', 'is', 'a', 'sample', 'of', 'books', 'that', 'have_been', 'referenced', 'in', 'this', 'page', 'a', 'more_complete_list', 'can_be_found', 'at', 'the', 'list', 'of', 'anarchist', 'books', 'mikhail_bakunin', 'god', 'and', 'the', 'state', 'emma_goldman', 'anarchism', 'other', 'essays', 'peter_kropotkin', 'mutual_aid', 'pierre_joseph_proudhon', 'what', 'is', 'property', 'rudolf_rocker', 'anarcho_syndicalism', 'murray_rothbard', 'the', 'ethics', 'of', 'liberty', 'max_stirner', 'the', 'ego', 'and', 'its_own', 'leo_tolstoy', 'the', 'kingdom', 'of', 'god', 'is', 'within', 'you', 'anarchism', 'by', 'region', 'culture', 'african', 'anarchism', 'anarchism', 'in', 'spain', 'anarchism', 'in', 'the', 'english', 'tradition', 'chinese', 'anarchism', 'references', 'these', 'notes', 'have', 'no', 'corresponding', 'reference', 'in', 'the', 'article', 'they', 'might_be', 're', 'used', 'against', 'politics', 'appleton', 'boston', 'anarchists', 'yarros', 'victor', 'liberty', 'vii', 'january', 'two', 'one', 'eight', 'nine', 'two', 'noam_chomsky', 'on', 'anarchism', 'by', 'noam_chomsky', 'external_links', 'the', 'overwhelming', 'diversity', 'and', 'number', 'of', 'links', 'relating_to', 'anarchism', 'is', 'extensively_covered', 'on', 'the', 'links', 'subpage', 'anarchoblogs', 'blogs', 'by', 'anarchists', 'anarchy', 'archives', 'extensively', 'archives', 'information', 'relating_to', 'famous', 'anarchists', 'this', 'includes', 'many', 'of', 'their', 'books', 'and', 'other', 'publications', 'hundreds', 'of', 'anarchists', 'are_listed', 'with', 'short', 'bios', 'links', 'dedicated', 'pages', 'at', 'the', 'daily', 'bleed', 's', 'anarchist', 'encyclopedia', 'infoshop_org', 'wikipedia_page', 'industrial_workers', 'of', 'the', 'world', 'anarchism', 'forms', 'of', 'government', 'political_ideology', 'entry', 'points', 'political_theories', 'social_philosophy', 'autism', 'is', 'classified_as', 'a', 'neurodevelopmental', 'disorder', 'that', 'manifests_itself', 'in', 'markedly', 'abnormal', 'social_interaction', 'communication', 'ability', 'patterns', 'of', 'interests', 'and', 'patterns', 'of', 'behavior', 'although', 'the', 'specific', 'etiology', 'of', 'autism', 'is', 'unknown', 'many', 'researchers', 'suspect', 'that', 'autism', 'results', 'from', 'genetically', 'mediated', 'vulnerabilities', 'to', 'environmental', 'triggers', 'and', 'while', 'there_is', 'disagreement_about', 'the', 'magnitude', 'nature', 'and', 'mechanisms', 'for', 'such', 'environmental_factors', 'researchers_have', 'found', 'at_least', 'seven', 'major', 'genes', 'prevalent_among', 'individuals', 'diagnosed', 'as', 'autistic', 'some', 'estimate', 'that', 'autism', 'occurs', 'in', 'as', 'many', 'as', 'one', 'united_states', 'child', 'in', 'one', 'six', 'six', 'however', 'the', 'national_institute', 'of', 'mental_health', 'gives', 'a', 'more', 'conservative_estimate', 'of', 'one', 'in', 'one', 'zero', 'zero', 'zero', 'for', 'families', 'that', 'already', 'have', 'one', 'autistic_child', 'the', 'odds', 'of', 'a', 'second', 'autistic_child', 'may_be', 'as', 'high', 'as', 'one', 'in', 'twenty', 'diagnosis', 'is', 'based_on', 'a', 'list', 'of', 'psychiatric', 'criteria', 'and', 'a', 'series', 'of', 'standardized', 'clinical_tests', 'may_also', 'be', 'used', 'autism', 'may_not', 'be', 'physiologically', 'obvious', 'a', 'complete', 'physical', 'and', 'neurological', 'evaluation', 'will', 'typically', 'be', 'part', 'of', 'diagnosing', 'autism', 'some', 'now', 'speculate_that', 'autism', 'is', 'not', 'a', 'single', 'condition', 'but', 'a', 'group', 'of', 'several', 'distinct', 'conditions', 'that', 'manifest', 'in', 'similar', 'ways', 'by', 'definition', 'autism', 'must', 'manifest', 'delays', 'in', 'social_interaction', 'language', 'as', 'used', 'in', 'social', 'communication', 'or', 'symbolic', 'or', 'imaginative', 'play', 'with', 'onset', 'prior_to', 'age', 'three', 'years', 'according_to', 'the', 'diagnostic', 'and', 'statistical_manual', 'of', 'mental_disorders', 'the', 'icd', 'one', 'zero', 'also', 'says_that', 'symptoms', 'must', 'manifest', 'before', 'the', 'age', 'of', 'three', 'years', 'there_have_been', 'large', 'increases', 'in', 'the', 'reported', 'incidence', 'of', 'autism', 'for', 'reasons', 'that', 'are', 'heavily_debated', 'by', 'researchers', 'in', 'psychology', 'and', 'related_fields', 'within', 'the', 'scientific_community', 'some', 'children', 'with', 'autism', 'have', 'improved', 'their', 'social', 'and', 'other', 'skills', 'to', 'the', 'point_where', 'they', 'can', 'fully', 'participate_in', 'mainstream', 'education', 'and', 'social_events', 'but', 'there_are', 'lingering', 'concerns', 'that', 'an_absolute', 'cure', 'from', 'autism', 'is', 'impossible', 'with', 'current', 'technology', 'however', 'many', 'autistic_children', 'and', 'adults', 'who', 'are', 'able_to_communicate', 'at_least', 'in', 'writing', 'are', 'opposed', 'to', 'attempts_to', 'cure', 'their', 'conditions', 'and', 'see', 'such', 'conditions', 'as', 'part', 'of', 'who', 'they_are', 'history', 'dr', 'hans_asperger', 'described', 'a', 'form', 'of', 'autism', 'in', 'the', 'one', 'nine', 'four', 'zero', 's', 'that', 'later_became_known_as', 'asperger_s_syndrome', 'the', 'word', 'autism', 'was', 'first', 'used', 'in', 'the', 'english_language', 'by', 'swiss_psychiatrist', 'eugene_bleuler', 'in', 'a', 'one', 'nine', 'one', 'two', 'number', 'of', 'the', 'american_journal', 'of', 'insanity', 'it', 'comes_from', 'the', 'greek_word_for', 'self', 'however', 'the', 'classification', 'of', 'autism', 'did_not_occur', 'until', 'the', 'middle', 'of', 'the', 'twentieth_century', 'when', 'in', 'one', 'nine', 'four', 'three', 'psychiatrist_dr', 'leo', 'kanner', 'of', 'the', 'johns_hopkins', 'hospital', 'in', 'baltimore', 'reported', 'on', 'one', 'one', 'child', 'patients_with', 'striking', 'behavioral', 'similarities', 'and', 'introduced', 'the', 'label', 'early_infantile', 'autism', 'he', 'suggested', 'autism', 'from', 'the', 'greek', 'autos', 'meaning', 'self', 'to_describe', 'the', 'fact_that', 'the', 'children', 'seemed', 'to', 'lack', 'interest', 'in', 'other', 'people', 'although', 'kanner', 's', 'first', 'paper', 'on', 'the', 'subject', 'was', 'published', 'in', 'a', 'now_defunct', 'journal', 'the', 'nervous', 'child', 'almost_every', 'characteristic', 'he', 'originally', 'described', 'is', 'still', 'regarded_as', 'typical', 'of', 'the', 'autistic_spectrum', 'of', 'disorders', 'at', 'the', 'same_time', 'an', 'austrian', 'scientist', 'dr', 'hans_asperger', 'described', 'a', 'different', 'form', 'of', 'autism', 'that', 'became_known_as', 'asperger_s_syndrome', 'but', 'the', 'widespread', 'recognition', 'of', 'asperger_s', 'work', 'was', 'delayed', 'by', 'world_war_ii', 'in', 'germany', 'and', 'by', 'the', 'fact_that', 'his', 'seminal', 'paper', 'wasn_t', 'translated_into_english', 'for', 'almost', 'five', 'zero', 'years', 'the', 'majority', 'of', 'his', 'work', 'wasn_t', 'widely_read', 'until', 'one', 'nine', 'nine', 'seven', 'thus', 'these', 'two', 'conditions', 'were', 'described', 'and', 'are', 'today', 'listed', 'in', 'the', 'diagnostic', 'and', 'statistical_manual', 'of', 'mental_disorders', 'dsm_iv_tr', 'fourth_edition', 'text', 'revision', 'one', 'as', 'two', 'of', 'the', 'five', 'pervasive_developmental_disorders', 'pdd', 'more', 'often_referred_to', 'today', 'as', 'autism_spectrum', 'disorders', 'asd', 'all', 'of', 'these', 'conditions', 'are', 'characterized_by', 'varying_degrees', 'of', 'difference', 'in', 'communication_skills', 'social_interactions', 'and', 'restricted', 'repetitive', 'and', 'stereotyped', 'patterns', 'of', 'behavior', 'few', 'clinicians', 'today', 'solely', 'use', 'the', 'dsm_iv', 'criteria_for', 'determining', 'a', 'diagnosis', 'of', 'autism', 'which', 'are', 'based_on', 'the', 'absence', 'or', 'delay', 'of', 'certain', 'developmental', 'milestones', 'many', 'clinicians', 'instead', 'use', 'an_alternate', 'means', 'or', 'a', 'combination_thereof', 'to', 'more_accurately', 'determine', 'a', 'diagnosis', 'terminology', 'when_referring_to', 'someone', 'diagnosed_with', 'autism', 'the', 'term', 'autistic', 'is_often_used', 'however', 'the', 'term', 'person', 'with', 'autism', 'can_be_used', 'instead', 'this', 'is', 'referred_to_as', 'person', 'first', 'terminology', 'the', 'autistic', 'community', 'generally', 'prefers', 'the', 'term', 'autistic', 'for', 'reasons', 'that', 'are', 'fairly', 'controversial', 'this_article', 'uses', 'the', 'term', 'autistic', 'see', 'talk_page', 'characteristics', 'dr_leo', 'kanner', 'introduced', 'the', 'label', 'early_infantile', 'autism', 'in', 'one', 'nine', 'four', 'three', 'there_is', 'a', 'great_diversity', 'in', 'the', 'skills', 'and', 'behaviors', 'of', 'individuals', 'diagnosed', 'as', 'autistic', 'and', 'physicians', 'will', 'often', 'arrive_at', 'different', 'conclusions_about', 'the', 'appropriate', 'diagnosis', 'much', 'of', 'this', 'is', 'due_to', 'the', 'sensory', 'system', 'of', 'an', 'autistic', 'which', 'is', 'quite_different_from', 'the', 'sensory', 'system', 'of', 'other', 'people', 'since', 'certain', 'stimulations', 'can_affect', 'an', 'autistic', 'differently_than', 'a', 'non_autistic', 'and', 'the', 'degree', 'to', 'which', 'the', 'sensory', 'system', 'is', 'affected', 'varies_wildly', 'from', 'one', 'autistic', 'person', 'to', 'another', 'nevertheless', 'professionals', 'within', 'pediatric', 'care', 'and', 'development', 'often', 'look', 'for', 'early', 'indicators', 'of', 'autism', 'in', 'order', 'to', 'initiate', 'treatment', 'as', 'early', 'as', 'possible', 'however', 'some', 'people', 'do_not_believe', 'in', 'treatment', 'for', 'autism', 'either', 'because_they_do_not', 'believe', 'autism', 'is', 'a', 'disorder', 'or', 'because_they_believe', 'treatment', 'can_do', 'more', 'harm', 'than', 'good', 'social_development', 'typically', 'developing', 'infants', 'are', 'social', 'beings', 'early', 'in', 'life', 'they_do', 'such_things', 'as', 'gaze', 'at', 'people', 'turn', 'toward', 'voices', 'grasp', 'a', 'finger', 'and', 'even', 'smile', 'in', 'contrast', 'most', 'autistic_children', 'prefer', 'objects', 'to', 'faces', 'and', 'seem_to', 'have', 'tremendous', 'difficulty_learning', 'to', 'engage', 'in', 'the', 'give', 'and', 'take', 'of', 'everyday', 'human_interaction', 'even', 'in', 'the', 'first', 'few_months', 'of', 'life', 'many', 'seem', 'indifferent', 'to', 'other', 'people', 'because_they', 'avoid', 'eye_contact', 'and', 'do_not', 'interact_with', 'them', 'as', 'often', 'as', 'non_autistic', 'children', 'children', 'with', 'autism', 'often', 'appear', 'to', 'prefer', 'being', 'alone', 'to', 'the', 'company', 'of', 'others', 'and', 'may', 'passively', 'accept', 'such_things', 'as', 'hugs', 'and', 'cuddling', 'without', 'reciprocating', 'or', 'resist', 'attention', 'altogether', 'later', 'they', 'seldom', 'seek', 'comfort', 'from', 'others', 'or', 'respond', 'to', 'parents', 'displays', 'of', 'anger', 'or', 'affection', 'in', 'a', 'typical', 'way', 'research', 'has_suggested_that', 'although', 'autistic_children', 'are', 'attached_to', 'their_parents', 'their', 'expression', 'of', 'this', 'attachment', 'is', 'unusual', 'and', 'difficult', 'to', 'interpret', 'parents', 'who', 'looked_forward_to', 'the', 'joys', 'of', 'cuddling', 'teaching', 'and', 'playing', 'with', 'their', 'child', 'may', 'feel', 'crushed', 'by', 'this', 'lack', 'of', 'expected', 'attachment', 'behavior', 'children', 'with', 'autism', 'appear', 'to', 'lack', 'theory', 'of', 'mind', 'the', 'ability_to', 'see', 'things', 'from', 'another_person', 's', 'perspective', 'a', 'behavior', 'cited', 'as', 'exclusive', 'to', 'human_beings', 'above', 'the', 'age', 'of', 'five', 'and', 'possibly', 'other', 'higher', 'primates', 'such_as', 'adult', 'gorillas', 'chimpanzees', 'and', 'bonobos', 'typical', 'five', 'year_olds', 'can', 'develop', 'insights_into', 'other', 'people', 's', 'different', 'knowledge', 'feelings', 'and', 'intentions', 'interpretations', 'based_upon', 'social', 'cues', 'e_g', 'gestures', 'facial_expressions', 'an_individual', 'with', 'autism', 'seems_to', 'lack', 'these', 'interpretation', 'skills', 'an', 'inability', 'that', 'leaves', 'them', 'unable_to', 'predict', 'or', 'understand', 'other', 'people', 's', 'actions', 'the', 'social', 'alienation', 'of', 'autistic', 'and', 'asperger_s', 'people', 'is', 'so', 'intense', 'from', 'childhood', 'that', 'many', 'of', 'them', 'have', 'imaginary_friends', 'as', 'companionship', 'however', 'having', 'an_imaginary', 'friend', 'is', 'not_necessarily', 'a', 'sign', 'of', 'autism', 'and', 'also', 'occurs', 'in', 'non_autistic', 'children', 'although', 'not', 'universal', 'it', 'is', 'common', 'for', 'autistic_people', 'to', 'not', 'regulate', 'their', 'behavior', 'this', 'can_take', 'the', 'form', 'of', 'crying', 'or', 'verbal', 'outbursts', 'that', 'may_seem', 'out', 'of', 'proportion', 'to', 'the', 'situation', 'individuals', 'with', 'autism', 'generally', 'prefer', 'consistent', 'routines', 'and', 'environments', 'they', 'may', 'react', 'negatively', 'to', 'changes', 'in', 'them', 'it', 'is_not_uncommon', 'for', 'these', 'individuals', 'to', 'exhibit', 'aggression', 'increased', 'levels', 'of', 'self', 'stimulatory', 'behavior', 'self', 'injury', 'or', 'extensive', 'withdrawal', 'in', 'overwhelming', 'situations', 'sensory', 'system', 'a', 'key', 'indicator', 'to', 'clinicians', 'making', 'a', 'proper', 'assessment', 'for', 'autism', 'would', 'include', 'looking_for', 'symptoms', 'much_like', 'those', 'found', 'in', 'sensory', 'integration', 'dysfunction', 'children', 'will', 'exhibit', 'problems', 'coping_with', 'the', 'normal', 'sensory_input', 'indicators', 'of', 'this', 'disorder', 'include', 'oversensitivity', 'or', 'underreactivity', 'to', 'touch', 'movement', 'sights', 'or', 'sounds', 'physical', 'clumsiness', 'or', 'carelessness', 'poor', 'body', 'awareness', 'a', 'tendency', 'to_be', 'easily', 'distracted', 'impulsive', 'physical', 'or', 'verbal_behavior', 'an', 'activity', 'level', 'that', 'is', 'unusually_high', 'or', 'low', 'not', 'unwinding', 'or', 'calming', 'oneself', 'difficulty_learning', 'new', 'movements', 'difficulty', 'in', 'making', 'transitions', 'from', 'one', 'situation', 'to', 'another', 'social', 'and', 'or', 'emotional_problems', 'delays', 'in', 'speech', 'language', 'or', 'motor_skills', 'specific', 'learning_difficulties', 'delays', 'in', 'academic_achievement', 'one', 'common', 'example', 'is', 'an_individual', 'with', 'autism', 'hearing', 'a', 'person', 'with', 'autism', 'may_have', 'trouble', 'hearing', 'certain', 'people', 'while', 'other', 'people', 'are', 'louder_than', 'usual', 'or', 'the', 'person', 'with', 'autism', 'may_be', 'unable_to', 'filter_out', 'sounds', 'in', 'certain_situations', 'such_as', 'in', 'a', 'large', 'crowd', 'of', 'people', 'see', 'cocktail', 'party', 'effect', 'however', 'this', 'is', 'perhaps', 'the', 'part', 'of', 'the', 'autism', 'that', 'tends_to', 'vary', 'the', 'most', 'from', 'person', 'to', 'person', 'so', 'these', 'examples', 'may', 'not_apply', 'to', 'every', 'autistic', 'it_should_be', 'noted_that', 'sensory', 'difficulties', 'although', 'reportedly', 'common', 'in', 'autistics', 'are', 'not', 'part', 'of', 'the', 'dsm_iv', 'diagnostic_criteria', 'for', 'autistic', 'disorder', 'communication', 'difficulties', 'by', 'age', 'three', 'typical', 'children', 'have', 'passed', 'predictable', 'language_learning', 'milestones', 'one', 'of', 'the', 'earliest', 'is', 'babbling', 'by', 'the', 'first', 'birthday', 'a', 'typical', 'toddler', 'says', 'words', 'turns', 'when', 'he', 'or', 'she', 'hears', 'his', 'or', 'her', 'name', 'points', 'when', 'he', 'or_she_wants', 'a', 'toy', 'and', 'when', 'offered', 'something', 'distasteful', 'makes_it', 'clear', 'that', 'the', 'answer', 'is', 'no', 'speech', 'development', 'in', 'people', 'with', 'autism', 'takes', 'different_paths', 'some', 'remain', 'mute', 'throughout_their_lives', 'while', 'being', 'fully', 'literate', 'and', 'able_to_communicate', 'in', 'other', 'ways', 'images', 'sign_language', 'and', 'typing', 'are', 'far_more', 'natural', 'to', 'them', 'some', 'infants', 'who', 'later', 'show_signs', 'of', 'autism', 'coo', 'and', 'babble', 'during', 'the', 'first', 'few_months', 'of', 'life', 'but', 'stop', 'soon_afterwards', 'others', 'may_be', 'delayed', 'developing', 'language', 'as', 'late', 'as', 'the', 'teenage_years', 'still', 'inability_to', 'speak', 'does_not_mean', 'that', 'people', 'with', 'autism', 'are', 'unintelligent', 'or', 'unaware', 'once', 'given', 'appropriate', 'accommodations', 'many', 'will', 'happily', 'converse', 'for', 'hours', 'and', 'can', 'often', 'be_found', 'in', 'online_chat', 'rooms', 'discussion_boards', 'or', 'websites', 'and', 'even', 'using', 'communication', 'devices', 'at', 'autism', 'community', 'social_events', 'such_as', 'autreat', 'those_who', 'do', 'speak', 'often', 'use', 'language', 'in', 'unusual', 'ways', 'retaining', 'features', 'of', 'earlier_stages', 'of', 'language', 'development', 'for_long_periods', 'or', 'throughout_their_lives', 'some', 'speak', 'only', 'single', 'words', 'while_others', 'repeat', 'the', 'same', 'phrase', 'over', 'and', 'over', 'some', 'repeat', 'what', 'they', 'hear', 'a', 'condition', 'called', 'echolalia', 'sing', 'song', 'repetitions', 'in', 'particular', 'are', 'a', 'calming', 'joyous', 'activity', 'that', 'many', 'autistic_adults', 'engage', 'in', 'many', 'people', 'with', 'autism', 'have', 'a', 'strong', 'tonal', 'sense', 'and', 'can', 'often', 'understand', 'spoken_language', 'some', 'children', 'may', 'exhibit', 'only', 'slight', 'delays', 'in', 'language', 'or', 'even', 'seem_to', 'have', 'precocious', 'language', 'and', 'unusually_large', 'vocabularies', 'but', 'have', 'great_difficulty', 'in', 'sustaining', 'typical', 'conversations', 'the', 'give', 'and', 'take', 'of', 'non_autistic', 'conversation', 'is', 'hard', 'for', 'them', 'although', 'they', 'often', 'carry', 'on', 'a', 'monologue', 'on', 'a', 'favorite', 'subject', 'giving', 'no', 'one', 'else', 'an_opportunity_to', 'comment', 'when', 'given', 'the', 'chance', 'to', 'converse', 'with', 'other', 'autistics', 'they', 'comfortably', 'do_so', 'in', 'parallel', 'monologue', 'taking_turns', 'expressing', 'views', 'and', 'information', 'just', 'as', 'neurotypicals', 'people', 'without', 'autism', 'have', 'trouble_understanding', 'autistic', 'body', 'languages', 'vocal', 'tones', 'or', 'phraseology', 'people', 'with', 'autism', 'similarly', 'have', 'trouble', 'with', 'such_things', 'in', 'people', 'without', 'autism', 'in', 'particular', 'autistic', 'language', 'abilities', 'tend_to_be', 'highly', 'literal', 'people', 'without', 'autism', 'often', 'inappropriately', 'attribute', 'hidden_meaning', 'to', 'what', 'people', 'with', 'autism', 'say', 'or', 'expect', 'the', 'person', 'with', 'autism', 'to', 'sense', 'such', 'unstated', 'meaning', 'in', 'their_own', 'words', 'the', 'body', 'language', 'of', 'people', 'with', 'autism', 'can_be_difficult', 'for', 'other', 'people', 'to', 'understand', 'facial_expressions', 'movements', 'and', 'gestures', 'may_be', 'easily_understood', 'by', 'some', 'other', 'people', 'with', 'autism', 'but', 'do_not_match', 'those', 'used', 'by', 'other', 'people', 'also', 'their', 'tone', 'of', 'voice', 'has', 'a', 'much_more', 'subtle', 'inflection', 'in', 'reflecting', 'their', 'feelings', 'and', 'the', 'auditory', 'system', 'of', 'a', 'person', 'without', 'autism', 'often', 'cannot', 'sense', 'the', 'fluctuations', 'what', 'seems_to', 'non_autistic', 'people', 'like', 'a', 'high_pitched', 'sing', 'song', 'or', 'flat', 'robot', 'like', 'voice', 'is', 'common', 'in', 'autistic_children', 'some', 'autistic_children', 'with', 'relatively_good', 'language', 'skills', 'speak', 'like', 'little', 'adults', 'rather_than', 'communicating', 'at', 'their', 'current', 'age', 'level', 'which', 'is', 'one', 'of', 'the', 'things', 'that', 'can_lead_to', 'problems', 'since', 'non_autistic', 'people', 'are', 'often', 'unfamiliar_with', 'the', 'autistic', 'body', 'language', 'and', 'since', 'autistic', 'natural_language', 'may_not', 'tend_towards', 'speech', 'autistic_people', 'often', 'struggle', 'to', 'let', 'other', 'people', 'know_what', 'they', 'need', 'as', 'anybody', 'might', 'do', 'in', 'such', 'a', 'situation', 'they', 'may', 'scream', 'in', 'frustration', 'or', 'resort', 'to', 'grabbing', 'what_they_want', 'while_waiting_for', 'non_autistic', 'people', 'to', 'learn', 'to', 'communicate_with', 'them', 'people', 'with', 'autism', 'do_whatever', 'they', 'can', 'to', 'get', 'through', 'to', 'them', 'communication', 'difficulties', 'may_contribute', 'to', 'autistic_people', 'becoming', 'socially', 'anxious', 'or', 'depressed', 'repetitive', 'behaviors', 'although', 'people', 'with', 'autism', 'usually', 'appear', 'physically', 'normal', 'and', 'have', 'good', 'muscle', 'control', 'unusual', 'repetitive', 'motions', 'known_as', 'self', 'stimulation', 'or', 'stimming', 'may', 'set', 'them', 'apart', 'these', 'behaviors', 'might_be', 'extreme', 'and', 'highly', 'apparent', 'or', 'more_subtle', 'some', 'children', 'and', 'older', 'individuals', 'spend_a_lot', 'of', 'time', 'repeatedly', 'flapping', 'their', 'arms', 'or', 'wiggling', 'their', 'toes', 'others', 'suddenly', 'freeze', 'in', 'position', 'as', 'children', 'they', 'might', 'spend_hours', 'lining_up', 'their', 'cars', 'and', 'trains', 'in', 'a', 'certain', 'way', 'not', 'using', 'them', 'for', 'pretend', 'play', 'if_someone', 'accidentally', 'moves', 'one', 'of', 'these', 'toys', 'the', 'child', 'may_be', 'tremendously', 'upset', 'autistic_children', 'often', 'need', 'and', 'demand', 'absolute', 'consistency', 'in', 'their', 'environment', 'a', 'slight', 'change', 'in', 'any', 'routine', 'in', 'mealtimes', 'dressing', 'taking', 'a', 'bath', 'or', 'going', 'to', 'school', 'at', 'a', 'certain', 'time', 'and', 'by', 'the', 'same', 'route', 'can_be', 'extremely', 'disturbing', 'people', 'with', 'autism', 'sometimes', 'have', 'a', 'persistent', 'intense', 'preoccupation', 'for_example', 'the', 'child', 'might_be', 'obsessed_with', 'learning', 'all', 'about', 'vacuum_cleaners', 'train', 'schedules', 'or', 'lighthouses', 'often', 'they', 'show', 'great_interest', 'in', 'different_languages', 'numbers', 'symbols', 'or', 'science', 'topics', 'repetitive', 'behaviors', 'can_also', 'extend', 'into', 'the', 'spoken_word', 'as_well', 'perseveration', 'of', 'a', 'single', 'word', 'or', 'phrase', 'even', 'for', 'a', 'specific', 'number', 'of', 'times', 'can_also', 'become', 'a', 'part', 'of', 'the', 'child', 's', 'daily_routine', 'effects', 'in', 'education', 'children', 'with', 'autism', 'are', 'affected', 'with', 'these', 'symptoms', 'every_day', 'these', 'unusual', 'characteristics', 'set', 'them', 'apart_from', 'the', 'everyday', 'normal', 'student', 'because_they_have', 'trouble_understanding', 'people', 's', 'thoughts', 'and', 'feelings', 'they', 'have', 'trouble_understanding', 'what', 'their', 'teacher', 'may_be', 'telling_them', 'they_do_not', 'understand', 'that', 'facial_expressions', 'and', 'vocal', 'variations', 'hold', 'meanings', 'and', 'may', 'misinterpret', 'what', 'emotion', 'their', 'instructor', 'is', 'displaying', 'this', 'inability_to', 'fully', 'decipher', 'the', 'world', 'around', 'them', 'makes', 'education', 'stressful', 'teachers', 'need', 'to_be', 'aware', 'of', 'a', 'student', 's', 'disorder', 'so', 'that', 'they_are', 'able_to', 'help', 'the', 'student', 'get', 'the', 'best', 'out', 'of', 'the', 'lessons', 'being', 'taught', 'some', 'students', 'learn', 'better', 'with', 'visual', 'aids', 'as', 'they_are', 'better_able_to', 'understand', 'material', 'presented', 'this', 'way', 'because', 'of', 'this', 'many', 'teachers', 'create', 'visual', 'schedules', 'for', 'their', 'autistic', 'students', 'this_allows', 'the', 'student', 'to', 'know_what', 'is', 'going', 'on', 'throughout', 'the', 'day', 'so', 'they', 'know_what', 'to_prepare', 'for', 'and', 'what', 'activity', 'they', 'will_be', 'doing', 'next', 'some', 'autistic_children', 'have', 'trouble', 'going', 'from', 'one', 'activity', 'to', 'the', 'next', 'so', 'this', 'visual', 'schedule', 'can_help', 'to_reduce', 'stress', 'research', 'has_shown', 'that', 'working', 'in', 'pairs', 'may_be', 'beneficial', 'to', 'autistic_children', 'autistic', 'students', 'have', 'problems', 'in', 'schools', 'not_only', 'with', 'language', 'and', 'communication', 'but', 'with', 'socialization', 'as_well', 'they_feel', 'self_conscious', 'about', 'themselves', 'and', 'many', 'feel_that', 'they', 'will_always_be', 'outcasts', 'by', 'allowing_them_to', 'work', 'with', 'peers', 'they', 'can_make', 'friends', 'which', 'in', 'turn', 'can_help', 'them', 'cope_with', 'the', 'problems', 'that', 'arise', 'by', 'doing_so', 'they', 'can_become', 'more', 'integrated_into', 'the', 'mainstream', 'environment', 'of', 'the', 'classroom', 'a', 'teacher', 's', 'aide', 'can_also', 'be', 'useful', 'to', 'the', 'student', 'the', 'aide', 'is', 'able_to_give', 'more_elaborate', 'directions', 'that', 'the', 'teacher', 'may_not', 'have', 'time', 'to_explain', 'to', 'the', 'autistic_child', 'the', 'aide', 'can_also', 'facilitate', 'the', 'autistic_child', 'in', 'such', 'a', 'way', 'as', 'to', 'allow_them_to', 'stay', 'at', 'a', 'similar', 'level', 'to', 'the', 'rest', 'of', 'the', 'class', 'this_allows', 'a', 'partially', 'one', 'on', 'one', 'lesson', 'structure', 'so', 'that', 'the', 'child', 'is', 'still', 'able_to', 'stay', 'in', 'a', 'normal', 'classroom', 'but', 'be', 'given', 'the', 'extra', 'help', 'that', 'they', 'need', 'there_are_many', 'different', 'techniques', 'that', 'teachers', 'can', 'use', 'to_assist', 'their', 'students', 'a', 'teacher', 'needs', 'to', 'become_familiar', 'with', 'the', 'child', 's', 'disorder', 'to', 'know_what', 'will', 'work', 'best', 'with', 'that', 'particular', 'child', 'every', 'child', 'is', 'going', 'to_be', 'different', 'and', 'teachers', 'have', 'to', 'be_able_to', 'adjust', 'with', 'every', 'one', 'of', 'them', 'students', 'with', 'autism_spectrum', 'disorders', 'typically', 'have', 'high_levels', 'of', 'anxiety', 'and', 'stress', 'particularly', 'in', 'social', 'environments', 'like', 'school', 'if', 'a', 'student', 'exhibits', 'aggressive', 'or', 'explosive', 'behavior', 'it', 'is', 'important', 'for', 'educational', 'teams', 'to', 'recognize', 'the', 'impact', 'of', 'stress', 'and', 'anxiety', 'preparing', 'students', 'for', 'new', 'situations', 'by', 'writing', 'social', 'stories', 'can', 'lower', 'anxiety', 'teaching', 'social', 'and', 'emotional', 'concepts', 'using', 'systematic', 'teaching', 'approaches', 'such_as', 'the', 'incredible', 'five', 'point', 'scale', 'or', 'other', 'cognitive_behavioral', 'strategies', 'can', 'increase', 'a', 'student', 's', 'ability_to', 'control', 'excessive', 'behavioral', 'reactions', 'dsm', 'definition', 'autism', 'is', 'defined', 'in', 'section', 'two', 'nine', 'nine', 'zero', 'zero', 'of', 'the', 'diagnostic', 'and', 'statistical_manual', 'of', 'mental_disorders', 'dsm_iv', 'as', 'a', 'total', 'of', 'six', 'or', 'more', 'items', 'from', 'one', 'two', 'and', 'three', 'with', 'at_least', 'two', 'from', 'one', 'and', 'one', 'each', 'from', 'two', 'and', 'three', 'qualitative', 'impairment', 'in', 'social_interaction', 'as', 'manifested', 'by', 'at_least', 'two', 'of', 'the', 'following', 'marked_impairment', 'in', 'the', 'use', 'of', 'multiple', 'nonverbal', 'behaviors', 'such_as', 'eye', 'to', 'eye', 'gaze', 'facial_expression', 'body', 'postures', 'and', 'gestures', 'to', 'regulate', 'social_interaction', 'failure', 'to', 'develop', 'peer', 'relationships', 'appropriate', 'to', 'developmental', 'level', 'a', 'lack', 'of', 'spontaneous', 'seeking', 'to', 'share', 'enjoyment', 'interests', 'or', 'achievements', 'with', 'other', 'people', 'e_g', 'by', 'a', 'lack', 'of', 'showing', 'bringing', 'or', 'pointing_out', 'objects', 'of', 'interest', 'lack', 'of', 'social', 'or', 'emotional']\n"
     ]
    }
   ],
   "source": [
    "# Build the trigram models\n",
    "trigram = gensim.models.phrases.Phrases(bigram[dataset], threshold=10)\n",
    "\n",
    "# Construct trigram\n",
    "print(trigram[bigram[dataset[0]]])"
   ]
  },
  {
   "cell_type": "code",
   "execution_count": null,
   "id": "04ad2067",
   "metadata": {},
   "outputs": [],
   "source": []
  },
  {
   "cell_type": "code",
   "execution_count": null,
   "id": "21f76d0b",
   "metadata": {},
   "outputs": [],
   "source": []
  },
  {
   "cell_type": "code",
   "execution_count": null,
   "id": "15a3f673",
   "metadata": {},
   "outputs": [],
   "source": []
  }
 ],
 "metadata": {
  "kernelspec": {
   "display_name": "Python 3.10.6 ('class')",
   "language": "python",
   "name": "python3"
  },
  "language_info": {
   "codemirror_mode": {
    "name": "ipython",
    "version": 3
   },
   "file_extension": ".py",
   "mimetype": "text/x-python",
   "name": "python",
   "nbconvert_exporter": "python",
   "pygments_lexer": "ipython3",
   "version": "3.10.6"
  },
  "vscode": {
   "interpreter": {
    "hash": "2ab26ebc9eac352ad84074c5872f53e9ff2d0f751ba36ba2a556974c64f5628d"
   }
  }
 },
 "nbformat": 4,
 "nbformat_minor": 5
}
