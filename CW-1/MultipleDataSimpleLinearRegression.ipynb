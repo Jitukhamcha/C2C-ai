{
 "cells": [
  {
   "cell_type": "code",
   "execution_count": 4,
   "metadata": {},
   "outputs": [
    {
     "ename": "AttributeError",
     "evalue": "partially initialized module 'numpy' has no attribute 'array' (most likely due to a circular import)",
     "output_type": "error",
     "traceback": [
      "\u001b[1;31m---------------------------------------------------------------------------\u001b[0m",
      "\u001b[1;31mAttributeError\u001b[0m                            Traceback (most recent call last)",
      "Cell \u001b[1;32mIn [4], line 1\u001b[0m\n\u001b[1;32m----> 1\u001b[0m \u001b[39mimport\u001b[39;00m \u001b[39mnumpy\u001b[39;00m \u001b[39mas\u001b[39;00m \u001b[39mnp\u001b[39;00m\n\u001b[0;32m      2\u001b[0m \u001b[39mimport\u001b[39;00m \u001b[39mpandas\u001b[39;00m \u001b[39mas\u001b[39;00m \u001b[39mpd\u001b[39;00m\n\u001b[0;32m      3\u001b[0m \u001b[39mimport\u001b[39;00m \u001b[39mmatplotlib\u001b[39;00m\u001b[39m.\u001b[39;00m\u001b[39mpyplot\u001b[39;00m \u001b[39mas\u001b[39;00m \u001b[39mplt\u001b[39;00m\n",
      "File \u001b[1;32mc:\\Users\\Ghost\\Desktop\\AIML\\c2c-ai\\CW-1\\numpy.py:4\u001b[0m\n\u001b[0;32m      2\u001b[0m \u001b[39mimport\u001b[39;00m \u001b[39mnumpy\u001b[39;00m \u001b[39mas\u001b[39;00m \u001b[39mnp\u001b[39;00m\n\u001b[0;32m      3\u001b[0m \u001b[39m# %%\u001b[39;00m\n\u001b[1;32m----> 4\u001b[0m a\u001b[39m=\u001b[39mnp\u001b[39m.\u001b[39;49marray([\u001b[39m0\u001b[39m,\u001b[39m2\u001b[39m,\u001b[39m34\u001b[39m,\u001b[39m4\u001b[39m,\u001b[39m5\u001b[39m,\u001b[39m6\u001b[39m])\n\u001b[0;32m      5\u001b[0m \u001b[39m# %%\u001b[39;00m\n\u001b[0;32m      6\u001b[0m \u001b[39mprint\u001b[39m(a)\n",
      "\u001b[1;31mAttributeError\u001b[0m: partially initialized module 'numpy' has no attribute 'array' (most likely due to a circular import)"
     ]
    }
   ],
   "source": [
    "import numpy as np\n",
    "import pandas as pd\n",
    "import matplotlib.pyplot as plt\n",
    "from sklearn.metrics import accuracy_score\n",
    "from sklearn.model_selection import train_test_split\n",
    "from sklearn.linear_model import LinearRegression\n",
    "from sklearn.metrics import accuracy_score\n",
    "from mpl_toolkits import mplot3d"
   ]
  },
  {
   "cell_type": "code",
   "execution_count": null,
   "metadata": {},
   "outputs": [],
   "source": [
    "#multiple X\n",
    "Md=pd.read_csv('C:\\\\Users\\\\Ghost\\\\Desktop\\\\AIML\\\\c2c-ai\\\\CW-1\\\\Salary_multiple.csv')"
   ]
  },
  {
   "cell_type": "code",
   "execution_count": null,
   "metadata": {},
   "outputs": [
    {
     "name": "stdout",
     "output_type": "stream",
     "text": [
      "   YearsExperience          Field   Salary\n",
      "0              1.1      Technical  39343.0\n",
      "1              1.3  Non-Technical  26205.0\n",
      "2              1.5      Technical  37731.0\n",
      "3              2.0  Non-Technical  28525.0\n",
      "4              2.2      Technical  39891.0\n"
     ]
    }
   ],
   "source": [
    "print(Md.head())"
   ]
  },
  {
   "cell_type": "code",
   "execution_count": null,
   "metadata": {},
   "outputs": [
    {
     "name": "stdout",
     "output_type": "stream",
     "text": [
      "<bound method NDFrame.describe of     YearsExperience  Field    Salary\n",
      "0               1.1      0   39343.0\n",
      "1               1.3      1   26205.0\n",
      "2               1.5      0   37731.0\n",
      "3               2.0      1   28525.0\n",
      "4               2.2      0   39891.0\n",
      "5               2.9      1   36642.0\n",
      "6               3.0      0   60150.0\n",
      "7               3.2      1   34445.0\n",
      "8               3.2      0   64445.0\n",
      "9               3.7      0   57189.0\n",
      "10              3.9      1   43218.0\n",
      "11              4.0      0   55794.0\n",
      "12              4.0      0   56957.0\n",
      "13              4.1      0   57081.0\n",
      "14              4.5      1   41111.0\n",
      "15              4.9      1   47938.0\n",
      "16              5.1      1   56029.0\n",
      "17              5.3      0   83088.0\n",
      "18              5.9      0   81363.0\n",
      "19              6.0      1   53940.0\n",
      "20              6.8      1   61738.0\n",
      "21              7.1      0   98273.0\n",
      "22              7.9      0  101302.0\n",
      "23              8.2      1   73812.0\n",
      "24              8.7      0  109431.0\n",
      "25              9.0      1   75582.0\n",
      "26              9.5      1   76969.0\n",
      "27              9.6      0  112635.0\n",
      "28             10.3      1   82391.0\n",
      "29             10.5      0  121872.0>\n"
     ]
    }
   ],
   "source": [
    "#preprocessing\n",
    "Md.loc[:,'Field'].replace(['Technical','Non-Technical'],[0,1],inplace=True)\n",
    "print(Md.describe)"
   ]
  },
  {
   "cell_type": "code",
   "execution_count": null,
   "metadata": {},
   "outputs": [
    {
     "name": "stdout",
     "output_type": "stream",
     "text": [
      "[[ 1.1  0. ]\n",
      " [ 1.3  1. ]\n",
      " [ 1.5  0. ]\n",
      " [ 2.   1. ]\n",
      " [ 2.2  0. ]\n",
      " [ 2.9  1. ]\n",
      " [ 3.   0. ]\n",
      " [ 3.2  1. ]\n",
      " [ 3.2  0. ]\n",
      " [ 3.7  0. ]\n",
      " [ 3.9  1. ]\n",
      " [ 4.   0. ]\n",
      " [ 4.   0. ]\n",
      " [ 4.1  0. ]\n",
      " [ 4.5  1. ]\n",
      " [ 4.9  1. ]\n",
      " [ 5.1  1. ]\n",
      " [ 5.3  0. ]\n",
      " [ 5.9  0. ]\n",
      " [ 6.   1. ]\n",
      " [ 6.8  1. ]\n",
      " [ 7.1  0. ]\n",
      " [ 7.9  0. ]\n",
      " [ 8.2  1. ]\n",
      " [ 8.7  0. ]\n",
      " [ 9.   1. ]\n",
      " [ 9.5  1. ]\n",
      " [ 9.6  0. ]\n",
      " [10.3  1. ]\n",
      " [10.5  0. ]]\n",
      "[ 39343.  26205.  37731.  28525.  39891.  36642.  60150.  34445.  64445.\n",
      "  57189.  43218.  55794.  56957.  57081.  41111.  47938.  56029.  83088.\n",
      "  81363.  53940.  61738.  98273. 101302.  73812. 109431.  75582.  76969.\n",
      " 112635.  82391. 121872.]\n"
     ]
    }
   ],
   "source": [
    "#split x and y\n",
    "x=Md.iloc[:,:-1].values\n",
    "print(x)\n",
    "y=Md.iloc[:,2].values\n",
    "print(y)"
   ]
  },
  {
   "cell_type": "code",
   "execution_count": null,
   "metadata": {},
   "outputs": [],
   "source": [
    "#spliting dataset\n",
    "x_train,x_test,y_train,y_test=train_test_split(x,y,test_size=0.2)"
   ]
  },
  {
   "cell_type": "code",
   "execution_count": null,
   "metadata": {},
   "outputs": [
    {
     "name": "stdout",
     "output_type": "stream",
     "text": [
      "(24, 2)\n",
      "(24,)\n"
     ]
    }
   ],
   "source": [
    "#now model training fitting\n",
    "MultRegresser=LinearRegression()\n",
    "model=MultRegresser.fit(x_train,y_train)\n",
    "print(x_train.shape)\n",
    "print(y_train.shape)"
   ]
  },
  {
   "cell_type": "code",
   "execution_count": null,
   "metadata": {},
   "outputs": [
    {
     "name": "stdout",
     "output_type": "stream",
     "text": [
      "[  8294.78879301 -25022.55343859]\n",
      "30576.751810795453\n"
     ]
    }
   ],
   "source": [
    "print(model.coef_)\n",
    "print(model.intercept_)"
   ]
  },
  {
   "cell_type": "code",
   "execution_count": null,
   "metadata": {},
   "outputs": [
    {
     "name": "stdout",
     "output_type": "stream",
     "text": [
      "[ 138409.00611996 2493990.8362761 ]\n"
     ]
    }
   ],
   "source": [
    "#now predicting values\n",
    "custom_value=np.array([[13, 0],[300, 1]])\n",
    "print(model.predict(custom_value))"
   ]
  },
  {
   "cell_type": "code",
   "execution_count": null,
   "metadata": {},
   "outputs": [
    {
     "name": "stdout",
     "output_type": "stream",
     "text": [
      "[10.3, 10.5, 3.9, 9.6, 5.1, 4.0, 9.5, 3.2, 9.0, 4.1, 8.7, 5.9, 5.3, 2.0, 7.9, 3.2, 6.8, 3.7, 4.0, 2.2, 1.1, 3.0, 1.5, 6.0]\n"
     ]
    }
   ],
   "source": [
    "#for plotting \n",
    "Years=[row[0] for row in x_train]\n",
    "TechOrNot=[row[1] for row in x_train]\n",
    "#Years=Years.reshape(-1,1)\n",
    "print(Years)"
   ]
  },
  {
   "cell_type": "code",
   "execution_count": null,
   "metadata": {},
   "outputs": [
    {
     "ename": "AttributeError",
     "evalue": "partially initialized module 'numpy' has no attribute 'array' (most likely due to a circular import)",
     "output_type": "error",
     "traceback": [
      "\u001b[1;31m---------------------------------------------------------------------------\u001b[0m",
      "\u001b[1;31mAttributeError\u001b[0m                            Traceback (most recent call last)",
      "Cell \u001b[1;32mIn [2], line 2\u001b[0m\n\u001b[0;32m      1\u001b[0m \u001b[39m#plotting\u001b[39;00m\n\u001b[1;32m----> 2\u001b[0m \u001b[39mimport\u001b[39;00m \u001b[39mmatplotlib\u001b[39;00m\u001b[39m.\u001b[39;00m\u001b[39mpyplot\u001b[39;00m \u001b[39mas\u001b[39;00m \u001b[39mplt\u001b[39;00m\n\u001b[0;32m      3\u001b[0m ax \u001b[39m=\u001b[39m plt\u001b[39m.\u001b[39maxes(projection\u001b[39m=\u001b[39m\u001b[39m'\u001b[39m\u001b[39m3d\u001b[39m\u001b[39m'\u001b[39m)\n\u001b[0;32m      4\u001b[0m plt\u001b[39m.\u001b[39mtitle(\u001b[39m\"\u001b[39m\u001b[39mPlot of Salary with Years of Experience and Tech-Field\u001b[39m\u001b[39m\"\u001b[39m)\n",
      "File \u001b[1;32mc:\\Users\\Ghost\\anaconda3\\envs\\class\\lib\\site-packages\\matplotlib\\__init__.py:104\u001b[0m\n\u001b[0;32m    101\u001b[0m \u001b[39mimport\u001b[39;00m \u001b[39mtempfile\u001b[39;00m\n\u001b[0;32m    102\u001b[0m \u001b[39mimport\u001b[39;00m \u001b[39mwarnings\u001b[39;00m\n\u001b[1;32m--> 104\u001b[0m \u001b[39mimport\u001b[39;00m \u001b[39mnumpy\u001b[39;00m\n\u001b[0;32m    105\u001b[0m \u001b[39mfrom\u001b[39;00m \u001b[39mpackaging\u001b[39;00m\u001b[39m.\u001b[39;00m\u001b[39mversion\u001b[39;00m \u001b[39mimport\u001b[39;00m parse \u001b[39mas\u001b[39;00m parse_version\n\u001b[0;32m    107\u001b[0m \u001b[39m# cbook must import matplotlib only within function\u001b[39;00m\n\u001b[0;32m    108\u001b[0m \u001b[39m# definitions, so it is safe to import from it here.\u001b[39;00m\n",
      "File \u001b[1;32mc:\\Users\\Ghost\\Desktop\\AIML\\c2c-ai\\CW-1\\numpy.py:4\u001b[0m\n\u001b[0;32m      2\u001b[0m \u001b[39mimport\u001b[39;00m \u001b[39mnumpy\u001b[39;00m \u001b[39mas\u001b[39;00m \u001b[39mnp\u001b[39;00m\n\u001b[0;32m      3\u001b[0m \u001b[39m# %%\u001b[39;00m\n\u001b[1;32m----> 4\u001b[0m a\u001b[39m=\u001b[39mnp\u001b[39m.\u001b[39;49marray([\u001b[39m0\u001b[39m,\u001b[39m2\u001b[39m,\u001b[39m34\u001b[39m,\u001b[39m4\u001b[39m,\u001b[39m5\u001b[39m,\u001b[39m6\u001b[39m])\n\u001b[0;32m      5\u001b[0m \u001b[39m# %%\u001b[39;00m\n\u001b[0;32m      6\u001b[0m \u001b[39mprint\u001b[39m(a)\n",
      "\u001b[1;31mAttributeError\u001b[0m: partially initialized module 'numpy' has no attribute 'array' (most likely due to a circular import)"
     ]
    }
   ],
   "source": [
    "#plotting\n",
    "ax = plt.axes(projection='3d')\n",
    "plt.title(\"Plot of Salary with Years of Experience and Tech-Field\")\n",
    "ax.set_xlabel('Years of Experience')\n",
    "ax.set_ylabel('Salary')\n",
    "ax.set_zlabel('Tech or Non-Tech')\n",
    "ax.scatter(Years,TechOrNot,y_train)\n",
    "ax.plot3D(Years,TechOrNot,MultRegresser.predict(x_train),c='g')"
   ]
  },
  {
   "cell_type": "code",
   "execution_count": null,
   "metadata": {},
   "outputs": [
    {
     "ename": "",
     "evalue": "",
     "output_type": "error",
     "traceback": [
      "\u001b[1;31mFailed to start the Kernel. \n",
      "\u001b[1;31mUnable to start Kernel 'class (Python 3.10.6)' due to connection timeout. \n",
      "\u001b[1;31mView Jupyter <a href='command:jupyter.viewOutput'>log</a> for further details."
     ]
    }
   ],
   "source": []
  }
 ],
 "metadata": {
  "kernelspec": {
   "display_name": "Python 3.10.6 ('class')",
   "language": "python",
   "name": "python3"
  },
  "language_info": {
   "codemirror_mode": {
    "name": "ipython",
    "version": 3
   },
   "file_extension": ".py",
   "mimetype": "text/x-python",
   "name": "python",
   "nbconvert_exporter": "python",
   "pygments_lexer": "ipython3",
   "version": "3.10.6"
  },
  "orig_nbformat": 4,
  "vscode": {
   "interpreter": {
    "hash": "2ab26ebc9eac352ad84074c5872f53e9ff2d0f751ba36ba2a556974c64f5628d"
   }
  }
 },
 "nbformat": 4,
 "nbformat_minor": 2
}
